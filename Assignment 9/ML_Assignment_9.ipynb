{
  "nbformat": 4,
  "nbformat_minor": 0,
  "metadata": {
    "colab": {
      "name": "ML_Assignment 9",
      "provenance": [],
      "collapsed_sections": [
        "0Pw1nFg4DkF3",
        "y-EasOzjEhgx",
        "wnOmWlYmMJuj",
        "VsVA0IuUFoWN",
        "W97vE4LGMX4C",
        "YO0uIxm57k8K",
        "RX3ph7r8Ak-X",
        "WosxHoGyOhs5",
        "yUfn4eehNB-3"
      ],
      "toc_visible": true,
      "include_colab_link": true
    },
    "kernelspec": {
      "display_name": "Python 3",
      "name": "python3"
    }
  },
  "cells": [
    {
      "cell_type": "markdown",
      "metadata": {
        "id": "view-in-github",
        "colab_type": "text"
      },
      "source": [
        "<a href=\"https://colab.research.google.com/github/dp1706/Machine-Learning/blob/master/Assignment%209/ML_Assignment_9.ipynb\" target=\"_parent\"><img src=\"https://colab.research.google.com/assets/colab-badge.svg\" alt=\"Open In Colab\"/></a>"
      ]
    },
    {
      "cell_type": "markdown",
      "metadata": {
        "id": "LucPOHPMC7ey"
      },
      "source": [
        "<h4><center>-- Assignment 9 --</center><h4>"
      ]
    },
    {
      "cell_type": "markdown",
      "metadata": {
        "id": "0Pw1nFg4DkF3"
      },
      "source": [
        "### Module"
      ]
    },
    {
      "cell_type": "code",
      "metadata": {
        "id": "a4B67264DO-a"
      },
      "source": [
        "import numpy as np\n",
        "import pandas as pd\n",
        "import matplotlib.pyplot as plt\n",
        "import seaborn as sns\n",
        "from sklearn.model_selection import train_test_split\n",
        "from sklearn.preprocessing import StandardScaler\n",
        "from sklearn.datasets import load_iris\n",
        "from sklearn.metrics import confusion_matrix,classification_report,plot_confusion_matrix\n",
        "import warnings\n",
        "warnings.filterwarnings('ignore')"
      ],
      "execution_count": null,
      "outputs": []
    },
    {
      "cell_type": "markdown",
      "metadata": {
        "id": "y-EasOzjEhgx"
      },
      "source": [
        "### DataSet"
      ]
    },
    {
      "cell_type": "code",
      "metadata": {
        "id": "IR9JjOecEkOO",
        "outputId": "7ddc16d3-e053-470d-f5b4-794b7c027b5e",
        "colab": {
          "base_uri": "https://localhost:8080/",
          "height": 36
        }
      },
      "source": [
        "dataset = load_iris()\n",
        "dataset.filename"
      ],
      "execution_count": null,
      "outputs": [
        {
          "output_type": "execute_result",
          "data": {
            "application/vnd.google.colaboratory.intrinsic+json": {
              "type": "string"
            },
            "text/plain": [
              "'/usr/local/lib/python3.6/dist-packages/sklearn/datasets/data/iris.csv'"
            ]
          },
          "metadata": {
            "tags": []
          },
          "execution_count": 3
        }
      ]
    },
    {
      "cell_type": "code",
      "metadata": {
        "id": "oTZAfZTcE0gt",
        "outputId": "32d58809-87a7-4e6e-bdf5-8d1ddb7979cc",
        "colab": {
          "base_uri": "https://localhost:8080/",
          "height": 206
        }
      },
      "source": [
        "X = pd.DataFrame(dataset.data,columns=dataset.feature_names)\n",
        "X.tail()"
      ],
      "execution_count": null,
      "outputs": [
        {
          "output_type": "execute_result",
          "data": {
            "text/html": [
              "<div>\n",
              "<style scoped>\n",
              "    .dataframe tbody tr th:only-of-type {\n",
              "        vertical-align: middle;\n",
              "    }\n",
              "\n",
              "    .dataframe tbody tr th {\n",
              "        vertical-align: top;\n",
              "    }\n",
              "\n",
              "    .dataframe thead th {\n",
              "        text-align: right;\n",
              "    }\n",
              "</style>\n",
              "<table border=\"1\" class=\"dataframe\">\n",
              "  <thead>\n",
              "    <tr style=\"text-align: right;\">\n",
              "      <th></th>\n",
              "      <th>sepal length (cm)</th>\n",
              "      <th>sepal width (cm)</th>\n",
              "      <th>petal length (cm)</th>\n",
              "      <th>petal width (cm)</th>\n",
              "    </tr>\n",
              "  </thead>\n",
              "  <tbody>\n",
              "    <tr>\n",
              "      <th>145</th>\n",
              "      <td>6.7</td>\n",
              "      <td>3.0</td>\n",
              "      <td>5.2</td>\n",
              "      <td>2.3</td>\n",
              "    </tr>\n",
              "    <tr>\n",
              "      <th>146</th>\n",
              "      <td>6.3</td>\n",
              "      <td>2.5</td>\n",
              "      <td>5.0</td>\n",
              "      <td>1.9</td>\n",
              "    </tr>\n",
              "    <tr>\n",
              "      <th>147</th>\n",
              "      <td>6.5</td>\n",
              "      <td>3.0</td>\n",
              "      <td>5.2</td>\n",
              "      <td>2.0</td>\n",
              "    </tr>\n",
              "    <tr>\n",
              "      <th>148</th>\n",
              "      <td>6.2</td>\n",
              "      <td>3.4</td>\n",
              "      <td>5.4</td>\n",
              "      <td>2.3</td>\n",
              "    </tr>\n",
              "    <tr>\n",
              "      <th>149</th>\n",
              "      <td>5.9</td>\n",
              "      <td>3.0</td>\n",
              "      <td>5.1</td>\n",
              "      <td>1.8</td>\n",
              "    </tr>\n",
              "  </tbody>\n",
              "</table>\n",
              "</div>"
            ],
            "text/plain": [
              "     sepal length (cm)  sepal width (cm)  petal length (cm)  petal width (cm)\n",
              "145                6.7               3.0                5.2               2.3\n",
              "146                6.3               2.5                5.0               1.9\n",
              "147                6.5               3.0                5.2               2.0\n",
              "148                6.2               3.4                5.4               2.3\n",
              "149                5.9               3.0                5.1               1.8"
            ]
          },
          "metadata": {
            "tags": []
          },
          "execution_count": 4
        }
      ]
    },
    {
      "cell_type": "code",
      "metadata": {
        "id": "RLF5lsqGFLq4",
        "outputId": "90645e74-52b2-4fed-890f-33a9b01645e1",
        "colab": {
          "base_uri": "https://localhost:8080/",
          "height": 206
        }
      },
      "source": [
        "Y = pd.DataFrame(dataset.target,columns=['Class'])\n",
        "Y.tail()"
      ],
      "execution_count": null,
      "outputs": [
        {
          "output_type": "execute_result",
          "data": {
            "text/html": [
              "<div>\n",
              "<style scoped>\n",
              "    .dataframe tbody tr th:only-of-type {\n",
              "        vertical-align: middle;\n",
              "    }\n",
              "\n",
              "    .dataframe tbody tr th {\n",
              "        vertical-align: top;\n",
              "    }\n",
              "\n",
              "    .dataframe thead th {\n",
              "        text-align: right;\n",
              "    }\n",
              "</style>\n",
              "<table border=\"1\" class=\"dataframe\">\n",
              "  <thead>\n",
              "    <tr style=\"text-align: right;\">\n",
              "      <th></th>\n",
              "      <th>Class</th>\n",
              "    </tr>\n",
              "  </thead>\n",
              "  <tbody>\n",
              "    <tr>\n",
              "      <th>145</th>\n",
              "      <td>2</td>\n",
              "    </tr>\n",
              "    <tr>\n",
              "      <th>146</th>\n",
              "      <td>2</td>\n",
              "    </tr>\n",
              "    <tr>\n",
              "      <th>147</th>\n",
              "      <td>2</td>\n",
              "    </tr>\n",
              "    <tr>\n",
              "      <th>148</th>\n",
              "      <td>2</td>\n",
              "    </tr>\n",
              "    <tr>\n",
              "      <th>149</th>\n",
              "      <td>2</td>\n",
              "    </tr>\n",
              "  </tbody>\n",
              "</table>\n",
              "</div>"
            ],
            "text/plain": [
              "     Class\n",
              "145      2\n",
              "146      2\n",
              "147      2\n",
              "148      2\n",
              "149      2"
            ]
          },
          "metadata": {
            "tags": []
          },
          "execution_count": 5
        }
      ]
    },
    {
      "cell_type": "code",
      "metadata": {
        "id": "qUdUytCuFWnJ",
        "outputId": "7fe94c1f-a59d-4acb-8229-6acbd45a38a5",
        "colab": {
          "base_uri": "https://localhost:8080/"
        }
      },
      "source": [
        "X.isna().sum()"
      ],
      "execution_count": null,
      "outputs": [
        {
          "output_type": "execute_result",
          "data": {
            "text/plain": [
              "sepal length (cm)    0\n",
              "sepal width (cm)     0\n",
              "petal length (cm)    0\n",
              "petal width (cm)     0\n",
              "dtype: int64"
            ]
          },
          "metadata": {
            "tags": []
          },
          "execution_count": 6
        }
      ]
    },
    {
      "cell_type": "code",
      "metadata": {
        "id": "aov-Rm4IFdVB",
        "outputId": "8b8c4c06-6dd0-4abe-cbef-6b5c2b615545",
        "colab": {
          "base_uri": "https://localhost:8080/"
        }
      },
      "source": [
        "Y.isna().sum()"
      ],
      "execution_count": null,
      "outputs": [
        {
          "output_type": "execute_result",
          "data": {
            "text/plain": [
              "Class    0\n",
              "dtype: int64"
            ]
          },
          "metadata": {
            "tags": []
          },
          "execution_count": 7
        }
      ]
    },
    {
      "cell_type": "markdown",
      "metadata": {
        "id": "wnOmWlYmMJuj"
      },
      "source": [
        "### Part 1"
      ]
    },
    {
      "cell_type": "markdown",
      "metadata": {
        "id": "VsVA0IuUFoWN"
      },
      "source": [
        "#### Creating Linearly Separable Dataset"
      ]
    },
    {
      "cell_type": "code",
      "metadata": {
        "id": "V1rnBrKhFivL",
        "outputId": "f4cfe153-8812-4194-8cb0-0d4566a6328b",
        "colab": {
          "base_uri": "https://localhost:8080/",
          "height": 206
        }
      },
      "source": [
        "New_X = pd.DataFrame(X.iloc[50:150,2:4].values , columns=dataset.feature_names[2:])\n",
        "New_X.head()"
      ],
      "execution_count": null,
      "outputs": [
        {
          "output_type": "execute_result",
          "data": {
            "text/html": [
              "<div>\n",
              "<style scoped>\n",
              "    .dataframe tbody tr th:only-of-type {\n",
              "        vertical-align: middle;\n",
              "    }\n",
              "\n",
              "    .dataframe tbody tr th {\n",
              "        vertical-align: top;\n",
              "    }\n",
              "\n",
              "    .dataframe thead th {\n",
              "        text-align: right;\n",
              "    }\n",
              "</style>\n",
              "<table border=\"1\" class=\"dataframe\">\n",
              "  <thead>\n",
              "    <tr style=\"text-align: right;\">\n",
              "      <th></th>\n",
              "      <th>petal length (cm)</th>\n",
              "      <th>petal width (cm)</th>\n",
              "    </tr>\n",
              "  </thead>\n",
              "  <tbody>\n",
              "    <tr>\n",
              "      <th>0</th>\n",
              "      <td>4.7</td>\n",
              "      <td>1.4</td>\n",
              "    </tr>\n",
              "    <tr>\n",
              "      <th>1</th>\n",
              "      <td>4.5</td>\n",
              "      <td>1.5</td>\n",
              "    </tr>\n",
              "    <tr>\n",
              "      <th>2</th>\n",
              "      <td>4.9</td>\n",
              "      <td>1.5</td>\n",
              "    </tr>\n",
              "    <tr>\n",
              "      <th>3</th>\n",
              "      <td>4.0</td>\n",
              "      <td>1.3</td>\n",
              "    </tr>\n",
              "    <tr>\n",
              "      <th>4</th>\n",
              "      <td>4.6</td>\n",
              "      <td>1.5</td>\n",
              "    </tr>\n",
              "  </tbody>\n",
              "</table>\n",
              "</div>"
            ],
            "text/plain": [
              "   petal length (cm)  petal width (cm)\n",
              "0                4.7               1.4\n",
              "1                4.5               1.5\n",
              "2                4.9               1.5\n",
              "3                4.0               1.3\n",
              "4                4.6               1.5"
            ]
          },
          "metadata": {
            "tags": []
          },
          "execution_count": 8
        }
      ]
    },
    {
      "cell_type": "code",
      "metadata": {
        "id": "xVp7M-4rG9EI",
        "outputId": "280b4c49-8ca5-41a5-be5f-e6a6d63a95cc",
        "colab": {
          "base_uri": "https://localhost:8080/",
          "height": 206
        }
      },
      "source": [
        "New_Y = pd.DataFrame(Y.iloc[50:150,:].values,columns=['Class'])\n",
        "New_Y.head()"
      ],
      "execution_count": null,
      "outputs": [
        {
          "output_type": "execute_result",
          "data": {
            "text/html": [
              "<div>\n",
              "<style scoped>\n",
              "    .dataframe tbody tr th:only-of-type {\n",
              "        vertical-align: middle;\n",
              "    }\n",
              "\n",
              "    .dataframe tbody tr th {\n",
              "        vertical-align: top;\n",
              "    }\n",
              "\n",
              "    .dataframe thead th {\n",
              "        text-align: right;\n",
              "    }\n",
              "</style>\n",
              "<table border=\"1\" class=\"dataframe\">\n",
              "  <thead>\n",
              "    <tr style=\"text-align: right;\">\n",
              "      <th></th>\n",
              "      <th>Class</th>\n",
              "    </tr>\n",
              "  </thead>\n",
              "  <tbody>\n",
              "    <tr>\n",
              "      <th>0</th>\n",
              "      <td>1</td>\n",
              "    </tr>\n",
              "    <tr>\n",
              "      <th>1</th>\n",
              "      <td>1</td>\n",
              "    </tr>\n",
              "    <tr>\n",
              "      <th>2</th>\n",
              "      <td>1</td>\n",
              "    </tr>\n",
              "    <tr>\n",
              "      <th>3</th>\n",
              "      <td>1</td>\n",
              "    </tr>\n",
              "    <tr>\n",
              "      <th>4</th>\n",
              "      <td>1</td>\n",
              "    </tr>\n",
              "  </tbody>\n",
              "</table>\n",
              "</div>"
            ],
            "text/plain": [
              "   Class\n",
              "0      1\n",
              "1      1\n",
              "2      1\n",
              "3      1\n",
              "4      1"
            ]
          },
          "metadata": {
            "tags": []
          },
          "execution_count": 9
        }
      ]
    },
    {
      "cell_type": "code",
      "metadata": {
        "id": "dHNMOUi1HRRT",
        "outputId": "da0663b8-4aef-4692-af82-f57e5fe1df63",
        "colab": {
          "base_uri": "https://localhost:8080/",
          "height": 265
        }
      },
      "source": [
        "plt.scatter(New_X.iloc[:,0:1],New_X.iloc[:,1:2])\n",
        "plt.show()"
      ],
      "execution_count": null,
      "outputs": [
        {
          "output_type": "display_data",
          "data": {
            "image/png": "[encoded data removed]",
            "text/plain": [
              "<Figure size 432x288 with 1 Axes>"
            ]
          },
          "metadata": {
            "tags": [],
            "needs_background": "light"
          }
        }
      ]
    },
    {
      "cell_type": "code",
      "metadata": {
        "id": "nJwzfrWpLhBI",
        "outputId": "000bfc6a-4bf4-49a6-d47b-8289e7cf7ff6",
        "colab": {
          "base_uri": "https://localhost:8080/",
          "height": 206
        }
      },
      "source": [
        "sc = StandardScaler()\n",
        "Xs = pd.DataFrame(sc.fit_transform(New_X),columns=dataset.feature_names[2:])\n",
        "Xs.head()"
      ],
      "execution_count": null,
      "outputs": [
        {
          "output_type": "execute_result",
          "data": {
            "text/html": [
              "<div>\n",
              "<style scoped>\n",
              "    .dataframe tbody tr th:only-of-type {\n",
              "        vertical-align: middle;\n",
              "    }\n",
              "\n",
              "    .dataframe tbody tr th {\n",
              "        vertical-align: top;\n",
              "    }\n",
              "\n",
              "    .dataframe thead th {\n",
              "        text-align: right;\n",
              "    }\n",
              "</style>\n",
              "<table border=\"1\" class=\"dataframe\">\n",
              "  <thead>\n",
              "    <tr style=\"text-align: right;\">\n",
              "      <th></th>\n",
              "      <th>petal length (cm)</th>\n",
              "      <th>petal width (cm)</th>\n",
              "    </tr>\n",
              "  </thead>\n",
              "  <tbody>\n",
              "    <tr>\n",
              "      <th>0</th>\n",
              "      <td>-0.250779</td>\n",
              "      <td>-0.653039</td>\n",
              "    </tr>\n",
              "    <tr>\n",
              "      <th>1</th>\n",
              "      <td>-0.494254</td>\n",
              "      <td>-0.416431</td>\n",
              "    </tr>\n",
              "    <tr>\n",
              "      <th>2</th>\n",
              "      <td>-0.007304</td>\n",
              "      <td>-0.416431</td>\n",
              "    </tr>\n",
              "    <tr>\n",
              "      <th>3</th>\n",
              "      <td>-1.102941</td>\n",
              "      <td>-0.889647</td>\n",
              "    </tr>\n",
              "    <tr>\n",
              "      <th>4</th>\n",
              "      <td>-0.372516</td>\n",
              "      <td>-0.416431</td>\n",
              "    </tr>\n",
              "  </tbody>\n",
              "</table>\n",
              "</div>"
            ],
            "text/plain": [
              "   petal length (cm)  petal width (cm)\n",
              "0          -0.250779         -0.653039\n",
              "1          -0.494254         -0.416431\n",
              "2          -0.007304         -0.416431\n",
              "3          -1.102941         -0.889647\n",
              "4          -0.372516         -0.416431"
            ]
          },
          "metadata": {
            "tags": []
          },
          "execution_count": 11
        }
      ]
    },
    {
      "cell_type": "markdown",
      "metadata": {
        "id": "W97vE4LGMX4C"
      },
      "source": [
        "#### Classification Using SVM"
      ]
    },
    {
      "cell_type": "code",
      "metadata": {
        "id": "g8bb9LmHNiEC",
        "outputId": "6de66fc4-180d-4096-cbdb-6bab295c9dad",
        "colab": {
          "base_uri": "https://localhost:8080/"
        }
      },
      "source": [
        "x_train , x_test , y_train , y_test  = train_test_split(Xs,New_Y,test_size=0.2,random_state=1)\n",
        "print(x_train.shape,x_test.shape)\n",
        "print(y_train.shape,y_test.shape)"
      ],
      "execution_count": null,
      "outputs": [
        {
          "output_type": "stream",
          "text": [
            "(80, 2) (20, 2)\n",
            "(80, 1) (20, 1)\n"
          ],
          "name": "stdout"
        }
      ]
    },
    {
      "cell_type": "code",
      "metadata": {
        "id": "8WTey5jCMMf0"
      },
      "source": [
        "from sklearn.svm import SVC"
      ],
      "execution_count": null,
      "outputs": []
    },
    {
      "cell_type": "code",
      "metadata": {
        "id": "sp7dpDpPNCQj",
        "outputId": "df593981-4796-48db-ef81-210607b2ce8a",
        "colab": {
          "base_uri": "https://localhost:8080/"
        }
      },
      "source": [
        "model = SVC(C=10000,kernel='linear')\n",
        "model.fit(x_train,y_train)"
      ],
      "execution_count": null,
      "outputs": [
        {
          "output_type": "execute_result",
          "data": {
            "text/plain": [
              "SVC(C=10000, break_ties=False, cache_size=200, class_weight=None, coef0=0.0,\n",
              "    decision_function_shape='ovr', degree=3, gamma='scale', kernel='linear',\n",
              "    max_iter=-1, probability=False, random_state=None, shrinking=True,\n",
              "    tol=0.001, verbose=False)"
            ]
          },
          "metadata": {
            "tags": []
          },
          "execution_count": 14
        }
      ]
    },
    {
      "cell_type": "code",
      "metadata": {
        "id": "u5GRID3uOB_r",
        "outputId": "92e790d3-9bd4-4157-f25e-4201c0140c9a",
        "colab": {
          "base_uri": "https://localhost:8080/"
        }
      },
      "source": [
        "train_score = model.score(x_train,y_train)\n",
        "print(\"Accuracy for Training in Support Vector Machine is :  {:0.2f}% \".format(train_score*100))\n",
        "\n",
        "test_score = model.score(x_test,y_test)\n",
        "print(\"Accuracy for Testing in Support Vector Machine is :  {:0.2f}% \".format(test_score*100))"
      ],
      "execution_count": null,
      "outputs": [
        {
          "output_type": "stream",
          "text": [
            "Accuracy for Training in Support Vector Machine is :  97.50% \n",
            "Accuracy for Testing in Support Vector Machine is :  90.00% \n"
          ],
          "name": "stdout"
        }
      ]
    },
    {
      "cell_type": "code",
      "metadata": {
        "id": "evPUoXzpPx06"
      },
      "source": [
        "SVC_pred = model.predict(x_test)"
      ],
      "execution_count": null,
      "outputs": []
    },
    {
      "cell_type": "code",
      "metadata": {
        "id": "cHjVuitxO8-9",
        "outputId": "d0234297-54f7-475b-da55-a06a8398bf6f",
        "colab": {
          "base_uri": "https://localhost:8080/",
          "height": 314
        }
      },
      "source": [
        "model_matrix = confusion_matrix(y_test,SVC_pred)\n",
        "plot_confusion_matrix(model,x_test,y_test)\n",
        "print(model_matrix)"
      ],
      "execution_count": null,
      "outputs": [
        {
          "output_type": "stream",
          "text": [
            "[[ 7  1]\n",
            " [ 1 11]]\n"
          ],
          "name": "stdout"
        },
        {
          "output_type": "display_data",
          "data": {
            "image/png": "[encoded data removed]",
            "text/plain": [
              "<Figure size 432x288 with 2 Axes>"
            ]
          },
          "metadata": {
            "tags": [],
            "needs_background": "light"
          }
        }
      ]
    },
    {
      "cell_type": "code",
      "metadata": {
        "id": "bLQ5UD1kP9WI",
        "outputId": "8ba66b43-5530-4f0d-e2e6-e27dcff85ab5",
        "colab": {
          "base_uri": "https://localhost:8080/"
        }
      },
      "source": [
        "model_report = classification_report(y_test,SVC_pred)\n",
        "print(model_report)"
      ],
      "execution_count": null,
      "outputs": [
        {
          "output_type": "stream",
          "text": [
            "              precision    recall  f1-score   support\n",
            "\n",
            "           1       0.88      0.88      0.88         8\n",
            "           2       0.92      0.92      0.92        12\n",
            "\n",
            "    accuracy                           0.90        20\n",
            "   macro avg       0.90      0.90      0.90        20\n",
            "weighted avg       0.90      0.90      0.90        20\n",
            "\n"
          ],
          "name": "stdout"
        }
      ]
    },
    {
      "cell_type": "code",
      "metadata": {
        "id": "4RZacxTM3sQB"
      },
      "source": [
        "SVC_Whole_pred = model.predict(Xs)"
      ],
      "execution_count": null,
      "outputs": []
    },
    {
      "cell_type": "code",
      "metadata": {
        "id": "lk0c6bH73ckO",
        "outputId": "a4f9aa3a-a3da-4996-de38-eb0a1ce5bbe3",
        "colab": {
          "base_uri": "https://localhost:8080/",
          "height": 265
        }
      },
      "source": [
        "#plotting\n",
        "\n",
        "plt.scatter(Xs.iloc[:,0:1],Xs.iloc[:,1:2],c=SVC_Whole_pred)\n",
        "\n",
        "ax = plt.gca()\n",
        "xlim = ax.get_xlim()\n",
        "ylim = ax.get_ylim()\n",
        "\n",
        "xx = np.linspace(xlim[0], xlim[1], 30)\n",
        "yy = np.linspace(ylim[0], ylim[1], 30)\n",
        "\n",
        "YY, XX = np.meshgrid(yy, xx)\n",
        "xy = np.vstack([XX.ravel(), YY.ravel()]).T\n",
        "\n",
        "Z = model.decision_function(xy).reshape(XX.shape)\n",
        "\n",
        "ax.contour(XX, YY, Z, colors='k', levels=[-1, 0, 1], alpha=0.5,\n",
        "           linestyles=['--', '-', '--'])\n",
        "\n",
        "\n",
        "ax.scatter(model.support_vectors_[:, 0], model.support_vectors_[:, 1], s=100,\n",
        "           linewidth=1, facecolors='none', edgecolors='k')\n",
        "\n",
        "plt.show()"
      ],
      "execution_count": null,
      "outputs": [
        {
          "output_type": "display_data",
          "data": {
            "image/png": "[encoded data removed]",
            "text/plain": [
              "<Figure size 432x288 with 1 Axes>"
            ]
          },
          "metadata": {
            "tags": [],
            "needs_background": "light"
          }
        }
      ]
    },
    {
      "cell_type": "code",
      "metadata": {
        "id": "SNcnTaaT4doU",
        "outputId": "18a77bf4-769c-467f-c408-5089a3af4010",
        "colab": {
          "base_uri": "https://localhost:8080/"
        }
      },
      "source": [
        "print('w = ',model.coef_)\n",
        "print('b = ',model.intercept_)\n",
        "print('Indices of support vectors = ', model.support_)\n",
        "print('Support vectors = ', model.support_vectors_)\n",
        "print('Number of support vectors for each class = ', model.n_support_)\n",
        "print('Coefficients of the support vector in the decision function = ', np.abs(model.dual_coef_))"
      ],
      "execution_count": null,
      "outputs": [
        {
          "output_type": "stream",
          "text": [
            "w =  [[8.21139697 4.22486162]]\n",
            "b =  [0.81988041]\n",
            "Indices of support vectors =  [ 7 51 64 14 24 69]\n",
            "Support vectors =  [[ 0.11443316  0.05678601]\n",
            " [-0.00730424 -0.41643072]\n",
            " [-0.12904165  0.29339437]\n",
            " [-0.12904165  0.29339437]\n",
            " [ 0.23617057 -0.41643072]\n",
            " [-0.12904165  0.29339437]]\n",
            "Number of support vectors for each class =  [3 3]\n",
            "Coefficients of the support vector in the decision function =  [[10000.          5042.65382114 10000.          6672.61864223\n",
            "   8370.03517891 10000.        ]]\n"
          ],
          "name": "stdout"
        }
      ]
    },
    {
      "cell_type": "markdown",
      "metadata": {
        "id": "YO0uIxm57k8K"
      },
      "source": [
        "#### 5-Fold cross-Validation"
      ]
    },
    {
      "cell_type": "code",
      "metadata": {
        "id": "BVJkV3ua7sDb"
      },
      "source": [
        "from sklearn.model_selection import cross_val_score , KFold ,  cross_val_predict"
      ],
      "execution_count": null,
      "outputs": []
    },
    {
      "cell_type": "code",
      "metadata": {
        "id": "vOPTm3h096cf",
        "outputId": "259f7e08-82ef-4fd1-f3db-92de6c2d1168",
        "colab": {
          "base_uri": "https://localhost:8080/"
        }
      },
      "source": [
        "scores = cross_val_score(model,Xs,New_Y,cv=KFold(n_splits=5))\n",
        "scores"
      ],
      "execution_count": null,
      "outputs": [
        {
          "output_type": "execute_result",
          "data": {
            "text/plain": [
              "array([1.  , 0.85, 0.95, 0.9 , 0.9 ])"
            ]
          },
          "metadata": {
            "tags": []
          },
          "execution_count": 119
        }
      ]
    },
    {
      "cell_type": "code",
      "metadata": {
        "id": "44bSMhoa_w-N",
        "outputId": "1664840a-a156-4075-ce4b-aba5804365f1",
        "colab": {
          "base_uri": "https://localhost:8080/"
        }
      },
      "source": [
        "print(\"Average Accuracy Is: {:.2f}% \".format(np.mean(scores) * 100))"
      ],
      "execution_count": null,
      "outputs": [
        {
          "output_type": "stream",
          "text": [
            "Average Accuracy Is: 92.00% \n"
          ],
          "name": "stdout"
        }
      ]
    },
    {
      "cell_type": "markdown",
      "metadata": {
        "id": "Z2lYfYZlnC29"
      },
      "source": [
        "* Class Wise Accuracy"
      ]
    },
    {
      "cell_type": "code",
      "metadata": {
        "id": "XpLGi1v2mg5A"
      },
      "source": [
        "cross_pred = cross_val_predict(model,Xs,New_Y,cv=KFold(n_splits=5))"
      ],
      "execution_count": null,
      "outputs": []
    },
    {
      "cell_type": "code",
      "metadata": {
        "id": "c3vBRGxwl5Np",
        "outputId": "7c150c6d-4d35-4cc5-dabb-643078052307",
        "colab": {
          "base_uri": "https://localhost:8080/"
        }
      },
      "source": [
        "print(classification_report(New_Y,cross_pred))"
      ],
      "execution_count": null,
      "outputs": [
        {
          "output_type": "stream",
          "text": [
            "              precision    recall  f1-score   support\n",
            "\n",
            "           1       0.90      0.94      0.92        50\n",
            "           2       0.94      0.90      0.92        50\n",
            "\n",
            "    accuracy                           0.92       100\n",
            "   macro avg       0.92      0.92      0.92       100\n",
            "weighted avg       0.92      0.92      0.92       100\n",
            "\n"
          ],
          "name": "stdout"
        }
      ]
    },
    {
      "cell_type": "markdown",
      "metadata": {
        "id": "RX3ph7r8Ak-X"
      },
      "source": [
        "### Part 2"
      ]
    },
    {
      "cell_type": "markdown",
      "metadata": {
        "id": "WosxHoGyOhs5"
      },
      "source": [
        "#### Data Preprocessing"
      ]
    },
    {
      "cell_type": "code",
      "metadata": {
        "id": "ktHaog2pOhTR",
        "outputId": "bc41ffec-05a9-4c08-802b-502c923742be",
        "colab": {
          "base_uri": "https://localhost:8080/",
          "height": 206
        }
      },
      "source": [
        "sc = StandardScaler()\n",
        "Xr = pd.DataFrame(sc.fit_transform(X),columns=dataset.feature_names)\n",
        "Xr.head()"
      ],
      "execution_count": null,
      "outputs": [
        {
          "output_type": "execute_result",
          "data": {
            "text/html": [
              "<div>\n",
              "<style scoped>\n",
              "    .dataframe tbody tr th:only-of-type {\n",
              "        vertical-align: middle;\n",
              "    }\n",
              "\n",
              "    .dataframe tbody tr th {\n",
              "        vertical-align: top;\n",
              "    }\n",
              "\n",
              "    .dataframe thead th {\n",
              "        text-align: right;\n",
              "    }\n",
              "</style>\n",
              "<table border=\"1\" class=\"dataframe\">\n",
              "  <thead>\n",
              "    <tr style=\"text-align: right;\">\n",
              "      <th></th>\n",
              "      <th>sepal length (cm)</th>\n",
              "      <th>sepal width (cm)</th>\n",
              "      <th>petal length (cm)</th>\n",
              "      <th>petal width (cm)</th>\n",
              "    </tr>\n",
              "  </thead>\n",
              "  <tbody>\n",
              "    <tr>\n",
              "      <th>0</th>\n",
              "      <td>-0.900681</td>\n",
              "      <td>1.019004</td>\n",
              "      <td>-1.340227</td>\n",
              "      <td>-1.315444</td>\n",
              "    </tr>\n",
              "    <tr>\n",
              "      <th>1</th>\n",
              "      <td>-1.143017</td>\n",
              "      <td>-0.131979</td>\n",
              "      <td>-1.340227</td>\n",
              "      <td>-1.315444</td>\n",
              "    </tr>\n",
              "    <tr>\n",
              "      <th>2</th>\n",
              "      <td>-1.385353</td>\n",
              "      <td>0.328414</td>\n",
              "      <td>-1.397064</td>\n",
              "      <td>-1.315444</td>\n",
              "    </tr>\n",
              "    <tr>\n",
              "      <th>3</th>\n",
              "      <td>-1.506521</td>\n",
              "      <td>0.098217</td>\n",
              "      <td>-1.283389</td>\n",
              "      <td>-1.315444</td>\n",
              "    </tr>\n",
              "    <tr>\n",
              "      <th>4</th>\n",
              "      <td>-1.021849</td>\n",
              "      <td>1.249201</td>\n",
              "      <td>-1.340227</td>\n",
              "      <td>-1.315444</td>\n",
              "    </tr>\n",
              "  </tbody>\n",
              "</table>\n",
              "</div>"
            ],
            "text/plain": [
              "   sepal length (cm)  sepal width (cm)  petal length (cm)  petal width (cm)\n",
              "0          -0.900681          1.019004          -1.340227         -1.315444\n",
              "1          -1.143017         -0.131979          -1.340227         -1.315444\n",
              "2          -1.385353          0.328414          -1.397064         -1.315444\n",
              "3          -1.506521          0.098217          -1.283389         -1.315444\n",
              "4          -1.021849          1.249201          -1.340227         -1.315444"
            ]
          },
          "metadata": {
            "tags": []
          },
          "execution_count": 87
        }
      ]
    },
    {
      "cell_type": "code",
      "metadata": {
        "id": "ruL2Dl6LQIul",
        "outputId": "b15e729c-0ae3-40c8-ac1c-a263fd46073b",
        "colab": {
          "base_uri": "https://localhost:8080/"
        }
      },
      "source": [
        "X_train , X_test , Y_train , Y_test = train_test_split(Xr,Y,test_size=0.3,random_state=0)\n",
        "print(X_train.shape,X_test.shape)\n",
        "print(Y_train.shape,Y_test.shape)"
      ],
      "execution_count": null,
      "outputs": [
        {
          "output_type": "stream",
          "text": [
            "(105, 4) (45, 4)\n",
            "(105, 1) (45, 1)\n"
          ],
          "name": "stdout"
        }
      ]
    },
    {
      "cell_type": "markdown",
      "metadata": {
        "id": "yUfn4eehNB-3"
      },
      "source": [
        "#### Model And Accuracy"
      ]
    },
    {
      "cell_type": "code",
      "metadata": {
        "id": "y330RVyiTKvR"
      },
      "source": [
        "X_train = X_train.to_numpy()\n",
        "X_test = X_test.to_numpy()\n",
        "Y_train = Y_train.to_numpy()\n",
        "Y_test = Y_test.to_numpy()"
      ],
      "execution_count": null,
      "outputs": []
    },
    {
      "cell_type": "code",
      "metadata": {
        "id": "w06Dk2e6Qysu"
      },
      "source": [
        "from sklearn.cluster import KMeans\n",
        "from sklearn.metrics import accuracy_score"
      ],
      "execution_count": null,
      "outputs": []
    },
    {
      "cell_type": "code",
      "metadata": {
        "id": "IGTaK1CZOaBL"
      },
      "source": [
        "def find_cent(x):\n",
        "  K_cent= 10\n",
        "  km= KMeans(n_clusters= K_cent, max_iter= 100)\n",
        "  km.fit(x)\n",
        "  cent= km.cluster_centers_\n",
        "  #print(cent)\n",
        "  return K_cent , cent"
      ],
      "execution_count": null,
      "outputs": []
    },
    {
      "cell_type": "markdown",
      "metadata": {
        "id": "SUDy8WRUOBbN"
      },
      "source": [
        "* determine value of $\\sigma$"
      ]
    },
    {
      "cell_type": "code",
      "metadata": {
        "id": "Wk9TcNC1An8d"
      },
      "source": [
        "def calculate_sigma(K_cent,cent):\n",
        "  max=0 \n",
        "  for i in range(K_cent):\n",
        "\t  for j in range(K_cent):\n",
        "\t\t  d= np.linalg.norm(cent[i]-cent[j])\n",
        "\t\t  if(d> max):\n",
        "\t\t\t  max= d\n",
        "  d= max\n",
        "  sigma= d/np.sqrt(2*K_cent)\n",
        "  return sigma"
      ],
      "execution_count": null,
      "outputs": []
    },
    {
      "cell_type": "code",
      "metadata": {
        "id": "v_iuFPJkR6Fn"
      },
      "source": [
        "def Setup_Mat(x,K_cent,cent,sigma):\n",
        "  row= x.shape[0]\n",
        "  column= K_cent\n",
        "  G= np.empty((row,column), dtype= float)\n",
        "  for i in range(row):\n",
        "      for j in range(column):\n",
        "          dist= np.linalg.norm(x[i]-cent[j])\n",
        "          G[i][j]= np.exp(-pow(dist,2)/pow(2*sigma,2))\n",
        "  return G"
      ],
      "execution_count": null,
      "outputs": []
    },
    {
      "cell_type": "code",
      "metadata": {
        "id": "alx-XYJ2YLDl"
      },
      "source": [
        "def predict(x):\n",
        "    K_cent ,  cent = find_cent(x)\n",
        "    sigma = calculate_sigma(K_cent , cent)\n",
        "    G_test = Setup_Mat(x,K_cent,cent,sigma)\n",
        "    pred = np.dot(G_test,W)\n",
        "    pred = 0.5*(np.sign(pred-0.5)+1)\n",
        "    return pred"
      ],
      "execution_count": null,
      "outputs": []
    },
    {
      "cell_type": "code",
      "metadata": {
        "id": "c__m91oXVucL"
      },
      "source": [
        "def Train_Model(x,y):\n",
        "\n",
        "  K_cent ,  cent = find_cent(x)\n",
        "  sigma = calculate_sigma(K_cent , cent)\n",
        "  G = Setup_Mat(x,K_cent,cent,sigma)\n",
        "  GTG= np.dot(G.T,G)\n",
        "  GTG_inv= np.linalg.inv(GTG)\n",
        "  fac= np.dot(GTG_inv,G.T)\n",
        "  W= np.dot(fac,y)\n",
        "  return W"
      ],
      "execution_count": null,
      "outputs": []
    },
    {
      "cell_type": "code",
      "metadata": {
        "id": "rbWxuyy5S35j",
        "outputId": "98836252-e731-4c2c-f449-8d217b5a32fe",
        "colab": {
          "base_uri": "https://localhost:8080/"
        }
      },
      "source": [
        "w = Train_Model(X_train,Y_train)\n",
        "\n",
        "Train_pred = predict(X_train)\n",
        "test_pred = predict(X_test)\n",
        "\n",
        "test_Acc = accuracy_score(Y_test,test_pred)\n",
        "train_Acc = accuracy_score(Y_train,Train_pred)\n",
        "\n",
        "print(\"Training accuracy is : {:.2f}%\".format(train_Acc*100))\n",
        "print(\"Testing accuracy is : {:.2f}%\".format(test_Acc*100))"
      ],
      "execution_count": null,
      "outputs": [
        {
          "output_type": "stream",
          "text": [
            "Training accuracy is : 62.86%\n",
            "Testing accuracy is : 68.89%\n"
          ],
          "name": "stdout"
        }
      ]
    },
    {
      "cell_type": "code",
      "metadata": {
        "id": "_pV7Rx-pce0n",
        "outputId": "8584bcef-70a6-49b9-9e6b-3caac67c4099",
        "colab": {
          "base_uri": "https://localhost:8080/"
        }
      },
      "source": [
        "Overall_pred = predict(X.to_numpy())\n",
        "Overall_acc = accuracy_score(Y.to_numpy(),Overall_pred)\n",
        "print(\"Overall Accuracy is : {:.2f}%\".format(Overall_acc * 100))"
      ],
      "execution_count": null,
      "outputs": [
        {
          "output_type": "stream",
          "text": [
            "Overall Accuracy is : 66.67%\n"
          ],
          "name": "stdout"
        }
      ]
    },
    {
      "cell_type": "markdown",
      "metadata": {
        "id": "xRRPjTbIsVfH"
      },
      "source": [
        "* __ClassWise and Average Accuracy__"
      ]
    },
    {
      "cell_type": "code",
      "metadata": {
        "id": "G1B1Hw2esRXJ",
        "outputId": "5dc32234-7603-4811-ac0e-1bba40f27ec3",
        "colab": {
          "base_uri": "https://localhost:8080/"
        }
      },
      "source": [
        "print(classification_report(Y.to_numpy(),Overall_pred))"
      ],
      "execution_count": null,
      "outputs": [
        {
          "output_type": "stream",
          "text": [
            "              precision    recall  f1-score   support\n",
            "\n",
            "           0       1.00      1.00      1.00        50\n",
            "           1       0.50      1.00      0.67        50\n",
            "           2       0.00      0.00      0.00        50\n",
            "\n",
            "    accuracy                           0.67       150\n",
            "   macro avg       0.50      0.67      0.56       150\n",
            "weighted avg       0.50      0.67      0.56       150\n",
            "\n"
          ],
          "name": "stdout"
        }
      ]
    }
  ]
}
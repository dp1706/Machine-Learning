{
  "nbformat": 4,
  "nbformat_minor": 0,
  "metadata": {
    "colab": {
      "name": "ML_Assignment_3",
      "provenance": [],
      "collapsed_sections": [
        "m5_bD-pqxk1i",
        "3lpUZuqLxt_L",
        "p7YTr5_QD3rL"
      ],
      "toc_visible": true,
      "include_colab_link": true
    },
    "kernelspec": {
      "display_name": "Python 3",
      "name": "python3"
    }
  },
  "cells": [
    {
      "cell_type": "markdown",
      "metadata": {
        "id": "view-in-github",
        "colab_type": "text"
      },
      "source": [
        "<a href=\"https://colab.research.google.com/github/dp1706/Machine-Learning/blob/master/Assignment3/ML_Assignment_3.ipynb\" target=\"_parent\"><img src=\"https://colab.research.google.com/assets/colab-badge.svg\" alt=\"Open In Colab\"/></a>"
      ]
    },
    {
      "cell_type": "markdown",
      "metadata": {
        "id": "3RM5y5IxO4-z",
        "colab_type": "text"
      },
      "source": [
        "                                                      ***Assignment 3***  "
      ]
    },
    {
      "cell_type": "markdown",
      "metadata": {
        "id": "m5_bD-pqxk1i",
        "colab_type": "text"
      },
      "source": [
        "# **Required Modules**"
      ]
    },
    {
      "cell_type": "code",
      "metadata": {
        "id": "5eN3XYzm3KAl",
        "colab_type": "code",
        "colab": {
          "base_uri": "https://localhost:8080/",
          "height": 34
        },
        "outputId": "706af7ce-a8e3-4511-c4e3-ff70094986e1"
      },
      "source": [
        "import warnings\n",
        "warnings.filterwarnings(\"ignore\")\n",
        "import pandas as pd\n",
        "import numpy as np\n",
        "from sklearn.model_selection import train_test_split\n",
        "from sklearn.datasets import load_boston\n",
        "from matplotlib import pyplot as plt\n",
        "from sklearn.preprocessing import StandardScaler\n",
        "print(\"True\")"
      ],
      "execution_count": null,
      "outputs": [
        {
          "output_type": "stream",
          "text": [
            "True\n"
          ],
          "name": "stdout"
        }
      ]
    },
    {
      "cell_type": "markdown",
      "metadata": {
        "id": "3lpUZuqLxt_L",
        "colab_type": "text"
      },
      "source": [
        "#**Single linear Regression(One Feature)**"
      ]
    },
    {
      "cell_type": "code",
      "metadata": {
        "id": "kvDkvRY_yW3M",
        "colab_type": "code",
        "colab": {
          "resources": {
            "http://localhost:8080/nbextensions/google.colab/files.js": {
              "data": "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",
              "ok": true,
              "headers": [
                [
                  "content-type",
                  "application/javascript"
                ]
              ],
              "status": 200,
              "status_text": "OK"
            }
          },
          "base_uri": "https://localhost:8080/",
          "height": 81
        },
        "outputId": "368d000c-5244-4dfd-8bc3-1ac3952ae589"
      },
      "source": [
        "#Uploading file\n",
        "from google.colab import files\n",
        "uploaded = files.upload()"
      ],
      "execution_count": null,
      "outputs": [
        {
          "output_type": "display_data",
          "data": {
            "text/html": [
              "\n",
              "     <input type=\"file\" id=\"files-3cbaefa2-48a3-4835-8f72-cde912b133fa\" name=\"files[]\" multiple disabled\n",
              "        style=\"border:none\" />\n",
              "     <output id=\"result-3cbaefa2-48a3-4835-8f72-cde912b133fa\">\n",
              "      Upload widget is only available when the cell has been executed in the\n",
              "      current browser session. Please rerun this cell to enable.\n",
              "      </output>\n",
              "      <script src=\"/nbextensions/google.colab/files.js\"></script> "
            ],
            "text/plain": [
              "<IPython.core.display.HTML object>"
            ]
          },
          "metadata": {
            "tags": []
          }
        },
        {
          "output_type": "stream",
          "text": [
            "Saving slr06.xls to slr06.xls\n"
          ],
          "name": "stdout"
        }
      ]
    },
    {
      "cell_type": "code",
      "metadata": {
        "id": "brq4j6MjyvVn",
        "colab_type": "code",
        "colab": {
          "base_uri": "https://localhost:8080/",
          "height": 503
        },
        "outputId": "2de3c4d8-428c-4fdb-f166-d8beabfe19a2"
      },
      "source": [
        "#Reading XLS file usinf Dataframe\n",
        "df=pd.read_excel('slr06.xls')\n",
        "print(df.head(10))\n",
        "plt.scatter(df['X'],df['Y'],color='green')\n",
        "plt.title('data chart')\n",
        "plt.xlabel('x data')\n",
        "plt.ylabel('y data')\n",
        "plt.show()"
      ],
      "execution_count": null,
      "outputs": [
        {
          "output_type": "stream",
          "text": [
            "*** No CODEPAGE record, no encoding_override: will use 'ascii'\n",
            "     X      Y\n",
            "0  108  392.5\n",
            "1   19   46.2\n",
            "2   13   15.7\n",
            "3  124  422.2\n",
            "4   40  119.4\n",
            "5   57  170.9\n",
            "6   23   56.9\n",
            "7   14   77.5\n",
            "8   45  214.0\n",
            "9   10   65.3\n"
          ],
          "name": "stdout"
        },
        {
          "output_type": "display_data",
          "data": {
            "image/png": "[encoded data removed]",
            "text/plain": [
              "<Figure size 432x288 with 1 Axes>"
            ]
          },
          "metadata": {
            "tags": [],
            "needs_background": "light"
          }
        }
      ]
    },
    {
      "cell_type": "markdown",
      "metadata": {
        "id": "kBebYhpTza9I",
        "colab_type": "text"
      },
      "source": [
        "**1)Splitting data into train(60%),test(20%) and validation(20%)**"
      ]
    },
    {
      "cell_type": "code",
      "metadata": {
        "id": "xxZHvEXGwXYQ",
        "colab_type": "code",
        "colab": {
          "base_uri": "https://localhost:8080/",
          "height": 69
        },
        "outputId": "975d23ea-def4-4b82-d15e-4291a209a454"
      },
      "source": [
        "#Splitting data\n",
        "df_train, df_test = train_test_split(\n",
        "    df, test_size=0.2, random_state=1)\n",
        "df_train, df_val = train_test_split(\n",
        "    df_train, test_size=0.25, random_state=1)\n",
        "print(df_train.shape)\n",
        "print(df_test.shape)\n",
        "print(df_val.shape)"
      ],
      "execution_count": null,
      "outputs": [
        {
          "output_type": "stream",
          "text": [
            "(37, 2)\n",
            "(13, 2)\n",
            "(13, 2)\n"
          ],
          "name": "stdout"
        }
      ]
    },
    {
      "cell_type": "markdown",
      "metadata": {
        "id": "97UCzjK936ms",
        "colab_type": "text"
      },
      "source": [
        "**2)Printing train ,test and validation  accurracy**"
      ]
    },
    {
      "cell_type": "markdown",
      "metadata": {
        "id": "cP6scWDU4pJI",
        "colab_type": "text"
      },
      "source": [
        "* Using OLS method"
      ]
    },
    {
      "cell_type": "code",
      "metadata": {
        "id": "KWZZPx3b4Q9p",
        "colab_type": "code",
        "colab": {}
      },
      "source": [
        "#OLS algorithm\n",
        "def OLS(X,Y):\n",
        "  n = len(X)\n",
        "  x_mean = np.mean(X)\n",
        "  y_mean = np.mean(Y)\n",
        "  num, den = 0, 0\n",
        "  for i in range(0, n) :\n",
        "    num += (X[i] - x_mean) * (Y[i] - y_mean)\n",
        "    den += (X[i] - x_mean) ** 2\n",
        "  #Calculate the values of the slope and y-intercept \n",
        "  m = num / den\n",
        "  c = y_mean - m * x_mean\n",
        "  return m, c"
      ],
      "execution_count": null,
      "outputs": []
    },
    {
      "cell_type": "code",
      "metadata": {
        "id": "G-25aBGmvT9M",
        "colab_type": "code",
        "colab": {
          "base_uri": "https://localhost:8080/",
          "height": 52
        },
        "outputId": "9f8ac647-12bc-4190-f543-13625548526f"
      },
      "source": [
        "#slope and Const\n",
        "\n",
        "slope,const=OLS(X_train,Y_train)\n",
        "print(slope)\n",
        "print(const)"
      ],
      "execution_count": null,
      "outputs": [
        {
          "output_type": "stream",
          "text": [
            "3.423058688500003\n",
            "19.88311242406749\n"
          ],
          "name": "stdout"
        }
      ]
    },
    {
      "cell_type": "code",
      "metadata": {
        "id": "TiCFn8tp7YWM",
        "colab_type": "code",
        "colab": {}
      },
      "source": [
        "# Function to Calculate Mean Absolute Error\n",
        "def MAE(m, c, X, Y) :\n",
        "  mae, n = 0, len(X)\n",
        "  for i in range(n):\n",
        "    y_pred = m * X[i] + c\n",
        "    mae += abs(Y[i] - y_pred)\n",
        "  mae =mae/n\n",
        "  return mae"
      ],
      "execution_count": null,
      "outputs": []
    },
    {
      "cell_type": "markdown",
      "metadata": {
        "id": "ICkBYDq79yuY",
        "colab_type": "text"
      },
      "source": [
        "NOTE:  *Lower MAE value means higher accuracy*"
      ]
    },
    {
      "cell_type": "code",
      "metadata": {
        "id": "3W60gh2G5yeO",
        "colab_type": "code",
        "colab": {
          "base_uri": "https://localhost:8080/",
          "height": 69
        },
        "outputId": "331748ea-433f-4a8d-f894-ffee9ed0fb62"
      },
      "source": [
        "#train set accuracy\n",
        "X_train = df_train['X'].to_numpy()\n",
        "Y_train = df_train['Y'].to_numpy()\n",
        "print(\"OLS Traning MAE : %f\"  %(MAE(slope, const, X_train, Y_train)))\n",
        "\n",
        "#validation set accuracy\n",
        "X_val = df_val['X'].to_numpy()\n",
        "Y_val = df_val['Y'].to_numpy()\n",
        "print(\"OLS Validation MAE : %f \" %(MAE(slope, const, X_val, Y_val)))\n",
        "\n",
        "#test set accuracy\n",
        "X_test = df_test['X'].to_numpy()\n",
        "Y_test = df_test['Y'].to_numpy()\n",
        "print(\"OLS Test MAE : %f \" %(MAE(slope, const, X_test, Y_test)))"
      ],
      "execution_count": null,
      "outputs": [
        {
          "output_type": "stream",
          "text": [
            "OLS Traning MAE : 28.995700\n",
            "OLS Validation MAE : 31.453019 \n",
            "OLS Test MAE : 24.028889 \n"
          ],
          "name": "stdout"
        }
      ]
    },
    {
      "cell_type": "code",
      "metadata": {
        "id": "H86eVjL9DcA_",
        "colab_type": "code",
        "colab": {
          "base_uri": "https://localhost:8080/",
          "height": 295
        },
        "outputId": "da71e8dd-0b08-4bc6-a440-331286ba1d9a"
      },
      "source": [
        "#Ploting line with m and c\n",
        "plt.plot(df['X'],slope*df['X']+const)\n",
        "plt.scatter(df['X'],df['Y'],color='green')\n",
        "plt.title('data chart')\n",
        "plt.xlabel('x data')\n",
        "plt.ylabel('y data')\n",
        "plt.show()"
      ],
      "execution_count": null,
      "outputs": [
        {
          "output_type": "display_data",
          "data": {
            "image/png": "[encoded data removed]",
            "text/plain": [
              "<Figure size 432x288 with 1 Axes>"
            ]
          },
          "metadata": {
            "tags": [],
            "needs_background": "light"
          }
        }
      ]
    },
    {
      "cell_type": "markdown",
      "metadata": {
        "id": "8rL3_3NO4cW8",
        "colab_type": "text"
      },
      "source": [
        " * Using Gradient Descent Algorithm"
      ]
    },
    {
      "cell_type": "code",
      "metadata": {
        "id": "nJFtDgAr4ebW",
        "colab_type": "code",
        "colab": {}
      },
      "source": [
        "# Gradient Descent Algorithm\n",
        "def GDA(X, Y) :\n",
        "  n = len(X)\n",
        "  rate, iters = 0.0001, 10000\n",
        "  m, c = 0, 0\n",
        "  for i in range(iters) :\n",
        "    Y_pred = m * X + c\n",
        "    d_dm = (-2 / n) * (sum(X * (Y - Y_pred)))\n",
        "    d_dc = (-2 / n) * (sum(Y - Y_pred))\n",
        "    m -= rate * d_dm\n",
        "    c -= rate * d_dc\n",
        "  return m, c"
      ],
      "execution_count": null,
      "outputs": []
    },
    {
      "cell_type": "code",
      "metadata": {
        "id": "4bUi3m6tyIxU",
        "colab_type": "code",
        "colab": {
          "base_uri": "https://localhost:8080/",
          "height": 52
        },
        "outputId": "857ca708-62cf-4fcb-a889-14926c058846"
      },
      "source": [
        "#slope and Const\n",
        "\n",
        "GDA_slope,GDA_const=GDA(X_train,Y_train)\n",
        "print(slope)\n",
        "print(const)"
      ],
      "execution_count": null,
      "outputs": [
        {
          "output_type": "stream",
          "text": [
            "3.423058688500003\n",
            "19.88311242406749\n"
          ],
          "name": "stdout"
        }
      ]
    },
    {
      "cell_type": "code",
      "metadata": {
        "id": "j3W1H-IV-uwj",
        "colab_type": "code",
        "colab": {}
      },
      "source": [
        "# Function to Calculate Mean Absolute Error\n",
        "def MAE(m, c, X, Y) :\n",
        "  mae, n = 0, len(X)\n",
        "  for i in range(n):\n",
        "    y_pred = m * X[i] + c\n",
        "    mae += abs(Y[i] - y_pred)\n",
        "  mae =mae/n\n",
        "  return mae"
      ],
      "execution_count": null,
      "outputs": []
    },
    {
      "cell_type": "code",
      "metadata": {
        "id": "w0JqWi7J-s8P",
        "colab_type": "code",
        "colab": {
          "base_uri": "https://localhost:8080/",
          "height": 69
        },
        "outputId": "e8f346c5-5fa1-4135-f2bd-596462f68126"
      },
      "source": [
        "#train set accuracy\n",
        "X_train = df_train['X'].to_numpy()\n",
        "Y_train = df_train['Y'].to_numpy()\n",
        "print(\"OLS Traning MAE : %f\"  %(MAE(GDA_slope, GDA_const, X_train, Y_train)))\n",
        "\n",
        "#validation set accuracy\n",
        "X_val = df_val['X'].to_numpy()\n",
        "Y_val = df_val['Y'].to_numpy()\n",
        "print(\"OLS Validation MAE : %f \" %(MAE(GDA_slope, GDA_const, X_val, Y_val)))\n",
        "\n",
        "#test set accuracy\n",
        "X_test = df_test['X'].to_numpy()\n",
        "Y_test = df_test['Y'].to_numpy()\n",
        "print(\"OLS Test MAE : %f \" %(MAE(GDA_slope, GDA_const, X_test, Y_test)))"
      ],
      "execution_count": null,
      "outputs": [
        {
          "output_type": "stream",
          "text": [
            "OLS Traning MAE : 29.495872\n",
            "OLS Validation MAE : 32.968151 \n",
            "OLS Test MAE : 23.704197 \n"
          ],
          "name": "stdout"
        }
      ]
    },
    {
      "cell_type": "code",
      "metadata": {
        "id": "uf8GDaDWBGvR",
        "colab_type": "code",
        "colab": {
          "base_uri": "https://localhost:8080/",
          "height": 295
        },
        "outputId": "5c49cae9-df30-419b-e74f-bce8d6b76e11"
      },
      "source": [
        "#ploting line with m and c\n",
        "plt.plot(df['X'],GDA_slope*df['X']+GDA_const)\n",
        "plt.scatter(df['X'],df['Y'],color='green')\n",
        "plt.title('data chart')\n",
        "plt.xlabel('x data')\n",
        "plt.ylabel('y data')\n",
        "plt.show()"
      ],
      "execution_count": null,
      "outputs": [
        {
          "output_type": "display_data",
          "data": {
            "image/png": "[encoded data removed]",
            "text/plain": [
              "<Figure size 432x288 with 1 Axes>"
            ]
          },
          "metadata": {
            "tags": [],
            "needs_background": "light"
          }
        }
      ]
    },
    {
      "cell_type": "markdown",
      "metadata": {
        "id": "p7YTr5_QD3rL",
        "colab_type": "text"
      },
      "source": [
        "#**Multiple Linear Regression**"
      ]
    },
    {
      "cell_type": "markdown",
      "metadata": {
        "id": "2wheYsZwMgOe",
        "colab_type": "text"
      },
      "source": [
        "* **Using the Gradient Descent\n",
        "Algorithm**"
      ]
    },
    {
      "cell_type": "code",
      "metadata": {
        "id": "rm64fh2KEnMf",
        "colab_type": "code",
        "colab": {
          "base_uri": "https://localhost:8080/",
          "height": 260
        },
        "outputId": "ecd884e3-0c9b-4bfb-c418-49ab3d9a9b90"
      },
      "source": [
        "#Loding data\n",
        "boston= load_boston()\n",
        "boston_data=pd.DataFrame(boston.data,columns=boston.feature_names)\n",
        "print(boston_data)\n",
        "Y_boston = boston.target\n",
        "X_boston = boston.data"
      ],
      "execution_count": null,
      "outputs": [
        {
          "output_type": "stream",
          "text": [
            "        CRIM    ZN  INDUS  CHAS    NOX  ...  RAD    TAX  PTRATIO       B  LSTAT\n",
            "0    0.00632  18.0   2.31   0.0  0.538  ...  1.0  296.0     15.3  396.90   4.98\n",
            "1    0.02731   0.0   7.07   0.0  0.469  ...  2.0  242.0     17.8  396.90   9.14\n",
            "2    0.02729   0.0   7.07   0.0  0.469  ...  2.0  242.0     17.8  392.83   4.03\n",
            "3    0.03237   0.0   2.18   0.0  0.458  ...  3.0  222.0     18.7  394.63   2.94\n",
            "4    0.06905   0.0   2.18   0.0  0.458  ...  3.0  222.0     18.7  396.90   5.33\n",
            "..       ...   ...    ...   ...    ...  ...  ...    ...      ...     ...    ...\n",
            "501  0.06263   0.0  11.93   0.0  0.573  ...  1.0  273.0     21.0  391.99   9.67\n",
            "502  0.04527   0.0  11.93   0.0  0.573  ...  1.0  273.0     21.0  396.90   9.08\n",
            "503  0.06076   0.0  11.93   0.0  0.573  ...  1.0  273.0     21.0  396.90   5.64\n",
            "504  0.10959   0.0  11.93   0.0  0.573  ...  1.0  273.0     21.0  393.45   6.48\n",
            "505  0.04741   0.0  11.93   0.0  0.573  ...  1.0  273.0     21.0  396.90   7.88\n",
            "\n",
            "[506 rows x 13 columns]\n"
          ],
          "name": "stdout"
        }
      ]
    },
    {
      "cell_type": "markdown",
      "metadata": {
        "id": "7PeWKEpjMcwC",
        "colab_type": "text"
      },
      "source": [
        "**1)Splitting Dataset into Train(60%) , Test(20%) and validation(20%)**"
      ]
    },
    {
      "cell_type": "code",
      "metadata": {
        "id": "IC9YPU80I1d0",
        "colab_type": "code",
        "colab": {
          "base_uri": "https://localhost:8080/",
          "height": 121
        },
        "outputId": "b267a97b-e301-4182-fbb4-44d496c4a63a"
      },
      "source": [
        "#Splitting dataset into Train,Test and Validation\n",
        "\n",
        "X_train_boston, X_test_boston,Y_train_boston, Y_test_boston = train_test_split(\n",
        "    X_boston,Y_boston, test_size=0.2, random_state=1)\n",
        "X_train_boston, X_val_boston,Y_train_boston, Y_val_boston = train_test_split(\n",
        "    X_train_boston,Y_train_boston, test_size=0.2, random_state=1)\n",
        "print(X_train_boston.shape)\n",
        "print(X_test_boston.shape)\n",
        "print(X_val_boston.shape)\n",
        "print(Y_train_boston.shape)\n",
        "print(Y_test_boston.shape)\n",
        "print(Y_val_boston.shape)"
      ],
      "execution_count": null,
      "outputs": [
        {
          "output_type": "stream",
          "text": [
            "(323, 13)\n",
            "(102, 13)\n",
            "(81, 13)\n",
            "(323,)\n",
            "(102,)\n",
            "(81,)\n"
          ],
          "name": "stdout"
        }
      ]
    },
    {
      "cell_type": "markdown",
      "metadata": {
        "id": "AWBU6XLdG8ZX",
        "colab_type": "text"
      },
      "source": [
        "**2)Printing Train , Test and Validation Accuracy**"
      ]
    },
    {
      "cell_type": "code",
      "metadata": {
        "id": "g7kuPr2YNT54",
        "colab_type": "code",
        "colab": {}
      },
      "source": [
        "# Standardising Data\n",
        "scaler = StandardScaler()\n",
        "x_train_boston = scaler.fit_transform(X_train_boston)\n",
        "x_val_boston = scaler.fit_transform(X_val_boston)\n",
        "x_test_boston = scaler.fit_transform(X_test_boston)\n",
        "#print(x_train_boston)"
      ],
      "execution_count": null,
      "outputs": []
    },
    {
      "cell_type": "code",
      "metadata": {
        "id": "8eEvTQZiNTqv",
        "colab_type": "code",
        "colab": {
          "base_uri": "https://localhost:8080/",
          "height": 69
        },
        "outputId": "97368b72-d163-47aa-bf84-704a94d68b3d"
      },
      "source": [
        "# Converting Back to Data Frames\n",
        "train_data_boston = pd.DataFrame(x_train_boston)\n",
        "train_data_boston['price'] = Y_train_boston\n",
        "print(train_data_boston.shape)\n",
        "\n",
        "validate_data_boston = pd.DataFrame(x_val_boston)\n",
        "validate_data_boston['price'] = Y_val_boston\n",
        "print(validate_data_boston.shape)\n",
        "\n",
        "test_data_boston = pd.DataFrame(x_test_boston)\n",
        "test_data_boston['price'] = Y_test_boston\n",
        "print(test_data_boston.shape)"
      ],
      "execution_count": null,
      "outputs": [
        {
          "output_type": "stream",
          "text": [
            "(323, 14)\n",
            "(81, 14)\n",
            "(102, 14)\n"
          ],
          "name": "stdout"
        }
      ]
    },
    {
      "cell_type": "code",
      "metadata": {
        "id": "tmm0EgDmNTXG",
        "colab_type": "code",
        "colab": {}
      },
      "source": [
        "# Multiple Linear Regression Gradient Descent Algorithm\n",
        "def MLR_GDA(data, learning_rate, iters, sample_size) :\n",
        "  w = np.zeros(shape = (1, data.shape[1] - 1))\n",
        "  b = 0\n",
        "  for iter in range(iters) :\n",
        "    sample_data = data.sample(sample_size)\n",
        "    y = np.array(sample_data['price'])\n",
        "    x = np.array(sample_data.drop('price', axis = 1))\n",
        "    w_g = np.zeros(shape = (1, data.shape[1] - 1))\n",
        "    b_g = 0\n",
        "\n",
        "    for i in range(sample_size) :\n",
        "      y_pred = np.dot(w, x[i]) + b\n",
        "      w_g += (-2) * (x[i]) * (y[i] - y_pred)\n",
        "      b_g += (-2) * (y[i] - y_pred)\n",
        "    w -= (learning_rate) * (w_g / sample_size)\n",
        "    b -= (learning_rate) * (b_g / sample_size)\n",
        "  return w, b"
      ],
      "execution_count": null,
      "outputs": []
    },
    {
      "cell_type": "code",
      "metadata": {
        "id": "ZWRaBsJX34kd",
        "colab_type": "code",
        "colab": {}
      },
      "source": [
        "# Function to Calculate Mean Absolute Error\n",
        "def MAE_MLR(w, b, X, Y) :\n",
        "  mae, n = 0, len(X)\n",
        "  for i in range(n):\n",
        "    y_pred = np.dot(w, X[i]) + b\n",
        "    mae += abs(Y[i] - y_pred)\n",
        "  mae = mae/n\n",
        "  return mae"
      ],
      "execution_count": null,
      "outputs": []
    },
    {
      "cell_type": "code",
      "metadata": {
        "id": "YysqHHob3-kT",
        "colab_type": "code",
        "colab": {
          "base_uri": "https://localhost:8080/",
          "height": 86
        },
        "outputId": "7609935a-9efa-4266-be35-ca37f8774575"
      },
      "source": [
        "# Training Model\n",
        "w, b = MLR_GDA(train_data_boston, 0.001, 1000, 10)\n",
        "print(w)\n",
        "print(b)"
      ],
      "execution_count": null,
      "outputs": [
        {
          "output_type": "stream",
          "text": [
            "[[-0.72872394  0.44552752 -0.20535714  0.91220713 -0.74370322  2.56074988\n",
            "  -0.31233496 -1.23298131  0.29260996 -0.09996832 -1.69004745  0.63348623\n",
            "  -3.09668196]]\n",
            "[19.5756716]\n"
          ],
          "name": "stdout"
        }
      ]
    },
    {
      "cell_type": "code",
      "metadata": {
        "id": "p8ro4Vwk4BFF",
        "colab_type": "code",
        "colab": {
          "base_uri": "https://localhost:8080/",
          "height": 69
        },
        "outputId": "0d07afd1-f29c-4fce-a0d9-fb49e7ff7432"
      },
      "source": [
        "# Printing MAE Values\n",
        "#For Train Set\n",
        "y = np.array(train_data_boston['price'])\n",
        "x = np.array(train_data_boston.drop('price', axis = 1))\n",
        "print(\"Train MAE : %f\" %(MAE_MLR(w, b, x, y)))\n",
        "\n",
        "#For Validation Set\n",
        "y = np.array(validate_data_boston['price'])\n",
        "x = np.array(validate_data_boston.drop('price', axis = 1))\n",
        "print(\"Validate MAE : %f\" %(MAE_MLR(w, b, x, y)))\n",
        "\n",
        "#For test Set\n",
        "y = np.array(test_data_boston['price'])\n",
        "x = np.array(test_data_boston.drop('price', axis = 1))\n",
        "print(\"Test MAE : %f\" %(MAE_MLR(w, b, x, y)))"
      ],
      "execution_count": null,
      "outputs": [
        {
          "output_type": "stream",
          "text": [
            "Train MAE : 3.898094\n",
            "Validate MAE : 3.263677\n",
            "Test MAE : 3.948348\n"
          ],
          "name": "stdout"
        }
      ]
    }
  ]
}
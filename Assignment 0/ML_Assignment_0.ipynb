{
  "nbformat": 4,
  "nbformat_minor": 0,
  "metadata": {
    "colab": {
      "name": "ML_assignment_0",
      "provenance": [],
      "collapsed_sections": [],
      "authorship_tag": "ABX9TyMllrQhmt/B7kPNvPgSlMyy",
      "include_colab_link": true
    },
    "kernelspec": {
      "name": "python3",
      "display_name": "Python 3"
    }
  },
  "cells": [
    {
      "cell_type": "markdown",
      "metadata": {
        "id": "view-in-github",
        "colab_type": "text"
      },
      "source": [
        "<a href=\"https://colab.research.google.com/github/dp1706/Machine-Learning/blob/master/ML_assignment_0.ipynb\" target=\"_parent\"><img src=\"https://colab.research.google.com/assets/colab-badge.svg\" alt=\"Open In Colab\"/></a>"
      ]
    },
    {
      "cell_type": "code",
      "metadata": {
        "id": "RsRQO1w8xIqF",
        "colab_type": "code",
        "colab": {}
      },
      "source": [
        ""
      ],
      "execution_count": null,
      "outputs": []
    },
    {
      "cell_type": "code",
      "metadata": {
        "id": "triDu46gxWUx",
        "colab_type": "code",
        "colab": {
          "base_uri": "https://localhost:8080/",
          "height": 86
        },
        "outputId": "03317503-e7e3-4ff4-e683-204bfbd2e18b"
      },
      "source": [
        "#1. get the python version  \n",
        "\n",
        "import sys\n",
        "print(\"Python version :\")\n",
        "print (sys.version)\n",
        "print()"
      ],
      "execution_count": null,
      "outputs": [
        {
          "output_type": "stream",
          "text": [
            "Python version :\n",
            "3.6.9 (default, Jul 17 2020, 12:50:27) \n",
            "[GCC 8.4.0]\n",
            "\n"
          ],
          "name": "stdout"
        }
      ]
    },
    {
      "cell_type": "code",
      "metadata": {
        "id": "O0-1w0uGLVDY",
        "colab_type": "code",
        "colab": {
          "base_uri": "https://localhost:8080/",
          "height": 72
        },
        "outputId": "4c33f2f0-ca1e-4122-e57f-4d25ba66e5e9"
      },
      "source": [
        "#2.  python program to locate python site-packages\n",
        "\n",
        "import site; \n",
        "print(site.getsitepackages())\n",
        "print()\n"
      ],
      "execution_count": null,
      "outputs": [
        {
          "output_type": "stream",
          "text": [
            "['/usr/local/lib/python3.6/dist-packages', '/usr/lib/python3/dist-packages', '/usr/lib/python3.6/dist-packages']\n",
            "\n"
          ],
          "name": "stdout"
        }
      ]
    },
    {
      "cell_type": "code",
      "metadata": {
        "id": "jIrHdFvSLaBU",
        "colab_type": "code",
        "colab": {
          "base_uri": "https://localhost:8080/",
          "height": 69
        },
        "outputId": "da5f35bf-a59c-438e-b49d-72e155f1af22"
      },
      "source": [
        "#3. python program to get path and currently executing file name\n",
        "\n",
        "print(\"path: \", sys.argv[0])\n",
        "print(\"name of file: \", sys.argv[0].split('/')[-1])\n",
        "print()"
      ],
      "execution_count": null,
      "outputs": [
        {
          "output_type": "stream",
          "text": [
            "path:  /usr/local/lib/python3.6/dist-packages/ipykernel_launcher.py\n",
            "name of file:  ipykernel_launcher.py\n",
            "\n"
          ],
          "name": "stdout"
        }
      ]
    },
    {
      "cell_type": "code",
      "metadata": {
        "id": "3SNHzRtoLeq6",
        "colab_type": "code",
        "colab": {
          "base_uri": "https://localhost:8080/",
          "height": 191
        },
        "outputId": "4c35e22d-41a2-46b7-e459-4e41b57ee1ad"
      },
      "source": [
        "\n",
        "#4. python program to randomly generate two matrices and multiply them\n",
        "\n",
        "import numpy as np\n",
        "\n",
        "A= np.random.randint(1,10,size=(2,3))\n",
        "print(A)\n",
        "print()\n",
        "B= np.random.randint(1,10,size=(3,2))\n",
        "print(B)\n",
        "print(\"result:\")\n",
        "print()\n",
        "result = np.dot(A,B) \n",
        "  \n",
        "for r in result: \n",
        "    print(r) "
      ],
      "execution_count": null,
      "outputs": [
        {
          "output_type": "stream",
          "text": [
            "[[9 6 9]\n",
            " [7 4 2]]\n",
            "\n",
            "[[9 5]\n",
            " [7 7]\n",
            " [4 7]]\n",
            "result:\n",
            "\n",
            "[159 150]\n",
            "[99 77]\n"
          ],
          "name": "stdout"
        }
      ]
    },
    {
      "cell_type": "code",
      "metadata": {
        "id": "Ls1Vv0A1LipP",
        "colab_type": "code",
        "colab": {
          "base_uri": "https://localhost:8080/",
          "height": 434
        },
        "outputId": "61b1b970-49f3-4202-cb36-caaf76079c08"
      },
      "source": [
        "\n",
        "#5 for loop and average of the result metrices\n",
        "\n",
        "import numpy as np\n",
        "print()\n",
        "average=[[0,0],[0,0]]\n",
        "\n",
        "for i in range(5):\n",
        "     A= np.random.randint(1,10,size=(2,3))\n",
        "     B= np.random.randint(1,10,size=(3,2))\n",
        "\n",
        "     result = np.dot(A,B)\n",
        "     print(\"matrix\",i,\":\") \n",
        "     print(result)\n",
        "     print()\n",
        "     average=average+result\n",
        "\n",
        "average=average/5\n",
        "print(\"avergae is: \")\n",
        "print(average)     \n"
      ],
      "execution_count": null,
      "outputs": [
        {
          "output_type": "stream",
          "text": [
            "\n",
            "matrix 0 :\n",
            "[[ 95  28]\n",
            " [109  33]]\n",
            "\n",
            "matrix 1 :\n",
            "[[109 120]\n",
            " [ 99 117]]\n",
            "\n",
            "matrix 2 :\n",
            "[[125 137]\n",
            " [ 66  82]]\n",
            "\n",
            "matrix 3 :\n",
            "[[31 58]\n",
            " [23 62]]\n",
            "\n",
            "matrix 4 :\n",
            "[[86 38]\n",
            " [99 60]]\n",
            "\n",
            "avergae is: \n",
            "[[89.2 76.2]\n",
            " [79.2 70.8]]\n"
          ],
          "name": "stdout"
        }
      ]
    },
    {
      "cell_type": "code",
      "metadata": {
        "id": "RtSftD_gLnD8",
        "colab_type": "code",
        "colab": {
          "base_uri": "https://localhost:8080/",
          "height": 104
        },
        "outputId": "09311441-d8b9-43c2-9b32-d763ed244efb"
      },
      "source": [
        "\n",
        "#6  reading and writing in a csv file using python\n",
        "import csv\n",
        "csvfile = open('matrix.csv','w', newline='')\n",
        "obj = csv.writer(csvfile)\n",
        "obj.writerows(average)\n",
        "csvfile.close()\n",
        "\n",
        "csvfile1=open('matrix.csv','r', newline='')\n",
        "data = list(csv.reader(csvfile1))\n",
        "print()\n",
        "print(data) \n",
        "print()\n",
        "t_matrix = zip(*data) \n",
        "for row in t_matrix:\n",
        "   print(row)"
      ],
      "execution_count": null,
      "outputs": [
        {
          "output_type": "stream",
          "text": [
            "\n",
            "[['89.2', '76.2'], ['79.2', '70.8']]\n",
            "\n",
            "('89.2', '79.2')\n",
            "('76.2', '70.8')\n"
          ],
          "name": "stdout"
        }
      ]
    },
    {
      "cell_type": "code",
      "metadata": {
        "id": "AiL9DFzOLq1N",
        "colab_type": "code",
        "colab": {
          "base_uri": "https://localhost:8080/",
          "height": 69
        },
        "outputId": "160f4e4f-f4cc-45e6-8a9d-0cec0d7cf6c3"
      },
      "source": [
        "#7   python program to find mean , mode and median of a matrix\n",
        "\n",
        "#import numpy as np\n",
        "from scipy import stats\n",
        "\n",
        "mean = np.mean(average)\n",
        "\n",
        "median = np.median(average)\n",
        "\n",
        "mode = stats.mode(average)\n",
        "\n",
        "print('Mean is ', mean)\n",
        "\n",
        "print('Median is ', median)\n",
        "\n",
        "print('Mode is ', mode[0])"
      ],
      "execution_count": null,
      "outputs": [
        {
          "output_type": "stream",
          "text": [
            "Mean is  78.85000000000001\n",
            "Median is  77.7\n",
            "Mode is  [[79.2 70.8]]\n"
          ],
          "name": "stdout"
        }
      ]
    },
    {
      "cell_type": "code",
      "metadata": {
        "id": "nUMQqiMdLvVp",
        "colab_type": "code",
        "colab": {
          "base_uri": "https://localhost:8080/",
          "height": 86
        },
        "outputId": "cbd3a9c1-febe-4291-e729-003e57c13a68"
      },
      "source": [
        "\n",
        "#8 upper triangular matrix \n",
        "\n",
        "print(\"\\nupper triangular matrix: \\n \", np.triu(average,0))"
      ],
      "execution_count": null,
      "outputs": [
        {
          "output_type": "stream",
          "text": [
            "\n",
            "upper triangular matrix: \n",
            "  [[89.2 76.2]\n",
            " [ 0.  70.8]]\n"
          ],
          "name": "stdout"
        }
      ]
    }
  ]
}

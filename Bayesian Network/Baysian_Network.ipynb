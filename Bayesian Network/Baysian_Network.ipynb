{
  "nbformat": 4,
  "nbformat_minor": 0,
  "metadata": {
    "colab": {
      "name": "Baysian Network",
      "provenance": [],
      "collapsed_sections": []
    },
    "kernelspec": {
      "name": "python3",
      "display_name": "Python 3"
    }
  },
  "cells": [
    {
      "cell_type": "code",
      "metadata": {
        "id": "Mf_sygbbzXwU",
        "outputId": "cc32c7ad-a385-4210-f0b4-a52d2e4bc78a",
        "colab": {
          "base_uri": "https://localhost:8080/",
          "height": 315
        }
      },
      "source": [
        "#installing pgmpy\n",
        "\n",
        "!pip install pgmpy"
      ],
      "execution_count": null,
      "outputs": [
        {
          "output_type": "stream",
          "text": [
            "Requirement already satisfied: pgmpy in /usr/local/lib/python3.6/dist-packages (0.1.11)\n",
            "Requirement already satisfied: numpy in /usr/local/lib/python3.6/dist-packages (from pgmpy) (1.18.5)\n",
            "Requirement already satisfied: networkx in /usr/local/lib/python3.6/dist-packages (from pgmpy) (2.5)\n",
            "Requirement already satisfied: statsmodels in /usr/local/lib/python3.6/dist-packages (from pgmpy) (0.10.2)\n",
            "Requirement already satisfied: joblib in /usr/local/lib/python3.6/dist-packages (from pgmpy) (0.16.0)\n",
            "Requirement already satisfied: scipy in /usr/local/lib/python3.6/dist-packages (from pgmpy) (1.4.1)\n",
            "Requirement already satisfied: tqdm in /usr/local/lib/python3.6/dist-packages (from pgmpy) (4.41.1)\n",
            "Requirement already satisfied: pandas in /usr/local/lib/python3.6/dist-packages (from pgmpy) (1.0.5)\n",
            "Requirement already satisfied: pyparsing in /usr/local/lib/python3.6/dist-packages (from pgmpy) (2.4.7)\n",
            "Requirement already satisfied: torch in /usr/local/lib/python3.6/dist-packages (from pgmpy) (1.6.0+cu101)\n",
            "Requirement already satisfied: decorator>=4.3.0 in /usr/local/lib/python3.6/dist-packages (from networkx->pgmpy) (4.4.2)\n",
            "Requirement already satisfied: patsy>=0.4.0 in /usr/local/lib/python3.6/dist-packages (from statsmodels->pgmpy) (0.5.1)\n",
            "Requirement already satisfied: python-dateutil>=2.6.1 in /usr/local/lib/python3.6/dist-packages (from pandas->pgmpy) (2.8.1)\n",
            "Requirement already satisfied: pytz>=2017.2 in /usr/local/lib/python3.6/dist-packages (from pandas->pgmpy) (2018.9)\n",
            "Requirement already satisfied: future in /usr/local/lib/python3.6/dist-packages (from torch->pgmpy) (0.16.0)\n",
            "Requirement already satisfied: six in /usr/local/lib/python3.6/dist-packages (from patsy>=0.4.0->statsmodels->pgmpy) (1.15.0)\n"
          ],
          "name": "stdout"
        }
      ]
    },
    {
      "cell_type": "code",
      "metadata": {
        "id": "Ll2Rc99hbQ1l",
        "outputId": "4d30daf2-abd4-411c-a4a3-db2efb452b91",
        "colab": {
          "base_uri": "https://localhost:8080/",
          "height": 517
        }
      },
      "source": [
        "#Graphical model of the problem\n",
        "\n",
        "from IPython.display import Image\n",
        "Image(\"CPT_TABLE.png\",width=800,height=500)"
      ],
      "execution_count": null,
      "outputs": [
        {
          "output_type": "execute_result",
          "data": {
            "image/png": "[encoded data removed]",
            "text/plain": [
              "<IPython.core.display.Image object>"
            ]
          },
          "metadata": {
            "tags": [],
            "image/png": {
              "width": 800,
              "height": 500
            }
          },
          "execution_count": 7
        }
      ]
    },
    {
      "cell_type": "code",
      "metadata": {
        "id": "7d5odxrzPYxA"
      },
      "source": [
        "#Modules For Bayesian network\n",
        "from pgmpy.models import BayesianModel\n",
        "from pgmpy.factors.discrete import TabularCPD"
      ],
      "execution_count": null,
      "outputs": []
    },
    {
      "cell_type": "code",
      "metadata": {
        "id": "2g5vjMFdsT4Q",
        "outputId": "2769d8db-31f5-4e79-eb94-95f8085ed07e",
        "colab": {
          "base_uri": "https://localhost:8080/",
          "height": 34
        }
      },
      "source": [
        "#Defining the Model structure\n",
        "model = BayesianModel([('B', 'A'), ('E', 'A'), ('A', 'J'), ('A', 'M')])\n",
        "model"
      ],
      "execution_count": null,
      "outputs": [
        {
          "output_type": "execute_result",
          "data": {
            "text/plain": [
              "<pgmpy.models.BayesianModel.BayesianModel at 0x7f9b0fc3b668>"
            ]
          },
          "metadata": {
            "tags": []
          },
          "execution_count": 9
        }
      ]
    },
    {
      "cell_type": "code",
      "metadata": {
        "id": "kgGgd0TavoOj",
        "outputId": "0da5d733-ee4c-41a8-eba9-453b949f4908",
        "colab": {
          "base_uri": "https://localhost:8080/",
          "height": 208
        }
      },
      "source": [
        "#Defining individual cpds\n",
        "\n",
        "cp_B = TabularCPD(variable='B', variable_card=2, values=[[0.001] ,[0.999]], state_names={'B': ['TRUE', 'FALSE']})\n",
        "cp_E = TabularCPD(variable='E', variable_card=2, values=[[0.002], [0.998]], state_names={'E': ['TRUE', 'FALSE']})\n",
        "print(cp_B)\n",
        "print();print(cp_E)"
      ],
      "execution_count": null,
      "outputs": [
        {
          "output_type": "stream",
          "text": [
            "+----------+-------+\n",
            "| B(TRUE)  | 0.001 |\n",
            "+----------+-------+\n",
            "| B(FALSE) | 0.999 |\n",
            "+----------+-------+\n",
            "\n",
            "+----------+-------+\n",
            "| E(TRUE)  | 0.002 |\n",
            "+----------+-------+\n",
            "| E(FALSE) | 0.998 |\n",
            "+----------+-------+\n"
          ],
          "name": "stdout"
        }
      ]
    },
    {
      "cell_type": "code",
      "metadata": {
        "id": "X853VfH_xnA7",
        "outputId": "a1dc8246-648e-457f-b97b-0e80f4db94cd",
        "colab": {
          "base_uri": "https://localhost:8080/",
          "height": 173
        }
      },
      "source": [
        "#Alarm CPD\n",
        "cp_A= TabularCPD(variable='A', variable_card=2, values=[[0.95,0.94,0.29,0.001],[0.05,0.06,0.71,0.999]],evidence=['B', 'E'],evidence_card=[2, 2],\n",
        "                      state_names={'A': ['T','F'],'B': ['TRUE', 'FALSE'],'E': ['TRUE', 'FALSE']})\n",
        "print(cp_A)"
      ],
      "execution_count": null,
      "outputs": [
        {
          "output_type": "stream",
          "text": [
            "+------+---------+----------+----------+----------+\n",
            "| B    | B(TRUE) | B(TRUE)  | B(FALSE) | B(FALSE) |\n",
            "+------+---------+----------+----------+----------+\n",
            "| E    | E(TRUE) | E(FALSE) | E(TRUE)  | E(FALSE) |\n",
            "+------+---------+----------+----------+----------+\n",
            "| A(T) | 0.95    | 0.94     | 0.29     | 0.001    |\n",
            "+------+---------+----------+----------+----------+\n",
            "| A(F) | 0.05    | 0.06     | 0.71     | 0.999    |\n",
            "+------+---------+----------+----------+----------+\n"
          ],
          "name": "stdout"
        }
      ]
    },
    {
      "cell_type": "code",
      "metadata": {
        "id": "J8hnZ2XCy3Y-",
        "outputId": "f6ddf978-8e09-45e2-b8b8-dd22a285edf8",
        "colab": {
          "base_uri": "https://localhost:8080/",
          "height": 139
        }
      },
      "source": [
        "#JOHN CPD\n",
        "cp_J= TabularCPD(variable='J', variable_card=2, values=[[0.90,0.05], [0.10,0.95]],evidence=['A'],evidence_card=[2],state_names={'J': ['TRUE', 'FALSE'],'A':['TRUE','FALSE']})\n",
        "print(cp_J)"
      ],
      "execution_count": null,
      "outputs": [
        {
          "output_type": "stream",
          "text": [
            "+----------+---------+----------+\n",
            "| A        | A(TRUE) | A(FALSE) |\n",
            "+----------+---------+----------+\n",
            "| J(TRUE)  | 0.9     | 0.05     |\n",
            "+----------+---------+----------+\n",
            "| J(FALSE) | 0.1     | 0.95     |\n",
            "+----------+---------+----------+\n"
          ],
          "name": "stdout"
        }
      ]
    },
    {
      "cell_type": "code",
      "metadata": {
        "id": "rvVLuMZN5TCb",
        "outputId": "d13f0933-d67f-4d17-db8c-d9a9e976bdfa",
        "colab": {
          "base_uri": "https://localhost:8080/",
          "height": 139
        }
      },
      "source": [
        "#MERY CPD\n",
        "cp_M = TabularCPD(variable='M', variable_card=2, values=[[0.70,0.01], [0.30,0.99]],evidence=['A'],evidence_card=[2],state_names={'M': ['TRUE', 'FALSE'],'A':['TRUE','FALSE']})\n",
        "print(cp_M)"
      ],
      "execution_count": null,
      "outputs": [
        {
          "output_type": "stream",
          "text": [
            "+----------+---------+----------+\n",
            "| A        | A(TRUE) | A(FALSE) |\n",
            "+----------+---------+----------+\n",
            "| M(TRUE)  | 0.7     | 0.01     |\n",
            "+----------+---------+----------+\n",
            "| M(FALSE) | 0.3     | 0.99     |\n",
            "+----------+---------+----------+\n"
          ],
          "name": "stdout"
        }
      ]
    },
    {
      "cell_type": "code",
      "metadata": {
        "id": "XOwCVDFYzhBK",
        "outputId": "ea6b4a98-5292-44ff-b427-112e00052bd7",
        "colab": {
          "base_uri": "https://localhost:8080/",
          "height": 34
        }
      },
      "source": [
        "#adding all cpds\n",
        "\n",
        "model.add_cpds(cp_E,cp_B,cp_A,cp_M,cp_J)\n",
        "model.check_model()"
      ],
      "execution_count": null,
      "outputs": [
        {
          "output_type": "execute_result",
          "data": {
            "text/plain": [
              "True"
            ]
          },
          "metadata": {
            "tags": []
          },
          "execution_count": 28
        }
      ]
    },
    {
      "cell_type": "code",
      "metadata": {
        "id": "2W0zpi8d6km_",
        "outputId": "43f77750-d2e6-4cb1-b69e-bd6e8e391b9d",
        "colab": {
          "base_uri": "https://localhost:8080/",
          "height": 503
        }
      },
      "source": [
        "#model independencies\n",
        "\n",
        "model.get_independencies()"
      ],
      "execution_count": null,
      "outputs": [
        {
          "output_type": "execute_result",
          "data": {
            "text/plain": [
              "(B _|_ E)\n",
              "(B _|_ M, J | A)\n",
              "(B _|_ J | M, A)\n",
              "(B _|_ M | A, J)\n",
              "(B _|_ M, J | A, E)\n",
              "(B _|_ J | M, E, A)\n",
              "(B _|_ M | A, J, E)\n",
              "(E _|_ B)\n",
              "(E _|_ M, J | A)\n",
              "(E _|_ J | M, A)\n",
              "(E _|_ M | A, J)\n",
              "(E _|_ M, J | A, B)\n",
              "(E _|_ J | M, A, B)\n",
              "(E _|_ M | A, J, B)\n",
              "(J _|_ M, E, B | A)\n",
              "(J _|_ E, B | M, A)\n",
              "(J _|_ M, B | A, E)\n",
              "(J _|_ M, E | A, B)\n",
              "(J _|_ B | M, E, A)\n",
              "(J _|_ E | M, A, B)\n",
              "(J _|_ M | A, E, B)\n",
              "(M _|_ J, E, B | A)\n",
              "(M _|_ E, B | A, J)\n",
              "(M _|_ J, B | A, E)\n",
              "(M _|_ J, E | A, B)\n",
              "(M _|_ B | A, J, E)\n",
              "(M _|_ E | A, J, B)\n",
              "(M _|_ J | A, E, B)"
            ]
          },
          "metadata": {
            "tags": []
          },
          "execution_count": 34
        }
      ]
    },
    {
      "cell_type": "code",
      "metadata": {
        "id": "SES4geBe64pk",
        "outputId": "0b5245c9-12be-4acc-b5b4-f0465bd11b19",
        "colab": {
          "base_uri": "https://localhost:8080/",
          "height": 104
        }
      },
      "source": [
        "#getting childeren of each node\n",
        "\n",
        "print(model.get_children('E'))\n",
        "print(model.get_children('B'))\n",
        "print(model.get_children('A'))\n",
        "print(model.get_children('J'))\n",
        "print(model.get_children('M'))"
      ],
      "execution_count": null,
      "outputs": [
        {
          "output_type": "stream",
          "text": [
            "['A']\n",
            "['A']\n",
            "['J', 'M']\n",
            "[]\n",
            "[]\n"
          ],
          "name": "stdout"
        }
      ]
    },
    {
      "cell_type": "code",
      "metadata": {
        "id": "H5jNytX0zznU"
      },
      "source": [
        "#inference using Variable Elimination\n",
        "\n",
        "from pgmpy.inference import VariableElimination\n",
        "infer = VariableElimination(model)"
      ],
      "execution_count": null,
      "outputs": []
    },
    {
      "cell_type": "code",
      "metadata": {
        "id": "pSmOws-a1mK1",
        "outputId": "968617e6-1dc8-4bf1-9e08-d5fc1f460e78",
        "colab": {
          "base_uri": "https://localhost:8080/",
          "height": 173
        }
      },
      "source": [
        "#testing\n",
        "\n",
        "g_dist = infer.query(['B'])\n",
        "print(g_dist)"
      ],
      "execution_count": null,
      "outputs": [
        {
          "output_type": "stream",
          "text": [
            "Finding Elimination Order: : 100%|██████████| 4/4 [00:00<00:00, 2020.86it/s]\n",
            "Eliminating: E: 100%|██████████| 4/4 [00:00<00:00, 244.80it/s]"
          ],
          "name": "stderr"
        },
        {
          "output_type": "stream",
          "text": [
            "+----------+----------+\n",
            "| B        |   phi(B) |\n",
            "+==========+==========+\n",
            "| B(TRUE)  |   0.0010 |\n",
            "+----------+----------+\n",
            "| B(FALSE) |   0.9990 |\n",
            "+----------+----------+\n"
          ],
          "name": "stdout"
        },
        {
          "output_type": "stream",
          "text": [
            "\n"
          ],
          "name": "stderr"
        }
      ]
    },
    {
      "cell_type": "code",
      "metadata": {
        "id": "kSGLYrEh2E-g",
        "outputId": "2ca49cf7-819d-4057-9cdd-cceaf9681a49",
        "colab": {
          "base_uri": "https://localhost:8080/",
          "height": 173
        }
      },
      "source": [
        "#testing\n",
        "\n",
        "print(infer.query(['B'], evidence={'J': 'TRUE', 'M': 'TRUE'}))"
      ],
      "execution_count": null,
      "outputs": [
        {
          "output_type": "stream",
          "text": [
            "Finding Elimination Order: : 100%|██████████| 2/2 [00:00<00:00, 400.95it/s]\n",
            "Eliminating: A: 100%|██████████| 2/2 [00:00<00:00, 463.46it/s]"
          ],
          "name": "stderr"
        },
        {
          "output_type": "stream",
          "text": [
            "+----------+----------+\n",
            "| B        |   phi(B) |\n",
            "+==========+==========+\n",
            "| B(TRUE)  |   0.2842 |\n",
            "+----------+----------+\n",
            "| B(FALSE) |   0.7158 |\n",
            "+----------+----------+\n"
          ],
          "name": "stdout"
        },
        {
          "output_type": "stream",
          "text": [
            "\n"
          ],
          "name": "stderr"
        }
      ]
    }
  ]
}
{
  "nbformat": 4,
  "nbformat_minor": 0,
  "metadata": {
    "colab": {
      "name": "Dimensionality Reduction Using LDA",
      "provenance": [],
      "collapsed_sections": [],
      "authorship_tag": "ABX9TyNOcgbNMSZBW45HlOd8//+C",
      "include_colab_link": true
    },
    "kernelspec": {
      "name": "python3",
      "display_name": "Python 3"
    }
  },
  "cells": [
    {
      "cell_type": "markdown",
      "metadata": {
        "id": "view-in-github",
        "colab_type": "text"
      },
      "source": [
        "<a href=\"https://colab.research.google.com/github/dp1706/Machine-Learning/blob/master/LDA_for%20Dimensionality%20Reduction%20/Dimensionality_Reduction_Using_LDA.ipynb\" target=\"_parent\"><img src=\"https://colab.research.google.com/assets/colab-badge.svg\" alt=\"Open In Colab\"/></a>"
      ]
    },
    {
      "cell_type": "code",
      "metadata": {
        "id": "W3UUghJc1kv2",
        "outputId": "833e797a-2f64-4ef6-9794-c304f776b3b1",
        "colab": {
          "base_uri": "https://localhost:8080/"
        }
      },
      "source": [
        "#@title ABOUT {display-mode: \"form\"}\n",
        "print(\"=====================================================================================================================\")\n",
        "print(\"*                                                                                                                   *\")\n",
        "print(\"*   DATASET : IRIS                                                                                                  *\")\n",
        "print(\"*   Method : Fishar LDA                                                                                             *\")\n",
        "print(\"*                                                                                                                   *\")\n",
        "print(\"=====================================================================================================================\")"
      ],
      "execution_count": 43,
      "outputs": [
        {
          "output_type": "stream",
          "text": [
            "=====================================================================================================================\n",
            "*                                                                                                                   *\n",
            "*   DATASET : IRIS                                                                                                  *\n",
            "*   Method : Fishar LDA                                                                                             *\n",
            "*                                                                                                                   *\n",
            "=====================================================================================================================\n"
          ],
          "name": "stdout"
        }
      ]
    },
    {
      "cell_type": "markdown",
      "metadata": {
        "id": "-kOXizmcNdyH"
      },
      "source": [
        "<h1></h1>"
      ]
    },
    {
      "cell_type": "markdown",
      "metadata": {
        "id": "F8P-l7RR3Edt"
      },
      "source": [
        "__Algorithm Steps :__\n",
        "\n",
        "  1. Compute mean vectors  $m_{i} \\epsilon R^D$ for all $c$ classes.\n",
        "  2. Compute scatter matrices $S_W$(with in class), $S_B$(between class)\n",
        "  3. Compute eigenvectors and eigenvalues for the Scatter Matrix( $S_W^-1 S_B$) (maximizing the ratio of $S_B / S_W$)\n",
        "  4. Select $k$ eigenvectors $w_i$ with the largest eigenvalues to form a     $D \\times k$ -dimensional matrix  $ W = [w_1, . . . , w_k]$\n",
        "  5. Project samples onto the new subspace using $W$ and compute the\n",
        "new coordinates as $Y = XW$\n",
        "    * $X \\epsilon R^{n \\times D}: i^{th}$ row represents the $i^{th}$ sample\n",
        "    * $ Y \\epsilon  R^{n \\times k} :$ Coordinate matrix of the $n$ data points w.r.t. eigenbasis\n",
        "$W$ spanning the $k$-dimensional subspace\n",
        "    * $W \\epsilon R^{D \\times k}$\n"
      ]
    },
    {
      "cell_type": "markdown",
      "metadata": {
        "id": "AOtFylUONgA-"
      },
      "source": [
        "<h1></h1>"
      ]
    },
    {
      "cell_type": "markdown",
      "metadata": {
        "id": "9GdvtgTfK6Xt"
      },
      "source": [
        "<img src='https://sebastianraschka.com/images/blog/2014/linear-discriminant-analysis/iris_petal_sepal.png' width='300' height='300'></img>\n",
        "  * Dataset has : \n",
        "    * The iris dataset contains measurements for 150 iris flowers from three different species.\n",
        "\n",
        "    * The three classes in the Iris dataset:\n",
        "\n",
        "      * Iris-setosa (n=50)\n",
        "      * Iris-versicolor (n=50)\n",
        "      * Iris-virginica (n=50)\n",
        "\n",
        "    * The four features of the Iris dataset:\n",
        "\n",
        "      * sepal length in cm\n",
        "      * sepal width in cm\n",
        "      * petal length in cm\n",
        "      * petal width in cm\n"
      ]
    },
    {
      "cell_type": "markdown",
      "metadata": {
        "id": "MRectqw78Bak"
      },
      "source": [
        "<h1><span style=\"color:pink\">Module</span></h1>"
      ]
    },
    {
      "cell_type": "code",
      "metadata": {
        "id": "GxKk68OmEAj5"
      },
      "source": [
        "\"\"\" Importing libraries \"\"\"\n",
        "\n",
        "import numpy as np\n",
        "import matplotlib.pyplot as plt\n",
        "from sklearn.datasets import load_iris\n",
        "import seaborn as sns\n",
        "sns.set_style(style='white')\n",
        "import pandas as pd\n",
        "import warnings\n",
        "warnings.filterwarnings('ignore')"
      ],
      "execution_count": 2,
      "outputs": []
    },
    {
      "cell_type": "code",
      "metadata": {
        "id": "N9hJR2Vko7_x"
      },
      "source": [
        "np.set_printoptions(precision=4)"
      ],
      "execution_count": 3,
      "outputs": []
    },
    {
      "cell_type": "markdown",
      "metadata": {
        "id": "vXFaShst8efJ"
      },
      "source": [
        "<h1>DataSet</h1>"
      ]
    },
    {
      "cell_type": "code",
      "metadata": {
        "id": "Y1-uL6RZjkJ2",
        "outputId": "a42a27f4-1643-4432-fe5c-36895b9f9786",
        "colab": {
          "base_uri": "https://localhost:8080/"
        }
      },
      "source": [
        "\"\"\" loading dataset \"\"\"\n",
        "\n",
        "dataset = load_iris()\n",
        "print(\"Dataset Shape : \",dataset.data.shape)\n",
        "print(\"Dataset Classes Shape : \",dataset.target.shape)"
      ],
      "execution_count": 4,
      "outputs": [
        {
          "output_type": "stream",
          "text": [
            "Dataset Shape :  (150, 4)\n",
            "Dataset Classes Shape :  (150,)\n"
          ],
          "name": "stdout"
        }
      ]
    },
    {
      "cell_type": "markdown",
      "metadata": {
        "id": "bcPxXmIHNM8a"
      },
      "source": [
        "<h1></h1>"
      ]
    },
    {
      "cell_type": "code",
      "metadata": {
        "id": "ORh8gQTyGeps",
        "outputId": "865b19b1-acb7-4813-a758-eef11ae05fe5",
        "colab": {
          "base_uri": "https://localhost:8080/"
        }
      },
      "source": [
        "\"\"\" dataset feature and classes \"\"\"\n",
        "\n",
        "print(\"Dataset Features : \",dataset.feature_names)\n",
        "print(\"Dataset Classes : \",dataset.target_names)"
      ],
      "execution_count": 5,
      "outputs": [
        {
          "output_type": "stream",
          "text": [
            "Dataset Features :  ['sepal length (cm)', 'sepal width (cm)', 'petal length (cm)', 'petal width (cm)']\n",
            "Dataset Classes :  ['setosa' 'versicolor' 'virginica']\n"
          ],
          "name": "stdout"
        }
      ]
    },
    {
      "cell_type": "markdown",
      "metadata": {
        "id": "hfkA2eQDNKth"
      },
      "source": [
        "<h1></h1>"
      ]
    },
    {
      "cell_type": "code",
      "metadata": {
        "id": "5PFwiPfPjocy",
        "outputId": "47cf4f0d-5da0-4eed-d001-2d1b947f6632",
        "colab": {
          "base_uri": "https://localhost:8080/",
          "height": 206
        }
      },
      "source": [
        "\"\"\" features \"\"\"\n",
        "\n",
        "X = pd.DataFrame(dataset.data , columns=dataset.feature_names)\n",
        "X.head()"
      ],
      "execution_count": 6,
      "outputs": [
        {
          "output_type": "execute_result",
          "data": {
            "text/html": [
              "<div>\n",
              "<style scoped>\n",
              "    .dataframe tbody tr th:only-of-type {\n",
              "        vertical-align: middle;\n",
              "    }\n",
              "\n",
              "    .dataframe tbody tr th {\n",
              "        vertical-align: top;\n",
              "    }\n",
              "\n",
              "    .dataframe thead th {\n",
              "        text-align: right;\n",
              "    }\n",
              "</style>\n",
              "<table border=\"1\" class=\"dataframe\">\n",
              "  <thead>\n",
              "    <tr style=\"text-align: right;\">\n",
              "      <th></th>\n",
              "      <th>sepal length (cm)</th>\n",
              "      <th>sepal width (cm)</th>\n",
              "      <th>petal length (cm)</th>\n",
              "      <th>petal width (cm)</th>\n",
              "    </tr>\n",
              "  </thead>\n",
              "  <tbody>\n",
              "    <tr>\n",
              "      <th>0</th>\n",
              "      <td>5.1</td>\n",
              "      <td>3.5</td>\n",
              "      <td>1.4</td>\n",
              "      <td>0.2</td>\n",
              "    </tr>\n",
              "    <tr>\n",
              "      <th>1</th>\n",
              "      <td>4.9</td>\n",
              "      <td>3.0</td>\n",
              "      <td>1.4</td>\n",
              "      <td>0.2</td>\n",
              "    </tr>\n",
              "    <tr>\n",
              "      <th>2</th>\n",
              "      <td>4.7</td>\n",
              "      <td>3.2</td>\n",
              "      <td>1.3</td>\n",
              "      <td>0.2</td>\n",
              "    </tr>\n",
              "    <tr>\n",
              "      <th>3</th>\n",
              "      <td>4.6</td>\n",
              "      <td>3.1</td>\n",
              "      <td>1.5</td>\n",
              "      <td>0.2</td>\n",
              "    </tr>\n",
              "    <tr>\n",
              "      <th>4</th>\n",
              "      <td>5.0</td>\n",
              "      <td>3.6</td>\n",
              "      <td>1.4</td>\n",
              "      <td>0.2</td>\n",
              "    </tr>\n",
              "  </tbody>\n",
              "</table>\n",
              "</div>"
            ],
            "text/plain": [
              "   sepal length (cm)  sepal width (cm)  petal length (cm)  petal width (cm)\n",
              "0                5.1               3.5                1.4               0.2\n",
              "1                4.9               3.0                1.4               0.2\n",
              "2                4.7               3.2                1.3               0.2\n",
              "3                4.6               3.1                1.5               0.2\n",
              "4                5.0               3.6                1.4               0.2"
            ]
          },
          "metadata": {
            "tags": []
          },
          "execution_count": 6
        }
      ]
    },
    {
      "cell_type": "markdown",
      "metadata": {
        "id": "D52UgJlUNIQf"
      },
      "source": [
        "<h1></h1>"
      ]
    },
    {
      "cell_type": "code",
      "metadata": {
        "id": "Syi6i00yjxzm",
        "outputId": "26395079-809c-47ba-d472-b5971cdf3abe",
        "colab": {
          "base_uri": "https://localhost:8080/",
          "height": 206
        }
      },
      "source": [
        "\"\"\" Classes \"\"\"\n",
        "\n",
        "Y = pd.DataFrame(dataset.target,columns=['class'])\n",
        "Y.head()"
      ],
      "execution_count": 7,
      "outputs": [
        {
          "output_type": "execute_result",
          "data": {
            "text/html": [
              "<div>\n",
              "<style scoped>\n",
              "    .dataframe tbody tr th:only-of-type {\n",
              "        vertical-align: middle;\n",
              "    }\n",
              "\n",
              "    .dataframe tbody tr th {\n",
              "        vertical-align: top;\n",
              "    }\n",
              "\n",
              "    .dataframe thead th {\n",
              "        text-align: right;\n",
              "    }\n",
              "</style>\n",
              "<table border=\"1\" class=\"dataframe\">\n",
              "  <thead>\n",
              "    <tr style=\"text-align: right;\">\n",
              "      <th></th>\n",
              "      <th>class</th>\n",
              "    </tr>\n",
              "  </thead>\n",
              "  <tbody>\n",
              "    <tr>\n",
              "      <th>0</th>\n",
              "      <td>0</td>\n",
              "    </tr>\n",
              "    <tr>\n",
              "      <th>1</th>\n",
              "      <td>0</td>\n",
              "    </tr>\n",
              "    <tr>\n",
              "      <th>2</th>\n",
              "      <td>0</td>\n",
              "    </tr>\n",
              "    <tr>\n",
              "      <th>3</th>\n",
              "      <td>0</td>\n",
              "    </tr>\n",
              "    <tr>\n",
              "      <th>4</th>\n",
              "      <td>0</td>\n",
              "    </tr>\n",
              "  </tbody>\n",
              "</table>\n",
              "</div>"
            ],
            "text/plain": [
              "   class\n",
              "0      0\n",
              "1      0\n",
              "2      0\n",
              "3      0\n",
              "4      0"
            ]
          },
          "metadata": {
            "tags": []
          },
          "execution_count": 7
        }
      ]
    },
    {
      "cell_type": "markdown",
      "metadata": {
        "id": "ad2k-owcNDVM"
      },
      "source": [
        "<h1></h1>"
      ]
    },
    {
      "cell_type": "code",
      "metadata": {
        "id": "ecbM6q8iJk8P",
        "outputId": "74f882f4-c62d-4e10-c22d-7273eb8121f0",
        "colab": {
          "base_uri": "https://localhost:8080/",
          "height": 442
        }
      },
      "source": [
        "\"\"\" plotting features \"\"\"\n",
        "\n",
        "fig ,  axes = plt.subplots(2,2 , figsize=(30,10))\n",
        "sns.histplot(data=X.join(Y),x='sepal length (cm)',legend=True,kde=True,ax=axes[0,0],hue='class',palette='Set1')\n",
        "sns.histplot(data=X.join(Y),x='sepal width (cm)',legend=True,kde=True,ax=axes[0,1],hue='class',palette='Set1')\n",
        "sns.histplot(data=X.join(Y),x='petal length (cm)',legend=True,kde=True,ax=axes[1,0],hue='class',palette='Set1')\n",
        "sns.histplot(data=X.join(Y),x='petal width (cm)',legend=True,kde=True,ax=axes[1,1],hue='class',palette='Set1')\n",
        "plt.show()"
      ],
      "execution_count": 8,
      "outputs": [
        {
          "output_type": "display_data",
          "data": {
            "image/png": "[encoded data removed]",
            "text/plain": [
              "<Figure size 2160x720 with 4 Axes>"
            ]
          },
          "metadata": {
            "tags": []
          }
        }
      ]
    },
    {
      "cell_type": "markdown",
      "metadata": {
        "id": "lCBKOEk-NtRt"
      },
      "source": [
        "<h1></h1>"
      ]
    },
    {
      "cell_type": "code",
      "metadata": {
        "id": "PdZNHP5jr35f"
      },
      "source": [
        "\"\"\" classes values \"\"\"\n",
        "\n",
        "y = Y['class'].values"
      ],
      "execution_count": 9,
      "outputs": []
    },
    {
      "cell_type": "markdown",
      "metadata": {
        "id": "gpq-FYgb8vvl"
      },
      "source": [
        "<h1>Algorithm</h1>"
      ]
    },
    {
      "cell_type": "markdown",
      "metadata": {
        "id": "TwnRzgq_pbny"
      },
      "source": [
        "<h4> <b>1. Computing the d-dimensional mean vectors</b></h4>"
      ]
    },
    {
      "cell_type": "markdown",
      "metadata": {
        "id": "tD4uNSC1o17t"
      },
      "source": [
        "<h1></h1>"
      ]
    },
    {
      "cell_type": "markdown",
      "metadata": {
        "id": "7BZJrMIrisNU"
      },
      "source": [
        " $X = \\begin{bmatrix} \n",
        "          x_{1_{\\text{sepal length}}} & x_{1_{\\text{sepal width}}} & x_{1_{\\text{petal length}}} & x_{1_{\\text{petal width}}}\\\\\n",
        "x_{2_{\\text{sepal length}}} & x_{2_{\\text{sepal width}}} & x_{2_{\\text{petal length}}} & x_{2_{\\text{petal width}}}\\\\\n",
        "x_{150_{\\text{sepal length}}} & x_{150_{\\text{sepal width}}} & x_{150_{\\text{petal length}}} & x_{150_{\\text{petal width}}}\\\\\n",
        "\\end{bmatrix}, \\;\\; $\n",
        "$ y = \\begin{bmatrix} \\omega_{\\text{setosa}}\\\\\n",
        "\\omega_{\\text{setosa}}\\\\\n",
        "...  \\\\\n",
        "\\omega_{\\text{virginica}}\\end{bmatrix} %]] $\n",
        "\\\n",
        "\\\n",
        "$ m_i = \\begin{bmatrix}\n",
        "\\mu_{\\omega_i (\\text{sepal length)}}\\\\\n",
        "\\mu_{\\omega_i (\\text{sepal width})}\\\\\n",
        "\\mu_{\\omega_i (\\text{petal length)}}\\\\\n",
        "\\mu_{\\omega_i (\\text{petal width})}\\\\\n",
        "\\end{bmatrix} \\; , \\quad \\text{with} \\quad i = 1,2,3 $\n",
        "\n",
        "\\\n",
        "\n",
        "\n",
        "  * $m_i$ is a mean_vector"
      ]
    },
    {
      "cell_type": "markdown",
      "metadata": {
        "id": "dqzWpZBJKvHF"
      },
      "source": [
        "<h1></h1>"
      ]
    },
    {
      "cell_type": "code",
      "metadata": {
        "id": "0--cMJOIphmM"
      },
      "source": [
        "\"\"\" Calculating mean of each Feature with each class \"\"\"\n",
        " \n",
        "mean_vector = np.zeros((3,4))\n",
        "\n",
        "for i in Y['class'].unique():\n",
        "  mean_vector[i,:] = np.mean(X[ y == i ] , axis=0)"
      ],
      "execution_count": 10,
      "outputs": []
    },
    {
      "cell_type": "markdown",
      "metadata": {
        "id": "d0nzi9xTK094"
      },
      "source": [
        "<h1></h1>"
      ]
    },
    {
      "cell_type": "code",
      "metadata": {
        "id": "BmclSGkyqRUQ",
        "outputId": "eaa7813d-1e87-4c72-d7fe-4688faede4ac",
        "colab": {
          "base_uri": "https://localhost:8080/"
        }
      },
      "source": [
        "\"\"\" Calculated Mean Vector \"\"\"\n",
        "\n",
        "mean_vector"
      ],
      "execution_count": 11,
      "outputs": [
        {
          "output_type": "execute_result",
          "data": {
            "text/plain": [
              "array([[5.006, 3.428, 1.462, 0.246],\n",
              "       [5.936, 2.77 , 4.26 , 1.326],\n",
              "       [6.588, 2.974, 5.552, 2.026]])"
            ]
          },
          "metadata": {
            "tags": []
          },
          "execution_count": 11
        }
      ]
    },
    {
      "cell_type": "markdown",
      "metadata": {
        "id": "Xmqrs9NmLijr"
      },
      "source": [
        "<h1></h1>"
      ]
    },
    {
      "cell_type": "markdown",
      "metadata": {
        "id": "D7Fhdrvoqe8Y"
      },
      "source": [
        "<h4><b>2. Computing the Scatter Matrices</b></h4>"
      ]
    },
    {
      "cell_type": "markdown",
      "metadata": {
        "id": "RG1RbB0UpAqn"
      },
      "source": [
        "<h1></h1>"
      ]
    },
    {
      "cell_type": "markdown",
      "metadata": {
        "id": "nD6xUKzQkWiA"
      },
      "source": [
        "  1. __within-class :__\n",
        "\n",
        "  $ S_W =  \\displaystyle\\sum_{i=1}^{c} S_i $\n",
        "\n",
        "  Where \n",
        "\n",
        "    * $ S_i = \\displaystyle\\sum_{x \\epsilon D_i}^{n} (x - m_i) (x - m_i)^T $\n",
        "\n",
        "    And $m_i$ is a mean Vector\n",
        "\n",
        "    * $ S_i = {1/n_i} \\times \\displaystyle\\sum_{x \\epsilon D_i}^{n} x_k $\n",
        "\n",
        "\n",
        "  2. __Between Class :__\n",
        "\n",
        "    $ S_B = \\displaystyle\\sum_{i=1}^{c} N_i \\times (m_i - m) (m_i - m)^T $\n",
        "      * $m$ is Overall Mean\n",
        "\n",
        "      * $m_i$ is mean_vector for $i$\n",
        "\n",
        "      * $N_i$ is Size of Class\n"
      ]
    },
    {
      "cell_type": "markdown",
      "metadata": {
        "id": "yCr_3RMGKh7v"
      },
      "source": [
        " <h1></h1>"
      ]
    },
    {
      "cell_type": "markdown",
      "metadata": {
        "id": "WHcATuHpqtpu"
      },
      "source": [
        "* __Within Class__"
      ]
    },
    {
      "cell_type": "code",
      "metadata": {
        "id": "07N56ajzqr_w"
      },
      "source": [
        "\"\"\" Calculating Scatter Matrix For within class \"\"\"\n",
        "\n",
        "scatter_w = np.zeros((4,4))\n",
        "\n",
        "for cl , mv in zip(range(0,4),mean_vector):\n",
        "  class_sc_mat = np.zeros((4,4))\n",
        "  for row in X[y == cl].values:\n",
        "    row , mv = row.reshape(4,1) , mv.reshape(4,1)\n",
        "    class_sc_mat += (row - mv ).dot((row - mv ).T) \n",
        "  scatter_w += class_sc_mat"
      ],
      "execution_count": 12,
      "outputs": []
    },
    {
      "cell_type": "markdown",
      "metadata": {
        "id": "1-6_e0UyK8uq"
      },
      "source": [
        "<h1></h1>"
      ]
    },
    {
      "cell_type": "code",
      "metadata": {
        "id": "IoIIZzalshAj",
        "outputId": "c68fca44-9d9d-4ba1-d4aa-a3eb8e09885a",
        "colab": {
          "base_uri": "https://localhost:8080/"
        }
      },
      "source": [
        "\"\"\" Calculated Scatter_w matrix \"\"\"\n",
        "\n",
        "scatter_w"
      ],
      "execution_count": 13,
      "outputs": [
        {
          "output_type": "execute_result",
          "data": {
            "text/plain": [
              "array([[38.9562, 13.63  , 24.6246,  5.645 ],\n",
              "       [13.63  , 16.962 ,  8.1208,  4.8084],\n",
              "       [24.6246,  8.1208, 27.2226,  6.2718],\n",
              "       [ 5.645 ,  4.8084,  6.2718,  6.1566]])"
            ]
          },
          "metadata": {
            "tags": []
          },
          "execution_count": 13
        }
      ]
    },
    {
      "cell_type": "markdown",
      "metadata": {
        "id": "V08IVUSFLEDk"
      },
      "source": [
        "<h5></h5>"
      ]
    },
    {
      "cell_type": "markdown",
      "metadata": {
        "id": "j0BTQMjquWCD"
      },
      "source": [
        "* __Between Classes__"
      ]
    },
    {
      "cell_type": "code",
      "metadata": {
        "id": "eWSrKLZnuwGT"
      },
      "source": [
        "\"\"\" Calculating Scatter Matrix For Between Class \"\"\"\n",
        "\n",
        "Total_mean  = X.mean().values\n",
        "\n",
        "scatter_b = np.zeros((4,4))\n",
        "\n",
        "for index , val in enumerate(mean_vector):\n",
        "  n = X[ y == index].values.shape[0]\n",
        "  val = val.reshape(4,1)\n",
        "  total_mean = Total_mean.reshape(4,1)\n",
        "  scatter_b += n * (val - total_mean).dot((val - total_mean).T) "
      ],
      "execution_count": 14,
      "outputs": []
    },
    {
      "cell_type": "markdown",
      "metadata": {
        "id": "PAwytAEcLKhM"
      },
      "source": [
        "<h1></h1>"
      ]
    },
    {
      "cell_type": "code",
      "metadata": {
        "id": "uK-CsgbTvnen",
        "outputId": "e746f075-6b23-40e6-9b7c-8abcac55df22",
        "colab": {
          "base_uri": "https://localhost:8080/"
        }
      },
      "source": [
        "\"\"\" Calculated Scatter Matrix For Between Class \"\"\"\n",
        "\n",
        "scatter_b"
      ],
      "execution_count": 15,
      "outputs": [
        {
          "output_type": "execute_result",
          "data": {
            "text/plain": [
              "array([[ 63.2121, -19.9527, 165.2484,  71.2793],\n",
              "       [-19.9527,  11.3449, -57.2396, -22.9327],\n",
              "       [165.2484, -57.2396, 437.1028, 186.774 ],\n",
              "       [ 71.2793, -22.9327, 186.774 ,  80.4133]])"
            ]
          },
          "metadata": {
            "tags": []
          },
          "execution_count": 15
        }
      ]
    },
    {
      "cell_type": "markdown",
      "metadata": {
        "id": "K23yQzIcLpqQ"
      },
      "source": [
        "<h1></h1>"
      ]
    },
    {
      "cell_type": "markdown",
      "metadata": {
        "id": "a8p70eZXw92t"
      },
      "source": [
        "<h4><b>3. Finding EigenVector and EigenValues</b></h4>"
      ]
    },
    {
      "cell_type": "markdown",
      "metadata": {
        "id": "RuiomCGhL4qP"
      },
      "source": [
        "<h1></h1>"
      ]
    },
    {
      "cell_type": "code",
      "metadata": {
        "id": "7KF1iyr5xLkX"
      },
      "source": [
        "\"\"\" Calculating Eigen Vector and Eigen Value \"\"\"\n",
        "\n",
        "A = np.linalg.inv(scatter_w).dot(scatter_b)\n",
        "eigen_val , eigen_vect = np.linalg.eig(A)"
      ],
      "execution_count": 16,
      "outputs": []
    },
    {
      "cell_type": "markdown",
      "metadata": {
        "id": "pKX6_VUYL_pc"
      },
      "source": [
        "<h1></h1>"
      ]
    },
    {
      "cell_type": "code",
      "metadata": {
        "id": "0dlL_RpyxjzQ",
        "outputId": "6b51aff7-06ee-4851-e0a1-ba03fe5d88b4",
        "colab": {
          "base_uri": "https://localhost:8080/"
        }
      },
      "source": [
        "\"\"\" Eigen Vectors \"\"\"\n",
        "\n",
        "for i in range(len(eigen_val)):\n",
        "  print(\"Eigen Vector : {}\".format(i))\n",
        "  print(eigen_vect[:,i].reshape(4,1).real)\n",
        "  print()"
      ],
      "execution_count": 17,
      "outputs": [
        {
          "output_type": "stream",
          "text": [
            "Eigen Vector : 0\n",
            "[[-0.2087]\n",
            " [-0.3862]\n",
            " [ 0.554 ]\n",
            " [ 0.7074]]\n",
            "\n",
            "Eigen Vector : 1\n",
            "[[-0.0065]\n",
            " [-0.5866]\n",
            " [ 0.2526]\n",
            " [-0.7695]]\n",
            "\n",
            "Eigen Vector : 2\n",
            "[[-0.1416]\n",
            " [-0.2125]\n",
            " [-0.2703]\n",
            " [ 0.6927]]\n",
            "\n",
            "Eigen Vector : 3\n",
            "[[-0.1416]\n",
            " [-0.2125]\n",
            " [-0.2703]\n",
            " [ 0.6927]]\n",
            "\n"
          ],
          "name": "stdout"
        }
      ]
    },
    {
      "cell_type": "code",
      "metadata": {
        "id": "rqWwHXAbyzr0",
        "outputId": "c89712e1-6ed4-4462-df9f-81b727319283",
        "colab": {
          "base_uri": "https://localhost:8080/"
        }
      },
      "source": [
        "\"\"\" Eigen Values \"\"\"\n",
        "\n",
        "for i in range(len(eigen_val)):\n",
        "  print(\"Eigen Value : {}\".format(i))\n",
        "  print(eigen_val[i].real)\n",
        "  print()"
      ],
      "execution_count": 18,
      "outputs": [
        {
          "output_type": "stream",
          "text": [
            "Eigen Value : 0\n",
            "32.191929198278025\n",
            "\n",
            "Eigen Value : 1\n",
            "0.28539104262306647\n",
            "\n",
            "Eigen Value : 2\n",
            "-2.8907453147977534e-15\n",
            "\n",
            "Eigen Value : 3\n",
            "-2.8907453147977534e-15\n",
            "\n"
          ],
          "name": "stdout"
        }
      ]
    },
    {
      "cell_type": "markdown",
      "metadata": {
        "id": "bIGSBxmTMF-y"
      },
      "source": [
        "<h1></h1>"
      ]
    },
    {
      "cell_type": "markdown",
      "metadata": {
        "id": "Oo1ypW8UzbFL"
      },
      "source": [
        "<h4><b>4. Selecting linear discriminants for the new feature subspace</b></h4>"
      ]
    },
    {
      "cell_type": "markdown",
      "metadata": {
        "id": "XmSonHFaMLyu"
      },
      "source": [
        "<h1></h1>"
      ]
    },
    {
      "cell_type": "markdown",
      "metadata": {
        "id": "QDD_0SU1zed1"
      },
      "source": [
        "* __Sorting the eigenvectors by decreasing eigenvalues__"
      ]
    },
    {
      "cell_type": "code",
      "metadata": {
        "id": "gQxecF8FzTdt"
      },
      "source": [
        "\"\"\" Sorting Eigen pair (eigen value , eigen vector ) \n",
        "    based of decreasing value of eigen value \n",
        "\"\"\"\n",
        "eigen_pair = [(np.abs(eigen_val[i]),eigen_vect[:,i]) for i in range(len(eigen_val))] \n",
        "eigen_pair = sorted(eigen_pair,key=lambda x : x[0],reverse=True)"
      ],
      "execution_count": 19,
      "outputs": []
    },
    {
      "cell_type": "markdown",
      "metadata": {
        "id": "vgLsUiWsMSsr"
      },
      "source": [
        "<h1></h1>"
      ]
    },
    {
      "cell_type": "code",
      "metadata": {
        "id": "Orrevw3X6Rz1",
        "outputId": "2be9cae4-2163-433e-f454-1a5057e83fc9",
        "colab": {
          "base_uri": "https://localhost:8080/"
        }
      },
      "source": [
        "\"\"\" Sorted Eigen Values \"\"\"\n",
        "\n",
        "for index , i in enumerate(eigen_pair):\n",
        "  \"Sorted Eigen Values in Desecending Order\"\n",
        "  print(\"Eigen Value  : {}\".format(index))\n",
        "  print(i[0])\n",
        "  print()"
      ],
      "execution_count": 20,
      "outputs": [
        {
          "output_type": "stream",
          "text": [
            "Eigen Value  : 0\n",
            "32.191929198278025\n",
            "\n",
            "Eigen Value  : 1\n",
            "0.28539104262306647\n",
            "\n",
            "Eigen Value  : 2\n",
            "3.7355530009793716e-15\n",
            "\n",
            "Eigen Value  : 3\n",
            "3.7355530009793716e-15\n",
            "\n"
          ],
          "name": "stdout"
        }
      ]
    },
    {
      "cell_type": "code",
      "metadata": {
        "id": "KDMEcFKP7kLz",
        "outputId": "bb3d0277-2583-4d98-ca1a-2cbf2d74d4b2",
        "colab": {
          "base_uri": "https://localhost:8080/"
        }
      },
      "source": [
        "\"\"\" if we Check variance \"\"\"\n",
        "\n",
        "val_sum = sum(eigen_val)\n",
        "for index , i in enumerate(eigen_pair):\n",
        "  print(\"For Eigen Value  : {} Variance is : {:.2f}% \".format(index,(i[0]/val_sum).real*100))\n",
        "  print()"
      ],
      "execution_count": 21,
      "outputs": [
        {
          "output_type": "stream",
          "text": [
            "For Eigen Value  : 0 Variance is : 99.12% \n",
            "\n",
            "For Eigen Value  : 1 Variance is : 0.88% \n",
            "\n",
            "For Eigen Value  : 2 Variance is : 0.00% \n",
            "\n",
            "For Eigen Value  : 3 Variance is : 0.00% \n",
            "\n"
          ],
          "name": "stdout"
        }
      ]
    },
    {
      "cell_type": "markdown",
      "metadata": {
        "id": "jk8rsfZcMYL7"
      },
      "source": [
        "<h1></h1>"
      ]
    },
    {
      "cell_type": "markdown",
      "metadata": {
        "id": "KtWhCOvi7KXl"
      },
      "source": [
        "* __Choosing k eigenvectors with the largest eigenvalues__"
      ]
    },
    {
      "cell_type": "code",
      "metadata": {
        "id": "YImHqql79zdh",
        "outputId": "dcb2201b-04db-4eb4-a59a-043bde3b2584",
        "colab": {
          "base_uri": "https://localhost:8080/"
        }
      },
      "source": [
        "\"\"\" Taking k=2 largest Eigen vactor from Sorted Eigen Pair \"\"\"\n",
        "\n",
        "W = np.column_stack((eigen_pair[0][1],eigen_pair[1][1]))\n",
        "W.real"
      ],
      "execution_count": 22,
      "outputs": [
        {
          "output_type": "execute_result",
          "data": {
            "text/plain": [
              "array([[-0.2087, -0.0065],\n",
              "       [-0.3862, -0.5866],\n",
              "       [ 0.554 ,  0.2526],\n",
              "       [ 0.7074, -0.7695]])"
            ]
          },
          "metadata": {
            "tags": []
          },
          "execution_count": 22
        }
      ]
    },
    {
      "cell_type": "markdown",
      "metadata": {
        "id": "BZcMJFYQMh-W"
      },
      "source": [
        "<h1></h1>"
      ]
    },
    {
      "cell_type": "markdown",
      "metadata": {
        "id": "lJq3jgya_Pbb"
      },
      "source": [
        "<h4><b>5. Transforming the samples onto the new subspace</b></h4>"
      ]
    },
    {
      "cell_type": "markdown",
      "metadata": {
        "id": "VrHj-ufloff4"
      },
      "source": [
        "  __Projection :__ \n",
        "  \n",
        "  $ Y = XW$"
      ]
    },
    {
      "cell_type": "markdown",
      "metadata": {
        "id": "wuuv5wZFMnOG"
      },
      "source": [
        "<h1></h1>"
      ]
    },
    {
      "cell_type": "code",
      "metadata": {
        "id": "-XhcFolV_SJa"
      },
      "source": [
        "\"\"\" New Subspace \"\"\"\n",
        "\n",
        "new_samples = X.dot(W)\n",
        "assert new_samples.shape == (150,2), \"Wrong Dimension\""
      ],
      "execution_count": 23,
      "outputs": []
    },
    {
      "cell_type": "markdown",
      "metadata": {
        "id": "mWLbw103Mqf4"
      },
      "source": [
        "<h1></h1>"
      ]
    },
    {
      "cell_type": "code",
      "metadata": {
        "id": "l2eXrJwK_8q7",
        "outputId": "876d2866-fb25-422f-adf8-0c03ccecafc4",
        "colab": {
          "base_uri": "https://localhost:8080/",
          "height": 206
        }
      },
      "source": [
        "\"\"\" new dimensions Values \"\"\"\n",
        "\n",
        "new_samples.columns= ['lda1','lda2']\n",
        "new_samples.head()"
      ],
      "execution_count": 24,
      "outputs": [
        {
          "output_type": "execute_result",
          "data": {
            "text/html": [
              "<div>\n",
              "<style scoped>\n",
              "    .dataframe tbody tr th:only-of-type {\n",
              "        vertical-align: middle;\n",
              "    }\n",
              "\n",
              "    .dataframe tbody tr th {\n",
              "        vertical-align: top;\n",
              "    }\n",
              "\n",
              "    .dataframe thead th {\n",
              "        text-align: right;\n",
              "    }\n",
              "</style>\n",
              "<table border=\"1\" class=\"dataframe\">\n",
              "  <thead>\n",
              "    <tr style=\"text-align: right;\">\n",
              "      <th></th>\n",
              "      <th>lda1</th>\n",
              "      <th>lda2</th>\n",
              "    </tr>\n",
              "  </thead>\n",
              "  <tbody>\n",
              "    <tr>\n",
              "      <th>0</th>\n",
              "      <td>-1.499210+0.000000j</td>\n",
              "      <td>-1.886754+0.000000j</td>\n",
              "    </tr>\n",
              "    <tr>\n",
              "      <th>1</th>\n",
              "      <td>-1.264360+0.000000j</td>\n",
              "      <td>-1.592143+0.000000j</td>\n",
              "    </tr>\n",
              "    <tr>\n",
              "      <th>2</th>\n",
              "      <td>-1.355253+0.000000j</td>\n",
              "      <td>-1.733415+0.000000j</td>\n",
              "    </tr>\n",
              "    <tr>\n",
              "      <th>3</th>\n",
              "      <td>-1.184956+0.000000j</td>\n",
              "      <td>-1.623588+0.000000j</td>\n",
              "    </tr>\n",
              "    <tr>\n",
              "      <th>4</th>\n",
              "      <td>-1.516956+0.000000j</td>\n",
              "      <td>-1.944762+0.000000j</td>\n",
              "    </tr>\n",
              "  </tbody>\n",
              "</table>\n",
              "</div>"
            ],
            "text/plain": [
              "                 lda1                lda2\n",
              "0 -1.499210+0.000000j -1.886754+0.000000j\n",
              "1 -1.264360+0.000000j -1.592143+0.000000j\n",
              "2 -1.355253+0.000000j -1.733415+0.000000j\n",
              "3 -1.184956+0.000000j -1.623588+0.000000j\n",
              "4 -1.516956+0.000000j -1.944762+0.000000j"
            ]
          },
          "metadata": {
            "tags": []
          },
          "execution_count": 24
        }
      ]
    },
    {
      "cell_type": "markdown",
      "metadata": {
        "id": "ntpiKYCOMuHP"
      },
      "source": [
        "<h1></h1>"
      ]
    },
    {
      "cell_type": "code",
      "metadata": {
        "id": "jQXi7IkCYHcx"
      },
      "source": [
        "\"\"\" Classes \"\"\"\n",
        "\n",
        "labels = {0:'Setosa' , 1:'Versicolor',2:'Virginica'}"
      ],
      "execution_count": 37,
      "outputs": []
    },
    {
      "cell_type": "code",
      "metadata": {
        "id": "3AT0rc0XAlHc",
        "outputId": "e814a448-a577-4461-ee1b-dde14f1beb42",
        "colab": {
          "base_uri": "https://localhost:8080/",
          "height": 297
        }
      },
      "source": [
        "\"\"\" Plotting our New Feature Subspace \"\"\"\n",
        "\n",
        "ax = plt.subplot(111)\n",
        "for c in np.unique(y):\n",
        "  plt.scatter(new_samples.iloc[:,0:1].values.real[y==c],new_samples.iloc[:,1:2].values.real[y==c],label = labels[c],cmap='hot')\n",
        "\n",
        "plt.tick_params(axis=\"both\", which=\"both\", bottom=\"off\", top=\"off\", labelbottom=\"on\", left=\"off\", right=\"off\", labelleft=\"on\")\n",
        "ax.spines[\"top\"].set_visible(False)  \n",
        "ax.spines[\"right\"].set_visible(False)\n",
        "ax.spines[\"bottom\"].set_visible(False)\n",
        "ax.spines[\"left\"].set_visible(False)   \n",
        "plt.legend(loc='lower center',fancybox=True)\n",
        "plt.grid()\n",
        "plt.xlabel('lda1');plt.ylabel('lda2');plt.title('LDA')\n",
        "plt.tight_layout()\n",
        "plt.show()"
      ],
      "execution_count": 38,
      "outputs": [
        {
          "output_type": "display_data",
          "data": {
            "image/png": "[encoded data removed]",
            "text/plain": [
              "<Figure size 432x288 with 1 Axes>"
            ]
          },
          "metadata": {
            "tags": []
          }
        }
      ]
    },
    {
      "cell_type": "markdown",
      "metadata": {
        "id": "UIl8jDr4MxDi"
      },
      "source": [
        "<h1></h1>"
      ]
    },
    {
      "cell_type": "code",
      "metadata": {
        "id": "AtuibtW_1lLF",
        "outputId": "7dee7e13-4322-4141-f9b0-6497b7ab17ff",
        "colab": {
          "base_uri": "https://localhost:8080/",
          "height": 542
        }
      },
      "source": [
        "\"\"\" Box Plot \"\"\"\n",
        "\n",
        "plt.subplot(1,1,1)\n",
        "sns.boxplot(data=new_samples.join(Y),x='class',y='lda1')\n",
        "plt.show()\n",
        "plt.subplot(1,1,1)\n",
        "sns.boxplot(data=new_samples.join(Y),x='class',y='lda2')\n",
        "plt.show()"
      ],
      "execution_count": 35,
      "outputs": [
        {
          "output_type": "display_data",
          "data": {
            "image/png": "[encoded data removed]",
            "text/plain": [
              "<Figure size 432x288 with 1 Axes>"
            ]
          },
          "metadata": {
            "tags": []
          }
        },
        {
          "output_type": "display_data",
          "data": {
            "image/png": "[encoded data removed]",
            "text/plain": [
              "<Figure size 432x288 with 1 Axes>"
            ]
          },
          "metadata": {
            "tags": []
          }
        }
      ]
    },
    {
      "cell_type": "markdown",
      "metadata": {
        "id": "2Ljkg2upk0i_"
      },
      "source": [
        "<h1></h1>"
      ]
    },
    {
      "cell_type": "markdown",
      "metadata": {
        "id": "9SOdOdOiFgYt"
      },
      "source": [
        "<h1>Using Scikit-Learn Library</h1>"
      ]
    },
    {
      "cell_type": "markdown",
      "metadata": {
        "id": "EXXE7xb8M2Si"
      },
      "source": [
        "<h1></h1>"
      ]
    },
    {
      "cell_type": "code",
      "metadata": {
        "id": "KRi0TOrQFmEb"
      },
      "source": [
        "\"\"\" Importing Library \"\"\"\n",
        "\n",
        "from sklearn.discriminant_analysis import LinearDiscriminantAnalysis as LDA"
      ],
      "execution_count": 29,
      "outputs": []
    },
    {
      "cell_type": "markdown",
      "metadata": {
        "id": "7R63OR8JM4cv"
      },
      "source": [
        "<h1></h1>"
      ]
    },
    {
      "cell_type": "code",
      "metadata": {
        "id": "KKKx33v_GVqO"
      },
      "source": [
        "\"\"\" Fit and Transform \"\"\"\n",
        "\n",
        "sklearn_lda = LDA(n_components=2,solver='eigen')\n",
        "X_lda = sklearn_lda.fit_transform(X, Y['class'])"
      ],
      "execution_count": 30,
      "outputs": []
    },
    {
      "cell_type": "markdown",
      "metadata": {
        "id": "tllFZcBOM6Sy"
      },
      "source": [
        "<h1></h1>"
      ]
    },
    {
      "cell_type": "code",
      "metadata": {
        "id": "My9O6V8kGmCn",
        "outputId": "fe5fc11c-e173-46f1-c386-ac0132f01df2",
        "colab": {
          "base_uri": "https://localhost:8080/",
          "height": 297
        }
      },
      "source": [
        "\"\"\" Plotting New Feature Subspace Created By Scikit learn Inbuilt Function \"\"\"\n",
        "\n",
        "ax = plt.subplot(111)\n",
        "for c in Y['class'].unique():\n",
        "  plt.scatter(X_lda[:,0:1].real[y==c] * -1,X_lda[:,1:2].real[y==c] * -1,label=labels[c],cmap='cool')\n",
        "\n",
        "plt.tick_params(axis=\"both\", which=\"both\", bottom=\"off\", top=\"off\", labelbottom=\"on\", left=\"off\", right=\"off\", labelleft=\"on\")\n",
        "ax.spines[\"top\"].set_visible(False)  \n",
        "ax.spines[\"right\"].set_visible(False)\n",
        "ax.spines[\"bottom\"].set_visible(False)\n",
        "ax.spines[\"left\"].set_visible(False)   \n",
        "plt.grid()\n",
        "plt.legend(loc='lower center')\n",
        "plt.xlabel('lda1');plt.ylabel('lda2');plt.title('LDA')\n",
        "plt.tight_layout()\n",
        "plt.show()"
      ],
      "execution_count": 40,
      "outputs": [
        {
          "output_type": "display_data",
          "data": {
            "image/png": "[encoded data removed]",
            "text/plain": [
              "<Figure size 432x288 with 1 Axes>"
            ]
          },
          "metadata": {
            "tags": []
          }
        }
      ]
    },
    {
      "cell_type": "markdown",
      "metadata": {
        "id": "mVd_GzZpM9Iw"
      },
      "source": [
        "<h1></h1>"
      ]
    },
    {
      "cell_type": "code",
      "metadata": {
        "id": "xYnJziaG5Lo5",
        "outputId": "915f3431-bc27-4e64-902f-f8181f5bc1d7",
        "colab": {
          "base_uri": "https://localhost:8080/"
        }
      },
      "source": [
        "\"\"\" print the ratio of explained features  \"\"\"\n",
        "\n",
        "sklearn_lda.explained_variance_ratio_"
      ],
      "execution_count": 32,
      "outputs": [
        {
          "output_type": "execute_result",
          "data": {
            "text/plain": [
              "array([0.9912, 0.0088])"
            ]
          },
          "metadata": {
            "tags": []
          },
          "execution_count": 32
        }
      ]
    },
    {
      "cell_type": "markdown",
      "metadata": {
        "id": "m7cIMPe5Blyl"
      },
      "source": [
        "<h6>Thanks</h6> "
      ]
    }
  ]
}

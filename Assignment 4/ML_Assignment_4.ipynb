{
  "nbformat": 4,
  "nbformat_minor": 0,
  "metadata": {
    "colab": {
      "name": "ML_ASSIGNMENT_4",
      "provenance": [],
      "collapsed_sections": [
        "9Mv61jSu9RBp",
        "Izear_aP9wXL",
        "c63rWh-Ybdmv",
        "CXoO-nj1b83W",
        "wk1z0j_4sbPB",
        "rWdrFqFcsS9U",
        "4-Df4urFwgGY",
        "Ps4q4zZL0Lo5"
      ],
      "toc_visible": true,
      "authorship_tag": "ABX9TyPQI0/Fn5QuPs6s3nh8jFTq",
      "include_colab_link": true
    },
    "kernelspec": {
      "name": "python3",
      "display_name": "Python 3"
    }
  },
  "cells": [
    {
      "cell_type": "markdown",
      "metadata": {
        "id": "view-in-github",
        "colab_type": "text"
      },
      "source": [
        "<a href=\"https://colab.research.google.com/github/dp1706/Machine-Learning/blob/master/Assignment4/ML_ASSIGNMENT_4.ipynb\" target=\"_parent\"><img src=\"https://colab.research.google.com/assets/colab-badge.svg\" alt=\"Open In Colab\"/></a>"
      ]
    },
    {
      "cell_type": "markdown",
      "metadata": {
        "id": "LK7gq_6J88gT",
        "colab_type": "text"
      },
      "source": [
        "***ASSIGNMENT 4***"
      ]
    },
    {
      "cell_type": "markdown",
      "metadata": {
        "id": "nprYSzrjlor0",
        "colab_type": "text"
      },
      "source": [
        "*NOTE: We are using random datasets of size 10,100,1000,10000*"
      ]
    },
    {
      "cell_type": "markdown",
      "metadata": {
        "id": "Ij0EKDvol8fb",
        "colab_type": "text"
      },
      "source": [
        "*RE-EXECUTION changes entire datasets then Result may differ*"
      ]
    },
    {
      "cell_type": "markdown",
      "metadata": {
        "id": "9Mv61jSu9RBp",
        "colab_type": "text"
      },
      "source": [
        "#***Required Modules***"
      ]
    },
    {
      "cell_type": "code",
      "metadata": {
        "id": "cnWzpgmh8sdg",
        "colab_type": "code",
        "colab": {
          "base_uri": "https://localhost:8080/",
          "height": 34
        },
        "outputId": "323fb055-f9e4-4200-9943-68407d2c6de3"
      },
      "source": [
        "import numpy as np\n",
        "import pandas as pd\n",
        "import math\n",
        "import csv\n",
        "import pylab\n",
        "import random\n",
        "import matplotlib.pyplot as plt\n",
        "from sklearn.model_selection import train_test_split as tts\n",
        "from sklearn import datasets\n",
        "print(\"True\")"
      ],
      "execution_count": null,
      "outputs": [
        {
          "output_type": "stream",
          "text": [
            "True\n"
          ],
          "name": "stdout"
        }
      ]
    },
    {
      "cell_type": "markdown",
      "metadata": {
        "id": "Izear_aP9wXL",
        "colab_type": "text"
      },
      "source": [
        "#***Synthetic data generation and simple curve fitting(N=10)***"
      ]
    },
    {
      "cell_type": "code",
      "metadata": {
        "id": "gyUyvk1A97AL",
        "colab_type": "code",
        "colab": {
          "base_uri": "https://localhost:8080/",
          "height": 104
        },
        "outputId": "04b0970f-4e7d-4a22-835e-2f975d9cca1e"
      },
      "source": [
        "#Generating a Synthetic Dataset\n",
        "\n",
        "\n",
        "inp=[]\n",
        "for i in range(10):\n",
        "  inp.append(random.uniform(0,1))\n",
        "X=np.array(inp)\n",
        "main_x=X\n",
        "print(X)\n",
        "print()\n",
        "Y=np.random.normal(scale=0.3)+ np.sin(2*math.pi*X) \n",
        "main_y=Y\n",
        "print(Y)\n"
      ],
      "execution_count": null,
      "outputs": [
        {
          "output_type": "stream",
          "text": [
            "[0.82690973 0.18443257 0.17253283 0.99480562 0.74483943 0.60451836\n",
            " 0.52317171 0.34717446 0.18244579 0.81032407]\n",
            "\n",
            "[-1.14307608  0.65875179  0.62628106 -0.29021255 -1.25705543 -0.8680941\n",
            " -0.40265943  0.56174307  0.65368199 -1.18660605]\n"
          ],
          "name": "stdout"
        }
      ]
    },
    {
      "cell_type": "code",
      "metadata": {
        "id": "jVHFcGKzIb2x",
        "colab_type": "code",
        "colab": {
          "base_uri": "https://localhost:8080/",
          "height": 86
        },
        "outputId": "2708bdf3-6945-4bfb-bd67-e7ecef01ce2a"
      },
      "source": [
        "#Splitting DataSet\n",
        "\n",
        "\n",
        "x_train, x_test, y_train, y_test = tts(X,Y,test_size =0.2)\n",
        "print(x_train.shape)\n",
        "print(x_test.shape)\n",
        "print(y_train.shape)\n",
        "print(y_test.shape)"
      ],
      "execution_count": null,
      "outputs": [
        {
          "output_type": "stream",
          "text": [
            "(8,)\n",
            "(2,)\n",
            "(8,)\n",
            "(2,)\n"
          ],
          "name": "stdout"
        }
      ]
    },
    {
      "cell_type": "code",
      "metadata": {
        "id": "PmRh12jRCy6c",
        "colab_type": "code",
        "colab": {}
      },
      "source": [
        "#for n=1 to n=9 calculating x^1 to x^9 coefficient\n",
        "\n",
        "\n",
        "#for Train set\n",
        "train_n=int(0.8*10)\n",
        "test_n=int(0.2*10)\n",
        "x0=np.ones(train_n)\n",
        "x1=x_train\n",
        "x2=[]\n",
        "x3=[]\n",
        "x4=[]\n",
        "x5=[]\n",
        "x6=[]\n",
        "x7=[]\n",
        "x8=[]\n",
        "x9=[]\n",
        "x12=np.array(x1)\n",
        "\n",
        "for i in range(train_n):\n",
        "  x2.append(x_train[i]*x_train[i])\n",
        "  x3.append(x2[i]*x_train[i])\n",
        "  x4.append(x3[i]*x_train[i])\n",
        "  x5.append(x4[i]*x_train[i])\n",
        "  x6.append(x5[i]*x_train[i])\n",
        "  x7.append(x6[i]*x_train[i])\n",
        "  x8.append(x7[i]*x_train[i])\n",
        "  x9.append(x8[i]*x_train[i])\n",
        "\n",
        "\n",
        "\n",
        "#for test set\n",
        "x0_t=np.ones(test_n)\n",
        "x1_t=x_test\n",
        "x2_t=[]\n",
        "x3_t=[]\n",
        "x4_t=[]\n",
        "x5_t=[]\n",
        "x6_t=[]\n",
        "x7_t=[]\n",
        "x8_t=[]\n",
        "x9_t=[]\n",
        "\n",
        "for i in range(test_n):\n",
        "  x2_t.append(x_test[i]*x_test[i])\n",
        "  x3_t.append(x2_t[i]*x_test[i])\n",
        "  x4_t.append(x3_t[i]*x_test[i])\n",
        "  x5_t.append(x4_t[i]*x_test[i])\n",
        "  x6_t.append(x5_t[i]*x_test[i])\n",
        "  x7_t.append(x6_t[i]*x_test[i])\n",
        "  x8_t.append(x7_t[i]*x_test[i])\n",
        "  x9_t.append(x8_t[i]*x_test[i])\n"
      ],
      "execution_count": null,
      "outputs": []
    },
    {
      "cell_type": "code",
      "metadata": {
        "id": "7NoFQA7kkenI",
        "colab_type": "code",
        "colab": {}
      },
      "source": [
        "#learning rate and iterations\n",
        "\n",
        "alpha=0.05\n",
        "itr=100000"
      ],
      "execution_count": null,
      "outputs": []
    },
    {
      "cell_type": "code",
      "metadata": {
        "id": "47ylKs0OGpGV",
        "colab_type": "code",
        "colab": {}
      },
      "source": [
        "#Cost Function\n",
        "\n",
        "def cost(theta,Xt,y):\n",
        "  m = len(y)\n",
        "  c = (1/2*m) * np.sum(np.square((Xt.dot(theta))-y))  \n",
        "  return c\n"
      ],
      "execution_count": null,
      "outputs": []
    },
    {
      "cell_type": "code",
      "metadata": {
        "id": "eBs4aBcMgeVk",
        "colab_type": "code",
        "colab": {}
      },
      "source": [
        "#Gradient Descent Regrassion\n",
        "\n",
        "def GDR(Xt,y,theta,alpha,iteration):\n",
        "  costs=np.zeros(iteration)\n",
        "  m=len(y)\n",
        "  for i in range(iteration):\n",
        "    theta=theta-(1/m)*alpha*(Xt.T.dot((Xt.dot(theta))-y))\n",
        "    costs[i]=cost(theta,Xt,y)\n",
        "  \n",
        "  return theta,costs"
      ],
      "execution_count": null,
      "outputs": []
    },
    {
      "cell_type": "markdown",
      "metadata": {
        "id": "TiyDFIH4Tlxv",
        "colab_type": "text"
      },
      "source": [
        "* ***For n=0***"
      ]
    },
    {
      "cell_type": "code",
      "metadata": {
        "id": "liVRmywBInY8",
        "colab_type": "code",
        "colab": {
          "base_uri": "https://localhost:8080/",
          "height": 69
        },
        "outputId": "36afa4ed-52e0-4720-f58c-85b1a69c9f36"
      },
      "source": [
        "#for n=0\n",
        "\n",
        "Xt= np.c_[x0]\n",
        "theta = np.array([0])\n",
        "X_test = np.c_[x0_t]\n",
        "\n",
        "new_theta , cost_value=GDR(Xt,y_train,theta,alpha,itr)\n",
        "\n",
        "train_error_0=cost_value[-1]\n",
        "\n",
        "test_error_0=cost(new_theta,X_test,y_test)\n",
        "\n",
        "\n",
        "print(\"NEW Theta Value : \",new_theta)\n",
        "print(\"Train error : \", train_error_0)\n",
        "print(\"Test error : \", test_error_0)\n"
      ],
      "execution_count": null,
      "outputs": [
        {
          "output_type": "stream",
          "text": [
            "NEW Theta Value :  [-0.13224753]\n",
            "Train error :  20.61497597174384\n",
            "Test error :  1.1847944767656504\n"
          ],
          "name": "stdout"
        }
      ]
    },
    {
      "cell_type": "markdown",
      "metadata": {
        "id": "ebMqgfuwTx32",
        "colab_type": "text"
      },
      "source": [
        "* ***For n=1***"
      ]
    },
    {
      "cell_type": "code",
      "metadata": {
        "id": "QrCBcGewQasF",
        "colab_type": "code",
        "colab": {
          "base_uri": "https://localhost:8080/",
          "height": 69
        },
        "outputId": "6be894e7-1695-4675-9c1b-e73670bd8a51"
      },
      "source": [
        "#for n=1\n",
        "\n",
        "Xt = np.c_[x0,x1]\n",
        "theta = np.array([0,0])\n",
        "X_test = np.c_[x0_t,x1_t]\n",
        "\n",
        "new_theta , cost_value=GDR(Xt,y_train,theta,alpha,itr)\n",
        "\n",
        "train_error_1=cost_value[-1]\n",
        "\n",
        "test_error_1=cost(new_theta,X_test,y_test)\n",
        "\n",
        "print(\"NEW Theta Value : \",new_theta)\n",
        "print(\"Train error : \", train_error_1)\n",
        "print(\"Test error : \", test_error_1)\n"
      ],
      "execution_count": null,
      "outputs": [
        {
          "output_type": "stream",
          "text": [
            "NEW Theta Value :  [ 0.95504389 -2.14368231]\n",
            "Train error :  6.770561020929924\n",
            "Test error :  0.2194643674135237\n"
          ],
          "name": "stdout"
        }
      ]
    },
    {
      "cell_type": "markdown",
      "metadata": {
        "id": "K7S9mUFhT4zg",
        "colab_type": "text"
      },
      "source": [
        "* ***For n=2***"
      ]
    },
    {
      "cell_type": "code",
      "metadata": {
        "id": "oMOxAj-8Qacd",
        "colab_type": "code",
        "colab": {
          "base_uri": "https://localhost:8080/",
          "height": 69
        },
        "outputId": "8e64a27b-484e-408c-dbf4-0c179393258d"
      },
      "source": [
        "#for n=2\n",
        "\n",
        "Xt = np.c_[x0,x1,x2]\n",
        "theta = np.array([0,0,0])\n",
        "X_test = np.c_[x0_t,x1_t,x2_t]\n",
        "\n",
        "new_theta , cost_value=GDR(Xt,y_train,theta,alpha,itr)\n",
        "\n",
        "train_error_2=cost_value[-1]\n",
        "\n",
        "test_error_2=cost(new_theta,X_test,y_test)\n",
        "\n",
        "print(\"NEW Theta Value : \",new_theta)\n",
        "print(\"Train error : \", train_error_2)\n",
        "print(\"Test error : \", test_error_2)\n"
      ],
      "execution_count": null,
      "outputs": [
        {
          "output_type": "stream",
          "text": [
            "NEW Theta Value :  [ 2.06509292 -8.19447841  5.57463557]\n",
            "Train error :  2.9494845507000678\n",
            "Test error :  0.1601293959703621\n"
          ],
          "name": "stdout"
        }
      ]
    },
    {
      "cell_type": "markdown",
      "metadata": {
        "id": "a00l4mwQT-76",
        "colab_type": "text"
      },
      "source": [
        "* ***For n=3***"
      ]
    },
    {
      "cell_type": "code",
      "metadata": {
        "id": "SZjigX71QaOb",
        "colab_type": "code",
        "colab": {
          "base_uri": "https://localhost:8080/",
          "height": 69
        },
        "outputId": "d1d42f27-b796-4c9b-8407-6821d08352f0"
      },
      "source": [
        "#for n=3\n",
        "\n",
        "Xt = np.c_[x0,x1,x2,x3]\n",
        "theta = np.array([0,0,0,0])\n",
        "X_test = np.c_[x0_t,x1_t,x2_t,x3_t]\n",
        "\n",
        "new_theta , cost_value=GDR(Xt,y_train,theta,alpha,itr)\n",
        "\n",
        "train_error_3=cost_value[-1]\n",
        "\n",
        "test_error_3=cost(new_theta,X_test,y_test)\n",
        "\n",
        "print(\"NEW Theta Value : \",new_theta)\n",
        "print(\"Train error : \", train_error_3)\n",
        "print(\"Test error : \", test_error_3)\n"
      ],
      "execution_count": null,
      "outputs": [
        {
          "output_type": "stream",
          "text": [
            "NEW Theta Value :  [ 1.36152121 -2.51501466 -6.01840115  6.76415461]\n",
            "Train error :  1.5390311487631445\n",
            "Test error :  0.07780193045389938\n"
          ],
          "name": "stdout"
        }
      ]
    },
    {
      "cell_type": "markdown",
      "metadata": {
        "id": "DYLBV9lwUFqN",
        "colab_type": "text"
      },
      "source": [
        "* ***For n=4***"
      ]
    },
    {
      "cell_type": "code",
      "metadata": {
        "id": "TOxU01vzQaBJ",
        "colab_type": "code",
        "colab": {
          "base_uri": "https://localhost:8080/",
          "height": 69
        },
        "outputId": "39b0f12a-23ea-4076-d0ff-9719fb700e35"
      },
      "source": [
        "#for n=4\n",
        "\n",
        "Xt = np.c_[x0,x1,x2,x3,x4]\n",
        "theta = np.array([0,0,0,0,0])\n",
        "X_test = np.c_[x0_t,x1_t,x2_t,x3_t,x4_t]\n",
        "\n",
        "new_theta , cost_value=GDR(Xt,y_train,theta,alpha,itr)\n",
        "\n",
        "train_error_4=cost_value[-1]\n",
        "\n",
        "\n",
        "test_error_4=cost(new_theta,X_test,y_test)\n",
        "\n",
        "print(\"NEW Theta Value : \",new_theta)\n",
        "print(\"Train error : \", train_error_4)\n",
        "print(\"Test error : \", test_error_4)\n"
      ],
      "execution_count": null,
      "outputs": [
        {
          "output_type": "stream",
          "text": [
            "NEW Theta Value :  [ 0.86233332  0.39931247 -6.59710698 -1.95979094  7.01302164]\n",
            "Train error :  0.5860857349155999\n",
            "Test error :  0.008041888045353083\n"
          ],
          "name": "stdout"
        }
      ]
    },
    {
      "cell_type": "markdown",
      "metadata": {
        "id": "3YUHONjPUL4N",
        "colab_type": "text"
      },
      "source": [
        "* ***For n=5***"
      ]
    },
    {
      "cell_type": "code",
      "metadata": {
        "id": "hO9q_LHEQZzn",
        "colab_type": "code",
        "colab": {
          "base_uri": "https://localhost:8080/",
          "height": 69
        },
        "outputId": "9e583a6c-4313-4b6e-aff1-31d93f3bd7cb"
      },
      "source": [
        "#for n=5\n",
        "\n",
        "Xt = np.c_[x0,x1,x2,x3,x4,x5]\n",
        "theta = np.array([0,0,0,0,0,0])\n",
        "X_test = np.c_[x0_t,x1_t,x2_t,x3_t,x4_t,x5_t]\n",
        "\n",
        "new_theta , cost_value=GDR(Xt,y_train,theta,alpha,itr)\n",
        "\n",
        "train_error_5=cost_value[-1]\n",
        "\n",
        "\n",
        "test_error_5=cost(new_theta,X_test,y_test)\n",
        "\n",
        "print(\"NEW Theta Value : \",new_theta)\n",
        "print(\"Train error : \", train_error_5)\n",
        "print(\"Test error : \", test_error_5)\n"
      ],
      "execution_count": null,
      "outputs": [
        {
          "output_type": "stream",
          "text": [
            "NEW Theta Value :  [ 0.71116773  0.88729708 -5.03609944 -3.27699025  1.14370018  5.35769014]\n",
            "Train error :  0.39744665376513655\n",
            "Test error :  0.00539870805197937\n"
          ],
          "name": "stdout"
        }
      ]
    },
    {
      "cell_type": "markdown",
      "metadata": {
        "id": "PO0buJm0UTMl",
        "colab_type": "text"
      },
      "source": [
        "* ***For n=6***"
      ]
    },
    {
      "cell_type": "code",
      "metadata": {
        "id": "eERnHbIVQZmk",
        "colab_type": "code",
        "colab": {
          "base_uri": "https://localhost:8080/",
          "height": 86
        },
        "outputId": "d54e03af-b2a3-4d0b-c416-222e336306c5"
      },
      "source": [
        "#for n=6\n",
        "\n",
        "Xt = np.c_[x0,x1,x2,x3,x4,x5,x6]\n",
        "theta = np.array([0,0,0,0,0,0,0])\n",
        "X_test = np.c_[x0_t,x1_t,x2_t,x3_t,x4_t,x5_t,x6_t]\n",
        "\n",
        "new_theta , cost_value=GDR(Xt,y_train,theta,alpha,itr)\n",
        "\n",
        "train_error_6=cost_value[-1]\n",
        "\n",
        "test_error_6=cost(new_theta,X_test,y_test)\n",
        "\n",
        "print(\"NEW Theta Value : \",new_theta)\n",
        "print(\"Train error : \", train_error_6)\n",
        "print(\"Test error : \", test_error_6)\n"
      ],
      "execution_count": null,
      "outputs": [
        {
          "output_type": "stream",
          "text": [
            "NEW Theta Value :  [ 0.74428404  0.45706763 -3.92548833 -2.71566163 -0.03104781  2.07477613\n",
            "  3.20584314]\n",
            "Train error :  0.4508428077131934\n",
            "Test error :  0.014992044175350059\n"
          ],
          "name": "stdout"
        }
      ]
    },
    {
      "cell_type": "markdown",
      "metadata": {
        "id": "hmN52frkUYXL",
        "colab_type": "text"
      },
      "source": [
        "* ***For n=7***"
      ]
    },
    {
      "cell_type": "code",
      "metadata": {
        "id": "F1jS54PiQZZW",
        "colab_type": "code",
        "colab": {
          "base_uri": "https://localhost:8080/",
          "height": 86
        },
        "outputId": "1ec58c5d-1688-40e7-da47-a42c0489a2d9"
      },
      "source": [
        "#for n=7\n",
        "\n",
        "Xt = np.c_[x0,x1,x2,x3,x4,x5,x6,x7]\n",
        "theta = np.array([0,0,0,0,0,0,0,0])\n",
        "X_test = np.c_[x0_t,x1_t,x2_t,x3_t,x4_t,x5_t,x6_t,x7_t]\n",
        "\n",
        "new_theta , cost_value=GDR(Xt,y_train,theta,alpha,itr)\n",
        "\n",
        "train_error_7=cost_value[-1]\n",
        "\n",
        "test_error_7=cost(new_theta,X_test,y_test)\n",
        "\n",
        "print(\"NEW Theta Value : \",new_theta)\n",
        "print(\"Train error : \", train_error_7)\n",
        "print(\"Test error : \", test_error_7)\n"
      ],
      "execution_count": null,
      "outputs": [
        {
          "output_type": "stream",
          "text": [
            "NEW Theta Value :  [ 0.80092855  0.06378335 -3.50964312 -2.22308807  0.00790279  1.42631707\n",
            "  1.81247528  1.43296591]\n",
            "Train error :  0.4965193052043344\n",
            "Test error :  0.015427667612558597\n"
          ],
          "name": "stdout"
        }
      ]
    },
    {
      "cell_type": "markdown",
      "metadata": {
        "id": "f-raEVmlUeCM",
        "colab_type": "text"
      },
      "source": [
        "* ***For n=8***"
      ]
    },
    {
      "cell_type": "code",
      "metadata": {
        "id": "ApdvHYK2QY6i",
        "colab_type": "code",
        "colab": {
          "base_uri": "https://localhost:8080/",
          "height": 86
        },
        "outputId": "90547c2f-996a-430b-ddd0-21e9b985b0ec"
      },
      "source": [
        "#for n=8\n",
        "\n",
        "Xt= np.c_[x0,x1,x2,x3,x4,x5,x6,x7,x8]\n",
        "theta = np.array([0,0,0,0,0,0,0,0,0])\n",
        "X_test = np.c_[x0_t,x1_t,x2_t,x3_t,x4_t,x5_t,x6_t,x7_t,x8_t]\n",
        "\n",
        "new_theta , cost_value=GDR(Xt,y_train,theta,alpha,itr)\n",
        "\n",
        "train_error_8=cost_value[-1]\n",
        "\n",
        "test_error_8=cost(new_theta,X_test,y_test)\n",
        "\n",
        "print(\"NEW Theta Value : \",new_theta)\n",
        "print(\"Train error : \", train_error_8)\n",
        "print(\"Test error : \", test_error_8)\n",
        "\n",
        "\n"
      ],
      "execution_count": null,
      "outputs": [
        {
          "output_type": "stream",
          "text": [
            "NEW Theta Value :  [ 0.82885178 -0.08623552 -3.46624649 -2.07870785  0.13083202  1.44774338\n",
            "  1.69272633  1.15955215  0.17748092]\n",
            "Train error :  0.5027581760656391\n",
            "Test error :  0.012212758985407822\n"
          ],
          "name": "stdout"
        }
      ]
    },
    {
      "cell_type": "markdown",
      "metadata": {
        "id": "7hTtOxDVUke7",
        "colab_type": "text"
      },
      "source": [
        "* ***For n=9***"
      ]
    },
    {
      "cell_type": "code",
      "metadata": {
        "id": "VmeHu4VtQYmx",
        "colab_type": "code",
        "colab": {
          "base_uri": "https://localhost:8080/",
          "height": 86
        },
        "outputId": "e1e7b158-777b-49b2-8099-13ff49a4bd8c"
      },
      "source": [
        "#for n=9\n",
        "\n",
        "Xt = np.c_[x0,x1,x2,x3,x4,x5,x6,x7,x8,x9]\n",
        "theta = np.array([0,0,0,0,0,0,0,0,0,0])\n",
        "X_test = np.c_[x0_t,x1_t,x2_t,x3_t,x4_t,x5_t,x6_t,x7_t,x8_t,x9_t]\n",
        "\n",
        "new_theta , cost_value=GDR(Xt,y_train,theta,alpha,itr)\n",
        "\n",
        "train_error_9=cost_value[-1]\n",
        "\n",
        "test_error_9=cost(new_theta,X_test,y_test)\n",
        "\n",
        "print(\"NEW Theta Value : \",new_theta)\n",
        "print(\"Train error : \", train_error_9)\n",
        "print(\"Test error : \", test_error_9)\n"
      ],
      "execution_count": null,
      "outputs": [
        {
          "output_type": "stream",
          "text": [
            "NEW Theta Value :  [ 0.82963062 -0.06117899 -3.55238734 -2.15415152  0.1281151   1.53273112\n",
            "  1.86039756  1.39854199  0.47558067 -0.66006371]\n",
            "Train error :  0.47950810387753107\n",
            "Test error :  0.009053637655397928\n"
          ],
          "name": "stdout"
        }
      ]
    },
    {
      "cell_type": "markdown",
      "metadata": {
        "id": "c63rWh-Ybdmv",
        "colab_type": "text"
      },
      "source": [
        "#***Visualization of the Dataset and the fitted Curves***"
      ]
    },
    {
      "cell_type": "markdown",
      "metadata": {
        "id": "OBtuG3d-hFP6",
        "colab_type": "text"
      },
      "source": [
        "* **a) Plots**"
      ]
    },
    {
      "cell_type": "markdown",
      "metadata": {
        "id": "qfuxDHDAhYYl",
        "colab_type": "text"
      },
      "source": [
        "*i) plots of the synthetic data points generated in 1 (a)*"
      ]
    },
    {
      "cell_type": "code",
      "metadata": {
        "id": "DwF34JFohEe1",
        "colab_type": "code",
        "colab": {
          "base_uri": "https://localhost:8080/",
          "height": 269
        },
        "outputId": "a067fbb8-1d18-4380-da91-fbf24c329fe2"
      },
      "source": [
        "plt.scatter(X,Y)\n",
        "plt.show()"
      ],
      "execution_count": null,
      "outputs": [
        {
          "output_type": "display_data",
          "data": {
            "image/png": "[encoded data removed]",
            "text/plain": [
              "<Figure size 432x288 with 1 Axes>"
            ]
          },
          "metadata": {
            "tags": [],
            "needs_background": "light"
          }
        }
      ]
    },
    {
      "cell_type": "markdown",
      "metadata": {
        "id": "Zns7uZXRkzuj",
        "colab_type": "text"
      },
      "source": [
        "* **Curve Fitting**"
      ]
    },
    {
      "cell_type": "markdown",
      "metadata": {
        "id": "O7bypx6X8agV",
        "colab_type": "text"
      },
      "source": [
        " * *For n=0*"
      ]
    },
    {
      "cell_type": "code",
      "metadata": {
        "id": "dfRrF2pik3Ex",
        "colab_type": "code",
        "colab": {
          "base_uri": "https://localhost:8080/",
          "height": 265
        },
        "outputId": "17f22d75-c968-4b51-a656-70b2ed382e08"
      },
      "source": [
        "#curve fitting\n",
        "\n",
        "Y_hyp = []\n",
        "X_t = []\n",
        "x_temp = 0\n",
        "for i in range(5000):\n",
        "    x_temp += .0002\n",
        "    X_t.append(x_temp)\n",
        "    Y_hyp.append(new_theta[0])\n",
        "plt.scatter(X,Y)\n",
        "plt.plot(X_t,Y_hyp, 'r')\n",
        "plt.show()"
      ],
      "execution_count": null,
      "outputs": [
        {
          "output_type": "display_data",
          "data": {
            "image/png": "[encoded data removed]",
            "text/plain": [
              "<Figure size 432x288 with 1 Axes>"
            ]
          },
          "metadata": {
            "tags": [],
            "needs_background": "light"
          }
        }
      ]
    },
    {
      "cell_type": "markdown",
      "metadata": {
        "colab_type": "text",
        "id": "RzP7QHc78tWG"
      },
      "source": [
        " * *For n=1*"
      ]
    },
    {
      "cell_type": "code",
      "metadata": {
        "id": "aTxeYdHA893s",
        "colab_type": "code",
        "colab": {
          "base_uri": "https://localhost:8080/",
          "height": 265
        },
        "outputId": "3cf26d2d-4ab6-4e0f-a902-bf336826476d"
      },
      "source": [
        "#curve fitting\n",
        "plt.scatter(X,Y)\n",
        "Y_hyp = []\n",
        "X_t = []\n",
        "x_temp = 0\n",
        "for i in range(5000):\n",
        "    x_temp += .0002\n",
        "    X_t.append(x_temp)\n",
        "    Y_hyp.append(new_theta[0]+new_theta[1]*x_temp)\n",
        "plt.plot(X_t,Y_hyp, 'r')\n",
        "plt.show()"
      ],
      "execution_count": null,
      "outputs": [
        {
          "output_type": "display_data",
          "data": {
            "image/png": "[encoded data removed]",
            "text/plain": [
              "<Figure size 432x288 with 1 Axes>"
            ]
          },
          "metadata": {
            "tags": [],
            "needs_background": "light"
          }
        }
      ]
    },
    {
      "cell_type": "markdown",
      "metadata": {
        "colab_type": "text",
        "id": "I0wR3kn68tuG"
      },
      "source": [
        " * *For n=2*"
      ]
    },
    {
      "cell_type": "code",
      "metadata": {
        "id": "7YWD5e988_E5",
        "colab_type": "code",
        "colab": {
          "base_uri": "https://localhost:8080/",
          "height": 269
        },
        "outputId": "a0ba720e-8f99-476a-e665-2eea02ef4f72"
      },
      "source": [
        "#curve fitting\n",
        "\n",
        "Y_hyp = []\n",
        "X_t = []\n",
        "x_temp = 0\n",
        "for i in range(5000):\n",
        "    x_temp += .0002\n",
        "    X_t.append(x_temp)\n",
        "    Y_hyp.append(new_theta[0]+new_theta[1]*x_temp+new_theta[2]*((x_temp)**2))\n",
        "plt.scatter(X,Y)\n",
        "plt.plot(X_t,Y_hyp, 'r')\n",
        "plt.show()"
      ],
      "execution_count": null,
      "outputs": [
        {
          "output_type": "display_data",
          "data": {
            "image/png": "[encoded data removed]",
            "text/plain": [
              "<Figure size 432x288 with 1 Axes>"
            ]
          },
          "metadata": {
            "tags": [],
            "needs_background": "light"
          }
        }
      ]
    },
    {
      "cell_type": "markdown",
      "metadata": {
        "colab_type": "text",
        "id": "3gGACaEt8t2r"
      },
      "source": [
        " * *For n=3*"
      ]
    },
    {
      "cell_type": "code",
      "metadata": {
        "id": "k6hON-9H9ACr",
        "colab_type": "code",
        "colab": {
          "base_uri": "https://localhost:8080/",
          "height": 265
        },
        "outputId": "2dd5aeee-433d-418c-a88c-b727ca6fb223"
      },
      "source": [
        "#curve fitting\n",
        "\n",
        "Y_hyp = []\n",
        "X_t = []\n",
        "x_temp = 0\n",
        "for i in range(5000):\n",
        "    x_temp += .0002\n",
        "    X_t.append(x_temp)\n",
        "    Y_hyp.append(new_theta[0]+new_theta[1]*x_temp+new_theta[2]*((x_temp)**2)+new_theta[3]*((x_temp)**3))\n",
        "plt.scatter(X,Y)\n",
        "plt.plot(X_t,Y_hyp, 'r')\n",
        "plt.show()"
      ],
      "execution_count": null,
      "outputs": [
        {
          "output_type": "display_data",
          "data": {
            "image/png": "[encoded data removed]",
            "text/plain": [
              "<Figure size 432x288 with 1 Axes>"
            ]
          },
          "metadata": {
            "tags": [],
            "needs_background": "light"
          }
        }
      ]
    },
    {
      "cell_type": "markdown",
      "metadata": {
        "colab_type": "text",
        "id": "tqV29ttc8t-X"
      },
      "source": [
        " * *For n=4*"
      ]
    },
    {
      "cell_type": "code",
      "metadata": {
        "id": "7qSf_h_-9BEK",
        "colab_type": "code",
        "colab": {
          "base_uri": "https://localhost:8080/",
          "height": 265
        },
        "outputId": "f92b58aa-a983-47bf-8d58-edd49ea0af3f"
      },
      "source": [
        "#curve fitting\n",
        "\n",
        "Y_hyp = []\n",
        "X_t = []\n",
        "x_temp = 0\n",
        "for i in range(5000):\n",
        "    x_temp += .0002\n",
        "    X_t.append(x_temp)\n",
        "    Y_hyp.append(new_theta[0]+new_theta[1]*x_temp+new_theta[2]*((x_temp)**2)+new_theta[3]*((x_temp)**3)+new_theta[4]*((x_temp)**4))\n",
        "plt.scatter(X,Y)\n",
        "plt.plot(X_t,Y_hyp, 'r')\n",
        "plt.show()"
      ],
      "execution_count": null,
      "outputs": [
        {
          "output_type": "display_data",
          "data": {
            "image/png": "[encoded data removed]",
            "text/plain": [
              "<Figure size 432x288 with 1 Axes>"
            ]
          },
          "metadata": {
            "tags": [],
            "needs_background": "light"
          }
        }
      ]
    },
    {
      "cell_type": "markdown",
      "metadata": {
        "colab_type": "text",
        "id": "w1Jx4teM8uFD"
      },
      "source": [
        " * *For n=5*"
      ]
    },
    {
      "cell_type": "code",
      "metadata": {
        "id": "l4ZBMzbv9CEA",
        "colab_type": "code",
        "colab": {
          "base_uri": "https://localhost:8080/",
          "height": 268
        },
        "outputId": "91f24048-5f5c-4d1d-c5d1-09f24b072ce0"
      },
      "source": [
        "#curve fitting\n",
        "\n",
        "Y_hyp = []\n",
        "X_t = []\n",
        "x_temp = 0\n",
        "for i in range(5000):\n",
        "    x_temp += .0002\n",
        "    X_t.append(x_temp)\n",
        "    Y_hyp.append(new_theta[0]+new_theta[1]*x_temp+new_theta[2]*((x_temp)**2)+new_theta[3]*((x_temp)**3)+new_theta[4]*((x_temp)**4)+new_theta[5]*((x_temp)**5))\n",
        "plt.scatter(X,Y)\n",
        "plt.plot(X_t,Y_hyp, 'r')\n",
        "plt.show()"
      ],
      "execution_count": null,
      "outputs": [
        {
          "output_type": "display_data",
          "data": {
            "image/png": "[encoded data removed]",
            "text/plain": [
              "<Figure size 432x288 with 1 Axes>"
            ]
          },
          "metadata": {
            "tags": [],
            "needs_background": "light"
          }
        }
      ]
    },
    {
      "cell_type": "markdown",
      "metadata": {
        "colab_type": "text",
        "id": "Jbn4Zo7B8uLX"
      },
      "source": [
        " * *For n=6*"
      ]
    },
    {
      "cell_type": "code",
      "metadata": {
        "id": "nw7Dkg_D9C4k",
        "colab_type": "code",
        "colab": {
          "base_uri": "https://localhost:8080/",
          "height": 265
        },
        "outputId": "bc5f6740-0f35-48e8-ecee-df487d63fbb8"
      },
      "source": [
        "#curve fitting\n",
        "\n",
        "Y_hyp = []\n",
        "X_t = []\n",
        "x_temp = 0\n",
        "for i in range(5000):\n",
        "    x_temp += .0002\n",
        "    X_t.append(x_temp)\n",
        "    Y_hyp.append(new_theta[0]+new_theta[1]*x_temp+new_theta[2]*((x_temp)**2)+new_theta[3]*((x_temp)**3)+new_theta[4]*((x_temp)**4)+new_theta[5]*((x_temp)**5)+new_theta[6]*((x_temp)**6))\n",
        "plt.scatter(X,Y)\n",
        "plt.plot(X_t,Y_hyp, 'r')\n",
        "plt.show()"
      ],
      "execution_count": null,
      "outputs": [
        {
          "output_type": "display_data",
          "data": {
            "image/png": "[encoded data removed]",
            "text/plain": [
              "<Figure size 432x288 with 1 Axes>"
            ]
          },
          "metadata": {
            "tags": [],
            "needs_background": "light"
          }
        }
      ]
    },
    {
      "cell_type": "markdown",
      "metadata": {
        "colab_type": "text",
        "id": "r-YVBXVD8uSp"
      },
      "source": [
        " * *For n=7*"
      ]
    },
    {
      "cell_type": "code",
      "metadata": {
        "id": "lOP4Clmv9EG3",
        "colab_type": "code",
        "colab": {
          "base_uri": "https://localhost:8080/",
          "height": 265
        },
        "outputId": "eb3c717a-2ba8-474c-d2b0-a7e504056bfa"
      },
      "source": [
        "#curve fitting\n",
        "\n",
        "Y_hyp = []\n",
        "X_t = []\n",
        "x_temp = 0\n",
        "for i in range(5000):\n",
        "    x_temp += .0002\n",
        "    X_t.append(x_temp)\n",
        "    Y_hyp.append(new_theta[0]+new_theta[1]*x_temp+new_theta[2]*((x_temp)**2)+new_theta[3]*((x_temp)**3)+new_theta[4]*((x_temp)**4)+new_theta[5]*((x_temp)**5)+new_theta[6]*((x_temp)**6)+new_theta[7]*((x_temp)**7))\n",
        "plt.scatter(X,Y)\n",
        "plt.plot(X_t,Y_hyp, 'r')\n",
        "plt.show()"
      ],
      "execution_count": null,
      "outputs": [
        {
          "output_type": "display_data",
          "data": {
            "image/png": "[encoded data removed]",
            "text/plain": [
              "<Figure size 432x288 with 1 Axes>"
            ]
          },
          "metadata": {
            "tags": [],
            "needs_background": "light"
          }
        }
      ]
    },
    {
      "cell_type": "markdown",
      "metadata": {
        "colab_type": "text",
        "id": "sxF5QcTB8uZW"
      },
      "source": [
        " * *For n=8*"
      ]
    },
    {
      "cell_type": "code",
      "metadata": {
        "id": "YCbiwq_D9FER",
        "colab_type": "code",
        "colab": {
          "base_uri": "https://localhost:8080/",
          "height": 265
        },
        "outputId": "529fbe07-6347-4ecf-91a0-2bb14f67dd36"
      },
      "source": [
        "#curve fitting\n",
        "\n",
        "Y_hyp = []\n",
        "X_t = []\n",
        "x_temp = 0\n",
        "for i in range(5000):\n",
        "    x_temp += .0002\n",
        "    X_t.append(x_temp)\n",
        "    Y_hyp.append(new_theta[0]+new_theta[1]*x_temp+new_theta[2]*((x_temp)**2)+new_theta[3]*((x_temp)**3)+new_theta[4]*((x_temp)**4)+new_theta[5]*((x_temp)**5)+new_theta[6]*((x_temp)**6)+new_theta[7]*((x_temp)**7)+new_theta[8]*((x_temp)**8))\n",
        "plt.scatter(X,Y)\n",
        "plt.plot(X_t,Y_hyp, 'r')\n",
        "plt.show()"
      ],
      "execution_count": null,
      "outputs": [
        {
          "output_type": "display_data",
          "data": {
            "image/png": "[encoded data removed]",
            "text/plain": [
              "<Figure size 432x288 with 1 Axes>"
            ]
          },
          "metadata": {
            "tags": [],
            "needs_background": "light"
          }
        }
      ]
    },
    {
      "cell_type": "markdown",
      "metadata": {
        "colab_type": "text",
        "id": "BabpICtZ8ufn"
      },
      "source": [
        " * *For n=9*"
      ]
    },
    {
      "cell_type": "code",
      "metadata": {
        "id": "cnXjEVCw9F4S",
        "colab_type": "code",
        "colab": {
          "base_uri": "https://localhost:8080/",
          "height": 265
        },
        "outputId": "8e16e47b-808a-44aa-f096-795051f7d821"
      },
      "source": [
        "#curve fitting\n",
        "\n",
        "Y_hyp = []\n",
        "X_t = []\n",
        "x_temp = 0\n",
        "for i in range(5000):\n",
        "    x_temp += .0002\n",
        "    X_t.append(x_temp)\n",
        "    Y_hyp.append(new_theta[0]+new_theta[1]*x_temp+new_theta[2]*((x_temp)**2)+new_theta[3]*((x_temp)**3)+new_theta[4]*((x_temp)**4)+new_theta[5]*((x_temp)**5)+new_theta[6]*((x_temp)**6)+new_theta[7]*((x_temp)**7)+new_theta[8]*((x_temp)**8)+new_theta[9]*((x_temp)**9))\n",
        "plt.scatter(X,Y)\n",
        "plt.plot(X_t,Y_hyp, 'r')\n",
        "plt.show()"
      ],
      "execution_count": null,
      "outputs": [
        {
          "output_type": "display_data",
          "data": {
            "image/png": "[encoded data removed]",
            "text/plain": [
              "<Figure size 432x288 with 1 Axes>"
            ]
          },
          "metadata": {
            "tags": [],
            "needs_background": "light"
          }
        }
      ]
    },
    {
      "cell_type": "markdown",
      "metadata": {
        "id": "ZzEA984qgpoU",
        "colab_type": "text"
      },
      "source": [
        "* **b) Train error vs Test error**"
      ]
    },
    {
      "cell_type": "code",
      "metadata": {
        "id": "nAWujtT0b2jM",
        "colab_type": "code",
        "colab": {
          "base_uri": "https://localhost:8080/",
          "height": 330
        },
        "outputId": "866d1f94-bf10-4293-f2ce-3c3209bd51e2"
      },
      "source": [
        "#train error vs test error\n",
        "\n",
        "train_error=np.array([train_error_0,train_error_1,train_error_2,train_error_3,train_error_4,train_error_5,train_error_6,train_error_7,train_error_8,train_error_9])\n",
        "test_error=np.array([test_error_0,test_error_1,test_error_2,test_error_3,test_error_4,test_error_5,test_error_6,test_error_7,test_error_8,test_error_9])\n",
        "\n",
        "error_x=[0,1,2,3,4,5,6,7,8,9]\n",
        "\n",
        "plt.plot(error_x,train_error, 'r', label='Train Error')\n",
        "plt.plot(error_x,test_error, 'g', label='Test Error')\n",
        "plt.title('Train Error vs Test Error')\n",
        "plt.ylabel('Error')\n",
        "plt.xlabel('N')\n",
        "plt.legend()\n",
        "plt.grid()\n",
        "plt.xticks(np.arange(0, 10, step=1))\n",
        "plt.show()\n",
        "\n",
        "print(\"MIN Train error : \",min(train_error))\n",
        "print(\"MIN Test error : \",min(test_error))"
      ],
      "execution_count": null,
      "outputs": [
        {
          "output_type": "display_data",
          "data": {
            "image/png": "[encoded data removed]",
            "text/plain": [
              "<Figure size 432x288 with 1 Axes>"
            ]
          },
          "metadata": {
            "tags": [],
            "needs_background": "light"
          }
        },
        {
          "output_type": "stream",
          "text": [
            "MIN Train error :  0.39744665376513655\n",
            "MIN Test error :  0.00539870805197937\n"
          ],
          "name": "stdout"
        }
      ]
    },
    {
      "cell_type": "markdown",
      "metadata": {
        "id": "c9PjxO3EBY3F",
        "colab_type": "text"
      },
      "source": [
        "* *NOTE: For the N=10 size dataset value n=5 is the suitable as we got the minimum test error 0.0230*"
      ]
    },
    {
      "cell_type": "markdown",
      "metadata": {
        "id": "CXoO-nj1b83W",
        "colab_type": "text"
      },
      "source": [
        "#***Experimenting with Larger Training Set(N=100)***"
      ]
    },
    {
      "cell_type": "markdown",
      "metadata": {
        "id": "q547Q0XTl03T",
        "colab_type": "text"
      },
      "source": [
        "* **For N=100**"
      ]
    },
    {
      "cell_type": "code",
      "metadata": {
        "id": "et21p2htcXQl",
        "colab_type": "code",
        "colab": {
          "base_uri": "https://localhost:8080/",
          "height": 1000
        },
        "outputId": "8b329375-208d-4259-9918-a55078bcb393"
      },
      "source": [
        "#Generating a Synthetic Dataset\n",
        "\n",
        "inp=[]\n",
        "for i in range(100):\n",
        "  inp.append(random.uniform(0,1))\n",
        "X=np.array(inp)\n",
        "print(X)\n",
        "print()\n",
        "Y=np.random.normal(scale=0.3)+ np.sin(2*math.pi*X) \n",
        "print(Y)\n",
        "\n",
        "#ploting \n",
        "plt.scatter(X,Y)\n",
        "plt.show()\n"
      ],
      "execution_count": null,
      "outputs": [
        {
          "output_type": "stream",
          "text": [
            "[5.17464444e-01 9.98365459e-01 3.90126177e-01 4.71505097e-01\n",
            " 5.21155137e-01 2.38038403e-01 6.89507837e-01 3.59422038e-01\n",
            " 3.63832370e-01 4.63093459e-01 5.41018183e-01 8.83955232e-01\n",
            " 1.76601781e-01 5.46939059e-01 5.90157493e-01 4.72830510e-01\n",
            " 6.13710917e-01 6.37672550e-01 8.49406319e-01 8.05036974e-01\n",
            " 6.07696799e-01 6.12816998e-01 1.12255354e-01 2.31359945e-02\n",
            " 6.46287012e-01 4.64380492e-01 6.33730726e-01 9.50427634e-01\n",
            " 5.05983877e-01 9.83723098e-01 8.16512151e-01 8.85674635e-01\n",
            " 4.45234707e-04 7.15971149e-01 1.81099893e-01 2.75099078e-01\n",
            " 5.51093860e-01 9.13684587e-01 2.99455738e-01 7.15908157e-01\n",
            " 5.19741254e-01 3.80612196e-01 7.81632385e-01 5.19388094e-01\n",
            " 5.26821507e-02 2.36724198e-01 2.75582883e-01 8.51428752e-01\n",
            " 7.94048629e-01 3.24517280e-01 4.93821645e-02 6.20705946e-01\n",
            " 9.93685181e-01 5.03901419e-01 7.84081556e-01 8.24873999e-01\n",
            " 8.73273395e-01 6.18375915e-01 6.45418612e-01 6.95698660e-01\n",
            " 1.15133369e-02 7.45693561e-01 3.66209046e-01 2.13529270e-01\n",
            " 5.69989938e-01 3.87338271e-01 1.83876359e-01 2.91819876e-01\n",
            " 5.27131992e-01 2.69899917e-01 2.03636048e-01 2.01431062e-01\n",
            " 5.86461838e-01 4.49652942e-01 7.26142086e-01 3.28542451e-01\n",
            " 7.02339416e-01 3.87317778e-01 2.35718659e-01 9.46070614e-01\n",
            " 3.79756947e-02 3.48616939e-01 9.01269383e-01 4.47621525e-02\n",
            " 1.74187332e-01 5.49750046e-01 5.46834271e-02 8.07482129e-01\n",
            " 1.74745273e-02 2.46395987e-01 7.74932883e-01 7.68468913e-01\n",
            " 5.79672527e-01 4.62387630e-01 9.28037934e-01 6.90738730e-02\n",
            " 2.29664803e-02 8.43318647e-01 6.70084739e-01 2.75878458e-01]\n",
            "\n",
            "[-0.28236554 -0.18312323  0.46395965  0.00523049 -0.30538386  0.82432376\n",
            " -1.10148696  0.59996964  0.58208922  0.05696468 -0.42773448 -0.83907495\n",
            "  0.72267713 -0.4635231  -0.70951533 -0.00297029 -0.82806797 -0.93396291\n",
            " -0.98405721 -1.11365533 -0.79906048 -0.82381459  0.47542513 -0.02799698\n",
            " -0.9679387   0.04908704 -0.91766654 -0.47931377 -0.21044224 -0.27494589\n",
            " -1.08679319 -0.83097961 -0.1700558  -1.15008296  0.73489463  0.81473748\n",
            " -0.48839947 -0.68899125  0.77925441 -1.1499989  -0.29657342  0.50888475\n",
            " -1.15316701 -0.2943712   0.1521467   0.82366976  0.81425551 -0.97656114\n",
            " -1.13479751  0.7195261   0.13246941 -0.86062705 -0.21252005 -0.19736417\n",
            " -1.15001264 -1.06421895 -0.88758941 -0.84992617 -0.96461764 -1.11521198\n",
            " -0.10057593 -1.17248724  0.57221243  0.801006   -0.59857537  0.47736713\n",
            "  0.74207461  0.79282294 -0.3425041   0.81934004  0.78501422  0.78094331\n",
            " -0.68977903  0.13823688 -1.16163875  0.70782851 -1.12834913  0.47746495\n",
            "  0.82312347 -0.50525441  0.06349733  0.64124097 -0.75416738  0.10470241\n",
            "  0.71582349 -0.48037626  0.16401247 -1.108337   -0.06327806  0.82689034\n",
            " -1.16060751 -1.16612778 -0.65280287  0.06127855 -0.60975467  0.24765361\n",
            " -0.02905092 -1.00582559 -1.04941634  0.81395657]\n"
          ],
          "name": "stdout"
        },
        {
          "output_type": "display_data",
          "data": {
            "image/png": "[encoded data removed]",
            "text/plain": [
              "<Figure size 432x288 with 1 Axes>"
            ]
          },
          "metadata": {
            "tags": [],
            "needs_background": "light"
          }
        }
      ]
    },
    {
      "cell_type": "code",
      "metadata": {
        "id": "4LrAfrJtmnQm",
        "colab_type": "code",
        "colab": {
          "base_uri": "https://localhost:8080/",
          "height": 86
        },
        "outputId": "08644066-d3ad-4d90-cef8-38e6564311c2"
      },
      "source": [
        "#Splitting DataSet\n",
        "\n",
        "\n",
        "x_train, x_test, y_train, y_test = tts(X,Y,test_size =0.2)\n",
        "print(x_train.shape)\n",
        "print(x_test.shape)\n",
        "print(y_train.shape)\n",
        "print(y_test.shape)"
      ],
      "execution_count": null,
      "outputs": [
        {
          "output_type": "stream",
          "text": [
            "(80,)\n",
            "(20,)\n",
            "(80,)\n",
            "(20,)\n"
          ],
          "name": "stdout"
        }
      ]
    },
    {
      "cell_type": "code",
      "metadata": {
        "id": "GxVVun0CmrXV",
        "colab_type": "code",
        "colab": {}
      },
      "source": [
        "#for n=1 to n=9 calculating x^1 to x^9 coefficient\n",
        "\n",
        "\n",
        "#for Train set\n",
        "train_n=int(0.8*100)\n",
        "test_n=int(0.2*100)\n",
        "x0=np.ones(train_n)\n",
        "x1=x_train\n",
        "x2=[]\n",
        "x3=[]\n",
        "x4=[]\n",
        "x5=[]\n",
        "x6=[]\n",
        "x7=[]\n",
        "x8=[]\n",
        "x9=[]\n",
        "x12=np.array(x1)\n",
        "\n",
        "for i in range(train_n):\n",
        "  x2.append(x_train[i]*x_train[i])\n",
        "  x3.append(x2[i]*x_train[i])\n",
        "  x4.append(x3[i]*x_train[i])\n",
        "  x5.append(x4[i]*x_train[i])\n",
        "  x6.append(x5[i]*x_train[i])\n",
        "  x7.append(x6[i]*x_train[i])\n",
        "  x8.append(x7[i]*x_train[i])\n",
        "  x9.append(x8[i]*x_train[i])\n",
        "\n",
        "\n",
        "\n",
        "#for test set\n",
        "x0_t=np.ones(test_n)\n",
        "x1_t=x_test\n",
        "x2_t=[]\n",
        "x3_t=[]\n",
        "x4_t=[]\n",
        "x5_t=[]\n",
        "x6_t=[]\n",
        "x7_t=[]\n",
        "x8_t=[]\n",
        "x9_t=[]\n",
        "\n",
        "for i in range(test_n):\n",
        "  x2_t.append(x_test[i]*x_test[i])\n",
        "  x3_t.append(x2_t[i]*x_test[i])\n",
        "  x4_t.append(x3_t[i]*x_test[i])\n",
        "  x5_t.append(x4_t[i]*x_test[i])\n",
        "  x6_t.append(x5_t[i]*x_test[i])\n",
        "  x7_t.append(x6_t[i]*x_test[i])\n",
        "  x8_t.append(x7_t[i]*x_test[i])\n",
        "  x9_t.append(x8_t[i]*x_test[i])\n"
      ],
      "execution_count": null,
      "outputs": []
    },
    {
      "cell_type": "markdown",
      "metadata": {
        "id": "-vNGSof7p4D6",
        "colab_type": "text"
      },
      "source": [
        "*For n=0*"
      ]
    },
    {
      "cell_type": "code",
      "metadata": {
        "id": "LBPK-5XMmsPv",
        "colab_type": "code",
        "colab": {
          "base_uri": "https://localhost:8080/",
          "height": 69
        },
        "outputId": "8f9bee77-155c-4936-ae97-fda467e806e2"
      },
      "source": [
        "#for n=0\n",
        "\n",
        "Xt= np.c_[x0]\n",
        "theta = np.array([0])\n",
        "X_test = np.c_[x0_t]\n",
        "\n",
        "new_theta , cost_value=GDR(Xt,y_train,theta,alpha,itr)\n",
        "\n",
        "train_error_100=cost_value[-1]\n",
        "\n",
        "test_error_100=cost(new_theta,X_test,y_test)\n",
        "\n",
        "\n",
        "print(\"NEW Theta Value : \",new_theta)\n",
        "print(\"Train error : \", train_error_100)\n",
        "print(\"Test error : \", test_error_100)\n"
      ],
      "execution_count": null,
      "outputs": [
        {
          "output_type": "stream",
          "text": [
            "NEW Theta Value :  [-0.27577619]\n",
            "Train error :  1629.699337141718\n",
            "Test error :  79.94606628471529\n"
          ],
          "name": "stdout"
        }
      ]
    },
    {
      "cell_type": "markdown",
      "metadata": {
        "id": "fVqvWYiqp-nq",
        "colab_type": "text"
      },
      "source": [
        "*For n=1*"
      ]
    },
    {
      "cell_type": "code",
      "metadata": {
        "id": "qfVHC5gNnGr_",
        "colab_type": "code",
        "colab": {
          "base_uri": "https://localhost:8080/",
          "height": 69
        },
        "outputId": "7f14335c-7178-4faf-9a24-302ddf1d70a3"
      },
      "source": [
        "#for n=1\n",
        "\n",
        "Xt = np.c_[x0,x1]\n",
        "theta = np.array([0,0])\n",
        "X_test = np.c_[x0_t,x1_t]\n",
        "\n",
        "new_theta , cost_value=GDR(Xt,y_train,theta,alpha,itr)\n",
        "\n",
        "train_error_101=cost_value[-1]\n",
        "\n",
        "test_error_101=cost(new_theta,X_test,y_test)\n",
        "\n",
        "print(\"NEW Theta Value : \",new_theta)\n",
        "print(\"Train error : \", train_error_101)\n",
        "print(\"Test error : \", test_error_101)\n"
      ],
      "execution_count": null,
      "outputs": [
        {
          "output_type": "stream",
          "text": [
            "NEW Theta Value :  [ 0.83718363 -2.05034744]\n",
            "Train error :  653.6782290888686\n",
            "Test error :  51.25245038846156\n"
          ],
          "name": "stdout"
        }
      ]
    },
    {
      "cell_type": "markdown",
      "metadata": {
        "id": "pRROSNnGqCPK",
        "colab_type": "text"
      },
      "source": [
        "*For n=2*"
      ]
    },
    {
      "cell_type": "code",
      "metadata": {
        "id": "7-9rMQwonGco",
        "colab_type": "code",
        "colab": {
          "base_uri": "https://localhost:8080/",
          "height": 69
        },
        "outputId": "e9311860-fae7-4981-a952-abf804f14d8f"
      },
      "source": [
        "#for n=2\n",
        "\n",
        "Xt = np.c_[x0,x1,x2]\n",
        "theta = np.array([0,0,0])\n",
        "X_test = np.c_[x0_t,x1_t,x2_t]\n",
        "\n",
        "new_theta , cost_value=GDR(Xt,y_train,theta,alpha,itr)\n",
        "\n",
        "train_error_102=cost_value[-1]\n",
        "\n",
        "test_error_102=cost(new_theta,X_test,y_test)\n",
        "\n",
        "print(\"NEW Theta Value : \",new_theta)\n",
        "print(\"Train error : \", train_error_102)\n",
        "print(\"Test error : \", test_error_102)\n"
      ],
      "execution_count": null,
      "outputs": [
        {
          "output_type": "stream",
          "text": [
            "NEW Theta Value :  [ 1.0185697  -3.01785042  0.93624226]\n",
            "Train error :  639.1497986830392\n",
            "Test error :  67.10815716004535\n"
          ],
          "name": "stdout"
        }
      ]
    },
    {
      "cell_type": "markdown",
      "metadata": {
        "id": "X8LBHYjHqIB4",
        "colab_type": "text"
      },
      "source": [
        "*For n=3*"
      ]
    },
    {
      "cell_type": "code",
      "metadata": {
        "id": "xITcXmu2nGNe",
        "colab_type": "code",
        "colab": {
          "base_uri": "https://localhost:8080/",
          "height": 69
        },
        "outputId": "28404c86-2ee6-4874-ed70-eb94062af799"
      },
      "source": [
        "#for n=3\n",
        "\n",
        "Xt = np.c_[x0,x1,x2,x3]\n",
        "theta = np.array([0,0,0,0])\n",
        "X_test = np.c_[x0_t,x1_t,x2_t,x3_t]\n",
        "\n",
        "new_theta , cost_value=GDR(Xt,y_train,theta,alpha,itr)\n",
        "\n",
        "train_error_103=cost_value[-1]\n",
        "\n",
        "test_error_103=cost(new_theta,X_test,y_test)\n",
        "\n",
        "print(\"NEW Theta Value : \",new_theta)\n",
        "print(\"Train error : \", train_error_103)\n",
        "print(\"Test error : \", test_error_103)\n"
      ],
      "execution_count": null,
      "outputs": [
        {
          "output_type": "stream",
          "text": [
            "NEW Theta Value :  [  0.56948482   2.57998925 -13.33001038   9.65798303]\n",
            "Train error :  229.2214280024936\n",
            "Test error :  29.61971045610288\n"
          ],
          "name": "stdout"
        }
      ]
    },
    {
      "cell_type": "markdown",
      "metadata": {
        "id": "z-4nBEBbqLcl",
        "colab_type": "text"
      },
      "source": [
        "*For n=4*"
      ]
    },
    {
      "cell_type": "code",
      "metadata": {
        "id": "Z066RawYnF_W",
        "colab_type": "code",
        "colab": {
          "base_uri": "https://localhost:8080/",
          "height": 69
        },
        "outputId": "4112cabf-6a6d-4ea8-bb83-81738bf82380"
      },
      "source": [
        "#for n=4\n",
        "\n",
        "Xt = np.c_[x0,x1,x2,x3,x4]\n",
        "theta = np.array([0,0,0,0,0])\n",
        "X_test = np.c_[x0_t,x1_t,x2_t,x3_t,x4_t]\n",
        "\n",
        "new_theta , cost_value=GDR(Xt,y_train,theta,alpha,itr)\n",
        "\n",
        "train_error_104=cost_value[-1]\n",
        "\n",
        "\n",
        "test_error_104=cost(new_theta,X_test,y_test)\n",
        "\n",
        "print(\"NEW Theta Value : \",new_theta)\n",
        "print(\"Train error : \", train_error_104)\n",
        "print(\"Test error : \", test_error_104)\n"
      ],
      "execution_count": null,
      "outputs": [
        {
          "output_type": "stream",
          "text": [
            "NEW Theta Value :  [  0.18632921   5.10286904 -12.70025469  -3.0756337   10.46117308]\n",
            "Train error :  60.640093450271436\n",
            "Test error :  7.292836751619429\n"
          ],
          "name": "stdout"
        }
      ]
    },
    {
      "cell_type": "markdown",
      "metadata": {
        "id": "t28JA3m0qOlc",
        "colab_type": "text"
      },
      "source": [
        "*For n=5*"
      ]
    },
    {
      "cell_type": "code",
      "metadata": {
        "id": "02TKuPM1nFxn",
        "colab_type": "code",
        "colab": {
          "base_uri": "https://localhost:8080/",
          "height": 69
        },
        "outputId": "d9f4ce24-2372-4b17-afd5-0653607de361"
      },
      "source": [
        "#for n=5\n",
        "\n",
        "Xt = np.c_[x0,x1,x2,x3,x4,x5]\n",
        "theta = np.array([0,0,0,0,0,0])\n",
        "X_test = np.c_[x0_t,x1_t,x2_t,x3_t,x4_t,x5_t]\n",
        "\n",
        "new_theta , cost_value=GDR(Xt,y_train,theta,alpha,itr)\n",
        "\n",
        "train_error_105=cost_value[-1]\n",
        "\n",
        "\n",
        "test_error_105=cost(new_theta,X_test,y_test)\n",
        "\n",
        "print(\"NEW Theta Value : \",new_theta)\n",
        "print(\"Train error : \", train_error_105)\n",
        "print(\"Test error : \", test_error_105)\n"
      ],
      "execution_count": null,
      "outputs": [
        {
          "output_type": "stream",
          "text": [
            "NEW Theta Value :  [ 0.13472542  4.71766605 -9.62551038 -4.46442254  2.45609939  6.98117172]\n",
            "Train error :  72.77913588800736\n",
            "Test error :  5.264272470812643\n"
          ],
          "name": "stdout"
        }
      ]
    },
    {
      "cell_type": "markdown",
      "metadata": {
        "id": "ohP3eIsEqSPo",
        "colab_type": "text"
      },
      "source": [
        "*For n=6*"
      ]
    },
    {
      "cell_type": "code",
      "metadata": {
        "id": "U098s6vRnFji",
        "colab_type": "code",
        "colab": {
          "base_uri": "https://localhost:8080/",
          "height": 86
        },
        "outputId": "798603f4-4dd1-4b2a-9343-de6a832c4dd6"
      },
      "source": [
        "#for n=6\n",
        "\n",
        "Xt = np.c_[x0,x1,x2,x3,x4,x5,x6]\n",
        "theta = np.array([0,0,0,0,0,0,0])\n",
        "X_test = np.c_[x0_t,x1_t,x2_t,x3_t,x4_t,x5_t,x6_t]\n",
        "\n",
        "new_theta , cost_value=GDR(Xt,y_train,theta,alpha,itr)\n",
        "\n",
        "train_error_106=cost_value[-1]\n",
        "\n",
        "test_error_106=cost(new_theta,X_test,y_test)\n",
        "\n",
        "print(\"NEW Theta Value : \",new_theta)\n",
        "print(\"Train error : \", train_error_106)\n",
        "print(\"Test error : \", test_error_106)\n"
      ],
      "execution_count": null,
      "outputs": [
        {
          "output_type": "stream",
          "text": [
            "NEW Theta Value :  [ 0.19777008  3.98455882 -8.23448321 -3.66642994  1.30568255  3.460939\n",
            "  3.19300338]\n",
            "Train error :  94.95854441681769\n",
            "Test error :  7.143085703657032\n"
          ],
          "name": "stdout"
        }
      ]
    },
    {
      "cell_type": "markdown",
      "metadata": {
        "id": "0DOZJTg8qYUk",
        "colab_type": "text"
      },
      "source": [
        "*For n=7*"
      ]
    },
    {
      "cell_type": "code",
      "metadata": {
        "id": "lYRtmuB-nFVw",
        "colab_type": "code",
        "colab": {
          "base_uri": "https://localhost:8080/",
          "height": 86
        },
        "outputId": "ce27ad01-a3f1-4a71-8b05-bee3e7542224"
      },
      "source": [
        "#for n=7\n",
        "\n",
        "Xt = np.c_[x0,x1,x2,x3,x4,x5,x6,x7]\n",
        "theta = np.array([0,0,0,0,0,0,0,0])\n",
        "X_test = np.c_[x0_t,x1_t,x2_t,x3_t,x4_t,x5_t,x6_t,x7_t]\n",
        "\n",
        "new_theta , cost_value=GDR(Xt,y_train,theta,alpha,itr)\n",
        "\n",
        "train_error_107=cost_value[-1]\n",
        "\n",
        "test_error_107=cost(new_theta,X_test,y_test)\n",
        "\n",
        "print(\"NEW Theta Value : \",new_theta)\n",
        "print(\"Train error : \", train_error_107)\n",
        "print(\"Test error : \", test_error_107)\n"
      ],
      "execution_count": null,
      "outputs": [
        {
          "output_type": "stream",
          "text": [
            "NEW Theta Value :  [ 0.23792561  3.74062737 -8.1423934  -3.32251736  1.53528207  3.32386203\n",
            "  2.5687945   0.25682551]\n",
            "Train error :  96.17300650566054\n",
            "Test error :  8.40764905471985\n"
          ],
          "name": "stdout"
        }
      ]
    },
    {
      "cell_type": "markdown",
      "metadata": {
        "id": "7MDLevcQqbYo",
        "colab_type": "text"
      },
      "source": [
        "*For n=8*"
      ]
    },
    {
      "cell_type": "code",
      "metadata": {
        "id": "TbXNoyOPnFDD",
        "colab_type": "code",
        "colab": {
          "base_uri": "https://localhost:8080/",
          "height": 86
        },
        "outputId": "881c6043-d6d0-4329-f85a-be5339ba6dc4"
      },
      "source": [
        "#for n=8\n",
        "\n",
        "Xt= np.c_[x0,x1,x2,x3,x4,x5,x6,x7,x8]\n",
        "theta = np.array([0,0,0,0,0,0,0,0,0])\n",
        "X_test = np.c_[x0_t,x1_t,x2_t,x3_t,x4_t,x5_t,x6_t,x7_t,x8_t]\n",
        "\n",
        "new_theta , cost_value=GDR(Xt,y_train,theta,alpha,itr)\n",
        "\n",
        "train_error_108=cost_value[-1]\n",
        "\n",
        "test_error_108=cost(new_theta,X_test,y_test)\n",
        "\n",
        "print(\"NEW Theta Value : \",new_theta)\n",
        "print(\"Train error : \", train_error_108)\n",
        "print(\"Test error : \", test_error_108)\n",
        "\n",
        "\n"
      ],
      "execution_count": null,
      "outputs": [
        {
          "output_type": "stream",
          "text": [
            "NEW Theta Value :  [ 0.23615117  3.87800793 -8.47703827 -3.541905    1.61477037  3.7210293\n",
            "  3.24917694  1.17345636 -1.73503972]\n",
            "Train error :  81.50698420268878\n",
            "Test error :  8.187918237778078\n"
          ],
          "name": "stdout"
        }
      ]
    },
    {
      "cell_type": "markdown",
      "metadata": {
        "id": "oxGECKRiqfob",
        "colab_type": "text"
      },
      "source": [
        "*For n=9*"
      ]
    },
    {
      "cell_type": "code",
      "metadata": {
        "id": "rCVEyGchmr8f",
        "colab_type": "code",
        "colab": {
          "base_uri": "https://localhost:8080/",
          "height": 86
        },
        "outputId": "719ffe86-015c-4e74-c22f-bd5637f958ca"
      },
      "source": [
        "#for n=9\n",
        "\n",
        "Xt = np.c_[x0,x1,x2,x3,x4,x5,x6,x7,x8,x9]\n",
        "theta = np.array([0,0,0,0,0,0,0,0,0,0])\n",
        "X_test = np.c_[x0_t,x1_t,x2_t,x3_t,x4_t,x5_t,x6_t,x7_t,x8_t,x9_t]\n",
        "\n",
        "new_theta , cost_value=GDR(Xt,y_train,theta,alpha,itr)\n",
        "\n",
        "train_error_109=cost_value[-1]\n",
        "\n",
        "test_error_109=cost(new_theta,X_test,y_test)\n",
        "\n",
        "print(\"NEW Theta Value : \",new_theta)\n",
        "print(\"Train error : \", train_error_109)\n",
        "print(\"Test error : \", test_error_109)\n"
      ],
      "execution_count": null,
      "outputs": [
        {
          "output_type": "stream",
          "text": [
            "NEW Theta Value :  [ 0.20896321  4.16109748 -8.77882898 -3.99822468  1.37117704  3.88664316\n",
            "  3.90104417  2.32048443 -0.11883433 -2.92856447]\n",
            "Train error :  62.08129825962281\n",
            "Test error :  7.044679197496966\n"
          ],
          "name": "stdout"
        }
      ]
    },
    {
      "cell_type": "markdown",
      "metadata": {
        "id": "0lQ9exaiqk1W",
        "colab_type": "text"
      },
      "source": [
        "* ***Train error vs Test error***"
      ]
    },
    {
      "cell_type": "code",
      "metadata": {
        "id": "MzBkNdHzoQPf",
        "colab_type": "code",
        "colab": {
          "base_uri": "https://localhost:8080/",
          "height": 330
        },
        "outputId": "6637470a-8327-418e-8578-4d5dbe69e06e"
      },
      "source": [
        "#Train error vs Test error\n",
        "\n",
        "train_error_12=np.array([train_error_100,train_error_101,train_error_102,train_error_103,train_error_104,train_error_105,train_error_106,train_error_107,train_error_108,train_error_109])\n",
        "test_error_12=np.array([test_error_100,test_error_101,test_error_102,test_error_103,test_error_104,test_error_105,test_error_106,test_error_107,test_error_108,test_error_109])\n",
        "\n",
        "error_x=[0,1,2,3,4,5,6,7,8,9]\n",
        "\n",
        "plt.plot(error_x,train_error_12, 'r', label='Train Error')\n",
        "plt.plot(error_x,test_error_12, 'g', label='Test Error')\n",
        "plt.title('Train Error vs Test Error')\n",
        "plt.ylabel('Error')\n",
        "plt.xlabel('N')\n",
        "plt.legend()\n",
        "plt.grid()\n",
        "plt.xticks(np.arange(0, 10, step=1))\n",
        "plt.show()\n",
        "\n",
        "print(\"MIN Train error : \",min(train_error_12))\n",
        "print(\"MIN Test error : \",min(test_error_12))"
      ],
      "execution_count": null,
      "outputs": [
        {
          "output_type": "display_data",
          "data": {
            "image/png": "[encoded data removed]",
            "text/plain": [
              "<Figure size 432x288 with 1 Axes>"
            ]
          },
          "metadata": {
            "tags": [],
            "needs_background": "light"
          }
        },
        {
          "output_type": "stream",
          "text": [
            "MIN Train error :  60.640093450271436\n",
            "MIN Test error :  5.264272470812643\n"
          ],
          "name": "stdout"
        }
      ]
    },
    {
      "cell_type": "markdown",
      "metadata": {
        "id": "cQRiQ57BFsWz",
        "colab_type": "text"
      },
      "source": [
        "*NOTE: For N=100 we got minimun test error when n=5 as 5.26 so,n=5 is sutaible for N=100* "
      ]
    },
    {
      "cell_type": "markdown",
      "metadata": {
        "colab_type": "text",
        "id": "wk1z0j_4sbPB"
      },
      "source": [
        "#***Experimenting with Larger Training Set(N=1000)***"
      ]
    },
    {
      "cell_type": "markdown",
      "metadata": {
        "colab_type": "text",
        "id": "uaMiS5j_sbPS"
      },
      "source": [
        "* **For N=1000**"
      ]
    },
    {
      "cell_type": "code",
      "metadata": {
        "colab_type": "code",
        "id": "tZEUo3E-sbPe",
        "colab": {
          "base_uri": "https://localhost:8080/",
          "height": 1000
        },
        "outputId": "410a689c-4e9f-4195-9504-bb9583470679"
      },
      "source": [
        "#Generating a Synthetic Dataset\n",
        "\n",
        "inp=[]\n",
        "for i in range(1000):\n",
        "  inp.append(random.uniform(0,1))\n",
        "X=np.array(inp)\n",
        "print(X)\n",
        "print()\n",
        "Y=np.random.normal(scale=0.3)+ np.sin(2*math.pi*X) \n",
        "print(Y)\n",
        "\n",
        "#ploting \n",
        "plt.scatter(X,Y)\n",
        "plt.show()\n"
      ],
      "execution_count": null,
      "outputs": [
        {
          "output_type": "stream",
          "text": [
            "[0.56908356 0.09410114 0.9025086  0.17925068 0.91692619 0.66049341\n",
            " 0.9089407  0.09578928 0.13755767 0.63595405 0.57374612 0.29320748\n",
            " 0.37028383 0.82568073 0.08241459 0.90880441 0.7906776  0.59675933\n",
            " 0.28119426 0.12162542 0.22979081 0.76004694 0.21306827 0.3256999\n",
            " 0.93222096 0.22470392 0.87483479 0.3469653  0.89376649 0.9637554\n",
            " 0.68050268 0.71503873 0.92602381 0.4170929  0.69493707 0.27365163\n",
            " 0.95548063 0.93529053 0.48491267 0.69050149 0.38424323 0.77445876\n",
            " 0.51574765 0.782836   0.75479362 0.56101157 0.94622759 0.75080796\n",
            " 0.043303   0.7096532  0.15996795 0.21528452 0.58250342 0.88769307\n",
            " 0.7401687  0.84841311 0.8155087  0.38483536 0.92342912 0.24741735\n",
            " 0.55108344 0.79036527 0.61079404 0.89544643 0.67165761 0.8079854\n",
            " 0.13313016 0.13438434 0.42725045 0.78561247 0.58546519 0.92176767\n",
            " 0.56611137 0.1176047  0.88043337 0.03751535 0.40102383 0.46550996\n",
            " 0.98621544 0.07069841 0.5779696  0.01289954 0.70580524 0.31957339\n",
            " 0.67437077 0.73200198 0.49449492 0.97858406 0.47693959 0.13963078\n",
            " 0.3103371  0.49519256 0.69682952 0.33967748 0.39579144 0.1199869\n",
            " 0.74876052 0.87107116 0.02795499 0.45479058 0.62651605 0.73160754\n",
            " 0.67328318 0.13462178 0.13622904 0.14845445 0.10300782 0.11104077\n",
            " 0.42907944 0.87835902 0.43517133 0.42639729 0.98742157 0.33381199\n",
            " 0.21527005 0.28852677 0.92796185 0.64168852 0.13805458 0.99292319\n",
            " 0.97873418 0.22629805 0.03138897 0.67300739 0.91778252 0.28607724\n",
            " 0.96258262 0.17013447 0.9329683  0.73982249 0.8915352  0.73631943\n",
            " 0.11079532 0.31309825 0.54604413 0.00115988 0.27157561 0.9598132\n",
            " 0.48753865 0.91213742 0.06155243 0.82536592 0.67046611 0.72982616\n",
            " 0.83475565 0.88247003 0.33651638 0.65766376 0.04250827 0.42327159\n",
            " 0.12663124 0.07153302 0.69986985 0.78375836 0.53179749 0.86449675\n",
            " 0.04781469 0.33845309 0.13706806 0.94307461 0.07030793 0.94551734\n",
            " 0.65613424 0.79574741 0.0650551  0.58865762 0.58645754 0.09873371\n",
            " 0.58800454 0.44298044 0.85249447 0.92138346 0.46990027 0.75273299\n",
            " 0.79057071 0.99334006 0.60483027 0.55470617 0.33064584 0.31386291\n",
            " 0.39218767 0.74078597 0.94308714 0.15699598 0.00139825 0.0077743\n",
            " 0.30704398 0.69736103 0.24246333 0.51168225 0.24935432 0.48375599\n",
            " 0.60645191 0.08751118 0.46125131 0.48856605 0.33127879 0.11719404\n",
            " 0.25310566 0.28408866 0.43186082 0.39453727 0.69754518 0.51625078\n",
            " 0.92784316 0.4692645  0.15337769 0.22367766 0.58656942 0.24109868\n",
            " 0.61520502 0.93147051 0.68495103 0.04600566 0.77363829 0.63926688\n",
            " 0.56547621 0.06456483 0.67173195 0.02905873 0.96565767 0.13942037\n",
            " 0.18838347 0.66451058 0.22640692 0.14324912 0.11416357 0.40926584\n",
            " 0.03192729 0.3151049  0.39501073 0.81319543 0.02717204 0.28989638\n",
            " 0.191778   0.96073308 0.49177569 0.5030156  0.7252504  0.04938477\n",
            " 0.69846143 0.41753605 0.38783465 0.31077367 0.75875874 0.10009286\n",
            " 0.48188434 0.01733005 0.24101271 0.43960984 0.295435   0.13411954\n",
            " 0.15135599 0.02314122 0.7544533  0.3243234  0.81175728 0.96799956\n",
            " 0.02848902 0.01714415 0.056362   0.08674774 0.27732167 0.8659367\n",
            " 0.60391122 0.45488325 0.80378474 0.98180767 0.4108489  0.39302257\n",
            " 0.06909607 0.56678898 0.2890823  0.99673029 0.09846905 0.13280972\n",
            " 0.8734928  0.79483437 0.11448726 0.49645507 0.86647546 0.74585127\n",
            " 0.92193272 0.25088368 0.36806223 0.92053811 0.87392549 0.83825705\n",
            " 0.62166857 0.62088564 0.82690396 0.40064903 0.46574076 0.23448226\n",
            " 0.22658819 0.36146641 0.9621406  0.20620294 0.71170112 0.05754114\n",
            " 0.60539356 0.25342858 0.45595363 0.63490238 0.84613917 0.49769595\n",
            " 0.30535063 0.54867307 0.25502162 0.52441093 0.22801506 0.89392925\n",
            " 0.30082335 0.68783294 0.75391467 0.08522152 0.67504393 0.22757919\n",
            " 0.5579602  0.84617553 0.01315485 0.1907726  0.62929881 0.66474834\n",
            " 0.74184752 0.68184425 0.41874093 0.83468449 0.02573095 0.47916962\n",
            " 0.72445851 0.70126114 0.81488327 0.27525747 0.57694702 0.7477475\n",
            " 0.64668432 0.53880102 0.04748039 0.64920885 0.8586146  0.37389567\n",
            " 0.91441161 0.09748304 0.74379379 0.54348085 0.21811236 0.33880061\n",
            " 0.2463818  0.71050618 0.51762706 0.30504206 0.41636397 0.32012018\n",
            " 0.10886815 0.07380291 0.72652129 0.88640011 0.38790078 0.93271204\n",
            " 0.41579986 0.24686962 0.89092352 0.6964114  0.60462807 0.03472286\n",
            " 0.64673563 0.61955189 0.16505869 0.74891345 0.74215119 0.87844107\n",
            " 0.6465334  0.94782005 0.39591768 0.68616399 0.57433616 0.97554685\n",
            " 0.7832216  0.71267142 0.38070883 0.40850455 0.30006866 0.74602472\n",
            " 0.77040592 0.10571267 0.21216255 0.02244686 0.59040798 0.95299807\n",
            " 0.41659694 0.34743019 0.17597774 0.08760644 0.29058318 0.20180897\n",
            " 0.80405267 0.00624515 0.49287453 0.80970187 0.85791636 0.74234682\n",
            " 0.65678993 0.84969038 0.46653645 0.65867118 0.9449675  0.96648569\n",
            " 0.98808958 0.57719159 0.98179256 0.39273698 0.3320032  0.71511937\n",
            " 0.11303711 0.8064695  0.67619486 0.61272229 0.37275275 0.67276573\n",
            " 0.45507574 0.65528677 0.35559974 0.72911685 0.51307817 0.88574643\n",
            " 0.45089948 0.93106188 0.35645398 0.95378135 0.15881475 0.18293099\n",
            " 0.36755133 0.94796887 0.91177964 0.83182247 0.1328083  0.52420131\n",
            " 0.41866927 0.75376718 0.72144409 0.05702765 0.55634695 0.54484749\n",
            " 0.44626665 0.57252189 0.13294035 0.34739186 0.20936812 0.98055163\n",
            " 0.95535781 0.33140962 0.45334069 0.18991301 0.50837006 0.62486252\n",
            " 0.75091511 0.26515595 0.94901325 0.3225623  0.11636075 0.65418916\n",
            " 0.15834847 0.94414426 0.6804288  0.47781533 0.23971179 0.39391267\n",
            " 0.04677016 0.47163663 0.13527663 0.90342542 0.87647256 0.85244266\n",
            " 0.89202194 0.89053745 0.18370092 0.21074868 0.77093759 0.01109444\n",
            " 0.86464113 0.49054182 0.61675536 0.35146893 0.17836546 0.45259689\n",
            " 0.99508448 0.5281672  0.20758541 0.03687881 0.79098957 0.8627485\n",
            " 0.30987681 0.79823248 0.10493863 0.66581107 0.73321284 0.53791725\n",
            " 0.56038751 0.90532688 0.14004715 0.03952326 0.58438171 0.18429394\n",
            " 0.40044468 0.87577467 0.20666912 0.35025899 0.91512781 0.32711665\n",
            " 0.46196746 0.65793013 0.69325151 0.69078873 0.1667159  0.85975093\n",
            " 0.3411925  0.90758921 0.95993387 0.03556972 0.91576282 0.1825433\n",
            " 0.43354208 0.56648945 0.4047242  0.92271143 0.63181331 0.88627267\n",
            " 0.34627398 0.76822252 0.05553118 0.75244913 0.38635701 0.22122497\n",
            " 0.00817624 0.07809744 0.75876339 0.4615597  0.27752273 0.04125767\n",
            " 0.38383192 0.51334239 0.35987743 0.93780396 0.33380974 0.00495891\n",
            " 0.83705851 0.11406421 0.97692027 0.42216531 0.04176492 0.60511759\n",
            " 0.81756303 0.73719461 0.58479774 0.77428785 0.76910538 0.04024527\n",
            " 0.04031869 0.34081005 0.2608844  0.25823168 0.79575137 0.68007544\n",
            " 0.61126984 0.92794043 0.65569962 0.81539165 0.79657176 0.14116143\n",
            " 0.58266872 0.21230028 0.15640672 0.23264179 0.89881073 0.51002527\n",
            " 0.03556416 0.46694466 0.70141468 0.62697018 0.57566067 0.16818337\n",
            " 0.14921423 0.50930989 0.75130415 0.89957728 0.96297635 0.77444894\n",
            " 0.23543067 0.6905921  0.62477476 0.19951724 0.50518752 0.37695717\n",
            " 0.61300363 0.75275014 0.25369145 0.98692454 0.61797079 0.96716717\n",
            " 0.40463097 0.21918217 0.24015338 0.53448538 0.8719338  0.75700434\n",
            " 0.64930511 0.90045492 0.36305405 0.78601235 0.77350811 0.15128324\n",
            " 0.90811898 0.82513409 0.12628188 0.26630121 0.71356145 0.43599978\n",
            " 0.42859017 0.00922342 0.76330518 0.40650181 0.63793616 0.39551949\n",
            " 0.55529619 0.28842134 0.01420926 0.10142758 0.87511434 0.47945795\n",
            " 0.94189271 0.69866447 0.62226139 0.34035245 0.94542653 0.13985024\n",
            " 0.58692538 0.0946655  0.83625854 0.74970173 0.15880458 0.48792856\n",
            " 0.61355501 0.594474   0.56517067 0.28931185 0.73386508 0.02465168\n",
            " 0.72235616 0.68555007 0.74729282 0.47753565 0.28371925 0.48877149\n",
            " 0.62424785 0.84652371 0.55181047 0.53173721 0.81551217 0.42500691\n",
            " 0.32415307 0.81413214 0.15143773 0.45181812 0.08492333 0.1355277\n",
            " 0.89920064 0.32242489 0.61700254 0.50152079 0.46955539 0.91034848\n",
            " 0.49735732 0.68171951 0.08794828 0.58248021 0.59502155 0.18821484\n",
            " 0.68068478 0.64508549 0.77357341 0.28379599 0.82663738 0.38521938\n",
            " 0.47978756 0.6366067  0.57474502 0.8989617  0.81116042 0.18335632\n",
            " 0.84338654 0.65023923 0.24650792 0.40908091 0.42469957 0.69190032\n",
            " 0.31750416 0.89729797 0.42859144 0.24618359 0.13128144 0.00167125\n",
            " 0.84164144 0.49611625 0.20450562 0.16885982 0.26264002 0.72530362\n",
            " 0.48509439 0.71797526 0.50583202 0.85639334 0.67868394 0.30414142\n",
            " 0.25268156 0.20200856 0.72731519 0.38895549 0.45858978 0.29895721\n",
            " 0.01134109 0.70459343 0.92543087 0.43284824 0.95745619 0.41416109\n",
            " 0.41866735 0.80126779 0.87672442 0.77088842 0.84583743 0.07499696\n",
            " 0.83163094 0.56490541 0.63873523 0.26661333 0.95935353 0.55832202\n",
            " 0.58820562 0.73328943 0.52350974 0.89755138 0.06427487 0.26386213\n",
            " 0.37256022 0.4389353  0.51952228 0.80845654 0.47398333 0.3757889\n",
            " 0.50665684 0.67624964 0.02771197 0.90760406 0.07741844 0.04102607\n",
            " 0.35523991 0.42329606 0.44196653 0.3320566  0.44985784 0.35627936\n",
            " 0.11799041 0.5586728  0.89850458 0.28140798 0.33754687 0.26034916\n",
            " 0.03478146 0.60174817 0.83887985 0.0882941  0.36489243 0.85260144\n",
            " 0.6397259  0.21189319 0.99901467 0.19787131 0.53667249 0.12900244\n",
            " 0.63936101 0.36258757 0.2154698  0.6076879  0.95274233 0.88798843\n",
            " 0.35254059 0.95899096 0.93977489 0.62843744 0.13575342 0.50559215\n",
            " 0.77849261 0.51209154 0.75849462 0.52658048 0.36562706 0.68820534\n",
            " 0.27172844 0.72369339 0.04305914 0.38266046 0.02181188 0.28113905\n",
            " 0.77615051 0.81770905 0.54704998 0.50474282 0.26590821 0.58135239\n",
            " 0.97908013 0.40664445 0.0998569  0.88167949 0.28010838 0.7848557\n",
            " 0.25201524 0.52001731 0.93770789 0.44170293 0.616038   0.62266922\n",
            " 0.53239335 0.41099067 0.980421   0.79787632 0.56437833 0.15763386\n",
            " 0.71020584 0.76415181 0.26984901 0.75586791 0.56061783 0.39057358\n",
            " 0.38719842 0.98347946 0.42869803 0.6329649  0.38447588 0.38433078\n",
            " 0.61236502 0.65666737 0.51856518 0.50438128 0.63276468 0.92649101\n",
            " 0.87395897 0.76980703 0.35519401 0.56593308 0.21946604 0.37637891\n",
            " 0.67368605 0.2824307  0.65812963 0.74008297 0.41390604 0.90906892\n",
            " 0.06497133 0.8588198  0.4199009  0.4962825  0.1958074  0.2050226\n",
            " 0.52564898 0.17905693 0.50178279 0.72185273 0.51941581 0.54951869\n",
            " 0.55322266 0.86333986 0.78273654 0.78611738 0.11527106 0.23366403\n",
            " 0.14984763 0.23931287 0.167265   0.41422036 0.55354285 0.07887794\n",
            " 0.63008856 0.85169703 0.68052123 0.66645077 0.80719222 0.80834956\n",
            " 0.85458227 0.32145194 0.45492065 0.61402846 0.54228996 0.33882778\n",
            " 0.27013609 0.8844101  0.13801773 0.29190972 0.7313001  0.71308893\n",
            " 0.97076696 0.11619986 0.21908112 0.02446732 0.10609934 0.43952679\n",
            " 0.50205487 0.65959056 0.65577207 0.53583776 0.60889972 0.30126073\n",
            " 0.14042042 0.45517686 0.45649348 0.30125403 0.51801456 0.83343691\n",
            " 0.45496336 0.20975549 0.79792951 0.55627342 0.86215796 0.78848033\n",
            " 0.34977856 0.74763263 0.61803816 0.58933615 0.55919861 0.44908412\n",
            " 0.73212708 0.1321816  0.78095124 0.15946167 0.37913384 0.31682289\n",
            " 0.31820917 0.94219015 0.08846638 0.88361027 0.90428492 0.67408052\n",
            " 0.76752944 0.86845202 0.0158206  0.04367453 0.35681941 0.70407756\n",
            " 0.03242257 0.75315823 0.95678911 0.97231468 0.47048206 0.84764479\n",
            " 0.18556087 0.32951327 0.89445833 0.10161009 0.09794306 0.51505748\n",
            " 0.58144085 0.92917803 0.96759184 0.12207157 0.09720181 0.72585816\n",
            " 0.8056439  0.03277981 0.90332452 0.48223141 0.23477206 0.17518854\n",
            " 0.13725166 0.55004006 0.11117047 0.05390262 0.1076423  0.39684348\n",
            " 0.34811214 0.12947828 0.01594632 0.1304614  0.10399477 0.4092546\n",
            " 0.22821178 0.06860418 0.52486424 0.55067728 0.26030972 0.26588617\n",
            " 0.29014508 0.26547357 0.42136762 0.8344098  0.04493717 0.71777418\n",
            " 0.36358404 0.88032819 0.75505516 0.84789728]\n",
            "\n",
            "[-4.31770615e-01  5.46194861e-01 -5.86169525e-01  8.91603935e-01\n",
            " -5.09795670e-01 -8.57193499e-01 -5.52643040e-01  5.54969616e-01\n",
            "  7.49432745e-01 -7.65270255e-01 -4.58165269e-01  9.52166434e-01\n",
            "  7.16538209e-01 -9.00265086e-01  4.83783968e-01 -5.53362765e-01\n",
            " -9.78724067e-01 -5.82400026e-01  9.69645062e-01  6.80747607e-01\n",
            "  9.80740626e-01 -1.00921664e+00  9.61988762e-01  8.77792966e-01\n",
            " -4.24320140e-01  9.76187135e-01 -7.19048903e-01  8.08868410e-01\n",
            " -6.30221039e-01 -2.36976698e-01 -9.17375805e-01 -9.87178297e-01\n",
            " -4.59457945e-01  4.86470419e-01 -9.51955235e-01  9.77769719e-01\n",
            " -2.87298341e-01 -4.06680397e-01  8.34460818e-02 -9.42140283e-01\n",
            "  6.53662633e-01 -9.99423092e-01 -1.09992520e-01 -9.90000999e-01\n",
            " -1.01075493e+00 -3.85235086e-01 -3.42679240e-01 -1.01119559e+00\n",
            "  2.57527747e-01 -9.79247443e-01  8.33011535e-01  9.65096694e-01\n",
            " -5.06685830e-01 -6.59733586e-01 -1.00930120e+00 -8.26045796e-01\n",
            " -9.27689035e-01  6.50879017e-01 -4.73971053e-01  9.88659862e-01\n",
            " -3.26692546e-01 -9.79218328e-01 -6.52468704e-01 -6.21896756e-01\n",
            " -8.92485047e-01 -9.45570111e-01  7.31081542e-01  7.36338824e-01\n",
            "  4.30138235e-01 -9.86278539e-01 -5.22763546e-01 -4.83199829e-01\n",
            " -4.14755246e-01  6.62290450e-01 -6.93768096e-01  2.22330673e-01\n",
            "  5.71360286e-01  2.03806655e-01 -9.77111696e-02  4.18537272e-01\n",
            " -4.81743857e-01  6.97530014e-02 -9.72901412e-01  8.94756618e-01\n",
            " -9.00413159e-01 -1.00482119e+00  2.33740769e-02 -1.45363105e-01\n",
            "  1.33177879e-01  7.57823964e-01  9.17786211e-01  1.89929555e-02\n",
            " -9.55920863e-01  8.34203553e-01  5.97761770e-01  6.73278640e-01\n",
            " -1.01117815e+00 -7.35553417e-01  1.63536160e-01  2.69045981e-01\n",
            " -7.25018712e-01 -1.00453848e+00 -8.97266005e-01  7.37328902e-01\n",
            "  7.43987020e-01  7.92062477e-01  5.91760251e-01  6.31240506e-01\n",
            "  4.19797235e-01 -7.03235167e-01  3.84951202e-01  4.34942108e-01\n",
            " -9.01588572e-02  8.53309261e-01  9.65077013e-01  9.59635172e-01\n",
            " -4.48539834e-01 -7.88440834e-01  7.51455878e-01 -5.56587079e-02\n",
            " -1.44428338e-01  9.77722859e-01  1.84738190e-01 -8.96461396e-01\n",
            " -5.05124452e-01  9.63209432e-01 -2.44149049e-01  8.65504908e-01\n",
            " -4.20039323e-01 -1.00916456e+00 -6.41170611e-01 -1.00751640e+00\n",
            "  6.30057922e-01  9.11226050e-01 -2.96493479e-01 -3.92078566e-03\n",
            "  9.79616848e-01 -2.61035043e-01  6.70084982e-02 -5.35648110e-01\n",
            "  3.65967665e-01 -9.01168863e-01 -8.88922304e-01 -1.00318569e+00\n",
            " -8.72731019e-01 -6.84360239e-01  8.44644546e-01 -8.47580297e-01\n",
            "  2.52714662e-01  4.52431320e-01  7.03108451e-01  4.23266472e-01\n",
            " -9.62011982e-01 -9.88797366e-01 -2.09671518e-01 -7.63406865e-01\n",
            "  2.84721140e-01  8.38287467e-01  7.47432115e-01 -3.61303695e-01\n",
            "  4.16320638e-01 -3.46886252e-01 -8.42273787e-01 -9.70181405e-01\n",
            "  3.86257133e-01 -5.39894863e-01 -5.28111084e-01  5.70121429e-01\n",
            " -5.36407387e-01  3.39440965e-01 -8.10914016e-01 -4.85326746e-01\n",
            "  1.76788312e-01 -1.01106105e+00 -9.78893637e-01 -5.30419084e-02\n",
            " -6.23272504e-01 -3.48208801e-01  8.63136070e-01  9.09360146e-01\n",
            "  6.15564490e-01 -1.00953312e+00 -3.61229995e-01  8.22856016e-01\n",
            " -2.42315171e-03  3.76194469e-02  9.25244503e-01 -9.57010640e-01\n",
            "  9.87670514e-01 -8.45443506e-02  9.88783291e-01  9.06785212e-02\n",
            " -6.31298219e-01  5.11349993e-01  2.29858613e-01  6.05713397e-02\n",
            "  8.61199125e-01  6.60380915e-01  9.88601140e-01  9.65941389e-01\n",
            "  4.03962845e-01  6.03993272e-01 -9.57385750e-01 -1.13137826e-01\n",
            " -4.49210329e-01  1.80710252e-01  8.10099743e-01  9.75146047e-01\n",
            " -5.28712749e-01  9.87227923e-01 -6.73486075e-01 -4.28609597e-01\n",
            " -9.28840872e-01  2.73844878e-01 -1.00019909e+00 -7.78777365e-01\n",
            " -4.11100631e-01  3.83428530e-01 -8.92705689e-01  1.70360169e-01\n",
            " -2.25317130e-01  7.56978219e-01  9.14781098e-01 -8.70381082e-01\n",
            "  9.77824122e-01  7.72156198e-01  6.46152098e-01  5.28507359e-01\n",
            "  1.88053810e-01  9.06284176e-01  6.01645283e-01 -9.33407065e-01\n",
            "  1.58690291e-01  9.57536386e-01  9.22622413e-01 -2.55434371e-01\n",
            "  4.04434144e-02 -3.01549082e-02 -9.99141722e-01  2.94129785e-01\n",
            " -9.59233304e-01  4.84053442e-01  6.36639264e-01  9.16767529e-01\n",
            " -1.00969456e+00  5.77048724e-01  1.02369917e-01  9.74643888e-02\n",
            "  9.87197580e-01  3.59194249e-01  9.48319084e-01  7.35232682e-01\n",
            "  8.02786981e-01  1.33680308e-01 -1.01081704e+00  8.81719995e-01\n",
            " -9.36863787e-01 -2.10921189e-01  1.66838938e-01  9.63031867e-02\n",
            "  3.35568701e-01  5.07254167e-01  9.74092868e-01 -7.57414443e-01\n",
            " -6.18695798e-01  2.68486963e-01 -9.54648287e-01 -1.25265483e-01\n",
            "  5.20107246e-01  6.11468335e-01  4.09424949e-01 -4.18647096e-01\n",
            "  9.58792540e-01 -3.17512497e-02  5.68767578e-01  7.29730900e-01\n",
            " -7.24979765e-01 -9.71791989e-01  6.47683363e-01  1.10631371e-02\n",
            " -7.55156656e-01 -1.01086875e+00 -4.82285349e-01  9.88776106e-01\n",
            "  7.26040533e-01 -4.89996579e-01 -7.23073028e-01 -8.61353641e-01\n",
            " -7.03360267e-01 -6.99801393e-01 -8.96720325e-01  5.73272735e-01\n",
            "  2.02390175e-01  9.84042076e-01  9.77991704e-01  7.53399099e-01\n",
            " -2.46849014e-01  9.51166458e-01 -9.82394368e-01  3.42508183e-01\n",
            " -6.26067570e-01  9.88559492e-01  2.62023736e-01 -7.60913802e-01\n",
            " -8.34244731e-01  3.26778129e-03  9.28923740e-01 -3.12285519e-01\n",
            "  9.88293805e-01 -1.63986237e-01  9.79265981e-01 -6.29417577e-01\n",
            "  9.38236688e-01 -9.35886530e-01 -1.01090600e+00  4.99030477e-01\n",
            " -9.02340289e-01  9.78885159e-01 -3.67386690e-01 -8.34114943e-01\n",
            "  7.13518069e-02  9.20344057e-01 -7.37154123e-01 -8.71144522e-01\n",
            " -1.00989684e+00 -9.20908495e-01  4.77462507e-01 -8.72957930e-01\n",
            "  1.49760453e-01  1.19299310e-01 -9.98358868e-01 -9.64683753e-01\n",
            " -9.29254148e-01  9.76225503e-01 -4.76064857e-01 -1.01110833e+00\n",
            " -8.07805441e-01 -2.52594620e-01  2.82714100e-01 -8.17293635e-01\n",
            " -7.87241047e-01  7.00787662e-01 -5.23428529e-01  5.63709574e-01\n",
            " -1.01044828e+00 -2.81020919e-01  9.68787323e-01  8.37133411e-01\n",
            "  9.88533118e-01 -9.80577682e-01 -1.21736260e-01  9.29582747e-01\n",
            "  4.90437705e-01  8.93296795e-01  6.20719844e-01  4.36067527e-01\n",
            " -1.00034696e+00 -6.65896010e-01  6.36322690e-01 -4.21508219e-01\n",
            "  4.93500701e-01  9.88598097e-01 -6.44150768e-01 -9.55056161e-01\n",
            " -6.22267345e-01  2.05235041e-01 -8.08000314e-01 -6.93700412e-01\n",
            "  8.49721190e-01 -1.01118518e+00 -1.00999272e+00 -7.02862925e-01\n",
            " -8.07231882e-01 -3.33222710e-01  5.97132408e-01 -9.31843099e-01\n",
            " -4.61478629e-01 -1.64248364e-01 -9.89501808e-01 -9.83829273e-01\n",
            "  6.70085223e-01  5.32528010e-01  9.39714644e-01 -1.01089656e+00\n",
            " -1.00300029e+00  6.05230606e-01  9.60664296e-01  1.29362200e-01\n",
            " -5.49197869e-01 -3.02256246e-01  4.89170886e-01  8.07193377e-01\n",
            "  8.82570222e-01  5.11860195e-01  9.56456931e-01  9.43298841e-01\n",
            " -9.54088816e-01  2.80208632e-02  3.35472229e-02 -9.41672906e-01\n",
            " -7.90000537e-01 -1.01005255e+00 -8.44558081e-01 -8.21367408e-01\n",
            "  1.97503426e-01 -8.51033283e-01 -3.50138536e-01 -2.20232290e-01\n",
            " -8.59740129e-02 -4.77424879e-01 -1.25359804e-01  6.12871421e-01\n",
            "  8.58965375e-01 -9.87288573e-01  6.40802033e-01 -9.48921569e-01\n",
            " -9.05598200e-01 -6.61717924e-01  7.05811769e-01 -8.95754141e-01\n",
            "  2.67325595e-01 -8.39300494e-01  7.76631312e-01 -1.00261244e+00\n",
            " -9.32886226e-02 -6.68995082e-01  2.92428626e-01 -4.30941359e-01\n",
            "  7.73314339e-01 -2.97544337e-01  8.29105703e-01  9.01305821e-01\n",
            "  7.28205518e-01 -3.32337304e-01 -5.37560835e-01 -8.81941308e-01\n",
            "  7.29724911e-01 -1.62684488e-01  4.77855271e-01 -1.01092836e+00\n",
            " -9.95155473e-01  3.39488570e-01 -3.57896971e-01 -2.89279231e-01\n",
            "  3.20030675e-01 -4.51271185e-01  7.30281894e-01  8.07331754e-01\n",
            "  9.56379700e-01 -1.33102306e-01 -2.88039972e-01  8.60797052e-01\n",
            "  2.77779095e-01  9.18366662e-01 -6.37748902e-02 -7.17704209e-01\n",
            " -1.01119195e+00  9.84260796e-01 -3.26116002e-01  8.86646811e-01\n",
            "  6.56492477e-01 -8.35414708e-01  8.27513880e-01 -3.55000382e-01\n",
            " -9.17179389e-01  1.27730950e-01  9.86702908e-01  6.07082492e-01\n",
            "  2.78445779e-01  1.66062015e-01  7.40050902e-01 -5.81446816e-01\n",
            " -7.11742664e-01 -8.11109405e-01 -6.38792533e-01 -6.46026877e-01\n",
            "  9.03273940e-01  9.58533827e-01 -1.00256762e+00  5.84434849e-02\n",
            " -7.62808797e-01  4.81840418e-02 -6.80753132e-01  7.92349142e-01\n",
            "  8.89198116e-01  2.82249946e-01 -4.20886740e-02 -1.87265773e-01\n",
            "  9.53490409e-01  2.18439902e-01 -9.78226668e-01 -7.70599503e-01\n",
            "  9.18852665e-01 -9.65638117e-01  6.01393835e-01 -8.74533456e-01\n",
            " -1.00565095e+00 -2.47202273e-01 -3.81595734e-01 -5.71591976e-01\n",
            "  7.59493567e-01  2.34578984e-01 -5.16902219e-01  9.04775255e-01\n",
            "  5.74314089e-01 -7.14865112e-01  9.51958229e-01  7.96850952e-01\n",
            " -5.19558534e-01  8.73681683e-01  2.25489163e-01 -8.48496585e-01\n",
            " -9.48311133e-01 -9.42797872e-01  8.54971551e-01 -7.82718314e-01\n",
            "  8.29080991e-01 -5.59762713e-01 -2.60300824e-01  2.10426832e-01\n",
            " -5.16118589e-01  9.00306725e-01  3.94329595e-01 -4.16927677e-01\n",
            "  5.52307329e-01 -4.77963846e-01 -7.47928938e-01 -6.66501063e-01\n",
            "  8.11346362e-01 -1.00466103e+00  3.30667748e-01 -1.01109008e+00\n",
            "  6.43683702e-01  9.72491886e-01  4.01417499e-02  4.60035512e-01\n",
            " -1.00969295e+00  2.27977590e-01  9.73876288e-01  2.45127479e-01\n",
            "  6.55590811e-01 -9.49429994e-02  7.59795450e-01 -3.92126752e-01\n",
            "  8.53316373e-01  1.99442470e-02 -8.65294738e-01  6.45681509e-01\n",
            " -1.55714968e-01  4.58578805e-01  2.48206845e-01 -6.24699156e-01\n",
            " -9.22448705e-01 -1.00797343e+00 -5.19155606e-01 -9.99586910e-01\n",
            " -1.00401201e+00  2.38973760e-01  2.39420363e-01  8.30381340e-01\n",
            "  9.86453924e-01  9.87454278e-01 -9.70174344e-01 -9.16237253e-01\n",
            " -6.54759758e-01 -4.48660832e-01 -8.40751882e-01 -9.27983020e-01\n",
            " -9.68700167e-01  7.63935801e-01 -5.07587727e-01  9.60867731e-01\n",
            "  8.20807788e-01  9.82849845e-01 -6.05022549e-01 -7.41574612e-02\n",
            "  2.10392719e-01  1.94994356e-01 -9.64974149e-01 -7.27014150e-01\n",
            " -4.68893743e-01  8.59542389e-01  7.94896682e-01 -6.96708866e-02\n",
            " -1.01117491e+00 -6.01140440e-01 -2.41742476e-01 -9.99432536e-01\n",
            "  9.84604495e-01 -9.42348049e-01 -7.17313819e-01  9.38906325e-01\n",
            " -4.37968598e-02  6.87149573e-01 -6.63059495e-01 -1.01105919e+00\n",
            "  9.88522550e-01 -9.32716330e-02 -6.86405899e-01 -2.16043095e-01\n",
            "  5.52791134e-01  9.70102934e-01  9.86878297e-01 -2.26195003e-01\n",
            " -7.31805950e-01 -1.01024021e+00 -8.17651417e-01 -5.96678901e-01\n",
            "  7.46932037e-01 -9.85717942e-01 -1.00031979e+00  8.02521385e-01\n",
            " -5.56976536e-01 -9.01832207e-01  7.01570549e-01  9.83550814e-01\n",
            " -9.85113675e-01  3.80166476e-01  4.22569171e-01  4.67115188e-02\n",
            " -1.00771612e+00  5.43045539e-01 -7.73391371e-01  5.99116186e-01\n",
            " -3.51696782e-01  9.59793760e-01  7.79523476e-02  5.83809686e-01\n",
            " -7.17807071e-01  1.17502963e-01 -3.68250147e-01 -9.59638458e-01\n",
            " -7.06043849e-01  8.31930778e-01 -3.47423630e-01  7.58704610e-01\n",
            " -5.30625252e-01  5.49135356e-01 -8.67898309e-01 -1.01120672e+00\n",
            "  8.29071040e-01  6.45658890e-02 -6.65682841e-01 -5.70555331e-01\n",
            " -4.09340271e-01  9.58440902e-01 -1.00607406e+00  1.43064022e-01\n",
            " -9.96162021e-01 -9.30330238e-01 -1.01106382e+00  1.29470973e-01\n",
            "  9.66432100e-01  5.92838106e-02 -7.14965646e-01 -8.32869977e-01\n",
            " -3.31024030e-01 -2.09300301e-01 -9.27680313e-01  4.42743319e-01\n",
            "  8.82201284e-01 -9.31115070e-01  8.03085211e-01  2.86924124e-01\n",
            "  4.97418229e-01  7.41091143e-01 -6.03049605e-01  8.87026618e-01\n",
            " -6.81905873e-01 -2.07637636e-02  1.78916213e-01 -5.45185291e-01\n",
            "  5.39518328e-03 -9.20582762e-01  5.13689580e-01 -5.06559155e-01\n",
            " -5.73403815e-01  9.14380530e-01 -9.17859121e-01 -8.01692597e-01\n",
            " -1.00025933e+00  9.66330602e-01 -8.97497286e-01  6.49068800e-01\n",
            "  1.15448928e-01 -7.67957296e-01 -4.63770930e-01 -6.04259085e-01\n",
            " -9.38276238e-01  9.02395713e-01 -8.43944670e-01 -8.21108076e-01\n",
            "  9.88550818e-01  5.29485213e-01  4.44463130e-01 -9.45314022e-01\n",
            "  9.00184040e-01 -6.12643355e-01  4.22561946e-01  9.88504034e-01\n",
            "  7.23248121e-01 -7.07926846e-04 -8.49965369e-01  1.31914069e-02\n",
            "  9.48213941e-01  8.61624475e-01  9.85639440e-01 -9.99193455e-01\n",
            "  8.23094029e-02 -9.91032472e-01 -4.78439256e-02 -7.95967498e-01\n",
            " -9.12483857e-01  9.31485962e-01  9.88649584e-01  9.43672043e-01\n",
            " -1.00106786e+00  6.31258527e-01  2.46053815e-01  9.41852305e-01\n",
            "  5.99893971e-02 -9.70786329e-01 -4.62785172e-01  3.98310686e-01\n",
            " -2.75347038e-01  5.02362837e-01  4.77865764e-01 -9.59773294e-01\n",
            " -7.10612497e-01 -1.00260810e+00 -8.35320105e-01  4.42765006e-01\n",
            " -8.82532453e-01 -4.07810878e-01 -7.76631989e-01  9.83348388e-01\n",
            " -2.63830575e-01 -3.69510056e-01 -5.37482088e-01 -1.00570150e+00\n",
            " -1.58387905e-01 -6.11370535e-01  3.81753913e-01  9.85000861e-01\n",
            "  7.06654444e-01  3.63127737e-01 -1.33563237e-01 -9.44511200e-01\n",
            "  1.51532018e-01  6.92384627e-01 -5.30224547e-02 -9.05752112e-01\n",
            "  1.62032485e-01 -5.59684682e-01  4.56268387e-01  2.43720621e-01\n",
            "  7.78021742e-01  4.52295113e-01  3.45399901e-01  8.58799997e-01\n",
            "  2.98657879e-01  7.73994215e-01  6.64079887e-01 -3.71566858e-01\n",
            " -6.06569214e-01  9.69382671e-01  8.41277782e-01  9.86678094e-01\n",
            "  2.05594495e-01 -6.07844411e-01 -8.59286665e-01  5.15537769e-01\n",
            "  7.39349382e-01 -8.10510277e-01 -7.80622809e-01  9.60264312e-01\n",
            " -1.73994473e-02  9.35630011e-01 -2.39594960e-01  7.13455203e-01\n",
            " -7.79156316e-01  7.48840018e-01  9.65347960e-01 -6.37372061e-01\n",
            " -3.03793144e-01 -6.58319883e-01  7.88323010e-01 -2.66034157e-01\n",
            " -3.80647760e-01 -7.33421292e-01  7.42024749e-01 -4.63377956e-02\n",
            " -9.95226380e-01 -8.71087750e-02 -1.00978446e+00 -1.77443265e-01\n",
            "  7.36291266e-01 -9.36774910e-01  9.79486615e-01 -9.97579271e-01\n",
            "  2.56051620e-01  6.61058000e-01  1.25411011e-01  9.69712563e-01\n",
            " -9.97740175e-01 -9.22070445e-01 -3.02545089e-01 -4.10040938e-02\n",
            "  9.83800255e-01 -5.00390921e-01 -1.42273736e-01  5.42299334e-01\n",
            "  5.75849107e-01 -6.88025145e-01  9.70950947e-01 -9.87322627e-01\n",
            "  9.88711357e-01 -1.36649635e-01 -3.92684809e-01  3.46946753e-01\n",
            " -6.77398431e-01 -7.07884407e-01 -2.13339535e-01  5.19352410e-01\n",
            " -1.33916937e-01 -9.66303565e-01 -4.04768545e-01  8.25060365e-01\n",
            " -9.80112469e-01 -1.00725784e+00  9.81024681e-01 -1.01052889e+00\n",
            " -3.82939597e-01  6.23434519e-01  6.39679295e-01 -1.14823759e-01\n",
            "  4.21958463e-01 -7.52802314e-01  6.52570005e-01  6.53251618e-01\n",
            " -6.60011381e-01 -8.44132152e-01 -1.27592558e-01 -3.87334278e-02\n",
            " -7.51957775e-01 -4.56831985e-01 -7.22925288e-01 -1.00347442e+00\n",
            "  7.78198820e-01 -4.13730068e-01  9.70444584e-01  6.89745507e-01\n",
            " -8.98436643e-01  9.68102541e-01 -8.49181276e-01 -1.00926781e+00\n",
            "  5.03737216e-01 -5.51965544e-01  3.85774100e-01 -7.86427244e-01\n",
            "  4.71090729e-01  1.21471167e-02  9.31378613e-01  9.49124821e-01\n",
            " -1.71669071e-01  8.91079764e-01 -2.24098463e-02 -9.95610443e-01\n",
            " -1.32899261e-01 -3.17347908e-01 -3.39418341e-01 -7.68176730e-01\n",
            " -9.90128821e-01 -9.85569687e-01  6.51379964e-01  9.83528461e-01\n",
            "  7.97245418e-01  9.86537859e-01  8.56690527e-01  5.02043259e-01\n",
            " -3.41318063e-01  4.64355236e-01 -7.40557887e-01 -8.13912181e-01\n",
            " -9.17425096e-01 -8.76554833e-01 -9.47334317e-01 -9.44752354e-01\n",
            " -8.02969452e-01  8.89696675e-01  2.68261378e-01 -6.67929099e-01\n",
            " -2.73808326e-01  8.37043030e-01  9.80798693e-01 -6.75296034e-01\n",
            "  7.51306128e-01  9.54320958e-01 -1.00431389e+00 -9.84435567e-01\n",
            " -1.93854037e-01  6.55739570e-01  9.69980566e-01  1.41919399e-01\n",
            "  6.07141793e-01  3.59678929e-01 -2.41192543e-02 -8.54155139e-01\n",
            " -8.41006013e-01 -2.34485693e-01 -6.43290536e-01  9.37370368e-01\n",
            "  7.60985882e-01  2.66715310e-01  2.58759263e-01  9.37383702e-01\n",
            " -1.24155764e-01 -8.76908304e-01  2.68003684e-01  9.56991471e-01\n",
            " -9.66204483e-01 -3.57463565e-01 -7.73008423e-01 -9.82122028e-01\n",
            "  7.98625538e-01 -1.01109785e+00 -6.86718091e-01 -5.43508833e-01\n",
            " -3.74646701e-01  3.03276344e-01 -1.00490959e+00  7.27074746e-01\n",
            " -9.92358247e-01  8.31302212e-01  6.77295691e-01  9.01937285e-01\n",
            "  8.98352114e-01 -3.66503812e-01  5.16457591e-01 -6.79044972e-01\n",
            " -5.77002250e-01 -8.99577333e-01 -1.00514912e+00 -7.46800614e-01\n",
            "  8.80316646e-02  2.59775546e-01  7.71888478e-01 -9.69869059e-01\n",
            "  1.91102414e-01 -1.01101160e+00 -2.79387250e-01 -1.84284547e-01\n",
            "  1.73196784e-01 -8.28834761e-01  9.07940005e-01  8.66567396e-01\n",
            " -6.26801207e-01  5.84730988e-01  5.66072153e-01 -1.05676370e-01\n",
            " -5.00875609e-01 -4.41655104e-01 -2.13430680e-01  6.82768650e-01\n",
            "  5.62262905e-01 -9.99725945e-01 -9.50711104e-01  1.93300086e-01\n",
            " -5.81967520e-01  1.00203095e-01  9.84217686e-01  8.80335245e-01\n",
            "  7.48183172e-01 -3.20464834e-01  6.31864803e-01  3.21034055e-01\n",
            "  6.14731697e-01  5.92505334e-01  8.04723601e-01  7.15512237e-01\n",
            "  8.88176362e-02  7.19741614e-01  5.96695712e-01  5.28566829e-01\n",
            "  9.79435417e-01  4.06619034e-01 -1.66800415e-01 -3.24269867e-01\n",
            "  9.86694166e-01  9.83814063e-01  9.57147576e-01  9.84069059e-01\n",
            "  4.62997403e-01 -8.73832277e-01  2.67403522e-01 -9.90779180e-01\n",
            "  7.44756356e-01 -6.94250933e-01 -1.01070409e+00 -8.27920347e-01]\n"
          ],
          "name": "stdout"
        },
        {
          "output_type": "display_data",
          "data": {
            "image/png": "[encoded data removed]",
            "text/plain": [
              "<Figure size 432x288 with 1 Axes>"
            ]
          },
          "metadata": {
            "tags": [],
            "needs_background": "light"
          }
        }
      ]
    },
    {
      "cell_type": "code",
      "metadata": {
        "colab_type": "code",
        "id": "ZLkKNaOtsbQK",
        "colab": {
          "base_uri": "https://localhost:8080/",
          "height": 86
        },
        "outputId": "1586a7f2-63ae-456a-b9f6-e949ec7b437c"
      },
      "source": [
        "#Splitting DataSet\n",
        "\n",
        "\n",
        "x_train, x_test, y_train, y_test = tts(X,Y,test_size =0.2)\n",
        "print(x_train.shape)\n",
        "print(x_test.shape)\n",
        "print(y_train.shape)\n",
        "print(y_test.shape)"
      ],
      "execution_count": null,
      "outputs": [
        {
          "output_type": "stream",
          "text": [
            "(800,)\n",
            "(200,)\n",
            "(800,)\n",
            "(200,)\n"
          ],
          "name": "stdout"
        }
      ]
    },
    {
      "cell_type": "code",
      "metadata": {
        "colab_type": "code",
        "id": "_BCdKBSysbQs",
        "colab": {}
      },
      "source": [
        "#for n=1 to n=9 calculating x^1 to x^9 coefficient\n",
        "\n",
        "\n",
        "#for Train set\n",
        "train_n=int(0.8*1000)\n",
        "test_n=int(0.2*1000)\n",
        "x0=np.ones(train_n)\n",
        "x1=x_train\n",
        "x2=[]\n",
        "x3=[]\n",
        "x4=[]\n",
        "x5=[]\n",
        "x6=[]\n",
        "x7=[]\n",
        "x8=[]\n",
        "x9=[]\n",
        "x12=np.array(x1)\n",
        "\n",
        "for i in range(train_n):\n",
        "  x2.append(x_train[i]*x_train[i])\n",
        "  x3.append(x2[i]*x_train[i])\n",
        "  x4.append(x3[i]*x_train[i])\n",
        "  x5.append(x4[i]*x_train[i])\n",
        "  x6.append(x5[i]*x_train[i])\n",
        "  x7.append(x6[i]*x_train[i])\n",
        "  x8.append(x7[i]*x_train[i])\n",
        "  x9.append(x8[i]*x_train[i])\n",
        "\n",
        "\n",
        "\n",
        "#for test set\n",
        "x0_t=np.ones(test_n)\n",
        "x1_t=x_test\n",
        "x2_t=[]\n",
        "x3_t=[]\n",
        "x4_t=[]\n",
        "x5_t=[]\n",
        "x6_t=[]\n",
        "x7_t=[]\n",
        "x8_t=[]\n",
        "x9_t=[]\n",
        "\n",
        "for i in range(test_n):\n",
        "  x2_t.append(x_test[i]*x_test[i])\n",
        "  x3_t.append(x2_t[i]*x_test[i])\n",
        "  x4_t.append(x3_t[i]*x_test[i])\n",
        "  x5_t.append(x4_t[i]*x_test[i])\n",
        "  x6_t.append(x5_t[i]*x_test[i])\n",
        "  x7_t.append(x6_t[i]*x_test[i])\n",
        "  x8_t.append(x7_t[i]*x_test[i])\n",
        "  x9_t.append(x8_t[i]*x_test[i])\n"
      ],
      "execution_count": null,
      "outputs": []
    },
    {
      "cell_type": "markdown",
      "metadata": {
        "colab_type": "text",
        "id": "nINIC2-WsbRL"
      },
      "source": [
        "*For n=0*"
      ]
    },
    {
      "cell_type": "code",
      "metadata": {
        "colab_type": "code",
        "id": "nUQSQ9XXsbRR",
        "colab": {
          "base_uri": "https://localhost:8080/",
          "height": 69
        },
        "outputId": "4b108db0-eec0-48c3-9bb9-2e5a998609d6"
      },
      "source": [
        "#for n=0\n",
        "\n",
        "Xt= np.c_[x0]\n",
        "theta = np.array([0])\n",
        "X_test = np.c_[x0_t]\n",
        "\n",
        "new_theta , cost_value=GDR(Xt,y_train,theta,alpha,itr)\n",
        "\n",
        "train_error_1000=cost_value[-1]\n",
        "\n",
        "test_error_1000=cost(new_theta,X_test,y_test)\n",
        "\n",
        "\n",
        "print(\"NEW Theta Value : \",new_theta)\n",
        "print(\"Train error : \", train_error_1000)\n",
        "print(\"Test error : \", test_error_1000)\n"
      ],
      "execution_count": null,
      "outputs": [
        {
          "output_type": "stream",
          "text": [
            "NEW Theta Value :  [-0.03095424]\n",
            "Train error :  162123.5496260377\n",
            "Test error :  9520.872403253015\n"
          ],
          "name": "stdout"
        }
      ]
    },
    {
      "cell_type": "markdown",
      "metadata": {
        "colab_type": "text",
        "id": "rC8oWlEWsbRm"
      },
      "source": [
        "*For n=1*"
      ]
    },
    {
      "cell_type": "code",
      "metadata": {
        "colab_type": "code",
        "id": "CHTswY60sbRq",
        "colab": {
          "base_uri": "https://localhost:8080/",
          "height": 69
        },
        "outputId": "bc7873ea-e9ae-4b1d-dd17-d16e6d9761ac"
      },
      "source": [
        "#for n=1\n",
        "\n",
        "Xt = np.c_[x0,x1]\n",
        "theta = np.array([0,0])\n",
        "X_test = np.c_[x0_t,x1_t]\n",
        "\n",
        "new_theta , cost_value=GDR(Xt,y_train,theta,alpha,itr)\n",
        "\n",
        "train_error_1001=cost_value[-1]\n",
        "\n",
        "test_error_1001=cost(new_theta,X_test,y_test)\n",
        "\n",
        "print(\"NEW Theta Value : \",new_theta)\n",
        "print(\"Train error : \", train_error_1001)\n",
        "print(\"Test error : \", test_error_1001)\n"
      ],
      "execution_count": null,
      "outputs": [
        {
          "output_type": "stream",
          "text": [
            "NEW Theta Value :  [ 0.97194972 -1.97865759]\n",
            "Train error :  59305.87276558049\n",
            "Test error :  4186.420217656858\n"
          ],
          "name": "stdout"
        }
      ]
    },
    {
      "cell_type": "markdown",
      "metadata": {
        "colab_type": "text",
        "id": "lHGAl4AUsbSD"
      },
      "source": [
        "*For n=2*"
      ]
    },
    {
      "cell_type": "code",
      "metadata": {
        "colab_type": "code",
        "id": "gQiYkoOdsbSI",
        "colab": {
          "base_uri": "https://localhost:8080/",
          "height": 69
        },
        "outputId": "ee6abd92-bf73-4d56-967f-e9adc8b9bb06"
      },
      "source": [
        "#for n=2\n",
        "\n",
        "Xt = np.c_[x0,x1,x2]\n",
        "theta = np.array([0,0,0])\n",
        "X_test = np.c_[x0_t,x1_t,x2_t]\n",
        "\n",
        "new_theta , cost_value=GDR(Xt,y_train,theta,alpha,itr)\n",
        "\n",
        "train_error_1002=cost_value[-1]\n",
        "\n",
        "test_error_1002=cost(new_theta,X_test,y_test)\n",
        "\n",
        "print(\"NEW Theta Value : \",new_theta)\n",
        "print(\"Train error : \", train_error_1002)\n",
        "print(\"Test error : \", test_error_1002)\n"
      ],
      "execution_count": null,
      "outputs": [
        {
          "output_type": "stream",
          "text": [
            "NEW Theta Value :  [ 0.9430818  -1.80690145 -0.17165953]\n",
            "Train error :  59256.24893839704\n",
            "Test error :  4207.573697557208\n"
          ],
          "name": "stdout"
        }
      ]
    },
    {
      "cell_type": "markdown",
      "metadata": {
        "colab_type": "text",
        "id": "o9RxL6BpsbSd"
      },
      "source": [
        "*For n=3*"
      ]
    },
    {
      "cell_type": "code",
      "metadata": {
        "colab_type": "code",
        "id": "IoCRTr1IsbSh",
        "colab": {
          "base_uri": "https://localhost:8080/",
          "height": 69
        },
        "outputId": "d47bd47d-8a44-4813-ac7d-3f0f00cd9aa7"
      },
      "source": [
        "#for n=3\n",
        "\n",
        "Xt = np.c_[x0,x1,x2,x3]\n",
        "theta = np.array([0,0,0,0])\n",
        "X_test = np.c_[x0_t,x1_t,x2_t,x3_t]\n",
        "\n",
        "new_theta , cost_value=GDR(Xt,y_train,theta,alpha,itr)\n",
        "\n",
        "train_error_1003=cost_value[-1]\n",
        "\n",
        "test_error_1003=cost(new_theta,X_test,y_test)\n",
        "\n",
        "print(\"NEW Theta Value : \",new_theta)\n",
        "print(\"Train error : \", train_error_1003)\n",
        "print(\"Test error : \", test_error_1003)\n"
      ],
      "execution_count": null,
      "outputs": [
        {
          "output_type": "stream",
          "text": [
            "NEW Theta Value :  [  0.58934501   2.98698076 -13.0147419    8.96898658]\n",
            "Train error :  23944.77888157333\n",
            "Test error :  1625.5292344070187\n"
          ],
          "name": "stdout"
        }
      ]
    },
    {
      "cell_type": "markdown",
      "metadata": {
        "colab_type": "text",
        "id": "8b_cW5QDsbSw"
      },
      "source": [
        "*For n=4*"
      ]
    },
    {
      "cell_type": "code",
      "metadata": {
        "colab_type": "code",
        "id": "nmjeywRqsbSz",
        "colab": {
          "base_uri": "https://localhost:8080/",
          "height": 69
        },
        "outputId": "73fd82ea-56cf-4648-cd31-b4fbd380afaf"
      },
      "source": [
        "#for n=4\n",
        "\n",
        "Xt = np.c_[x0,x1,x2,x3,x4]\n",
        "theta = np.array([0,0,0,0,0])\n",
        "X_test = np.c_[x0_t,x1_t,x2_t,x3_t,x4_t]\n",
        "\n",
        "new_theta , cost_value=GDR(Xt,y_train,theta,alpha,itr)\n",
        "\n",
        "train_error_1004=cost_value[-1]\n",
        "\n",
        "\n",
        "test_error_1004=cost(new_theta,X_test,y_test)\n",
        "\n",
        "print(\"NEW Theta Value : \",new_theta)\n",
        "print(\"Train error : \", train_error_1004)\n",
        "print(\"Test error : \", test_error_1004)\n"
      ],
      "execution_count": null,
      "outputs": [
        {
          "output_type": "stream",
          "text": [
            "NEW Theta Value :  [  0.26335422   5.45937325 -12.87632644  -3.39873778  10.70749102]\n",
            "Train error :  5416.002385656028\n",
            "Test error :  346.13565514145364\n"
          ],
          "name": "stdout"
        }
      ]
    },
    {
      "cell_type": "markdown",
      "metadata": {
        "colab_type": "text",
        "id": "h1bWs4GqsbTG"
      },
      "source": [
        "*For n=5*"
      ]
    },
    {
      "cell_type": "code",
      "metadata": {
        "colab_type": "code",
        "id": "JAcrBGhmsbTK",
        "colab": {
          "base_uri": "https://localhost:8080/",
          "height": 69
        },
        "outputId": "ab338a1d-7e44-4d11-cf5c-b06dce3ef940"
      },
      "source": [
        "#for n=5\n",
        "\n",
        "Xt = np.c_[x0,x1,x2,x3,x4,x5]\n",
        "theta = np.array([0,0,0,0,0,0])\n",
        "X_test = np.c_[x0_t,x1_t,x2_t,x3_t,x4_t,x5_t]\n",
        "\n",
        "new_theta , cost_value=GDR(Xt,y_train,theta,alpha,itr)\n",
        "\n",
        "train_error_1005=cost_value[-1]\n",
        "\n",
        "\n",
        "test_error_1005=cost(new_theta,X_test,y_test)\n",
        "\n",
        "print(\"NEW Theta Value : \",new_theta)\n",
        "print(\"Train error : \", train_error_1005)\n",
        "print(\"Test error : \", test_error_1005)\n"
      ],
      "execution_count": null,
      "outputs": [
        {
          "output_type": "stream",
          "text": [
            "NEW Theta Value :  [ 0.2171577   5.12275066 -9.75556156 -5.0618802   2.26625287  7.69215545]\n",
            "Train error :  5562.499844435259\n",
            "Test error :  330.8182262081857\n"
          ],
          "name": "stdout"
        }
      ]
    },
    {
      "cell_type": "markdown",
      "metadata": {
        "colab_type": "text",
        "id": "nGGCqzqRsbTa"
      },
      "source": [
        "*For n=6*"
      ]
    },
    {
      "cell_type": "code",
      "metadata": {
        "colab_type": "code",
        "id": "oDS6s9bqsbTf",
        "colab": {
          "base_uri": "https://localhost:8080/",
          "height": 86
        },
        "outputId": "c5c96f89-4e6b-4ee2-e5a7-5d1982752529"
      },
      "source": [
        "#for n=6\n",
        "\n",
        "Xt = np.c_[x0,x1,x2,x3,x4,x5,x6]\n",
        "theta = np.array([0,0,0,0,0,0,0])\n",
        "X_test = np.c_[x0_t,x1_t,x2_t,x3_t,x4_t,x5_t,x6_t]\n",
        "\n",
        "new_theta , cost_value=GDR(Xt,y_train,theta,alpha,itr)\n",
        "\n",
        "train_error_1006=cost_value[-1]\n",
        "\n",
        "test_error_1006=cost(new_theta,X_test,y_test)\n",
        "\n",
        "print(\"NEW Theta Value : \",new_theta)\n",
        "print(\"Train error : \", train_error_1006)\n",
        "print(\"Test error : \", test_error_1006)\n"
      ],
      "execution_count": null,
      "outputs": [
        {
          "output_type": "stream",
          "text": [
            "NEW Theta Value :  [ 0.27384921  4.34191588 -8.04696581 -4.28241672  0.67968677  3.4637151\n",
            "  4.14980738]\n",
            "Train error :  7762.0951896541665\n",
            "Test error :  464.1959961266611\n"
          ],
          "name": "stdout"
        }
      ]
    },
    {
      "cell_type": "markdown",
      "metadata": {
        "colab_type": "text",
        "id": "YRN6vGVPsbTz"
      },
      "source": [
        "*For n=7*"
      ]
    },
    {
      "cell_type": "code",
      "metadata": {
        "colab_type": "code",
        "id": "u0StwhmosbT3",
        "colab": {
          "base_uri": "https://localhost:8080/",
          "height": 86
        },
        "outputId": "e6b543fe-e0b5-411f-83f0-a2314a4a627d"
      },
      "source": [
        "#for n=7\n",
        "\n",
        "Xt = np.c_[x0,x1,x2,x3,x4,x5,x6,x7]\n",
        "theta = np.array([0,0,0,0,0,0,0,0])\n",
        "X_test = np.c_[x0_t,x1_t,x2_t,x3_t,x4_t,x5_t,x6_t,x7_t]\n",
        "\n",
        "new_theta , cost_value=GDR(Xt,y_train,theta,alpha,itr)\n",
        "\n",
        "train_error_1007=cost_value[-1]\n",
        "\n",
        "test_error_1007=cost(new_theta,X_test,y_test)\n",
        "\n",
        "print(\"NEW Theta Value : \",new_theta)\n",
        "print(\"Train error : \", train_error_1007)\n",
        "print(\"Test error : \", test_error_1007)\n"
      ],
      "execution_count": null,
      "outputs": [
        {
          "output_type": "stream",
          "text": [
            "NEW Theta Value :  [ 0.31599133  3.97876999 -7.66588249 -3.76621051  0.77051708  2.85897369\n",
            "  2.77322354  1.30105687]\n",
            "Train error :  8561.331459874338\n",
            "Test error :  519.9157841435235\n"
          ],
          "name": "stdout"
        }
      ]
    },
    {
      "cell_type": "markdown",
      "metadata": {
        "colab_type": "text",
        "id": "uhiHQmHosbUS"
      },
      "source": [
        "*For n=8*"
      ]
    },
    {
      "cell_type": "code",
      "metadata": {
        "colab_type": "code",
        "id": "GiwlF-tesbUX",
        "colab": {
          "base_uri": "https://localhost:8080/",
          "height": 86
        },
        "outputId": "d3cd4d80-7c97-47a0-f7d9-8821d4e2aa1e"
      },
      "source": [
        "#for n=8\n",
        "\n",
        "Xt= np.c_[x0,x1,x2,x3,x4,x5,x6,x7,x8]\n",
        "theta = np.array([0,0,0,0,0,0,0,0,0])\n",
        "X_test = np.c_[x0_t,x1_t,x2_t,x3_t,x4_t,x5_t,x6_t,x7_t,x8_t]\n",
        "\n",
        "new_theta , cost_value=GDR(Xt,y_train,theta,alpha,itr)\n",
        "\n",
        "train_error_1008=cost_value[-1]\n",
        "\n",
        "test_error_1008=cost(new_theta,X_test,y_test)\n",
        "\n",
        "print(\"NEW Theta Value : \",new_theta)\n",
        "print(\"Train error : \", train_error_1008)\n",
        "print(\"Test error : \", test_error_1008)\n",
        "\n",
        "\n"
      ],
      "execution_count": null,
      "outputs": [
        {
          "output_type": "stream",
          "text": [
            "NEW Theta Value :  [ 0.3252424   3.98731526 -7.85578569 -3.77233497  0.93548308  3.10601095\n",
            "  3.02604705  1.50938088 -0.77354291]\n",
            "Train error :  7891.610818030275\n",
            "Test error :  486.98977849307727\n"
          ],
          "name": "stdout"
        }
      ]
    },
    {
      "cell_type": "markdown",
      "metadata": {
        "colab_type": "text",
        "id": "Z9vSAXyYsbUo"
      },
      "source": [
        "*For n=9*"
      ]
    },
    {
      "cell_type": "code",
      "metadata": {
        "colab_type": "code",
        "id": "ZacKapZ2sbUq",
        "colab": {
          "base_uri": "https://localhost:8080/",
          "height": 86
        },
        "outputId": "a15fa060-5903-4640-a5f3-256317830d8a"
      },
      "source": [
        "#for n=9\n",
        "\n",
        "Xt = np.c_[x0,x1,x2,x3,x4,x5,x6,x7,x8,x9]\n",
        "theta = np.array([0,0,0,0,0,0,0,0,0,0])\n",
        "X_test = np.c_[x0_t,x1_t,x2_t,x3_t,x4_t,x5_t,x6_t,x7_t,x8_t,x9_t]\n",
        "\n",
        "new_theta , cost_value=GDR(Xt,y_train,theta,alpha,itr)\n",
        "\n",
        "train_error_1009=cost_value[-1]\n",
        "\n",
        "test_error_1009=cost(new_theta,X_test,y_test)\n",
        "\n",
        "print(\"NEW Theta Value : \",new_theta)\n",
        "print(\"Train error : \", train_error_1009)\n",
        "print(\"Test error : \", test_error_1009)\n"
      ],
      "execution_count": null,
      "outputs": [
        {
          "output_type": "stream",
          "text": [
            "NEW Theta Value :  [ 0.31188152  4.17814919 -8.15167499 -4.07242074  0.8606789   3.32726604\n",
            "  3.54312263  2.29403281  0.24183086 -2.16566524]\n",
            "Train error :  6420.242178342268\n",
            "Test error :  403.6320755438264\n"
          ],
          "name": "stdout"
        }
      ]
    },
    {
      "cell_type": "markdown",
      "metadata": {
        "colab_type": "text",
        "id": "Ki811YfQsbU7"
      },
      "source": [
        "* ***Train error vs Test error***"
      ]
    },
    {
      "cell_type": "code",
      "metadata": {
        "colab_type": "code",
        "id": "tkEllXBpsbU-",
        "colab": {
          "base_uri": "https://localhost:8080/",
          "height": 330
        },
        "outputId": "53309e17-29fa-484c-c129-4ca427f0d801"
      },
      "source": [
        "#Test error vs Train error\n",
        "\n",
        "train_error_13=np.array([train_error_1000,train_error_1001,train_error_1002,train_error_1003,train_error_1004,train_error_1005,train_error_1006,train_error_1007,train_error_1008,train_error_1009])\n",
        "test_error_13=np.array([test_error_1000,test_error_1001,test_error_1002,test_error_1003,test_error_1004,test_error_1005,test_error_1006,test_error_1007,test_error_1008,test_error_1009])\n",
        "\n",
        "error_x=[0,1,2,3,4,5,6,7,8,9]\n",
        "\n",
        "plt.plot(error_x,train_error_13, 'r', label='Train Error')\n",
        "plt.plot(error_x,test_error_13, 'g', label='Test Error')\n",
        "plt.title('Train Error vs Test Error')\n",
        "plt.ylabel('Error')\n",
        "plt.xlabel('N')\n",
        "plt.legend()\n",
        "plt.grid()\n",
        "plt.xticks(np.arange(0, 10, step=1))\n",
        "plt.show()\n",
        "\n",
        "print(\"MIN Train error : \",min(train_error_13))\n",
        "print(\"MIN Test error : \",min(test_error_13))"
      ],
      "execution_count": null,
      "outputs": [
        {
          "output_type": "display_data",
          "data": {
            "image/png": "[encoded data removed]",
            "text/plain": [
              "<Figure size 432x288 with 1 Axes>"
            ]
          },
          "metadata": {
            "tags": [],
            "needs_background": "light"
          }
        },
        {
          "output_type": "stream",
          "text": [
            "MIN Train error :  5416.002385656028\n",
            "MIN Test error :  330.8182262081857\n"
          ],
          "name": "stdout"
        }
      ]
    },
    {
      "cell_type": "markdown",
      "metadata": {
        "id": "eBUPdPuMGX5e",
        "colab_type": "text"
      },
      "source": [
        "*NOTE: For N=1000 ,n=5  is suitable as we got minimum test error*"
      ]
    },
    {
      "cell_type": "markdown",
      "metadata": {
        "colab_type": "text",
        "id": "rWdrFqFcsS9U"
      },
      "source": [
        "#***Experimenting with Larger Training Set(N=10000)***"
      ]
    },
    {
      "cell_type": "markdown",
      "metadata": {
        "colab_type": "text",
        "id": "eXmUQyZksS9a"
      },
      "source": [
        "* **For N=10000**"
      ]
    },
    {
      "cell_type": "code",
      "metadata": {
        "colab_type": "code",
        "id": "Lvz5E-iTsS9f",
        "colab": {
          "base_uri": "https://localhost:8080/",
          "height": 334
        },
        "outputId": "25c06d5f-a683-48c9-89f4-f73dd1fd8de9"
      },
      "source": [
        "#Generating a Synthetic Dataset\n",
        "\n",
        "inp=[]\n",
        "for i in range(10000):\n",
        "  inp.append(random.uniform(0,1))\n",
        "X=np.array(inp)\n",
        "print(X)\n",
        "print()\n",
        "Y=np.random.normal(scale=0.3)+ np.sin(2*math.pi*X) \n",
        "print(Y)\n",
        "\n",
        "#ploting \n",
        "plt.scatter(X,Y)\n",
        "plt.show()\n"
      ],
      "execution_count": null,
      "outputs": [
        {
          "output_type": "stream",
          "text": [
            "[0.46699794 0.86665846 0.27734486 ... 0.19141229 0.94907818 0.08250349]\n",
            "\n",
            "[ 0.16882119 -0.78023342  0.94822236 ...  0.89595237 -0.35157438\n",
            "  0.45842361]\n"
          ],
          "name": "stdout"
        },
        {
          "output_type": "display_data",
          "data": {
            "image/png": "[encoded data removed]",
            "text/plain": [
              "<Figure size 432x288 with 1 Axes>"
            ]
          },
          "metadata": {
            "tags": [],
            "needs_background": "light"
          }
        }
      ]
    },
    {
      "cell_type": "code",
      "metadata": {
        "colab_type": "code",
        "id": "CUDsxzOvsS93",
        "colab": {
          "base_uri": "https://localhost:8080/",
          "height": 86
        },
        "outputId": "cbe0130f-5ff5-49b2-f981-0c0ba4ce3c51"
      },
      "source": [
        "#Splitting DataSet\n",
        "\n",
        "\n",
        "x_train, x_test, y_train, y_test = tts(X,Y,test_size =0.2)\n",
        "print(x_train.shape)\n",
        "print(x_test.shape)\n",
        "print(y_train.shape)\n",
        "print(y_test.shape)"
      ],
      "execution_count": null,
      "outputs": [
        {
          "output_type": "stream",
          "text": [
            "(8000,)\n",
            "(2000,)\n",
            "(8000,)\n",
            "(2000,)\n"
          ],
          "name": "stdout"
        }
      ]
    },
    {
      "cell_type": "code",
      "metadata": {
        "colab_type": "code",
        "id": "kh73hfBxsS-G",
        "colab": {}
      },
      "source": [
        "#for n=1 to n=9 calculating x^1 to x^9 coefficient\n",
        "\n",
        "\n",
        "#for Train set\n",
        "train_n=int(0.8*10000)\n",
        "test_n=int(0.2*10000)\n",
        "x0=np.ones(train_n)\n",
        "x1=x_train\n",
        "x2=[]\n",
        "x3=[]\n",
        "x4=[]\n",
        "x5=[]\n",
        "x6=[]\n",
        "x7=[]\n",
        "x8=[]\n",
        "x9=[]\n",
        "x12=np.array(x1)\n",
        "\n",
        "for i in range(train_n):\n",
        "  x2.append(x_train[i]*x_train[i])\n",
        "  x3.append(x2[i]*x_train[i])\n",
        "  x4.append(x3[i]*x_train[i])\n",
        "  x5.append(x4[i]*x_train[i])\n",
        "  x6.append(x5[i]*x_train[i])\n",
        "  x7.append(x6[i]*x_train[i])\n",
        "  x8.append(x7[i]*x_train[i])\n",
        "  x9.append(x8[i]*x_train[i])\n",
        "\n",
        "\n",
        "\n",
        "#for test set\n",
        "x0_t=np.ones(test_n)\n",
        "x1_t=x_test\n",
        "x2_t=[]\n",
        "x3_t=[]\n",
        "x4_t=[]\n",
        "x5_t=[]\n",
        "x6_t=[]\n",
        "x7_t=[]\n",
        "x8_t=[]\n",
        "x9_t=[]\n",
        "\n",
        "for i in range(test_n):\n",
        "  x2_t.append(x_test[i]*x_test[i])\n",
        "  x3_t.append(x2_t[i]*x_test[i])\n",
        "  x4_t.append(x3_t[i]*x_test[i])\n",
        "  x5_t.append(x4_t[i]*x_test[i])\n",
        "  x6_t.append(x5_t[i]*x_test[i])\n",
        "  x7_t.append(x6_t[i]*x_test[i])\n",
        "  x8_t.append(x7_t[i]*x_test[i])\n",
        "  x9_t.append(x8_t[i]*x_test[i])\n"
      ],
      "execution_count": null,
      "outputs": []
    },
    {
      "cell_type": "markdown",
      "metadata": {
        "colab_type": "text",
        "id": "77QoODelsS-Z"
      },
      "source": [
        "*For n=0*"
      ]
    },
    {
      "cell_type": "code",
      "metadata": {
        "colab_type": "code",
        "id": "V-GN5XjtsS-c",
        "colab": {
          "base_uri": "https://localhost:8080/",
          "height": 69
        },
        "outputId": "5c73a016-7ddb-441a-e1f0-75985be22724"
      },
      "source": [
        "#for n=0\n",
        "\n",
        "Xt= np.c_[x0]\n",
        "theta = np.array([0])\n",
        "X_test = np.c_[x0_t]\n",
        "\n",
        "new_theta , cost_value=GDR(Xt,y_train,theta,alpha,itr)\n",
        "\n",
        "train_error_10000=cost_value[-1]\n",
        "\n",
        "test_error_10000=cost(new_theta,X_test,y_test)\n",
        "\n",
        "\n",
        "print(\"NEW Theta Value : \",new_theta)\n",
        "print(\"Train error : \", train_error_10000)\n",
        "print(\"Test error : \", test_error_10000)\n"
      ],
      "execution_count": null,
      "outputs": [
        {
          "output_type": "stream",
          "text": [
            "NEW Theta Value :  [-0.03648864]\n",
            "Train error :  15640426.483456604\n",
            "Test error :  965762.8984629998\n"
          ],
          "name": "stdout"
        }
      ]
    },
    {
      "cell_type": "markdown",
      "metadata": {
        "colab_type": "text",
        "id": "uPsoq9kEsS-s"
      },
      "source": [
        "*For n=1*"
      ]
    },
    {
      "cell_type": "code",
      "metadata": {
        "colab_type": "code",
        "id": "FAS9kvUwsS-v",
        "colab": {
          "base_uri": "https://localhost:8080/",
          "height": 69
        },
        "outputId": "634bd9df-c637-4e95-965a-8f3a36ed7f88"
      },
      "source": [
        "#for n=1\n",
        "\n",
        "Xt = np.c_[x0,x1]\n",
        "theta = np.array([0,0])\n",
        "X_test = np.c_[x0_t,x1_t]\n",
        "\n",
        "new_theta , cost_value=GDR(Xt,y_train,theta,alpha,itr)\n",
        "\n",
        "train_error_10001=cost_value[-1]\n",
        "\n",
        "test_error_10001=cost(new_theta,X_test,y_test)\n",
        "\n",
        "print(\"NEW Theta Value : \",new_theta)\n",
        "print(\"Train error : \", train_error_10001)\n",
        "print(\"Test error : \", test_error_10001)\n"
      ],
      "execution_count": null,
      "outputs": [
        {
          "output_type": "stream",
          "text": [
            "NEW Theta Value :  [ 0.91611877 -1.90039038]\n",
            "Train error :  6236217.757058874\n",
            "Test error :  391895.0892048057\n"
          ],
          "name": "stdout"
        }
      ]
    },
    {
      "cell_type": "markdown",
      "metadata": {
        "colab_type": "text",
        "id": "at007s3wsS_B"
      },
      "source": [
        "*For n=2*"
      ]
    },
    {
      "cell_type": "code",
      "metadata": {
        "colab_type": "code",
        "id": "eJNFae4ysS_E",
        "colab": {
          "base_uri": "https://localhost:8080/",
          "height": 69
        },
        "outputId": "365b8413-df53-4d8d-c80a-de3884197f77"
      },
      "source": [
        "#for n=2\n",
        "\n",
        "Xt = np.c_[x0,x1,x2]\n",
        "theta = np.array([0,0,0])\n",
        "X_test = np.c_[x0_t,x1_t,x2_t]\n",
        "\n",
        "new_theta , cost_value=GDR(Xt,y_train,theta,alpha,itr)\n",
        "\n",
        "train_error_10002=cost_value[-1]\n",
        "\n",
        "test_error_10002=cost(new_theta,X_test,y_test)\n",
        "\n",
        "print(\"NEW Theta Value : \",new_theta)\n",
        "print(\"Train error : \", train_error_10002)\n",
        "print(\"Test error : \", test_error_10002)\n"
      ],
      "execution_count": null,
      "outputs": [
        {
          "output_type": "stream",
          "text": [
            "NEW Theta Value :  [ 0.92720182 -1.96575298  0.06517821]\n",
            "Train error :  6235451.978718192\n",
            "Test error :  391779.95330727263\n"
          ],
          "name": "stdout"
        }
      ]
    },
    {
      "cell_type": "markdown",
      "metadata": {
        "colab_type": "text",
        "id": "lwZRZeuMsS_U"
      },
      "source": [
        "*For n=3*"
      ]
    },
    {
      "cell_type": "code",
      "metadata": {
        "colab_type": "code",
        "id": "9DHvvVgWsS_X",
        "colab": {
          "base_uri": "https://localhost:8080/",
          "height": 69
        },
        "outputId": "31bc147c-2f7f-44a6-c7eb-894fc7db8314"
      },
      "source": [
        "#for n=3\n",
        "\n",
        "Xt = np.c_[x0,x1,x2,x3]\n",
        "theta = np.array([0,0,0,0])\n",
        "X_test = np.c_[x0_t,x1_t,x2_t,x3_t]\n",
        "\n",
        "new_theta , cost_value=GDR(Xt,y_train,theta,alpha,itr)\n",
        "\n",
        "train_error_10003=cost_value[-1]\n",
        "\n",
        "test_error_10003=cost(new_theta,X_test,y_test)\n",
        "\n",
        "print(\"NEW Theta Value : \",new_theta)\n",
        "print(\"Train error : \", train_error_10003)\n",
        "print(\"Test error : \", test_error_10003)\n"
      ],
      "execution_count": null,
      "outputs": [
        {
          "output_type": "stream",
          "text": [
            "NEW Theta Value :  [  0.54903137   3.14318705 -13.47935181   9.35300938]\n",
            "Train error :  2359986.440559512\n",
            "Test error :  147043.07887338934\n"
          ],
          "name": "stdout"
        }
      ]
    },
    {
      "cell_type": "markdown",
      "metadata": {
        "colab_type": "text",
        "id": "PQ4G1ZiOsS_m"
      },
      "source": [
        "*For n=4*"
      ]
    },
    {
      "cell_type": "code",
      "metadata": {
        "colab_type": "code",
        "id": "RCf-q1O0sS_p",
        "colab": {
          "base_uri": "https://localhost:8080/",
          "height": 69
        },
        "outputId": "4d54fa2c-67ae-4606-8635-73483b8d1c3d"
      },
      "source": [
        "#for n=4\n",
        "\n",
        "Xt = np.c_[x0,x1,x2,x3,x4]\n",
        "theta = np.array([0,0,0,0,0])\n",
        "X_test = np.c_[x0_t,x1_t,x2_t,x3_t,x4_t]\n",
        "\n",
        "new_theta , cost_value=GDR(Xt,y_train,theta,alpha,itr)\n",
        "\n",
        "train_error_10004=cost_value[-1]\n",
        "\n",
        "\n",
        "test_error_10004=cost(new_theta,X_test,y_test)\n",
        "\n",
        "print(\"NEW Theta Value : \",new_theta)\n",
        "print(\"Train error : \", train_error_10004)\n",
        "print(\"Test error : \", test_error_10004)\n"
      ],
      "execution_count": null,
      "outputs": [
        {
          "output_type": "stream",
          "text": [
            "NEW Theta Value :  [  0.22440231   5.56545744 -13.05038297  -3.412224    10.79117482]\n",
            "Train error :  529494.676493421\n",
            "Test error :  33417.21293662429\n"
          ],
          "name": "stdout"
        }
      ]
    },
    {
      "cell_type": "markdown",
      "metadata": {
        "colab_type": "text",
        "id": "WXDPA3TNsS_3"
      },
      "source": [
        "*For n=5*"
      ]
    },
    {
      "cell_type": "code",
      "metadata": {
        "colab_type": "code",
        "id": "dzJdnpOqsTAA",
        "colab": {
          "base_uri": "https://localhost:8080/",
          "height": 69
        },
        "outputId": "bcc50665-1929-4161-fb44-e155b9fe4499"
      },
      "source": [
        "#for n=5\n",
        "\n",
        "Xt = np.c_[x0,x1,x2,x3,x4,x5]\n",
        "theta = np.array([0,0,0,0,0,0])\n",
        "X_test = np.c_[x0_t,x1_t,x2_t,x3_t,x4_t,x5_t]\n",
        "\n",
        "new_theta , cost_value=GDR(Xt,y_train,theta,alpha,itr)\n",
        "\n",
        "train_error_10005=cost_value[-1]\n",
        "\n",
        "\n",
        "test_error_10005=cost(new_theta,X_test,y_test)\n",
        "\n",
        "print(\"NEW Theta Value : \",new_theta)\n",
        "print(\"Train error : \", train_error_10005)\n",
        "print(\"Test error : \", test_error_10005)\n"
      ],
      "execution_count": null,
      "outputs": [
        {
          "output_type": "stream",
          "text": [
            "NEW Theta Value :  [ 0.18839136  5.1332711  -9.81060581 -4.97320704  2.29688909  7.5520743 ]\n",
            "Train error :  590914.9730289999\n",
            "Test error :  38534.67693911523\n"
          ],
          "name": "stdout"
        }
      ]
    },
    {
      "cell_type": "markdown",
      "metadata": {
        "colab_type": "text",
        "id": "w7gIzTVXsTAQ"
      },
      "source": [
        "*For n=6*"
      ]
    },
    {
      "cell_type": "code",
      "metadata": {
        "colab_type": "code",
        "id": "CtWx_5a5sTAT",
        "colab": {
          "base_uri": "https://localhost:8080/",
          "height": 86
        },
        "outputId": "5c176a07-2b9b-4d5b-c84a-80c05b6f989e"
      },
      "source": [
        "#for n=6\n",
        "\n",
        "Xt = np.c_[x0,x1,x2,x3,x4,x5,x6]\n",
        "theta = np.array([0,0,0,0,0,0,0])\n",
        "X_test = np.c_[x0_t,x1_t,x2_t,x3_t,x4_t,x5_t,x6_t]\n",
        "\n",
        "new_theta , cost_value=GDR(Xt,y_train,theta,alpha,itr)\n",
        "\n",
        "train_error_10006=cost_value[-1]\n",
        "\n",
        "test_error_10006=cost(new_theta,X_test,y_test)\n",
        "\n",
        "print(\"NEW Theta Value : \",new_theta)\n",
        "print(\"Train error : \", train_error_10006)\n",
        "print(\"Test error : \", test_error_10006)\n"
      ],
      "execution_count": null,
      "outputs": [
        {
          "output_type": "stream",
          "text": [
            "NEW Theta Value :  [ 0.24735163  4.34878951 -8.15946545 -4.16634563  0.81277707  3.45436338\n",
            "  3.92165879]\n",
            "Train error :  815338.4518576225\n",
            "Test error :  53232.58633421355\n"
          ],
          "name": "stdout"
        }
      ]
    },
    {
      "cell_type": "markdown",
      "metadata": {
        "colab_type": "text",
        "id": "40a1qXyhsTAp"
      },
      "source": [
        "*For n=7*"
      ]
    },
    {
      "cell_type": "code",
      "metadata": {
        "colab_type": "code",
        "id": "9xmxYbyUsTAq",
        "colab": {
          "base_uri": "https://localhost:8080/",
          "height": 86
        },
        "outputId": "3e5d4f7c-2c76-40ea-effb-ae71c57180d0"
      },
      "source": [
        "#for n=7\n",
        "\n",
        "Xt = np.c_[x0,x1,x2,x3,x4,x5,x6,x7]\n",
        "theta = np.array([0,0,0,0,0,0,0,0])\n",
        "X_test = np.c_[x0_t,x1_t,x2_t,x3_t,x4_t,x5_t,x6_t,x7_t]\n",
        "\n",
        "new_theta , cost_value=GDR(Xt,y_train,theta,alpha,itr)\n",
        "\n",
        "train_error_10007=cost_value[-1]\n",
        "\n",
        "test_error_10007=cost(new_theta,X_test,y_test)\n",
        "\n",
        "print(\"NEW Theta Value : \",new_theta)\n",
        "print(\"Train error : \", train_error_10007)\n",
        "print(\"Test error : \", test_error_10007)\n"
      ],
      "execution_count": null,
      "outputs": [
        {
          "output_type": "stream",
          "text": [
            "NEW Theta Value :  [ 0.28685046  4.02253718 -7.85692115 -3.68963829  0.94351241  2.96516102\n",
            "  2.71991345  1.04736247]\n",
            "Train error :  880690.0192114479\n",
            "Test error :  57304.55869838137\n"
          ],
          "name": "stdout"
        }
      ]
    },
    {
      "cell_type": "markdown",
      "metadata": {
        "colab_type": "text",
        "id": "yWLdUg62sTA2"
      },
      "source": [
        "*For n=8*"
      ]
    },
    {
      "cell_type": "code",
      "metadata": {
        "colab_type": "code",
        "id": "1b_Hqcl_sTA4",
        "colab": {
          "base_uri": "https://localhost:8080/",
          "height": 86
        },
        "outputId": "ce1312ce-fe41-42d0-d960-43822f1a0a10"
      },
      "source": [
        "#for n=8\n",
        "\n",
        "Xt= np.c_[x0,x1,x2,x3,x4,x5,x6,x7,x8]\n",
        "theta = np.array([0,0,0,0,0,0,0,0,0])\n",
        "X_test = np.c_[x0_t,x1_t,x2_t,x3_t,x4_t,x5_t,x6_t,x7_t,x8_t]\n",
        "\n",
        "new_theta , cost_value=GDR(Xt,y_train,theta,alpha,itr)\n",
        "\n",
        "train_error_10008=cost_value[-1]\n",
        "\n",
        "test_error_10008=cost(new_theta,X_test,y_test)\n",
        "\n",
        "print(\"NEW Theta Value : \",new_theta)\n",
        "print(\"Train error : \", train_error_10008)\n",
        "print(\"Test error : \", test_error_10008)\n",
        "\n",
        "\n"
      ],
      "execution_count": null,
      "outputs": [
        {
          "output_type": "stream",
          "text": [
            "NEW Theta Value :  [ 0.29255445  4.06830903 -8.09324985 -3.74831703  1.09550316  3.25808322\n",
            "  3.08193979  1.42539723 -1.01470327]\n",
            "Train error :  793781.6511828152\n",
            "Test error :  51420.305518023255\n"
          ],
          "name": "stdout"
        }
      ]
    },
    {
      "cell_type": "markdown",
      "metadata": {
        "colab_type": "text",
        "id": "fHRtFB9usTBF"
      },
      "source": [
        "*For n=9*"
      ]
    },
    {
      "cell_type": "code",
      "metadata": {
        "colab_type": "code",
        "id": "rstj0_fWsTBH",
        "colab": {
          "base_uri": "https://localhost:8080/",
          "height": 86
        },
        "outputId": "0e2181b4-2b9a-4e03-b026-446875b4717c"
      },
      "source": [
        "#for n=9\n",
        "\n",
        "Xt = np.c_[x0,x1,x2,x3,x4,x5,x6,x7,x8,x9]\n",
        "theta = np.array([0,0,0,0,0,0,0,0,0,0])\n",
        "X_test = np.c_[x0_t,x1_t,x2_t,x3_t,x4_t,x5_t,x6_t,x7_t,x8_t,x9_t]\n",
        "\n",
        "new_theta , cost_value=GDR(Xt,y_train,theta,alpha,itr)\n",
        "\n",
        "train_error_10009=cost_value[-1]\n",
        "\n",
        "test_error_10009=cost(new_theta,X_test,y_test)\n",
        "\n",
        "print(\"NEW Theta Value : \",new_theta)\n",
        "print(\"Train error : \", train_error_10009)\n",
        "print(\"Test error : \", test_error_10009)\n"
      ],
      "execution_count": null,
      "outputs": [
        {
          "output_type": "stream",
          "text": [
            "NEW Theta Value :  [ 0.2764025   4.28312801 -8.40059061 -4.08853972  0.98601499  3.47612177\n",
            "  3.64176558  2.30494166  0.14878982 -2.3680368 ]\n",
            "Train error :  632578.0614208916\n",
            "Test error :  40780.635536466165\n"
          ],
          "name": "stdout"
        }
      ]
    },
    {
      "cell_type": "markdown",
      "metadata": {
        "colab_type": "text",
        "id": "Gbz4j0vasTBT"
      },
      "source": [
        "* ***Train error vs Test error***"
      ]
    },
    {
      "cell_type": "code",
      "metadata": {
        "colab_type": "code",
        "id": "g1Xr2tOasTBV",
        "colab": {
          "base_uri": "https://localhost:8080/",
          "height": 330
        },
        "outputId": "426cef83-4fbf-4d29-c27c-9f531c16c924"
      },
      "source": [
        "#Train error vs Test error\n",
        "\n",
        "train_error_14=np.array([train_error_10000,train_error_10001,train_error_10002,train_error_10003,train_error_10004,train_error_10005,train_error_10006,train_error_10007,train_error_10008,train_error_10009])\n",
        "test_error_14=np.array([test_error_10000,test_error_10001,test_error_10002,test_error_10003,test_error_10004,test_error_10005,test_error_10006,test_error_10007,test_error_10008,test_error_10009])\n",
        "\n",
        "error_x=[0,1,2,3,4,5,6,7,8,9]\n",
        "\n",
        "plt.plot(error_x,train_error_14, 'r', label='Train Error')\n",
        "plt.plot(error_x,test_error_14, 'g', label='Test Error')\n",
        "plt.title('Train Error vs Test Error')\n",
        "plt.ylabel('Error')\n",
        "plt.xlabel('N')\n",
        "plt.legend()\n",
        "plt.grid()\n",
        "plt.xticks(np.arange(0, 10, step=1))\n",
        "plt.show()\n",
        "\n",
        "print(\"MIN Train error : \",min(train_error_14))\n",
        "print(\"MIN Test error : \",min(test_error_14))"
      ],
      "execution_count": null,
      "outputs": [
        {
          "output_type": "display_data",
          "data": {
            "image/png": "[encoded data removed]",
            "text/plain": [
              "<Figure size 432x288 with 1 Axes>"
            ]
          },
          "metadata": {
            "tags": [],
            "needs_background": "light"
          }
        },
        {
          "output_type": "stream",
          "text": [
            "MIN Train error :  529494.676493421\n",
            "MIN Test error :  33417.21293662429\n"
          ],
          "name": "stdout"
        }
      ]
    },
    {
      "cell_type": "markdown",
      "metadata": {
        "id": "36FmpAxUHbN5",
        "colab_type": "text"
      },
      "source": [
        "*NOTE: For N=10000,n=4 is suitable as we got minimum test error*"
      ]
    },
    {
      "cell_type": "markdown",
      "metadata": {
        "id": "4-Df4urFwgGY",
        "colab_type": "text"
      },
      "source": [
        "#***Learning Curve of Train and Test error(N=10 ,100, 1000 and 10000)***"
      ]
    },
    {
      "cell_type": "markdown",
      "metadata": {
        "id": "zjjAGcEU1qCI",
        "colab_type": "text"
      },
      "source": [
        "* *NOTE: FOR LEARNING CURVE OF TRAIN AND TEST ERROR WITH DIFFERENT DATASIZE WE COMPARE WITH ALL N=0 TO N=9*"
      ]
    },
    {
      "cell_type": "code",
      "metadata": {
        "id": "dotgA5gT2fwa",
        "colab_type": "code",
        "colab": {}
      },
      "source": [
        "Data_Size = [10,100,1000,10000]\n",
        "\n",
        "#Train error for different n values with respect to the [10,100,1000,10000] datasize\n",
        "tr_error_0=np.array([train_error_0,train_error_100,train_error_1000,train_error_10000])\n",
        "tr_error_1=np.array([train_error_1,train_error_101,train_error_1001,train_error_10001])\n",
        "tr_error_2=np.array([train_error_2,train_error_102,train_error_1002,train_error_10002])\n",
        "tr_error_3=np.array([train_error_3,train_error_103,train_error_1003,train_error_10003])\n",
        "tr_error_4=np.array([train_error_4,train_error_104,train_error_1004,train_error_10004])\n",
        "tr_error_5=np.array([train_error_5,train_error_105,train_error_1005,train_error_10005])\n",
        "tr_error_6=np.array([train_error_6,train_error_106,train_error_1006,train_error_10006])\n",
        "tr_error_7=np.array([train_error_7,train_error_107,train_error_1007,train_error_10007])\n",
        "tr_error_8=np.array([train_error_8,train_error_108,train_error_1008,train_error_10008])\n",
        "tr_error_9=np.array([train_error_9,train_error_109,train_error_1009,train_error_10009])\n",
        "\n",
        "#Test error for different n values with respect to the [10,100,1000,10000] datasize\n",
        "ts_error_0=np.array([test_error_0,test_error_100,test_error_1000,test_error_10000])\n",
        "ts_error_1=np.array([test_error_1,test_error_101,test_error_1001,test_error_10001])\n",
        "ts_error_2=np.array([test_error_2,test_error_102,test_error_1002,test_error_10002])\n",
        "ts_error_3=np.array([test_error_3,test_error_103,test_error_1003,test_error_10003])\n",
        "ts_error_4=np.array([test_error_4,test_error_104,test_error_1004,test_error_10004])\n",
        "ts_error_5=np.array([test_error_5,test_error_105,test_error_1005,test_error_10005])\n",
        "ts_error_6=np.array([test_error_6,test_error_106,test_error_1006,test_error_10006])\n",
        "ts_error_7=np.array([test_error_7,test_error_107,test_error_1007,test_error_10007])\n",
        "ts_error_8=np.array([test_error_8,test_error_108,test_error_1008,test_error_10008])\n",
        "ts_error_9=np.array([test_error_9,test_error_109,test_error_1009,test_error_10009])\n",
        "\n",
        "\n"
      ],
      "execution_count": null,
      "outputs": []
    },
    {
      "cell_type": "markdown",
      "metadata": {
        "id": "f_LJAuSUxGIh",
        "colab_type": "text"
      },
      "source": [
        "* **For n=0**"
      ]
    },
    {
      "cell_type": "code",
      "metadata": {
        "id": "maItYIe5xQHX",
        "colab_type": "code",
        "colab": {
          "base_uri": "https://localhost:8080/",
          "height": 299
        },
        "outputId": "bc308a4a-77f8-457e-a2a6-49680eb367fb"
      },
      "source": [
        "fig = plt.figure()\n",
        "ax = fig.add_subplot(111)\n",
        "plt.plot(Data_Size,tr_error_0, 'g', label='Train Error')\n",
        "plt.plot(Data_Size,ts_error_0, 'r', label='Test Error')\n",
        "plt.scatter(Data_Size,tr_error_0)\n",
        "plt.scatter(Data_Size,ts_error_0)\n",
        "plt.title('Error variation with size of dataset n=0')\n",
        "plt.ylabel('Error')\n",
        "plt.xlabel('Size of dataset')\n",
        "plt.legend()\n",
        "plt.grid()\n",
        "ax.set_xscale('log')\n",
        "plt.show()"
      ],
      "execution_count": null,
      "outputs": [
        {
          "output_type": "display_data",
          "data": {
            "image/png": "[encoded data removed]",
            "text/plain": [
              "<Figure size 432x288 with 1 Axes>"
            ]
          },
          "metadata": {
            "tags": [],
            "needs_background": "light"
          }
        }
      ]
    },
    {
      "cell_type": "markdown",
      "metadata": {
        "colab_type": "text",
        "id": "hJ0hBKUX8CHz"
      },
      "source": [
        "* **For n=1**"
      ]
    },
    {
      "cell_type": "code",
      "metadata": {
        "id": "SObqVO7g6XTM",
        "colab_type": "code",
        "colab": {
          "base_uri": "https://localhost:8080/",
          "height": 299
        },
        "outputId": "dfa8b22c-0f65-4c8a-84c7-b6752c4a01f6"
      },
      "source": [
        "fig = plt.figure()\n",
        "ax = fig.add_subplot(111)\n",
        "plt.plot(Data_Size,tr_error_1, 'g', label='Train Error')\n",
        "plt.plot(Data_Size,ts_error_1, 'r', label='Test Error')\n",
        "plt.scatter(Data_Size,tr_error_1)\n",
        "plt.scatter(Data_Size,ts_error_1)\n",
        "plt.title('Error variation with size of dataset n=1')\n",
        "plt.ylabel('Error')\n",
        "plt.xlabel('Size of dataset')\n",
        "plt.legend()\n",
        "plt.grid()\n",
        "ax.set_xscale('log')\n",
        "plt.show()"
      ],
      "execution_count": null,
      "outputs": [
        {
          "output_type": "display_data",
          "data": {
            "image/png": "[encoded data removed]",
            "text/plain": [
              "<Figure size 432x288 with 1 Axes>"
            ]
          },
          "metadata": {
            "tags": [],
            "needs_background": "light"
          }
        }
      ]
    },
    {
      "cell_type": "markdown",
      "metadata": {
        "colab_type": "text",
        "id": "MljwJiVx8Hjx"
      },
      "source": [
        "* **For n=2**"
      ]
    },
    {
      "cell_type": "code",
      "metadata": {
        "id": "HOSsMxuX6XFS",
        "colab_type": "code",
        "colab": {
          "base_uri": "https://localhost:8080/",
          "height": 299
        },
        "outputId": "801afa58-84c5-4d8f-a4fa-78b08e8af753"
      },
      "source": [
        "fig = plt.figure()\n",
        "ax = fig.add_subplot(111)\n",
        "plt.plot(Data_Size,tr_error_2, 'g', label='Train Error')\n",
        "plt.plot(Data_Size,ts_error_2, 'r', label='Test Error')\n",
        "plt.scatter(Data_Size,tr_error_2)\n",
        "plt.scatter(Data_Size,ts_error_2)\n",
        "plt.title('Error variation with size of dataset n=2')\n",
        "plt.ylabel('Error')\n",
        "plt.xlabel('Size of dataset')\n",
        "plt.legend()\n",
        "plt.grid()\n",
        "ax.set_xscale('log')\n",
        "plt.show()"
      ],
      "execution_count": null,
      "outputs": [
        {
          "output_type": "display_data",
          "data": {
            "image/png": "[encoded data removed]",
            "text/plain": [
              "<Figure size 432x288 with 1 Axes>"
            ]
          },
          "metadata": {
            "tags": [],
            "needs_background": "light"
          }
        }
      ]
    },
    {
      "cell_type": "markdown",
      "metadata": {
        "colab_type": "text",
        "id": "wUzxlagm8Kot"
      },
      "source": [
        "* **For n=3**"
      ]
    },
    {
      "cell_type": "code",
      "metadata": {
        "id": "qzVaipxO6W3f",
        "colab_type": "code",
        "colab": {
          "base_uri": "https://localhost:8080/",
          "height": 299
        },
        "outputId": "c079e99c-9228-4026-c074-19daf7b35b14"
      },
      "source": [
        "fig = plt.figure()\n",
        "ax = fig.add_subplot(111)\n",
        "plt.plot(Data_Size,tr_error_3, 'g', label='Train Error')\n",
        "plt.plot(Data_Size,ts_error_3, 'r', label='Test Error')\n",
        "plt.scatter(Data_Size,tr_error_3)\n",
        "plt.scatter(Data_Size,ts_error_3)\n",
        "plt.title('Error variation with size of dataset n=3')\n",
        "plt.ylabel('Error')\n",
        "plt.xlabel('Size of dataset')\n",
        "plt.legend()\n",
        "plt.grid()\n",
        "ax.set_xscale('log')\n",
        "plt.show()"
      ],
      "execution_count": null,
      "outputs": [
        {
          "output_type": "display_data",
          "data": {
            "image/png": "[encoded data removed]",
            "text/plain": [
              "<Figure size 432x288 with 1 Axes>"
            ]
          },
          "metadata": {
            "tags": [],
            "needs_background": "light"
          }
        }
      ]
    },
    {
      "cell_type": "markdown",
      "metadata": {
        "colab_type": "text",
        "id": "Ye7sJRNo8QUB"
      },
      "source": [
        "* **For n=4**"
      ]
    },
    {
      "cell_type": "code",
      "metadata": {
        "id": "i97kn3z86WlM",
        "colab_type": "code",
        "colab": {
          "base_uri": "https://localhost:8080/",
          "height": 299
        },
        "outputId": "de7fbd07-b3c6-45d8-bb12-05bd5e18af46"
      },
      "source": [
        "fig = plt.figure()\n",
        "ax = fig.add_subplot(111)\n",
        "plt.plot(Data_Size,tr_error_4, 'g', label='Train Error')\n",
        "plt.plot(Data_Size,ts_error_4, 'r', label='Test Error')\n",
        "plt.scatter(Data_Size,tr_error_4)\n",
        "plt.scatter(Data_Size,ts_error_4)\n",
        "plt.title('Error variation with size of dataset n=4')\n",
        "plt.ylabel('Error')\n",
        "plt.xlabel('Size of dataset')\n",
        "plt.legend()\n",
        "plt.grid()\n",
        "ax.set_xscale('log')\n",
        "plt.show()"
      ],
      "execution_count": null,
      "outputs": [
        {
          "output_type": "display_data",
          "data": {
            "image/png": "[encoded data removed]",
            "text/plain": [
              "<Figure size 432x288 with 1 Axes>"
            ]
          },
          "metadata": {
            "tags": [],
            "needs_background": "light"
          }
        }
      ]
    },
    {
      "cell_type": "markdown",
      "metadata": {
        "colab_type": "text",
        "id": "2jg3aTap8Tq7"
      },
      "source": [
        "* **For n=5**"
      ]
    },
    {
      "cell_type": "code",
      "metadata": {
        "id": "xonGW8mo6WYQ",
        "colab_type": "code",
        "colab": {
          "base_uri": "https://localhost:8080/",
          "height": 299
        },
        "outputId": "96bc0a45-587d-4320-ee26-d323d15caeac"
      },
      "source": [
        "fig = plt.figure()\n",
        "ax = fig.add_subplot(111)\n",
        "plt.plot(Data_Size,tr_error_5, 'g', label='Train Error')\n",
        "plt.plot(Data_Size,ts_error_5, 'r', label='Test Error')\n",
        "plt.scatter(Data_Size,tr_error_5)\n",
        "plt.scatter(Data_Size,ts_error_5)\n",
        "plt.title('Error variation with size of dataset n=5')\n",
        "plt.ylabel('Error')\n",
        "plt.xlabel('Size of dataset')\n",
        "plt.legend()\n",
        "plt.grid()\n",
        "ax.set_xscale('log')\n",
        "plt.show()"
      ],
      "execution_count": null,
      "outputs": [
        {
          "output_type": "display_data",
          "data": {
            "image/png": "[encoded data removed]",
            "text/plain": [
              "<Figure size 432x288 with 1 Axes>"
            ]
          },
          "metadata": {
            "tags": [],
            "needs_background": "light"
          }
        }
      ]
    },
    {
      "cell_type": "markdown",
      "metadata": {
        "colab_type": "text",
        "id": "CvS_d0qY8WYi"
      },
      "source": [
        "* **For n=6**"
      ]
    },
    {
      "cell_type": "code",
      "metadata": {
        "id": "W4VVyHro6WJe",
        "colab_type": "code",
        "colab": {
          "base_uri": "https://localhost:8080/",
          "height": 299
        },
        "outputId": "ac0a2705-a46e-4914-94cc-a897fee1abe4"
      },
      "source": [
        "fig = plt.figure()\n",
        "ax = fig.add_subplot(111)\n",
        "plt.plot(Data_Size,tr_error_6, 'g', label='Train Error')\n",
        "plt.plot(Data_Size,ts_error_6, 'r', label='Test Error')\n",
        "plt.scatter(Data_Size,tr_error_6)\n",
        "plt.scatter(Data_Size,ts_error_6)\n",
        "plt.title('Error variation with size of dataset n=6')\n",
        "plt.ylabel('Error')\n",
        "plt.xlabel('Size of dataset')\n",
        "plt.legend()\n",
        "plt.grid()\n",
        "ax.set_xscale('log')\n",
        "plt.show()"
      ],
      "execution_count": null,
      "outputs": [
        {
          "output_type": "display_data",
          "data": {
            "image/png": "[encoded data removed]",
            "text/plain": [
              "<Figure size 432x288 with 1 Axes>"
            ]
          },
          "metadata": {
            "tags": [],
            "needs_background": "light"
          }
        }
      ]
    },
    {
      "cell_type": "markdown",
      "metadata": {
        "colab_type": "text",
        "id": "NvPQiB7g8ZWN"
      },
      "source": [
        "* **For n=7**"
      ]
    },
    {
      "cell_type": "code",
      "metadata": {
        "id": "aCD2uvpr6V8P",
        "colab_type": "code",
        "colab": {
          "base_uri": "https://localhost:8080/",
          "height": 299
        },
        "outputId": "d52796b8-6505-4e92-a6d3-aa5d15c969a8"
      },
      "source": [
        "fig = plt.figure()\n",
        "ax = fig.add_subplot(111)\n",
        "plt.plot(Data_Size,tr_error_7, 'g', label='Train Error')\n",
        "plt.plot(Data_Size,ts_error_7, 'r', label='Test Error')\n",
        "plt.scatter(Data_Size,tr_error_7)\n",
        "plt.scatter(Data_Size,ts_error_7)\n",
        "plt.title('Error variation with size of dataset n=7')\n",
        "plt.ylabel('Error')\n",
        "plt.xlabel('Size of dataset')\n",
        "plt.legend()\n",
        "plt.grid()\n",
        "ax.set_xscale('log')\n",
        "plt.show()"
      ],
      "execution_count": null,
      "outputs": [
        {
          "output_type": "display_data",
          "data": {
            "image/png": "[encoded data removed]",
            "text/plain": [
              "<Figure size 432x288 with 1 Axes>"
            ]
          },
          "metadata": {
            "tags": [],
            "needs_background": "light"
          }
        }
      ]
    },
    {
      "cell_type": "markdown",
      "metadata": {
        "colab_type": "text",
        "id": "rPBxTHJK8c41"
      },
      "source": [
        "* **For n=8**"
      ]
    },
    {
      "cell_type": "code",
      "metadata": {
        "id": "HMRIiI8s6Vuz",
        "colab_type": "code",
        "colab": {
          "base_uri": "https://localhost:8080/",
          "height": 299
        },
        "outputId": "6318cbf7-f09d-4743-87c9-48530ea4eeca"
      },
      "source": [
        "fig = plt.figure()\n",
        "ax = fig.add_subplot(111)\n",
        "plt.plot(Data_Size,tr_error_8, 'g', label='Train Error')\n",
        "plt.plot(Data_Size,ts_error_8, 'r', label='Test Error')\n",
        "plt.scatter(Data_Size,tr_error_8)\n",
        "plt.scatter(Data_Size,ts_error_8)\n",
        "plt.title('Error variation with size of dataset n=8')\n",
        "plt.ylabel('Error')\n",
        "plt.xlabel('Size of dataset')\n",
        "plt.legend()\n",
        "plt.grid()\n",
        "ax.set_xscale('log')\n",
        "plt.show()"
      ],
      "execution_count": null,
      "outputs": [
        {
          "output_type": "display_data",
          "data": {
            "image/png": "[encoded data removed]",
            "text/plain": [
              "<Figure size 432x288 with 1 Axes>"
            ]
          },
          "metadata": {
            "tags": [],
            "needs_background": "light"
          }
        }
      ]
    },
    {
      "cell_type": "markdown",
      "metadata": {
        "colab_type": "text",
        "id": "GeBwFDp78fTG"
      },
      "source": [
        "* **For n=9**"
      ]
    },
    {
      "cell_type": "code",
      "metadata": {
        "id": "vrNH5Iy86VX1",
        "colab_type": "code",
        "colab": {
          "base_uri": "https://localhost:8080/",
          "height": 299
        },
        "outputId": "2c69472a-4b80-4750-f621-0cb5da09a094"
      },
      "source": [
        "fig = plt.figure()\n",
        "ax = fig.add_subplot(111)\n",
        "plt.plot(Data_Size,tr_error_9, 'g', label='Train Error')\n",
        "plt.plot(Data_Size,ts_error_9, 'r', label='Test Error')\n",
        "plt.scatter(Data_Size,tr_error_9)\n",
        "plt.scatter(Data_Size,ts_error_9)\n",
        "plt.title('Error variation with size of dataset n=9')\n",
        "plt.ylabel('Error')\n",
        "plt.xlabel('Size of dataset')\n",
        "plt.legend()\n",
        "plt.grid()\n",
        "ax.set_xscale('log')\n",
        "plt.show()"
      ],
      "execution_count": null,
      "outputs": [
        {
          "output_type": "display_data",
          "data": {
            "image/png": "[encoded data removed]",
            "text/plain": [
              "<Figure size 432x288 with 1 Axes>"
            ]
          },
          "metadata": {
            "tags": [],
            "needs_background": "light"
          }
        }
      ]
    },
    {
      "cell_type": "markdown",
      "metadata": {
        "id": "Ps4q4zZL0Lo5",
        "colab_type": "text"
      },
      "source": [
        "#***Logistic Regression over the Breast Cancer Wisconsin Dataset***"
      ]
    },
    {
      "cell_type": "code",
      "metadata": {
        "id": "SVfmkmQr0aIM",
        "colab_type": "code",
        "colab": {}
      },
      "source": [
        "data=datasets.load_breast_cancer()"
      ],
      "execution_count": null,
      "outputs": []
    },
    {
      "cell_type": "code",
      "metadata": {
        "id": "FSYGgCzn0t-6",
        "colab_type": "code",
        "colab": {
          "base_uri": "https://localhost:8080/",
          "height": 503
        },
        "outputId": "f904c94b-3b56-4182-8c51-b803e1e0a73a"
      },
      "source": [
        "LR_X=pd.DataFrame(data.data,columns=data.feature_names)\n",
        "print(LR_X)\n",
        "LR_Y=pd.DataFrame(data.target)\n",
        "print(LR_Y)"
      ],
      "execution_count": null,
      "outputs": [
        {
          "output_type": "stream",
          "text": [
            "     mean radius  mean texture  ...  worst symmetry  worst fractal dimension\n",
            "0          17.99         10.38  ...          0.4601                  0.11890\n",
            "1          20.57         17.77  ...          0.2750                  0.08902\n",
            "2          19.69         21.25  ...          0.3613                  0.08758\n",
            "3          11.42         20.38  ...          0.6638                  0.17300\n",
            "4          20.29         14.34  ...          0.2364                  0.07678\n",
            "..           ...           ...  ...             ...                      ...\n",
            "564        21.56         22.39  ...          0.2060                  0.07115\n",
            "565        20.13         28.25  ...          0.2572                  0.06637\n",
            "566        16.60         28.08  ...          0.2218                  0.07820\n",
            "567        20.60         29.33  ...          0.4087                  0.12400\n",
            "568         7.76         24.54  ...          0.2871                  0.07039\n",
            "\n",
            "[569 rows x 30 columns]\n",
            "     0\n",
            "0    0\n",
            "1    0\n",
            "2    0\n",
            "3    0\n",
            "4    0\n",
            "..  ..\n",
            "564  0\n",
            "565  0\n",
            "566  0\n",
            "567  0\n",
            "568  1\n",
            "\n",
            "[569 rows x 1 columns]\n"
          ],
          "name": "stdout"
        }
      ]
    },
    {
      "cell_type": "code",
      "metadata": {
        "id": "Ru6RdZ03GXsP",
        "colab_type": "code",
        "colab": {
          "base_uri": "https://localhost:8080/",
          "height": 260
        },
        "outputId": "aa158085-3fa2-42c8-f2ab-b6c8cefbd434"
      },
      "source": [
        "\n",
        "#normalization\n",
        "\n",
        "rx = (LR_X - np.min(LR_X))/(np.max(LR_X) - np.min(LR_X)).values \n",
        "print(rx)"
      ],
      "execution_count": null,
      "outputs": [
        {
          "output_type": "stream",
          "text": [
            "     mean radius  mean texture  ...  worst symmetry  worst fractal dimension\n",
            "0       0.521037      0.022658  ...        0.598462                 0.418864\n",
            "1       0.643144      0.272574  ...        0.233590                 0.222878\n",
            "2       0.601496      0.390260  ...        0.403706                 0.213433\n",
            "3       0.210090      0.360839  ...        1.000000                 0.773711\n",
            "4       0.629893      0.156578  ...        0.157500                 0.142595\n",
            "..           ...           ...  ...             ...                      ...\n",
            "564     0.690000      0.428813  ...        0.097575                 0.105667\n",
            "565     0.622320      0.626987  ...        0.198502                 0.074315\n",
            "566     0.455251      0.621238  ...        0.128721                 0.151909\n",
            "567     0.644564      0.663510  ...        0.497142                 0.452315\n",
            "568     0.036869      0.501522  ...        0.257441                 0.100682\n",
            "\n",
            "[569 rows x 30 columns]\n"
          ],
          "name": "stdout"
        }
      ]
    },
    {
      "cell_type": "code",
      "metadata": {
        "id": "G25bFTqk102f",
        "colab_type": "code",
        "colab": {
          "base_uri": "https://localhost:8080/",
          "height": 434
        },
        "outputId": "aa76f3de-c94d-4731-b2dc-8d40dcca5f68"
      },
      "source": [
        "#splitting daatsets\n",
        "\n",
        "rx_train,rx_test,ry_train,ry_test=tts(rx , LR_Y ,test_size=0.9,random_state=42)\n",
        "print(rx_train.shape)\n",
        "print(rx_test.shape)\n",
        "print(ry_train.shape)\n",
        "print(ry_test.shape)\n",
        "xtrain=np.asarray(rx_train)\n",
        "ytrain=np.asarray(ry_train)\n",
        "xtest=np.asarray(rx_test)\n",
        "ytest=np.asarray(ry_test)\n",
        "\n",
        "\n",
        "rx1_train,rx1_test,ry1_train,ry1_test=tts(rx , LR_Y ,test_size=0.8,random_state=42)\n",
        "print(rx1_train.shape)\n",
        "print(rx1_test.shape)\n",
        "print(ry1_train.shape)\n",
        "print(ry1_test.shape)\n",
        "xtrain1=np.asarray(rx1_train)\n",
        "ytrain1=np.asarray(ry1_train)\n",
        "xtest1=np.asarray(rx1_test)\n",
        "ytest1=np.asarray(ry1_test)\n",
        "\n",
        "rx2_train,rx2_test,ry2_train,ry2_test=tts(rx , LR_Y ,test_size=0.7,random_state=42)\n",
        "print(rx2_train.shape)\n",
        "print(rx2_test.shape)\n",
        "print(ry2_train.shape)\n",
        "print(ry2_test.shape)\n",
        "xtrain2=np.asarray(rx2_train)\n",
        "ytrain2=np.asarray(ry2_train)\n",
        "xtest2=np.asarray(rx2_test)\n",
        "ytest2=np.asarray(ry2_test)\n",
        "\n",
        "rx3_train,rx3_test,ry3_train,ry3_test=tts(rx , LR_Y ,test_size=0.6,random_state=42)\n",
        "print(rx3_train.shape)\n",
        "print(rx3_test.shape)\n",
        "print(ry3_train.shape)\n",
        "print(ry3_test.shape)\n",
        "xtrain3=np.asarray(rx3_train)\n",
        "ytrain3=np.asarray(ry3_train)\n",
        "xtest3=np.asarray(rx3_test)\n",
        "ytest3=np.asarray(ry3_test)\n",
        "\n",
        "\n",
        "rx4_train,rx4_test,ry4_train,ry4_test=tts(rx , LR_Y ,test_size=0.5,random_state=42)\n",
        "print(rx4_train.shape)\n",
        "print(rx4_test.shape)\n",
        "print(ry4_train.shape)\n",
        "print(ry4_test.shape)\n",
        "xtrain4=np.asarray(rx4_train)\n",
        "ytrain4=np.asarray(ry4_train)\n",
        "xtest4=np.asarray(rx4_test)\n",
        "ytest4=np.asarray(ry4_test)\n",
        "\n",
        "\n",
        "rx5_train,rx5_test,ry5_train,ry5_test=tts(rx, LR_Y ,test_size=0.4,random_state=42)\n",
        "print(rx5_train.shape)\n",
        "print(rx5_test.shape)\n",
        "print(ry5_train.shape)\n",
        "print(ry5_test.shape)\n",
        "xtrain5=np.asarray(rx5_train)\n",
        "ytrain5=np.asarray(ry5_train)\n",
        "xtest5=np.asarray(rx5_test)\n",
        "ytest5=np.asarray(ry5_test)\n",
        "\n"
      ],
      "execution_count": null,
      "outputs": [
        {
          "output_type": "stream",
          "text": [
            "(56, 30)\n",
            "(513, 30)\n",
            "(56, 1)\n",
            "(513, 1)\n",
            "(113, 30)\n",
            "(456, 30)\n",
            "(113, 1)\n",
            "(456, 1)\n",
            "(170, 30)\n",
            "(399, 30)\n",
            "(170, 1)\n",
            "(399, 1)\n",
            "(227, 30)\n",
            "(342, 30)\n",
            "(227, 1)\n",
            "(342, 1)\n",
            "(284, 30)\n",
            "(285, 30)\n",
            "(284, 1)\n",
            "(285, 1)\n",
            "(341, 30)\n",
            "(228, 30)\n",
            "(341, 1)\n",
            "(228, 1)\n"
          ],
          "name": "stdout"
        }
      ]
    },
    {
      "cell_type": "code",
      "metadata": {
        "id": "ry1GG09bQp5j",
        "colab_type": "code",
        "colab": {}
      },
      "source": [
        "#initializing alpha and iterations \n",
        "\n",
        "alpha=0.000001\n",
        "iterations=10000"
      ],
      "execution_count": null,
      "outputs": []
    },
    {
      "cell_type": "code",
      "metadata": {
        "id": "jlPl5P6tGF21",
        "colab_type": "code",
        "colab": {}
      },
      "source": [
        "#initializing with weight and bias\n",
        "\n",
        "def initialize(dim): \n",
        "\tw = np.full((dim, 1), 0.01) \n",
        "\tb = 0.0\n",
        "\treturn w, b "
      ],
      "execution_count": null,
      "outputs": []
    },
    {
      "cell_type": "code",
      "metadata": {
        "id": "tTt5BYEMHTMi",
        "colab_type": "code",
        "colab": {}
      },
      "source": [
        "#calculate signmoid of x\n",
        "\n",
        "def sigmoid(rz): \n",
        "    return 1/(1 + np.exp(-rz)) \n",
        "    "
      ],
      "execution_count": null,
      "outputs": []
    },
    {
      "cell_type": "code",
      "metadata": {
        "id": "HCKZUM7yM283",
        "colab_type": "code",
        "colab": {}
      },
      "source": [
        "#Function for doing forward and back propogation\n",
        "\n",
        "def propogation(x_t, y_t, w, b):\n",
        "    \n",
        "    l = x_t.shape[1] \n",
        "\n",
        "   \n",
        "    Z = np.dot(w.T, x_t) + b;    \n",
        "    A = sigmoid(Z)\n",
        "    cost= -(1/l) * np.sum(y_t * np.log(A) + (1-y_t) * np.log(1-A))\n",
        "    \n",
        "    #Back Propogation\n",
        "   \n",
        "    dw = (1/l)* np.dot(x_t, (A-y_t).T)\n",
        "    db = (1/l)* np.sum(A-y_t)\n",
        "    \n",
        "    grads= {\"dw\" : dw, \"db\" : db}\n",
        "    \n",
        "    return grads, cost"
      ],
      "execution_count": null,
      "outputs": []
    },
    {
      "cell_type": "code",
      "metadata": {
        "id": "oSGjjJF9Ngf1",
        "colab_type": "code",
        "colab": {}
      },
      "source": [
        "#optimizing\n",
        "\n",
        "def optimize(x_t, y_t, w, b, iterations, alpha):\n",
        "    \n",
        "  \n",
        "    \n",
        "    for i in range(iterations):\n",
        " \n",
        "        grads, cost = propogation(x_t, y_t, w, b)\n",
        "        \n",
        "        dw = grads[\"dw\"]\n",
        "        db = grads[\"db\"]\n",
        "        \n",
        "        w = w - alpha * dw\n",
        "        b = b - alpha * db\n",
        "        \n",
        "            \n",
        "    parameters = {\"w\":w, \"b\":b}\n",
        "    grads = {\"dw\":dw, \"db\":db}\n",
        "    \n",
        "    \n",
        "    return parameters, grads"
      ],
      "execution_count": null,
      "outputs": []
    },
    {
      "cell_type": "code",
      "metadata": {
        "id": "SHsxSdBOOAK5",
        "colab_type": "code",
        "colab": {}
      },
      "source": [
        "#Function for doing the predictions on the data set\n",
        "\n",
        "def predict(x_t, w, b):\n",
        "    \n",
        "    l = x_t.shape[1] \n",
        "    \n",
        "    y_pred =  np.zeros((1,l))\n",
        "    \n",
        "    w = w.reshape(x_t.shape[0], 1)\n",
        "    \n",
        "    A=sigmoid(np.dot(w.T, x_t)+b)\n",
        "    \n",
        "    \n",
        "    for i in range(A.shape[1]):\n",
        "        \n",
        "        if(A[0,i]<0.5):\n",
        "            y_pred[0,i]=0\n",
        "        else:\n",
        "            y_pred[0,i]=1\n",
        "            \n",
        "    \n",
        "    return y_pred"
      ],
      "execution_count": null,
      "outputs": []
    },
    {
      "cell_type": "code",
      "metadata": {
        "id": "j0CVZn3QOdz9",
        "colab_type": "code",
        "colab": {}
      },
      "source": [
        "#Function for calculating the Logistic Regression \n",
        "\n",
        "def LOG_REG(Xtrain, Ytrain, iterations, alpha):\n",
        "    \n",
        "    dim = Xtrain.shape[0] \n",
        "    \n",
        "    w,b = initialize(dim)\n",
        "    \n",
        "    parameters, grads = optimize(Xtrain, Ytrain, w, b, iterations, alpha) \n",
        "    \n",
        "    w = parameters[\"w\"]\n",
        "    b = parameters[\"b\"]\n",
        "        \n",
        "    \n",
        "    d={\"w\":w, \"b\":b}\n",
        "    \n",
        "    return d"
      ],
      "execution_count": null,
      "outputs": []
    },
    {
      "cell_type": "markdown",
      "metadata": {
        "id": "zqfVM3p7d3-v",
        "colab_type": "text"
      },
      "source": [
        "* *For Traning Data 10%*"
      ]
    },
    {
      "cell_type": "code",
      "metadata": {
        "id": "FylA4erEPp_C",
        "colab_type": "code",
        "colab": {
          "base_uri": "https://localhost:8080/",
          "height": 86
        },
        "outputId": "188b95b2-6459-4cd3-82f2-d138e203df78"
      },
      "source": [
        "#Training and testing\n",
        "\n",
        "ans=LOG_REG(xtrain.T,ytrain.T,iterations,alpha)\n",
        "\n",
        "w=ans[\"w\"]\n",
        "b=ans[\"b\"]\n",
        "Y_pred_train = predict(xtrain.T, w, b)\n",
        "Y_pred_test = predict(xtest.T, w, b)\n",
        "train=100 - np.mean(np.abs(Y_pred_train - ytrain.T))*100\n",
        "test=100 - np.mean(np.abs(Y_pred_test - ytest.T))*100\n",
        "print(\"\\nTrain accuracy: {}% \".format(train))\n",
        "print(\"\\nTest accuracy: {} %\".format(test))\n"
      ],
      "execution_count": null,
      "outputs": [
        {
          "output_type": "stream",
          "text": [
            "\n",
            "Train accuracy: 66.07142857142857% \n",
            "\n",
            "Test accuracy: 62.37816764132554 %\n"
          ],
          "name": "stdout"
        }
      ]
    },
    {
      "cell_type": "markdown",
      "metadata": {
        "id": "3oms3nNAeJuf",
        "colab_type": "text"
      },
      "source": [
        "* *For Traning Data 20%*"
      ]
    },
    {
      "cell_type": "code",
      "metadata": {
        "id": "V25FBrNqXZvC",
        "colab_type": "code",
        "colab": {
          "base_uri": "https://localhost:8080/",
          "height": 86
        },
        "outputId": "0ebc54b4-24b0-430c-eaee-4673245b3204"
      },
      "source": [
        "#Training and testing\n",
        "\n",
        "ans1=LOG_REG(xtrain1.T,ytrain1.T,iterations,alpha)\n",
        "\n",
        "w1=ans1[\"w\"]\n",
        "b1=ans1[\"b\"]\n",
        "Y_pred_train = predict(xtrain1.T, w1, b1)\n",
        "Y_pred_test = predict(xtest1.T, w1, b1)\n",
        "train1=100 - np.mean(np.abs(Y_pred_train - ytrain1.T))*100\n",
        "test1=100 - np.mean(np.abs(Y_pred_test - ytest1.T))*100\n",
        "print(\"\\nTrain1 accuracy: {}% \".format(train1))\n",
        "print(\"\\nTest1 accuracy: {} %\".format(test1))"
      ],
      "execution_count": null,
      "outputs": [
        {
          "output_type": "stream",
          "text": [
            "\n",
            "Train1 accuracy: 59.292035398230084% \n",
            "\n",
            "Test1 accuracy: 63.59649122807017 %\n"
          ],
          "name": "stdout"
        }
      ]
    },
    {
      "cell_type": "markdown",
      "metadata": {
        "id": "fJeHQrk-eM9j",
        "colab_type": "text"
      },
      "source": [
        "* *For Traning Data 30%*"
      ]
    },
    {
      "cell_type": "code",
      "metadata": {
        "id": "y2e7fVKvXZeY",
        "colab_type": "code",
        "colab": {
          "base_uri": "https://localhost:8080/",
          "height": 86
        },
        "outputId": "f2ac92cc-fdd5-4356-a326-f29dca5f5184"
      },
      "source": [
        "#Training and testing\n",
        "\n",
        "ans2=LOG_REG(xtrain2.T,ytrain2.T,iterations,alpha)\n",
        "\n",
        "w2=ans2[\"w\"]\n",
        "b2=ans2[\"b\"]\n",
        "Y_pred_train = predict(xtrain2.T, w2, b2)\n",
        "Y_pred_test = predict(xtest2.T, w2, b2)\n",
        "train2=100 - np.mean(np.abs(Y_pred_train - ytrain2.T))*100\n",
        "test2=100 - np.mean(np.abs(Y_pred_test - ytest2.T))*100\n",
        "print(\"\\nTrain2 accuracy: {}% \".format(train2))\n",
        "print(\"\\nTest2 accuracy: {} %\".format(test2))"
      ],
      "execution_count": null,
      "outputs": [
        {
          "output_type": "stream",
          "text": [
            "\n",
            "Train2 accuracy: 57.64705882352941% \n",
            "\n",
            "Test2 accuracy: 64.91228070175438 %\n"
          ],
          "name": "stdout"
        }
      ]
    },
    {
      "cell_type": "markdown",
      "metadata": {
        "id": "aFr5U6dOeQ0M",
        "colab_type": "text"
      },
      "source": [
        "* *For Traning Data 40%*"
      ]
    },
    {
      "cell_type": "code",
      "metadata": {
        "id": "aZJxfIRbXZGZ",
        "colab_type": "code",
        "colab": {
          "base_uri": "https://localhost:8080/",
          "height": 86
        },
        "outputId": "bd3813eb-07a6-4e79-bee2-060fab600973"
      },
      "source": [
        "#Training and testing\n",
        "\n",
        "ans3=LOG_REG(xtrain3.T,ytrain3.T,iterations,alpha)\n",
        "\n",
        "w3=ans3[\"w\"]\n",
        "b3=ans3[\"b\"]\n",
        "Y_pred_train = predict(xtrain3.T, w3, b3)\n",
        "Y_pred_test = predict(xtest3.T, w3, b3)\n",
        "train3=100 - np.mean(np.abs(Y_pred_train - ytrain3.T))*100\n",
        "test3=100 - np.mean(np.abs(Y_pred_test - ytest3.T))*100\n",
        "print(\"\\nTrain3 accuracy: {}% \".format(train3))\n",
        "print(\"\\nTest3 accuracy: {} %\".format(test3))"
      ],
      "execution_count": null,
      "outputs": [
        {
          "output_type": "stream",
          "text": [
            "\n",
            "Train3 accuracy: 60.79295154185022% \n",
            "\n",
            "Test3 accuracy: 64.03508771929825 %\n"
          ],
          "name": "stdout"
        }
      ]
    },
    {
      "cell_type": "markdown",
      "metadata": {
        "id": "70YTNduEeUOX",
        "colab_type": "text"
      },
      "source": [
        "* *For Traning Data 50%*"
      ]
    },
    {
      "cell_type": "code",
      "metadata": {
        "id": "skJAqoW3XY3G",
        "colab_type": "code",
        "colab": {
          "base_uri": "https://localhost:8080/",
          "height": 86
        },
        "outputId": "ce988eac-111e-4055-d663-110c78598639"
      },
      "source": [
        "#Training and testing\n",
        "\n",
        "ans4=LOG_REG(xtrain4.T,ytrain4.T,iterations,alpha)\n",
        "\n",
        "w4=ans4[\"w\"]\n",
        "b4=ans4[\"b\"]\n",
        "Y_pred_train = predict(xtrain4.T, w4, b4)\n",
        "Y_pred_test = predict(xtest4.T, w4, b4)\n",
        "train4=100 - np.mean(np.abs(Y_pred_train - ytrain4.T))*100\n",
        "test4=100 - np.mean(np.abs(Y_pred_test - ytest4.T))*100\n",
        "print(\"\\nTrain4 accuracy: {}% \".format(train4))\n",
        "print(\"\\nTest4 accuracy: {} %\".format(test4))"
      ],
      "execution_count": null,
      "outputs": [
        {
          "output_type": "stream",
          "text": [
            "\n",
            "Train4 accuracy: 59.859154929577464% \n",
            "\n",
            "Test4 accuracy: 65.61403508771929 %\n"
          ],
          "name": "stdout"
        }
      ]
    },
    {
      "cell_type": "markdown",
      "metadata": {
        "id": "EF0EaN9meXfO",
        "colab_type": "text"
      },
      "source": [
        "* *For Traning Data 60%*"
      ]
    },
    {
      "cell_type": "code",
      "metadata": {
        "id": "ZEQOasCYXYiu",
        "colab_type": "code",
        "colab": {
          "base_uri": "https://localhost:8080/",
          "height": 86
        },
        "outputId": "aa7583bb-0a6a-44ce-ffee-3f4890f02e18"
      },
      "source": [
        "#Training and testing\n",
        "\n",
        "ans5=LOG_REG(xtrain5.T,ytrain5.T,iterations,alpha)\n",
        "\n",
        "w5=ans5[\"w\"]\n",
        "b5=ans5[\"b\"]\n",
        "Y_pred_train = predict(xtrain5.T, w5, b5)\n",
        "Y_pred_test = predict(xtest5.T, w5, b5)\n",
        "train5=100 - np.mean(np.abs(Y_pred_train - ytrain5.T))*100\n",
        "test5=100 - np.mean(np.abs(Y_pred_test - ytest5.T))*100\n",
        "print(\"\\nTrain5 accuracy: {}% \".format(train5))\n",
        "print(\"\\nTest5 accuracy: {} %\".format(test5))"
      ],
      "execution_count": null,
      "outputs": [
        {
          "output_type": "stream",
          "text": [
            "\n",
            "Train5 accuracy: 61.29032258064516% \n",
            "\n",
            "Test5 accuracy: 64.91228070175438 %\n"
          ],
          "name": "stdout"
        }
      ]
    },
    {
      "cell_type": "code",
      "metadata": {
        "id": "YjZpeIZiYjxM",
        "colab_type": "code",
        "colab": {}
      },
      "source": [
        "#Writing Result to the CSV File\n",
        " \n",
        "def write_to_csv(output):\n",
        "  df_output =  pd.DataFrame(output,columns=['1. Amount of randomly selected training data','2.Training Accuracy(in %)','3.Test Accuracy(in %)'],dtype=float)\n",
        "  df_output.to_csv('output.csv')\n",
        " \n",
        "write_to_csv([['10%',train,test],['20%',train1,test1],['30%',train2,test2],['40%',train3,test3],['50%',train4,test4],['60%',train5,test5]])"
      ],
      "execution_count": null,
      "outputs": []
    }
  ]
}

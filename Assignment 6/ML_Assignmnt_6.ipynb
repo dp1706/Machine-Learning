{
  "nbformat": 4,
  "nbformat_minor": 0,
  "metadata": {
    "colab": {
      "name": "ML_Assignmnt_6",
      "provenance": [],
      "collapsed_sections": [
        "KfL6pki3F_Gk",
        "lJLVbKwyGL0n",
        "wYpMU59rVUHy",
        "CymAl37fGZ1g"
      ],
      "toc_visible": true,
      "include_colab_link": true
    },
    "kernelspec": {
      "display_name": "Python 3",
      "name": "python3"
    }
  },
  "cells": [
    {
      "cell_type": "markdown",
      "metadata": {
        "id": "view-in-github",
        "colab_type": "text"
      },
      "source": [
        "<a href=\"https://colab.research.google.com/github/dp1706/Machine-Learning/blob/master/Assignment%206/ML_Assignmnt_6.ipynb\" target=\"_parent\"><img src=\"https://colab.research.google.com/assets/colab-badge.svg\" alt=\"Open In Colab\"/></a>"
      ]
    },
    {
      "cell_type": "markdown",
      "metadata": {
        "id": "9kL1FUsQjrMG"
      },
      "source": [
        "                                              ***Assignment 6***"
      ]
    },
    {
      "cell_type": "markdown",
      "metadata": {
        "id": "KfL6pki3F_Gk"
      },
      "source": [
        "# **MODULES**"
      ]
    },
    {
      "cell_type": "code",
      "metadata": {
        "id": "wbkqgqsLF8y2",
        "outputId": "554bba1c-f7b2-4adf-a38f-a873595d4474",
        "colab": {
          "base_uri": "https://localhost:8080/",
          "height": 34
        }
      },
      "source": [
        "import numpy as np\n",
        "import csv\n",
        "import math\n",
        "from math import sqrt\n",
        "import warnings\n",
        "import pandas as pd\n",
        "import matplotlib.pyplot as plt\n",
        "from sklearn.model_selection import train_test_split as tts\n",
        "from sklearn.preprocessing import LabelEncoder\n",
        "from sklearn import datasets\n",
        "import random\n",
        "from sklearn.datasets import load_iris\n",
        "import seaborn as sns\n",
        "warnings.filterwarnings(\"ignore\")\n",
        "print(\"True\")"
      ],
      "execution_count": 330,
      "outputs": [
        {
          "output_type": "stream",
          "text": [
            "True\n"
          ],
          "name": "stdout"
        }
      ]
    },
    {
      "cell_type": "code",
      "metadata": {
        "id": "e0WltaWxMMIO",
        "outputId": "445a23f2-cecf-4167-b2cc-bb315e61ed24",
        "colab": {
          "base_uri": "https://localhost:8080/",
          "height": 124
        }
      },
      "source": [
        "!pip install xlsxwriter"
      ],
      "execution_count": 335,
      "outputs": [
        {
          "output_type": "stream",
          "text": [
            "Collecting xlsxwriter\n",
            "\u001b[?25l  Downloading https://files.pythonhosted.org/packages/6b/41/bf1aae04932d1eaffee1fc5f8b38ca47bbbf07d765129539bc4bcce1ce0c/XlsxWriter-1.3.7-py2.py3-none-any.whl (144kB)\n",
            "\r\u001b[K     |██▎                             | 10kB 17.0MB/s eta 0:00:01\r\u001b[K     |████▌                           | 20kB 5.6MB/s eta 0:00:01\r\u001b[K     |██████▉                         | 30kB 7.2MB/s eta 0:00:01\r\u001b[K     |█████████                       | 40kB 8.5MB/s eta 0:00:01\r\u001b[K     |███████████▎                    | 51kB 6.7MB/s eta 0:00:01\r\u001b[K     |█████████████▋                  | 61kB 7.6MB/s eta 0:00:01\r\u001b[K     |███████████████▉                | 71kB 7.7MB/s eta 0:00:01\r\u001b[K     |██████████████████▏             | 81kB 8.2MB/s eta 0:00:01\r\u001b[K     |████████████████████▍           | 92kB 8.3MB/s eta 0:00:01\r\u001b[K     |██████████████████████▋         | 102kB 9.0MB/s eta 0:00:01\r\u001b[K     |█████████████████████████       | 112kB 9.0MB/s eta 0:00:01\r\u001b[K     |███████████████████████████▏    | 122kB 9.0MB/s eta 0:00:01\r\u001b[K     |█████████████████████████████▌  | 133kB 9.0MB/s eta 0:00:01\r\u001b[K     |███████████████████████████████▊| 143kB 9.0MB/s eta 0:00:01\r\u001b[K     |████████████████████████████████| 153kB 9.0MB/s \n",
            "\u001b[?25hInstalling collected packages: xlsxwriter\n",
            "Successfully installed xlsxwriter-1.3.7\n"
          ],
          "name": "stdout"
        }
      ]
    },
    {
      "cell_type": "markdown",
      "metadata": {
        "id": "lJLVbKwyGL0n"
      },
      "source": [
        "# **Iris Data Visualization**"
      ]
    },
    {
      "cell_type": "code",
      "metadata": {
        "id": "IludJL8_GO-G",
        "outputId": "804e09aa-41cb-4c65-8c0a-e3986efcbecc",
        "colab": {
          "base_uri": "https://localhost:8080/",
          "height": 300
        }
      },
      "source": [
        "dataset = pd.read_csv('https://archive.ics.uci.edu/ml/machine-learning-databases/iris/iris.data',  names = ['sepal_length', 'sepal_width', 'petal_length', 'petal_width', 'class'])\n",
        "dataset.describe()"
      ],
      "execution_count": 337,
      "outputs": [
        {
          "output_type": "execute_result",
          "data": {
            "text/html": [
              "<div>\n",
              "<style scoped>\n",
              "    .dataframe tbody tr th:only-of-type {\n",
              "        vertical-align: middle;\n",
              "    }\n",
              "\n",
              "    .dataframe tbody tr th {\n",
              "        vertical-align: top;\n",
              "    }\n",
              "\n",
              "    .dataframe thead th {\n",
              "        text-align: right;\n",
              "    }\n",
              "</style>\n",
              "<table border=\"1\" class=\"dataframe\">\n",
              "  <thead>\n",
              "    <tr style=\"text-align: right;\">\n",
              "      <th></th>\n",
              "      <th>sepal_length</th>\n",
              "      <th>sepal_width</th>\n",
              "      <th>petal_length</th>\n",
              "      <th>petal_width</th>\n",
              "    </tr>\n",
              "  </thead>\n",
              "  <tbody>\n",
              "    <tr>\n",
              "      <th>count</th>\n",
              "      <td>150.000000</td>\n",
              "      <td>150.000000</td>\n",
              "      <td>150.000000</td>\n",
              "      <td>150.000000</td>\n",
              "    </tr>\n",
              "    <tr>\n",
              "      <th>mean</th>\n",
              "      <td>5.843333</td>\n",
              "      <td>3.054000</td>\n",
              "      <td>3.758667</td>\n",
              "      <td>1.198667</td>\n",
              "    </tr>\n",
              "    <tr>\n",
              "      <th>std</th>\n",
              "      <td>0.828066</td>\n",
              "      <td>0.433594</td>\n",
              "      <td>1.764420</td>\n",
              "      <td>0.763161</td>\n",
              "    </tr>\n",
              "    <tr>\n",
              "      <th>min</th>\n",
              "      <td>4.300000</td>\n",
              "      <td>2.000000</td>\n",
              "      <td>1.000000</td>\n",
              "      <td>0.100000</td>\n",
              "    </tr>\n",
              "    <tr>\n",
              "      <th>25%</th>\n",
              "      <td>5.100000</td>\n",
              "      <td>2.800000</td>\n",
              "      <td>1.600000</td>\n",
              "      <td>0.300000</td>\n",
              "    </tr>\n",
              "    <tr>\n",
              "      <th>50%</th>\n",
              "      <td>5.800000</td>\n",
              "      <td>3.000000</td>\n",
              "      <td>4.350000</td>\n",
              "      <td>1.300000</td>\n",
              "    </tr>\n",
              "    <tr>\n",
              "      <th>75%</th>\n",
              "      <td>6.400000</td>\n",
              "      <td>3.300000</td>\n",
              "      <td>5.100000</td>\n",
              "      <td>1.800000</td>\n",
              "    </tr>\n",
              "    <tr>\n",
              "      <th>max</th>\n",
              "      <td>7.900000</td>\n",
              "      <td>4.400000</td>\n",
              "      <td>6.900000</td>\n",
              "      <td>2.500000</td>\n",
              "    </tr>\n",
              "  </tbody>\n",
              "</table>\n",
              "</div>"
            ],
            "text/plain": [
              "       sepal_length  sepal_width  petal_length  petal_width\n",
              "count    150.000000   150.000000    150.000000   150.000000\n",
              "mean       5.843333     3.054000      3.758667     1.198667\n",
              "std        0.828066     0.433594      1.764420     0.763161\n",
              "min        4.300000     2.000000      1.000000     0.100000\n",
              "25%        5.100000     2.800000      1.600000     0.300000\n",
              "50%        5.800000     3.000000      4.350000     1.300000\n",
              "75%        6.400000     3.300000      5.100000     1.800000\n",
              "max        7.900000     4.400000      6.900000     2.500000"
            ]
          },
          "metadata": {
            "tags": []
          },
          "execution_count": 337
        }
      ]
    },
    {
      "cell_type": "code",
      "metadata": {
        "id": "IYmhqtwPrBm8"
      },
      "source": [
        "X = dataset.iloc[:,0:4]\n",
        "Y = pd.DataFrame(dataset.iloc[:,-1])"
      ],
      "execution_count": 338,
      "outputs": []
    },
    {
      "cell_type": "code",
      "metadata": {
        "id": "w6pGP7CXM2Zd",
        "outputId": "0c3efe55-7da9-46c1-b7cc-f312dc16038f",
        "colab": {
          "base_uri": "https://localhost:8080/",
          "height": 206
        }
      },
      "source": [
        "X.head()"
      ],
      "execution_count": 339,
      "outputs": [
        {
          "output_type": "execute_result",
          "data": {
            "text/html": [
              "<div>\n",
              "<style scoped>\n",
              "    .dataframe tbody tr th:only-of-type {\n",
              "        vertical-align: middle;\n",
              "    }\n",
              "\n",
              "    .dataframe tbody tr th {\n",
              "        vertical-align: top;\n",
              "    }\n",
              "\n",
              "    .dataframe thead th {\n",
              "        text-align: right;\n",
              "    }\n",
              "</style>\n",
              "<table border=\"1\" class=\"dataframe\">\n",
              "  <thead>\n",
              "    <tr style=\"text-align: right;\">\n",
              "      <th></th>\n",
              "      <th>sepal_length</th>\n",
              "      <th>sepal_width</th>\n",
              "      <th>petal_length</th>\n",
              "      <th>petal_width</th>\n",
              "    </tr>\n",
              "  </thead>\n",
              "  <tbody>\n",
              "    <tr>\n",
              "      <th>0</th>\n",
              "      <td>5.1</td>\n",
              "      <td>3.5</td>\n",
              "      <td>1.4</td>\n",
              "      <td>0.2</td>\n",
              "    </tr>\n",
              "    <tr>\n",
              "      <th>1</th>\n",
              "      <td>4.9</td>\n",
              "      <td>3.0</td>\n",
              "      <td>1.4</td>\n",
              "      <td>0.2</td>\n",
              "    </tr>\n",
              "    <tr>\n",
              "      <th>2</th>\n",
              "      <td>4.7</td>\n",
              "      <td>3.2</td>\n",
              "      <td>1.3</td>\n",
              "      <td>0.2</td>\n",
              "    </tr>\n",
              "    <tr>\n",
              "      <th>3</th>\n",
              "      <td>4.6</td>\n",
              "      <td>3.1</td>\n",
              "      <td>1.5</td>\n",
              "      <td>0.2</td>\n",
              "    </tr>\n",
              "    <tr>\n",
              "      <th>4</th>\n",
              "      <td>5.0</td>\n",
              "      <td>3.6</td>\n",
              "      <td>1.4</td>\n",
              "      <td>0.2</td>\n",
              "    </tr>\n",
              "  </tbody>\n",
              "</table>\n",
              "</div>"
            ],
            "text/plain": [
              "   sepal_length  sepal_width  petal_length  petal_width\n",
              "0           5.1          3.5           1.4          0.2\n",
              "1           4.9          3.0           1.4          0.2\n",
              "2           4.7          3.2           1.3          0.2\n",
              "3           4.6          3.1           1.5          0.2\n",
              "4           5.0          3.6           1.4          0.2"
            ]
          },
          "metadata": {
            "tags": []
          },
          "execution_count": 339
        }
      ]
    },
    {
      "cell_type": "code",
      "metadata": {
        "id": "lLftZwZsM8YB",
        "outputId": "a0fb6294-3e2d-4e32-da52-5981706fb9e3",
        "colab": {
          "base_uri": "https://localhost:8080/",
          "height": 363
        }
      },
      "source": [
        "Y.head(10)"
      ],
      "execution_count": 340,
      "outputs": [
        {
          "output_type": "execute_result",
          "data": {
            "text/html": [
              "<div>\n",
              "<style scoped>\n",
              "    .dataframe tbody tr th:only-of-type {\n",
              "        vertical-align: middle;\n",
              "    }\n",
              "\n",
              "    .dataframe tbody tr th {\n",
              "        vertical-align: top;\n",
              "    }\n",
              "\n",
              "    .dataframe thead th {\n",
              "        text-align: right;\n",
              "    }\n",
              "</style>\n",
              "<table border=\"1\" class=\"dataframe\">\n",
              "  <thead>\n",
              "    <tr style=\"text-align: right;\">\n",
              "      <th></th>\n",
              "      <th>class</th>\n",
              "    </tr>\n",
              "  </thead>\n",
              "  <tbody>\n",
              "    <tr>\n",
              "      <th>0</th>\n",
              "      <td>Iris-setosa</td>\n",
              "    </tr>\n",
              "    <tr>\n",
              "      <th>1</th>\n",
              "      <td>Iris-setosa</td>\n",
              "    </tr>\n",
              "    <tr>\n",
              "      <th>2</th>\n",
              "      <td>Iris-setosa</td>\n",
              "    </tr>\n",
              "    <tr>\n",
              "      <th>3</th>\n",
              "      <td>Iris-setosa</td>\n",
              "    </tr>\n",
              "    <tr>\n",
              "      <th>4</th>\n",
              "      <td>Iris-setosa</td>\n",
              "    </tr>\n",
              "    <tr>\n",
              "      <th>5</th>\n",
              "      <td>Iris-setosa</td>\n",
              "    </tr>\n",
              "    <tr>\n",
              "      <th>6</th>\n",
              "      <td>Iris-setosa</td>\n",
              "    </tr>\n",
              "    <tr>\n",
              "      <th>7</th>\n",
              "      <td>Iris-setosa</td>\n",
              "    </tr>\n",
              "    <tr>\n",
              "      <th>8</th>\n",
              "      <td>Iris-setosa</td>\n",
              "    </tr>\n",
              "    <tr>\n",
              "      <th>9</th>\n",
              "      <td>Iris-setosa</td>\n",
              "    </tr>\n",
              "  </tbody>\n",
              "</table>\n",
              "</div>"
            ],
            "text/plain": [
              "         class\n",
              "0  Iris-setosa\n",
              "1  Iris-setosa\n",
              "2  Iris-setosa\n",
              "3  Iris-setosa\n",
              "4  Iris-setosa\n",
              "5  Iris-setosa\n",
              "6  Iris-setosa\n",
              "7  Iris-setosa\n",
              "8  Iris-setosa\n",
              "9  Iris-setosa"
            ]
          },
          "metadata": {
            "tags": []
          },
          "execution_count": 340
        }
      ]
    },
    {
      "cell_type": "code",
      "metadata": {
        "id": "_fNVaONo9gH0",
        "outputId": "f4be4c44-d75c-4993-da64-6bcf11b40bde",
        "colab": {
          "base_uri": "https://localhost:8080/",
          "height": 279
        }
      },
      "source": [
        "sns.countplot(Y['class'])\n",
        "plt.show()"
      ],
      "execution_count": 341,
      "outputs": [
        {
          "output_type": "display_data",
          "data": {
            "image/png": "[encoded data removed]",
            "text/plain": [
              "<Figure size 432x288 with 1 Axes>"
            ]
          },
          "metadata": {
            "tags": [],
            "needs_background": "light"
          }
        }
      ]
    },
    {
      "cell_type": "code",
      "metadata": {
        "id": "j8E15Mb6_eVF",
        "outputId": "8b02ac21-2a0e-409f-af4f-9e727db02c82",
        "colab": {
          "base_uri": "https://localhost:8080/",
          "height": 384
        }
      },
      "source": [
        "sns.catplot(data=X.join(Y),x='sepal_length',y='sepal_width',hue='class')\n",
        "plt.show()"
      ],
      "execution_count": 342,
      "outputs": [
        {
          "output_type": "display_data",
          "data": {
            "image/png": "[encoded data removed]",
            "text/plain": [
              "<Figure size 463.25x360 with 1 Axes>"
            ]
          },
          "metadata": {
            "tags": [],
            "needs_background": "light"
          }
        }
      ]
    },
    {
      "cell_type": "code",
      "metadata": {
        "id": "CbNqPNUi_rAq",
        "outputId": "2ace5eb7-44f5-4f37-c7d6-f47b59063b18",
        "colab": {
          "base_uri": "https://localhost:8080/",
          "height": 726
        }
      },
      "source": [
        "sns.pairplot(data=X.join(Y),hue='class',palette='Set2')\n",
        "plt.show()"
      ],
      "execution_count": 343,
      "outputs": [
        {
          "output_type": "display_data",
          "data": {
            "image/png": "[encoded data removed]",
            "text/plain": [
              "<Figure size 823.25x720 with 20 Axes>"
            ]
          },
          "metadata": {
            "tags": [],
            "needs_background": "light"
          }
        }
      ]
    },
    {
      "cell_type": "code",
      "metadata": {
        "id": "lWcLDsvqSwC-",
        "outputId": "aa002587-6777-41e9-8aa4-066a115375ae",
        "colab": {
          "base_uri": "https://localhost:8080/",
          "height": 206
        }
      },
      "source": [
        "labels = {0:\"Iris-setosa\",1:\"Iris-versicolor\",2:\"Iris-virginica\"}\n",
        "lb = LabelEncoder()\n",
        "Y['class'] = lb.fit_transform(Y)\n",
        "Y.head()"
      ],
      "execution_count": 344,
      "outputs": [
        {
          "output_type": "execute_result",
          "data": {
            "text/html": [
              "<div>\n",
              "<style scoped>\n",
              "    .dataframe tbody tr th:only-of-type {\n",
              "        vertical-align: middle;\n",
              "    }\n",
              "\n",
              "    .dataframe tbody tr th {\n",
              "        vertical-align: top;\n",
              "    }\n",
              "\n",
              "    .dataframe thead th {\n",
              "        text-align: right;\n",
              "    }\n",
              "</style>\n",
              "<table border=\"1\" class=\"dataframe\">\n",
              "  <thead>\n",
              "    <tr style=\"text-align: right;\">\n",
              "      <th></th>\n",
              "      <th>class</th>\n",
              "    </tr>\n",
              "  </thead>\n",
              "  <tbody>\n",
              "    <tr>\n",
              "      <th>0</th>\n",
              "      <td>0</td>\n",
              "    </tr>\n",
              "    <tr>\n",
              "      <th>1</th>\n",
              "      <td>0</td>\n",
              "    </tr>\n",
              "    <tr>\n",
              "      <th>2</th>\n",
              "      <td>0</td>\n",
              "    </tr>\n",
              "    <tr>\n",
              "      <th>3</th>\n",
              "      <td>0</td>\n",
              "    </tr>\n",
              "    <tr>\n",
              "      <th>4</th>\n",
              "      <td>0</td>\n",
              "    </tr>\n",
              "  </tbody>\n",
              "</table>\n",
              "</div>"
            ],
            "text/plain": [
              "   class\n",
              "0      0\n",
              "1      0\n",
              "2      0\n",
              "3      0\n",
              "4      0"
            ]
          },
          "metadata": {
            "tags": []
          },
          "execution_count": 344
        }
      ]
    },
    {
      "cell_type": "code",
      "metadata": {
        "id": "x44hU2s_Ljvw"
      },
      "source": [
        "writer1 = pd.ExcelWriter('SLP_Simulation.xlsx', engine='xlsxwriter')\n",
        "writer2 = pd.ExcelWriter('MLP_Simulation.xlsx', engine='xlsxwriter')"
      ],
      "execution_count": 345,
      "outputs": []
    },
    {
      "cell_type": "markdown",
      "metadata": {
        "id": "wYpMU59rVUHy"
      },
      "source": [
        "# **Single layer perceptron for Iris Dataset**"
      ]
    },
    {
      "cell_type": "code",
      "metadata": {
        "id": "TU7cJEH0p5zj"
      },
      "source": [
        "#threshold Activation Function\n",
        "\n",
        "def Activation(input,weight):\n",
        "  total_sum=np.dot(input,weight[1:])+weight[0]\n",
        "  if total_sum>0:\n",
        "    activation=1\n",
        "  else :\n",
        "    activation=0\n",
        "  return activation"
      ],
      "execution_count": 356,
      "outputs": []
    },
    {
      "cell_type": "code",
      "metadata": {
        "id": "XZdOc_2Qp-IC"
      },
      "source": [
        "#Train model\n",
        "\"\"\"\n",
        "For each epoch \n",
        "  each sample calculate the Activation and update the weight\n",
        "\"\"\"\n",
        "\n",
        "def Train_model(input,output,epoch,learning_rate):\n",
        "  weight = []\n",
        "  for i in range(input.shape[1]+1):\n",
        "    weight.append(round(random.uniform(-0.3,0.3),2))\n",
        "\n",
        "  for _ in range(epoch):\n",
        "    for inputs,outputs in zip(input,output):\n",
        "      activation=Activation(inputs,weight)\n",
        "      sum = learning_rate * (outputs-activation)\n",
        "      weight[1:]+=sum * inputs \n",
        "      weight[0]+=sum\n",
        "\n",
        "  return weight"
      ],
      "execution_count": 357,
      "outputs": []
    },
    {
      "cell_type": "code",
      "metadata": {
        "id": "U7Cd9IrCvcr-"
      },
      "source": [
        "#prediction \n",
        "\n",
        "\"\"\"\n",
        "this function take dataset and each class trained weight and after predicting value returns\n",
        "highest value index(corresponds to class)\n",
        "\"\"\"\n",
        "def predict(X,w):\n",
        "    Y_pred = np.empty((X.shape[0], 0))\n",
        "    for i in range(len(w)):\n",
        "        Y_pred = np.append(Y_pred, (np.dot(X, w[i])), axis=1)\n",
        "    \n",
        "    return np.argmax(Y_pred, axis=1).reshape(X.shape[0], 1)"
      ],
      "execution_count": 358,
      "outputs": []
    },
    {
      "cell_type": "code",
      "metadata": {
        "id": "h-9laK6dFcVo"
      },
      "source": [
        "#Finding Accuracy\n",
        "\n",
        "def Accuracy(Y_pred,y):\n",
        "    difference = Y_pred - np.array(y)\n",
        "    num_correct = 0\n",
        "    for elem in range(difference.shape[0]):\n",
        "        if difference[elem]==0:\n",
        "            num_correct += 1\n",
        "\n",
        "    score = num_correct * 100 / difference.size\n",
        "    return score"
      ],
      "execution_count": 359,
      "outputs": []
    },
    {
      "cell_type": "code",
      "metadata": {
        "id": "nquQd6gskb-K"
      },
      "source": [
        "\"\"\"\n",
        "this function trains model for each class(one vs all) and predict the value for \n",
        "train and test data for finding Accuracy\n",
        "\"\"\"\n",
        "\n",
        "def find_score(x_train,y_train,class_values,x_test,y_test):\n",
        "\n",
        "  #training the model for all the classes\n",
        "  w_class1 = np.asarray(Train_model(x_train.to_numpy(),class_values[0],100,0.1))\n",
        "  w_class2 = np.asarray(Train_model(x_train.to_numpy(),class_values[1],100,0.1))\n",
        "  w_class3 = np.asarray(Train_model(x_train.to_numpy(),class_values[2],100,0.1))\n",
        "\n",
        "  train_result = predict(x_train, [w_class1[1:].reshape(-1, 1), w_class2[1:].reshape(-1, 1), w_class3[1:].reshape(-1, 1)])\n",
        "  train_score = Accuracy(train_result,y_train.to_numpy())\n",
        "  \n",
        "  test_result = predict(x_test, [w_class1[1:].reshape(-1, 1), w_class2[1:].reshape(-1, 1), w_class3[1:].reshape(-1, 1)])\n",
        "  test_score = Accuracy(test_result,y_test.to_numpy())\n",
        "  \n",
        "  return train_score,test_score"
      ],
      "execution_count": 360,
      "outputs": []
    },
    {
      "cell_type": "code",
      "metadata": {
        "id": "70C5i4NpkbtB"
      },
      "source": [
        "\"\"\"\n",
        "Driver function for a given train_size\n",
        "\n",
        "1. splits datasets into train set and test set with given size\n",
        "2. split model for each class into (one vs All) format\n",
        "3. Calls Accuracy function\n",
        "4. Runs simulation for 10 times\n",
        "5. calculate average train and test Accuracy\n",
        "\n",
        "\"\"\"\n",
        "def split_for_score(X,Y,size):\n",
        "  train_acc , test_acc = 0,0\n",
        "  df = pd.DataFrame(columns=['Train Accuracy','Test Accuracy'])\n",
        "  for i in range(10):\n",
        "\n",
        "    x_train,x_test,y_train,y_test = tts(X,Y,train_size=size)\n",
        "    \n",
        "    class_1 = np.where(y_train==0,1,0)\n",
        "    class_2 = np.where(y_train==1,1,0)\n",
        "    class_3 = np.where(y_train==2,1,0)\n",
        "\n",
        "    train_score , test_score = find_score(x_train,y_train,[class_1,class_2,class_3],x_test,y_test)\n",
        "    df.loc[len(df.index)] = [train_score,test_score]\n",
        "    train_acc +=train_score\n",
        "    test_acc +=test_score\n",
        "  df.to_excel(writer1,sheet_name='Train_size'+str(size*100))  \n",
        "  return train_acc/10, test_acc/10"
      ],
      "execution_count": 361,
      "outputs": []
    },
    {
      "cell_type": "code",
      "metadata": {
        "id": "223AhLaq02Pi"
      },
      "source": [
        "# storing for each train_size train accuracy and test Accuracy\n",
        "\n",
        "training_Accuracy = []\n",
        "testing_Accuracy = []"
      ],
      "execution_count": 362,
      "outputs": []
    },
    {
      "cell_type": "markdown",
      "metadata": {
        "id": "7PZMT5hW7VX0"
      },
      "source": [
        "* **For Training Data(10%)**"
      ]
    },
    {
      "cell_type": "code",
      "metadata": {
        "id": "LKsPv2iD7VQ-",
        "outputId": "407bb6b4-6793-4362-9ce4-3f38336fc610",
        "colab": {
          "base_uri": "https://localhost:8080/",
          "height": 52
        }
      },
      "source": [
        "#for training size 10%\n",
        "\n",
        "train_size = 0.1\n",
        "\n",
        "train_acc , test_acc = split_for_score(X,Y,train_size)\n",
        "\n",
        "print(\"Training Accuracy for the Train_size = {}% is : {:.2f}%\".format(train_size*100,train_acc))\n",
        "\n",
        "print(\"Testing Accuracy for the Train_size = {}% is : {:.2f}%\".format(train_size*100,test_acc))\n",
        "\n",
        "training_Accuracy.append(train_acc)\n",
        "testing_Accuracy.append(test_acc)"
      ],
      "execution_count": 363,
      "outputs": [
        {
          "output_type": "stream",
          "text": [
            "Training Accuracy for the Train_size = 10.0% is : 80.00%\n",
            "Testing Accuracy for the Train_size = 10.0% is : 70.22%\n"
          ],
          "name": "stdout"
        }
      ]
    },
    {
      "cell_type": "markdown",
      "metadata": {
        "id": "L2V3N4Ca7lLE"
      },
      "source": [
        "* **For Training Data(20%)**"
      ]
    },
    {
      "cell_type": "code",
      "metadata": {
        "id": "6iwPvcCg7VMo",
        "outputId": "29f57b94-de66-4e99-e6ca-050b6e9f5cbb",
        "colab": {
          "base_uri": "https://localhost:8080/",
          "height": 52
        }
      },
      "source": [
        "#for training size 20%\n",
        "\n",
        "train_size = 0.2\n",
        "\n",
        "train_acc , test_acc = split_for_score(X,Y,train_size)\n",
        "\n",
        "print(\"Training Accuracy for the Train_size = {}% is : {:.2f}%\".format(train_size*100,train_acc))\n",
        "\n",
        "print(\"Testing Accuracy for the Train_size = {}% is : {:.2f}%\".format(train_size*100,test_acc))\n",
        "\n",
        "training_Accuracy.append(train_acc)\n",
        "testing_Accuracy.append(test_acc)"
      ],
      "execution_count": 364,
      "outputs": [
        {
          "output_type": "stream",
          "text": [
            "Training Accuracy for the Train_size = 20.0% is : 71.67%\n",
            "Testing Accuracy for the Train_size = 20.0% is : 72.25%\n"
          ],
          "name": "stdout"
        }
      ]
    },
    {
      "cell_type": "markdown",
      "metadata": {
        "id": "CZSAurOm7yxY"
      },
      "source": [
        "* **For Training Data(30%)**"
      ]
    },
    {
      "cell_type": "code",
      "metadata": {
        "id": "WyNyliZw7VIi",
        "outputId": "7268d557-9d9b-456d-ccdb-45a56b2ef675",
        "colab": {
          "base_uri": "https://localhost:8080/",
          "height": 52
        }
      },
      "source": [
        "#for training size 30%\n",
        "\n",
        "\n",
        "train_size = 0.3\n",
        "\n",
        "train_acc , test_acc = split_for_score(X,Y,train_size)\n",
        "\n",
        "print(\"Training Accuracy for the Train_size = {}% is : {:.2f}%\".format(train_size*100,train_acc))\n",
        "\n",
        "print(\"Testing Accuracy for the Train_size = {}% is : {:.2f}%\".format(train_size*100,test_acc))\n",
        "\n",
        "training_Accuracy.append(train_acc)\n",
        "testing_Accuracy.append(test_acc)"
      ],
      "execution_count": 365,
      "outputs": [
        {
          "output_type": "stream",
          "text": [
            "Training Accuracy for the Train_size = 30.0% is : 67.56%\n",
            "Testing Accuracy for the Train_size = 30.0% is : 70.29%\n"
          ],
          "name": "stdout"
        }
      ]
    },
    {
      "cell_type": "markdown",
      "metadata": {
        "id": "IyEC58O4716S"
      },
      "source": [
        "* **For Training Data(40%)**"
      ]
    },
    {
      "cell_type": "code",
      "metadata": {
        "id": "nzbE9Yv17VEM",
        "outputId": "5794b0e3-3fc0-4385-f5d3-85928534d4d1",
        "colab": {
          "base_uri": "https://localhost:8080/",
          "height": 52
        }
      },
      "source": [
        "#for training size 40%\n",
        "\n",
        "\n",
        "train_size = 0.4\n",
        "\n",
        "train_acc , test_acc = split_for_score(X,Y,train_size)\n",
        "\n",
        "print(\"Training Accuracy for the Train_size = {}% is : {:.2f}%\".format(train_size*100,train_acc))\n",
        "\n",
        "print(\"Testing Accuracy for the Train_size = {}% is : {:.2f}%\".format(train_size*100,test_acc))\n",
        "\n",
        "training_Accuracy.append(train_acc)\n",
        "testing_Accuracy.append(test_acc)"
      ],
      "execution_count": 366,
      "outputs": [
        {
          "output_type": "stream",
          "text": [
            "Training Accuracy for the Train_size = 40.0% is : 72.33%\n",
            "Testing Accuracy for the Train_size = 40.0% is : 70.67%\n"
          ],
          "name": "stdout"
        }
      ]
    },
    {
      "cell_type": "markdown",
      "metadata": {
        "id": "choMqTMy74-A"
      },
      "source": [
        "* **For Training Data(50%)**"
      ]
    },
    {
      "cell_type": "code",
      "metadata": {
        "id": "wZ1DxFOT7U_r",
        "outputId": "17341177-daf8-4a57-bbb5-21d0e669feab",
        "colab": {
          "base_uri": "https://localhost:8080/",
          "height": 52
        }
      },
      "source": [
        "#for training size 50%\n",
        "\n",
        "train_size = 0.5\n",
        "\n",
        "train_acc , test_acc = split_for_score(X,Y,train_size)\n",
        "\n",
        "print(\"Training Accuracy for the Train_size = {}% is : {:.2f}%\".format(train_size*100,train_acc))\n",
        "\n",
        "print(\"Testing Accuracy for the Train_size = {}% is : {:.2f}%\".format(train_size*100,test_acc))\n",
        "\n",
        "training_Accuracy.append(train_acc)\n",
        "testing_Accuracy.append(test_acc)"
      ],
      "execution_count": 367,
      "outputs": [
        {
          "output_type": "stream",
          "text": [
            "Training Accuracy for the Train_size = 50.0% is : 75.20%\n",
            "Testing Accuracy for the Train_size = 50.0% is : 72.27%\n"
          ],
          "name": "stdout"
        }
      ]
    },
    {
      "cell_type": "markdown",
      "metadata": {
        "id": "cx7TzIHm77ZZ"
      },
      "source": [
        "* **For Training Data(60%)**"
      ]
    },
    {
      "cell_type": "code",
      "metadata": {
        "id": "HbvTPoAs7U6p",
        "outputId": "d03c896a-c08a-471a-cebf-c456a6003077",
        "colab": {
          "base_uri": "https://localhost:8080/",
          "height": 52
        }
      },
      "source": [
        "#for training size 60%\n",
        "\n",
        "train_size = 0.6\n",
        "\n",
        "train_acc , test_acc = split_for_score(X,Y,train_size)\n",
        "\n",
        "print(\"Training Accuracy for the Train_size = {}% is : {:.2f}%\".format(train_size*100,train_acc))\n",
        "\n",
        "print(\"Testing Accuracy for the Train_size = {}% is : {:.2f}%\".format(train_size*100,test_acc))\n",
        "\n",
        "training_Accuracy.append(train_acc)\n",
        "testing_Accuracy.append(test_acc)"
      ],
      "execution_count": 368,
      "outputs": [
        {
          "output_type": "stream",
          "text": [
            "Training Accuracy for the Train_size = 60.0% is : 69.78%\n",
            "Testing Accuracy for the Train_size = 60.0% is : 73.33%\n"
          ],
          "name": "stdout"
        }
      ]
    },
    {
      "cell_type": "code",
      "metadata": {
        "id": "4zK2S9M4B7n6",
        "outputId": "acde674b-8988-46a4-c802-c83b051dc7f6",
        "colab": {
          "base_uri": "https://localhost:8080/",
          "height": 72
        }
      },
      "source": [
        "print(training_Accuracy)\n",
        "print(testing_Accuracy)"
      ],
      "execution_count": 369,
      "outputs": [
        {
          "output_type": "stream",
          "text": [
            "[80.0, 71.66666666666667, 67.55555555555556, 72.33333333333334, 75.2, 69.77777777777777]\n",
            "[70.22222222222223, 72.25000000000001, 70.28571428571428, 70.66666666666667, 72.26666666666668, 73.33333333333334]\n"
          ],
          "name": "stdout"
        }
      ]
    },
    {
      "cell_type": "markdown",
      "metadata": {
        "id": "YYSaaZGO8Jbv"
      },
      "source": [
        "* **Overall Table**"
      ]
    },
    {
      "cell_type": "code",
      "metadata": {
        "id": "tHtQl4Bk6AeR",
        "outputId": "039ad9a0-039d-43f6-ff49-5b5c1e35f1de",
        "colab": {
          "base_uri": "https://localhost:8080/",
          "height": 238
        }
      },
      "source": [
        "#table of all outcomes\n",
        "\n",
        "Amount_of_training_data = ['10%','20%','30%','40%','50%','60%']\n",
        "Table = pd.DataFrame()\n",
        "Table['Amount_of_training_data'] = Amount_of_training_data \n",
        "Table['Training Accuracy'] = training_Accuracy\n",
        "Table['Test Accuracy'] = testing_Accuracy \n",
        "Table.to_csv('table_data.csv')\n",
        "Table"
      ],
      "execution_count": 370,
      "outputs": [
        {
          "output_type": "execute_result",
          "data": {
            "text/html": [
              "<div>\n",
              "<style scoped>\n",
              "    .dataframe tbody tr th:only-of-type {\n",
              "        vertical-align: middle;\n",
              "    }\n",
              "\n",
              "    .dataframe tbody tr th {\n",
              "        vertical-align: top;\n",
              "    }\n",
              "\n",
              "    .dataframe thead th {\n",
              "        text-align: right;\n",
              "    }\n",
              "</style>\n",
              "<table border=\"1\" class=\"dataframe\">\n",
              "  <thead>\n",
              "    <tr style=\"text-align: right;\">\n",
              "      <th></th>\n",
              "      <th>Amount_of_training_data</th>\n",
              "      <th>Training Accuracy</th>\n",
              "      <th>Test Accuracy</th>\n",
              "    </tr>\n",
              "  </thead>\n",
              "  <tbody>\n",
              "    <tr>\n",
              "      <th>0</th>\n",
              "      <td>10%</td>\n",
              "      <td>80.000000</td>\n",
              "      <td>70.222222</td>\n",
              "    </tr>\n",
              "    <tr>\n",
              "      <th>1</th>\n",
              "      <td>20%</td>\n",
              "      <td>71.666667</td>\n",
              "      <td>72.250000</td>\n",
              "    </tr>\n",
              "    <tr>\n",
              "      <th>2</th>\n",
              "      <td>30%</td>\n",
              "      <td>67.555556</td>\n",
              "      <td>70.285714</td>\n",
              "    </tr>\n",
              "    <tr>\n",
              "      <th>3</th>\n",
              "      <td>40%</td>\n",
              "      <td>72.333333</td>\n",
              "      <td>70.666667</td>\n",
              "    </tr>\n",
              "    <tr>\n",
              "      <th>4</th>\n",
              "      <td>50%</td>\n",
              "      <td>75.200000</td>\n",
              "      <td>72.266667</td>\n",
              "    </tr>\n",
              "    <tr>\n",
              "      <th>5</th>\n",
              "      <td>60%</td>\n",
              "      <td>69.777778</td>\n",
              "      <td>73.333333</td>\n",
              "    </tr>\n",
              "  </tbody>\n",
              "</table>\n",
              "</div>"
            ],
            "text/plain": [
              "  Amount_of_training_data  Training Accuracy  Test Accuracy\n",
              "0                     10%          80.000000      70.222222\n",
              "1                     20%          71.666667      72.250000\n",
              "2                     30%          67.555556      70.285714\n",
              "3                     40%          72.333333      70.666667\n",
              "4                     50%          75.200000      72.266667\n",
              "5                     60%          69.777778      73.333333"
            ]
          },
          "metadata": {
            "tags": []
          },
          "execution_count": 370
        }
      ]
    },
    {
      "cell_type": "markdown",
      "metadata": {
        "id": "9U--VbOq4CKC"
      },
      "source": [
        "* **Plotting curve**"
      ]
    },
    {
      "cell_type": "code",
      "metadata": {
        "id": "5wrlWTUv3gg1",
        "outputId": "d1afd00f-57b4-477a-9eb9-e0bee9cc9670",
        "colab": {
          "base_uri": "https://localhost:8080/",
          "height": 295
        }
      },
      "source": [
        "#graph between  training Accuracy vs train_size and testing Accuracy vs train_size\n",
        "\n",
        "\n",
        "x_axis = [10,20,30,40,50,60]\n",
        "plt.plot(x_axis,training_Accuracy,'o-',label='Traning Accuracy')\n",
        "plt.plot(x_axis,testing_Accuracy,'o-',label='Test Accuracy')\n",
        "plt.title(\"Traing size vs Accuracy\")\n",
        "plt.xlabel(\"Training Size\")\n",
        "plt.ylabel(\"Test Accuracy or Train Accuracy\")\n",
        "plt.legend()\n",
        "plt.show()"
      ],
      "execution_count": 371,
      "outputs": [
        {
          "output_type": "display_data",
          "data": {
            "image/png": "[encoded data removed]",
            "text/plain": [
              "<Figure size 432x288 with 1 Axes>"
            ]
          },
          "metadata": {
            "tags": [],
            "needs_background": "light"
          }
        }
      ]
    },
    {
      "cell_type": "code",
      "metadata": {
        "id": "A-ey-KacM9Ub"
      },
      "source": [
        "writer1.save()"
      ],
      "execution_count": 372,
      "outputs": []
    },
    {
      "cell_type": "markdown",
      "metadata": {
        "id": "CymAl37fGZ1g"
      },
      "source": [
        "# **Multi layer perceptron for Iris Dataset**"
      ]
    },
    {
      "cell_type": "code",
      "metadata": {
        "id": "WasjC4cyGdMP"
      },
      "source": [
        "#Activation function\n",
        "\n",
        "def sigmoid(Z):\n",
        "  return 1/(1+np.exp(-Z))"
      ],
      "execution_count": 373,
      "outputs": []
    },
    {
      "cell_type": "code",
      "metadata": {
        "id": "JfuU_ABoao4s"
      },
      "source": [
        "#for back propagation sigmoid derivative\n",
        "\n",
        "def derivative_sigmoid(dA ,Z):\n",
        "  return dA * sigmoid(Z) * (1 - sigmoid(Z))"
      ],
      "execution_count": 374,
      "outputs": []
    },
    {
      "cell_type": "code",
      "metadata": {
        "id": "yRHS-gyaZkUI"
      },
      "source": [
        "def linear_backward(dZ,input,weight,bias):\n",
        "    '''\n",
        "    Function to find derivatives of parameters\n",
        "    '''\n",
        "    m = input.shape[1]\n",
        "    #print(m)\n",
        "\n",
        "    dW = np.dot(dZ, input.T) / m\n",
        "    db = np.squeeze(np.sum(dZ, axis=1, keepdims=True)) / m\n",
        "    dA_prev = np.dot(weight.T, dZ)\n",
        "    try:\n",
        "      db = db.reshape(-1, 1)\n",
        "    except:\n",
        "      db = [[db]]\n",
        "    \n",
        "    return dA_prev, dW, db"
      ],
      "execution_count": 375,
      "outputs": []
    },
    {
      "cell_type": "code",
      "metadata": {
        "id": "MxwDc0gXZZSA"
      },
      "source": [
        "def linear_activation_backward(dA, cache,input,weight,bias):   \n",
        "    \n",
        "    dZ = derivative_sigmoid(dA,cache)\n",
        "    \n",
        "    dA_prev, dW, db = linear_backward(dZ,input,weight,bias) \n",
        "    return dA_prev, dW, db"
      ],
      "execution_count": 376,
      "outputs": []
    },
    {
      "cell_type": "code",
      "metadata": {
        "id": "NnQMH_uWa1RX"
      },
      "source": [
        "#train model\n",
        "\n",
        "\n",
        "def Train_MLP(input,output,hidden_layer,epoch,learning_rate):\n",
        "\n",
        "\n",
        "  \"\"\"\n",
        "\n",
        "  input nodes ----> hidden node -------> output node\n",
        "                |                   |\n",
        "                |                   |\n",
        "                |                   |\n",
        "\n",
        "              sigmoid activation       sigmoid Activation\n",
        "\n",
        "  weight_1:  contains weight of each input nodes corresponding to each hidden \n",
        "  layer\n",
        "  weight_2:  contains weight of each hidden layer to the output Node\n",
        "\n",
        "  Bias are : bias_1 and bais_2\n",
        "  for each epoch:\n",
        "\n",
        "\n",
        "  1.forword propogations:\n",
        "  ---->\n",
        "                h1= sigmoid(input sample * weight of input layer to hidden layer +bias)\n",
        "                out = sigmoid(h1 * weight of hidden layer to output + bias)\n",
        "\n",
        "  ----->\n",
        "  2.backword propogations:\n",
        "  ------>\n",
        "              \n",
        "\n",
        "\n",
        "  ------>\n",
        "  3. update weight \n",
        "  \"\"\"\n",
        "\n",
        "  parameters = {}\n",
        " \n",
        "  weight_1 = np.random.randn(hidden_layer,input.T.shape[1]) * 0.01  #for input layer\n",
        "  weight_2 = np.random.randn(output.T.shape[1],hidden_layer) * 0.01  #for hidden layer\n",
        "  input_bias = np.random.randn(hidden_layer,1) * 0.01\n",
        "  hidden_bias = np.random.randn(output.T.shape[1],1) * 0.01\n",
        "\n",
        "  for i in range(epoch):\n",
        "\n",
        "    #forword propagation\n",
        "\n",
        "    \"\"\" for input layer  and output layer\n",
        "\n",
        "    we will use sigmoid function\n",
        "\n",
        "    \"\"\"\n",
        "    \n",
        "    Z = np.dot(weight_1,input) + input_bias\n",
        "    A1 = sigmoid(Z)\n",
        "    Z1 = np.dot(weight_2,A1) + hidden_bias\n",
        "    A2 = sigmoid(Z1)\n",
        "\n",
        "    #backword propogation\n",
        "\n",
        "    \n",
        "    m= len(output.T)\n",
        "\n",
        "    dA2  = output-A2\n",
        "    dA1, dW2, db2 = linear_activation_backward(dA2, Z1,A1,weight_2,hidden_bias)\n",
        "    dA0, dW1, db1 = linear_activation_backward(dA1, Z,input,weight_1,input_bias)\n",
        "\n",
        "    weight_1 = weight_1 + learning_rate * dW1 \n",
        "    input_bias = input_bias + learning_rate * db1 \n",
        "    weight_2 = weight_2 + learning_rate * dW2 \n",
        "    hidden_bias = hidden_bias + learning_rate * db2 \n",
        "\n",
        "   \n",
        "  parameters = { \"W1\": weight_1,\n",
        "                  \"b1\": input_bias,\n",
        "                  \"W2\": weight_2,\n",
        "                  \"b2\": hidden_bias}\n",
        "  return parameters"
      ],
      "execution_count": 377,
      "outputs": []
    },
    {
      "cell_type": "code",
      "metadata": {
        "id": "rVASLESg9hU3"
      },
      "source": [
        "#prediction for a input\n",
        "\n",
        "def model_test(X,cache):\n",
        "\n",
        "  Z = np.dot(cache[\"W1\"],X) + cache['b1']\n",
        "  As = sigmoid(Z)\n",
        "  Z1 = np.dot(cache[\"W2\"],As) + cache[\"b2\"]\n",
        "  ar = sigmoid(Z1)\n",
        "\n",
        "  return ar"
      ],
      "execution_count": 378,
      "outputs": []
    },
    {
      "cell_type": "code",
      "metadata": {
        "id": "FTwVvM2cJhTD"
      },
      "source": [
        "#multiple prediction\n",
        "\n",
        "\"\"\"\n",
        "for  all group data \n",
        "\"\"\"\n",
        "def predict_MLP(X, parameters):\n",
        "    '''\n",
        "    Function to predict test set for multiple classes\n",
        "    '''\n",
        "    prob0 = model_test(X, parameters[0])[0].reshape(-1, 1)\n",
        "    prob1 = model_test(X, parameters[1])[0].reshape(-1, 1)\n",
        "    prob2 = model_test(X, parameters[2])[0].reshape(-1, 1)\n",
        "    \n",
        "    predictions = np.hstack((prob0, prob1, prob2))\n",
        "    #print(predictions)\n",
        "    \n",
        "    return np.argmax(predictions, axis=1).reshape(X.shape[1], 1)"
      ],
      "execution_count": 379,
      "outputs": []
    },
    {
      "cell_type": "code",
      "metadata": {
        "id": "eXU2h01sJhDI"
      },
      "source": [
        "#Accuracy function\n",
        "\n",
        "def score_MLP(result,label):\n",
        "    '''\n",
        "    Function to find score of our predicted output\n",
        "    '''\n",
        "    difference = result - np.array(label)\n",
        "    num_correct = 0\n",
        "    for elem in range(difference.shape[0]):\n",
        "        if difference[elem]==0:\n",
        "            num_correct += 1\n",
        "\n",
        "    score = num_correct * 100 / difference.size\n",
        "    return score"
      ],
      "execution_count": 380,
      "outputs": []
    },
    {
      "cell_type": "code",
      "metadata": {
        "id": "ChWipHNi1kmP"
      },
      "source": [
        "\"\"\"\n",
        "training model for each group(one vs All)\n",
        "and predicting outcomes and accuracy\n",
        "\"\"\"\n",
        "def MLP_train_test_score(x_train, y_train, y_class, x_test, y_test):\n",
        "\n",
        "  hidden_layer = 5\n",
        "\n",
        "  parameter0 = Train_MLP(x_train.T, y_class[0].T,hidden_layer,1000,0.5)\n",
        "  parameter1 = Train_MLP(x_train.T, y_class[1].T,hidden_layer,1000,0.5)\n",
        "  parameter2 = Train_MLP(x_train.T, y_class[2].T,hidden_layer,1000,0.5)\n",
        "\n",
        "  train_prediction = predict_MLP(x_train.T, [parameter0, parameter1, parameter2])\n",
        "  train_score = score_MLP(train_prediction, y_train.to_numpy())\n",
        "\n",
        "  test_prediction = predict_MLP(x_test.T, [parameter0, parameter1, parameter2])\n",
        "  test_score = score_MLP(test_prediction, y_test.to_numpy())\n",
        "\n",
        "  return train_score, test_score"
      ],
      "execution_count": 381,
      "outputs": []
    },
    {
      "cell_type": "code",
      "metadata": {
        "id": "GPQBirQE1oeO"
      },
      "source": [
        "\"\"\"\n",
        "Driver function for a given train_size\n",
        "\n",
        "1. splits datasets into train set and test set with given size\n",
        "2. split model for each class into (one vs All) format\n",
        "3. Calls Accuracy function\n",
        "4. Runs simulation for 10 times\n",
        "5. calculate average train and test Accuracy\n",
        "\n",
        "\"\"\"\n",
        "def MLP_split_for_score(X,Y,size):\n",
        "  train_score, test_score = 0,0\n",
        "  df = pd.DataFrame(columns=['Train Accuracy','Test Accuracy'])\n",
        "  for i in range(10):\n",
        "    X_train, X_test, Y_train, Y_test = tts(X, Y, train_size=size)\n",
        "\n",
        "    y_class0 = np.where(Y_train == 0, 1, 0)\n",
        "    y_class1 = np.where(Y_train == 1, 1, 0)\n",
        "    y_class2 = np.where(Y_train == 2, 1, 0)\n",
        "    \n",
        "    \n",
        "    score_train, score_test = MLP_train_test_score(X_train, Y_train, [y_class0, y_class1, y_class2], X_test, Y_test)\n",
        "    df.loc[len(df.index)] = [score_train,score_test]\n",
        "    train_score += score_train\n",
        "    test_score += score_test\n",
        "  df.to_excel(writer2,sheet_name='Train_size'+str(size*100)) \n",
        "  return train_score/10, test_score/10"
      ],
      "execution_count": 382,
      "outputs": []
    },
    {
      "cell_type": "code",
      "metadata": {
        "id": "9e8ATqTVSNxu"
      },
      "source": [
        "MLP_training_Acc = []\n",
        "MLP_testing_Acc = []"
      ],
      "execution_count": 383,
      "outputs": []
    },
    {
      "cell_type": "markdown",
      "metadata": {
        "id": "RzlLQWTu7IZL"
      },
      "source": [
        "* **FOR TRAINING DATA 10%**"
      ]
    },
    {
      "cell_type": "code",
      "metadata": {
        "id": "eqZyUTfZSldm",
        "outputId": "50ae34f7-7e2e-4955-ebdd-26b4fa096ff6",
        "colab": {
          "base_uri": "https://localhost:8080/",
          "height": 52
        }
      },
      "source": [
        "train_size = 0.1\n",
        "\n",
        "train_acc , test_acc = MLP_split_for_score(X,Y,train_size)\n",
        "\n",
        "print(\"Training Accuracy for the Train_size = {}% is : {:.2f}%\".format(train_size*100,train_acc))\n",
        "\n",
        "print(\"Testing Accuracy for the Train_size = {}% is : {:.2f}%\".format(train_size*100,test_acc))\n",
        "\n",
        "MLP_training_Acc.append(train_acc)\n",
        "MLP_testing_Acc.append(test_acc)"
      ],
      "execution_count": 384,
      "outputs": [
        {
          "output_type": "stream",
          "text": [
            "Training Accuracy for the Train_size = 10.0% is : 92.67%\n",
            "Testing Accuracy for the Train_size = 10.0% is : 81.85%\n"
          ],
          "name": "stdout"
        }
      ]
    },
    {
      "cell_type": "markdown",
      "metadata": {
        "id": "_0-Oz9VH7Rma"
      },
      "source": [
        "* **FOR TRAINING DATA 20%**"
      ]
    },
    {
      "cell_type": "code",
      "metadata": {
        "id": "fcRTSzaYSlCl",
        "outputId": "c28675bf-4815-4fb5-de1a-f0a4362d3bc4",
        "colab": {
          "base_uri": "https://localhost:8080/",
          "height": 52
        }
      },
      "source": [
        "train_size = 0.2\n",
        "\n",
        "train_acc , test_acc = MLP_split_for_score(X,Y,train_size)\n",
        "\n",
        "print(\"Training Accuracy for the Train_size = {}% is : {:.2f}%\".format(train_size*100,train_acc))\n",
        "\n",
        "print(\"Testing Accuracy for the Train_size = {}% is : {:.2f}%\".format(train_size*100,test_acc))\n",
        "\n",
        "MLP_training_Acc.append(train_acc)\n",
        "MLP_testing_Acc.append(test_acc)"
      ],
      "execution_count": 385,
      "outputs": [
        {
          "output_type": "stream",
          "text": [
            "Training Accuracy for the Train_size = 20.0% is : 95.67%\n",
            "Testing Accuracy for the Train_size = 20.0% is : 94.08%\n"
          ],
          "name": "stdout"
        }
      ]
    },
    {
      "cell_type": "markdown",
      "metadata": {
        "id": "ph5kyNTB7UUb"
      },
      "source": [
        "* **FOR TRAINING DATA 30%**"
      ]
    },
    {
      "cell_type": "code",
      "metadata": {
        "id": "cKKI4T38SkjR",
        "outputId": "715d0598-b6dc-4b56-a8d4-2d1e2511ddfc",
        "colab": {
          "base_uri": "https://localhost:8080/",
          "height": 52
        }
      },
      "source": [
        "train_size = 0.3\n",
        "\n",
        "train_acc , test_acc = MLP_split_for_score(X,Y,train_size)\n",
        "\n",
        "print(\"Training Accuracy for the Train_size = {}% is : {:.2f}%\".format(train_size*100,train_acc))\n",
        "\n",
        "print(\"Testing Accuracy for the Train_size = {}% is : {:.2f}%\".format(train_size*100,test_acc))\n",
        "\n",
        "MLP_training_Acc.append(train_acc)\n",
        "MLP_testing_Acc.append(test_acc)"
      ],
      "execution_count": 386,
      "outputs": [
        {
          "output_type": "stream",
          "text": [
            "Training Accuracy for the Train_size = 30.0% is : 96.89%\n",
            "Testing Accuracy for the Train_size = 30.0% is : 95.81%\n"
          ],
          "name": "stdout"
        }
      ]
    },
    {
      "cell_type": "markdown",
      "metadata": {
        "id": "5NAVd2Uz7WkI"
      },
      "source": [
        "* **FOR TRAINING DATA 40%**"
      ]
    },
    {
      "cell_type": "code",
      "metadata": {
        "id": "QIfmHLysSkTX",
        "outputId": "62388ced-3bcf-48b2-aff0-8758a312de3b",
        "colab": {
          "base_uri": "https://localhost:8080/",
          "height": 52
        }
      },
      "source": [
        "train_size = 0.4\n",
        "\n",
        "train_acc , test_acc = MLP_split_for_score(X,Y,train_size)\n",
        "\n",
        "print(\"Training Accuracy for the Train_size = {}% is : {:.2f}%\".format(train_size*100,train_acc))\n",
        "\n",
        "print(\"Testing Accuracy for the Train_size = {}% is : {:.2f}%\".format(train_size*100,test_acc))\n",
        "\n",
        "MLP_training_Acc.append(train_acc)\n",
        "MLP_testing_Acc.append(test_acc)"
      ],
      "execution_count": 387,
      "outputs": [
        {
          "output_type": "stream",
          "text": [
            "Training Accuracy for the Train_size = 40.0% is : 96.83%\n",
            "Testing Accuracy for the Train_size = 40.0% is : 96.67%\n"
          ],
          "name": "stdout"
        }
      ]
    },
    {
      "cell_type": "markdown",
      "metadata": {
        "id": "IWxdyNgB7Yr0"
      },
      "source": [
        "* **FOR TRAINING DATA 50%**"
      ]
    },
    {
      "cell_type": "code",
      "metadata": {
        "id": "dZxsUTKCSj9N",
        "outputId": "5f77fbb9-ef37-492b-c671-60ff0b708b9b",
        "colab": {
          "base_uri": "https://localhost:8080/",
          "height": 52
        }
      },
      "source": [
        "train_size = 0.5\n",
        "\n",
        "train_acc , test_acc = MLP_split_for_score(X,Y,train_size)\n",
        "\n",
        "print(\"Training Accuracy for the Train_size = {}% is : {:.2f}%\".format(train_size*100,train_acc))\n",
        "\n",
        "print(\"Testing Accuracy for the Train_size = {}% is : {:.2f}%\".format(train_size*100,test_acc))\n",
        "\n",
        "MLP_training_Acc.append(train_acc)\n",
        "MLP_testing_Acc.append(test_acc)"
      ],
      "execution_count": 388,
      "outputs": [
        {
          "output_type": "stream",
          "text": [
            "Training Accuracy for the Train_size = 50.0% is : 96.40%\n",
            "Testing Accuracy for the Train_size = 50.0% is : 92.67%\n"
          ],
          "name": "stdout"
        }
      ]
    },
    {
      "cell_type": "markdown",
      "metadata": {
        "id": "gEqWDNoA7bWb"
      },
      "source": [
        "* **FOR TRAINING DATA 60%**"
      ]
    },
    {
      "cell_type": "code",
      "metadata": {
        "id": "D0qUDrD91ydh",
        "outputId": "0ec388cf-d83d-42a8-fc17-9403d22c5175",
        "colab": {
          "base_uri": "https://localhost:8080/",
          "height": 52
        }
      },
      "source": [
        "train_size = 0.6\n",
        "\n",
        "train_acc , test_acc = MLP_split_for_score(X,Y,train_size)\n",
        "\n",
        "print(\"Training Accuracy for the Train_size = {}% is : {:.2f}%\".format(train_size*100,train_acc))\n",
        "\n",
        "print(\"Testing Accuracy for the Train_size = {}% is : {:.2f}%\".format(train_size*100,test_acc))\n",
        "\n",
        "MLP_training_Acc.append(train_acc)\n",
        "MLP_testing_Acc.append(test_acc)"
      ],
      "execution_count": 389,
      "outputs": [
        {
          "output_type": "stream",
          "text": [
            "Training Accuracy for the Train_size = 60.0% is : 97.44%\n",
            "Testing Accuracy for the Train_size = 60.0% is : 97.00%\n"
          ],
          "name": "stdout"
        }
      ]
    },
    {
      "cell_type": "code",
      "metadata": {
        "id": "1LVgGs7A5TPa",
        "outputId": "7fe05d71-ed9f-4a46-bfa9-6919da8b3284",
        "colab": {
          "base_uri": "https://localhost:8080/",
          "height": 72
        }
      },
      "source": [
        "print(MLP_training_Acc)\n",
        "print(MLP_testing_Acc)"
      ],
      "execution_count": 390,
      "outputs": [
        {
          "output_type": "stream",
          "text": [
            "[92.66666666666666, 95.66666666666666, 96.88888888888889, 96.83333333333334, 96.39999999999999, 97.44444444444443]\n",
            "[81.85185185185185, 94.08333333333334, 95.80952380952382, 96.66666666666666, 92.66666666666666, 97.00000000000001]\n"
          ],
          "name": "stdout"
        }
      ]
    },
    {
      "cell_type": "markdown",
      "metadata": {
        "id": "HQ7N9Mxa7eAe"
      },
      "source": [
        "* **FINAL OUTCOME TABLE**"
      ]
    },
    {
      "cell_type": "code",
      "metadata": {
        "id": "3TqW1kIPS60i",
        "outputId": "830c71b3-011f-44aa-de68-5605cc65dc3a",
        "colab": {
          "base_uri": "https://localhost:8080/",
          "height": 238
        }
      },
      "source": [
        "# final outcome table\n",
        "\n",
        "Amount_of_training_data = ['10%','20%','30%','40%','50%','60%']\n",
        "Table = pd.DataFrame()\n",
        "Table['Amount_of_training_data'] = Amount_of_training_data \n",
        "Table['Training Accuracy'] = MLP_training_Acc\n",
        "Table['Test Accuracy'] = MLP_testing_Acc \n",
        "Table.to_csv('MLP_table_data.csv')\n",
        "Table"
      ],
      "execution_count": 391,
      "outputs": [
        {
          "output_type": "execute_result",
          "data": {
            "text/html": [
              "<div>\n",
              "<style scoped>\n",
              "    .dataframe tbody tr th:only-of-type {\n",
              "        vertical-align: middle;\n",
              "    }\n",
              "\n",
              "    .dataframe tbody tr th {\n",
              "        vertical-align: top;\n",
              "    }\n",
              "\n",
              "    .dataframe thead th {\n",
              "        text-align: right;\n",
              "    }\n",
              "</style>\n",
              "<table border=\"1\" class=\"dataframe\">\n",
              "  <thead>\n",
              "    <tr style=\"text-align: right;\">\n",
              "      <th></th>\n",
              "      <th>Amount_of_training_data</th>\n",
              "      <th>Training Accuracy</th>\n",
              "      <th>Test Accuracy</th>\n",
              "    </tr>\n",
              "  </thead>\n",
              "  <tbody>\n",
              "    <tr>\n",
              "      <th>0</th>\n",
              "      <td>10%</td>\n",
              "      <td>92.666667</td>\n",
              "      <td>81.851852</td>\n",
              "    </tr>\n",
              "    <tr>\n",
              "      <th>1</th>\n",
              "      <td>20%</td>\n",
              "      <td>95.666667</td>\n",
              "      <td>94.083333</td>\n",
              "    </tr>\n",
              "    <tr>\n",
              "      <th>2</th>\n",
              "      <td>30%</td>\n",
              "      <td>96.888889</td>\n",
              "      <td>95.809524</td>\n",
              "    </tr>\n",
              "    <tr>\n",
              "      <th>3</th>\n",
              "      <td>40%</td>\n",
              "      <td>96.833333</td>\n",
              "      <td>96.666667</td>\n",
              "    </tr>\n",
              "    <tr>\n",
              "      <th>4</th>\n",
              "      <td>50%</td>\n",
              "      <td>96.400000</td>\n",
              "      <td>92.666667</td>\n",
              "    </tr>\n",
              "    <tr>\n",
              "      <th>5</th>\n",
              "      <td>60%</td>\n",
              "      <td>97.444444</td>\n",
              "      <td>97.000000</td>\n",
              "    </tr>\n",
              "  </tbody>\n",
              "</table>\n",
              "</div>"
            ],
            "text/plain": [
              "  Amount_of_training_data  Training Accuracy  Test Accuracy\n",
              "0                     10%          92.666667      81.851852\n",
              "1                     20%          95.666667      94.083333\n",
              "2                     30%          96.888889      95.809524\n",
              "3                     40%          96.833333      96.666667\n",
              "4                     50%          96.400000      92.666667\n",
              "5                     60%          97.444444      97.000000"
            ]
          },
          "metadata": {
            "tags": []
          },
          "execution_count": 391
        }
      ]
    },
    {
      "cell_type": "markdown",
      "metadata": {
        "id": "Bq61buUa7i5C"
      },
      "source": [
        "* **PLOTTING CURVE BETWEEN TRAINING DATA SIZE VS TEST AND TRAIN ACCURACY**"
      ]
    },
    {
      "cell_type": "code",
      "metadata": {
        "id": "GYguf2H7TFot",
        "outputId": "0ddc3b72-a6d6-4d28-ca66-79ba8d7fc18e",
        "colab": {
          "base_uri": "https://localhost:8080/",
          "height": 295
        }
      },
      "source": [
        "# graph between training data size vs (test accuracy and train accuracy)\n",
        "\n",
        "x_axis = [10,20,30,40,50,60]\n",
        "plt.plot(x_axis,MLP_training_Acc,'o-',label='Traning Accuracy')\n",
        "plt.plot(x_axis,MLP_testing_Acc,'o-',label='Test Accuracy')\n",
        "plt.title(\"Traing size vs Accuracy\")\n",
        "plt.xlabel(\"Training Size\")\n",
        "plt.ylabel(\"Test Accuracy or Train Accuracy\")\n",
        "plt.legend()\n",
        "plt.show()"
      ],
      "execution_count": 392,
      "outputs": [
        {
          "output_type": "display_data",
          "data": {
            "image/png": "[encoded data removed]",
            "text/plain": [
              "<Figure size 432x288 with 1 Axes>"
            ]
          },
          "metadata": {
            "tags": [],
            "needs_background": "light"
          }
        }
      ]
    },
    {
      "cell_type": "code",
      "metadata": {
        "id": "HB9ZRBPsNUNs"
      },
      "source": [
        "writer2.save()"
      ],
      "execution_count": 393,
      "outputs": []
    }
  ]
}
